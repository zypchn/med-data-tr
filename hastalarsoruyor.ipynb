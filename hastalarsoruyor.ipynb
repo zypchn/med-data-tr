{
  "nbformat": 4,
  "nbformat_minor": 0,
  "metadata": {
    "colab": {
      "provenance": [],
      "authorship_tag": "ABX9TyPhb0jB3P7LuQraDjdprErv",
      "include_colab_link": true
    },
    "kernelspec": {
      "name": "python3",
      "display_name": "Python 3"
    },
    "language_info": {
      "name": "python"
    }
  },
  "cells": [
    {
      "cell_type": "markdown",
      "metadata": {
        "id": "view-in-github",
        "colab_type": "text"
      },
      "source": [
        "<a href=\"https://colab.research.google.com/github/zypchn/med-data-tr/blob/main/hastalarsoruyor.ipynb\" target=\"_parent\"><img src=\"https://colab.research.google.com/assets/colab-badge.svg\" alt=\"Open In Colab\"/></a>"
      ]
    },
    {
      "cell_type": "code",
      "source": [
        "! pip install requests -q\n",
        "! pip install html5lib -q\n",
        "! pip install bs4 -q\n",
        "! pip install tiktoken -q"
      ],
      "metadata": {
        "id": "6gpvDAz-i5Su",
        "colab": {
          "base_uri": "https://localhost:8080/"
        },
        "outputId": "8c5ce0f3-4284-4ff2-e102-309bde605487"
      },
      "execution_count": 1,
      "outputs": [
        {
          "output_type": "stream",
          "name": "stdout",
          "text": [
            "\u001b[?25l   \u001b[90m━━━━━━━━━━━━━━━━━━━━━━━━━━━━━━━━━━━━━━━━\u001b[0m \u001b[32m0.0/1.2 MB\u001b[0m \u001b[31m?\u001b[0m eta \u001b[36m-:--:--\u001b[0m\r\u001b[2K   \u001b[91m━━━━━\u001b[0m\u001b[90m╺\u001b[0m\u001b[90m━━━━━━━━━━━━━━━━━━━━━━━━━━━━━━━━━━\u001b[0m \u001b[32m0.2/1.2 MB\u001b[0m \u001b[31m4.6 MB/s\u001b[0m eta \u001b[36m0:00:01\u001b[0m\r\u001b[2K   \u001b[91m━━━━━━━━━━━━━━━━━━━━━━━━━━━━━━━━━━━━━━━\u001b[0m\u001b[91m╸\u001b[0m \u001b[32m1.2/1.2 MB\u001b[0m \u001b[31m18.0 MB/s\u001b[0m eta \u001b[36m0:00:01\u001b[0m\r\u001b[2K   \u001b[90m━━━━━━━━━━━━━━━━━━━━━━━━━━━━━━━━━━━━━━━━\u001b[0m \u001b[32m1.2/1.2 MB\u001b[0m \u001b[31m11.6 MB/s\u001b[0m eta \u001b[36m0:00:00\u001b[0m\n",
            "\u001b[?25h"
          ]
        }
      ]
    },
    {
      "cell_type": "code",
      "source": [
        "import requests\n",
        "from bs4 import BeautifulSoup\n",
        "from concurrent.futures import ThreadPoolExecutor, as_completed\n",
        "import time\n",
        "import pandas as pd\n",
        "import tiktoken\n",
        "from google.colab import files\n",
        "import json"
      ],
      "metadata": {
        "id": "ORPRxHGpi62S"
      },
      "execution_count": 2,
      "outputs": []
    },
    {
      "cell_type": "markdown",
      "source": [
        "Some info about the website structure :\n",
        "- It does not display the entire data at once, rather uses a \"show more\" button.\n",
        "- Data is fetched using an API, not loaded dynamically via JavaScript. <br/>Therefore, BeautifulSoup and requests library can scrape the html data."
      ],
      "metadata": {
        "id": "JiAReTMKbPfT"
      }
    },
    {
      "cell_type": "code",
      "execution_count": 13,
      "metadata": {
        "id": "uZB7hkcHiutB"
      },
      "outputs": [],
      "source": [
        "base_url = \"https://hastalarsoruyor.com\"\n",
        "q_url = base_url + \"/sorular\""
      ]
    },
    {
      "cell_type": "markdown",
      "source": [
        "# Getting the URLs"
      ],
      "metadata": {
        "id": "4x4McGlth_Xz"
      }
    },
    {
      "cell_type": "code",
      "source": [
        "def get_all_urls():\n",
        "    urls = []\n",
        "    num_page = 1\n",
        "    isEnd = False\n",
        "\n",
        "    while not isEnd:\n",
        "        params = {\n",
        "            \"sayfa\": num_page,\n",
        "            \"sirala\": \"cevapli\"\n",
        "        }\n",
        "        api_url = \"https://hastalarsoruyor.com/soru-lar/liste\"\n",
        "        response = requests.get(api_url, params=params)\n",
        "        response.raise_for_status()\n",
        "        soup = BeautifulSoup(response.content, \"html.parser\")\n",
        "\n",
        "        divs = soup.find_all(\"div\", {\"class\": \"question-body\"})\n",
        "        if len(divs) == 0:\n",
        "            print(f\"Data ends at page: {num_page}\")\n",
        "            isEnd = True\n",
        "        else:\n",
        "            for div in divs:\n",
        "                a_tag = div.find(\"a\")\n",
        "                if a_tag and \"href\" in a_tag.attrs:\n",
        "                    urls.append(a_tag[\"href\"])\n",
        "            print(f\"URL extraction is successful for page: {num_page}\")\n",
        "\n",
        "        num_page += 1\n",
        "\n",
        "    return urls"
      ],
      "metadata": {
        "id": "mhMrXv8RtUoO"
      },
      "execution_count": 14,
      "outputs": []
    },
    {
      "cell_type": "code",
      "source": [
        "all_urls = get_all_urls()   # takes 5m (1sec for each page)"
      ],
      "metadata": {
        "id": "mwbx54jBlL54",
        "collapsed": true
      },
      "execution_count": null,
      "outputs": []
    },
    {
      "cell_type": "code",
      "source": [
        "len(all_urls)"
      ],
      "metadata": {
        "id": "7h-r51JznqMU",
        "colab": {
          "base_uri": "https://localhost:8080/"
        },
        "outputId": "0bd9cbe8-106d-47d1-b789-e6f585cb578f"
      },
      "execution_count": 16,
      "outputs": [
        {
          "output_type": "execute_result",
          "data": {
            "text/plain": [
              "1947"
            ]
          },
          "metadata": {},
          "execution_count": 16
        }
      ]
    },
    {
      "cell_type": "markdown",
      "source": [
        "# Getting Text Content"
      ],
      "metadata": {
        "id": "KZf3oXb8idUY"
      }
    },
    {
      "cell_type": "markdown",
      "source": [
        "- It was seen that some questions have more that 1 answers. But to keep the dataset structured, only the 1st answer was parsed.\n",
        "\n",
        "- *a* element which holds the medical field data has a class attr. \"text-primary\"\n",
        "- *h1* element which holds the question title data has a class attr. \"question-title\"\n",
        "- *p* element which holds the question body data has a class attr. \"question-desc\"\n",
        "- *p* element which holds the answer body data has a class attr. \"py-10\" (css for padding 10px in the y axis)\n"
      ],
      "metadata": {
        "id": "-M6HROT-2Ynk"
      }
    },
    {
      "cell_type": "code",
      "source": [
        "def num_tokens_from_string(string: str, encoder_name: str) -> int:\n",
        "    # encoding = tiktoken.encoding_for_model(model_name)\n",
        "    encoding = tiktoken.get_encoding(encoder_name)\n",
        "    num_tokens = len(encoding.encode(string))\n",
        "    return num_tokens"
      ],
      "metadata": {
        "id": "zud38s03x-5y"
      },
      "execution_count": 47,
      "outputs": []
    },
    {
      "cell_type": "code",
      "source": [
        "records = []\n",
        "\n",
        "def get_text(url, encoder_name):\n",
        "  res = requests.get(url)\n",
        "  soup = BeautifulSoup(res.content, \"html.parser\")\n",
        "\n",
        "  a_tag = soup.find_all(\"a\", {\"class\": \"text-primary\"})\n",
        "  question_field = a_tag[1].text.split(\"#\")[1]\n",
        "  question_header = soup.find(\"h1\", {\"class\": \"question-title\"}).text\n",
        "  question_text = soup.find(\"p\", {\"class\": \"question-desc\"}).text.strip()\n",
        "  question_answer = soup.find(\"div\", {\"class\": \"py-10\"}).text.strip()\n",
        "  num_tokens_q = num_tokens_from_string(question_text, encoder_name)\n",
        "  num_tokens_a = num_tokens_from_string(question_answer, encoder_name)\n",
        "  num_tokens_total = num_tokens_q + num_tokens_a\n",
        "\n",
        "  rec = {\n",
        "      \"field\": question_field,\n",
        "      \"title\": question_header,\n",
        "      \"question\": question_text,\n",
        "      \"answer\": question_answer,\n",
        "      \"num_tokens_pair\": num_tokens_total\n",
        "  }\n",
        "  print(f\"Text extraction is successful for {question_header[:10]}\")\n",
        "  records.append(rec)"
      ],
      "metadata": {
        "id": "Vwc9iaWtobJb"
      },
      "execution_count": 51,
      "outputs": []
    },
    {
      "cell_type": "code",
      "source": [
        "def get_all_text(urls, encoder_name, num_workers):\n",
        "  with ThreadPoolExecutor(max_workers=num_workers) as executor:\n",
        "    futures = [\n",
        "        executor.submit(get_text, url, encoder_name) for url in urls\n",
        "    ]\n",
        "\n",
        "    for future in as_completed(futures):\n",
        "      try:\n",
        "        future.result()\n",
        "      except Exception as e:\n",
        "        print(f\"Thread Error: {e}\")"
      ],
      "metadata": {
        "id": "wvRRDGz7grNw"
      },
      "execution_count": 52,
      "outputs": []
    },
    {
      "cell_type": "code",
      "source": [
        "encoder = \"o200k_base\"\n",
        "get_all_text(all_urls, encoder, 10)"
      ],
      "metadata": {
        "id": "SjAJYQp3ipFw"
      },
      "execution_count": null,
      "outputs": []
    },
    {
      "cell_type": "code",
      "source": [
        "len(records)    # fetched all the records"
      ],
      "metadata": {
        "colab": {
          "base_uri": "https://localhost:8080/"
        },
        "id": "HE1ZpUyfkiaR",
        "outputId": "31542588-ce4d-4557-af7a-4b18643786c9"
      },
      "execution_count": 54,
      "outputs": [
        {
          "output_type": "execute_result",
          "data": {
            "text/plain": [
              "1947"
            ]
          },
          "metadata": {},
          "execution_count": 54
        }
      ]
    },
    {
      "cell_type": "code",
      "source": [
        "df = pd.DataFrame(data=records)"
      ],
      "metadata": {
        "id": "jLW36d9HnUj1"
      },
      "execution_count": 66,
      "outputs": []
    },
    {
      "cell_type": "code",
      "source": [
        "df.head()"
      ],
      "metadata": {
        "colab": {
          "base_uri": "https://localhost:8080/",
          "height": 293
        },
        "collapsed": true,
        "id": "7EvwNFYKo_H0",
        "outputId": "294c1123-b2c2-4887-8e99-d5ed258e5a71"
      },
      "execution_count": 67,
      "outputs": [
        {
          "output_type": "execute_result",
          "data": {
            "text/plain": [
              "                 field                                              title  \\\n",
              "0        Beyin & Sinir  4. ventrikül normal büyüklük ve konfigürasyond...   \n",
              "1              Vertigo       Şiddetli Baş Dönmesi ve bacaklarda Hissizlik   \n",
              "2            Karaciğer  Eklem ağrılarım ve morarmaların yüzünden dokto...   \n",
              "3  Gebelik (Hamilelik)  İlişkiye girdikten 24 saat sonra içilen Ella h...   \n",
              "4        Doğum Kontrol                       Zevk Suyu Hamile Bırakır Mı?   \n",
              "\n",
              "                                            question  \\\n",
              "0  4. ventrikül normal büyüklük ve konfigürasyond...   \n",
              "1  Merhabalar öncelikle kolay gelsin. 21 yaşında ...   \n",
              "2  iyi günler. Eklem ağrılarım ve morarmaların yü...   \n",
              "3  Hocam merhaba. 1 Aralık 2023 tarihinde kız ark...   \n",
              "4  Öncelikle merhaba. Nişanlımla 14 Aralık tarihi...   \n",
              "\n",
              "                                              answer  num_tokens_pair  \n",
              "0  Göndermiş olduğunuz beyin MR raporunda genel o...              440  \n",
              "1  Yaşadığınız baş dönmesi ve bacaklarda hissizli...              305  \n",
              "2  Paylaştığınız test sonuçlarına göre, ANA (Anti...              161  \n",
              "3  Verdiğiniz bu bilgilere göre kız arkadaşınızın...              228  \n",
              "4  İlişki sırasında içeri boşalma olmaması hamile...              354  "
            ],
            "text/html": [
              "\n",
              "  <div id=\"df-638d17ea-567b-4b97-b24a-c655b6aad405\" class=\"colab-df-container\">\n",
              "    <div>\n",
              "<style scoped>\n",
              "    .dataframe tbody tr th:only-of-type {\n",
              "        vertical-align: middle;\n",
              "    }\n",
              "\n",
              "    .dataframe tbody tr th {\n",
              "        vertical-align: top;\n",
              "    }\n",
              "\n",
              "    .dataframe thead th {\n",
              "        text-align: right;\n",
              "    }\n",
              "</style>\n",
              "<table border=\"1\" class=\"dataframe\">\n",
              "  <thead>\n",
              "    <tr style=\"text-align: right;\">\n",
              "      <th></th>\n",
              "      <th>field</th>\n",
              "      <th>title</th>\n",
              "      <th>question</th>\n",
              "      <th>answer</th>\n",
              "      <th>num_tokens_pair</th>\n",
              "    </tr>\n",
              "  </thead>\n",
              "  <tbody>\n",
              "    <tr>\n",
              "      <th>0</th>\n",
              "      <td>Beyin &amp; Sinir</td>\n",
              "      <td>4. ventrikül normal büyüklük ve konfigürasyond...</td>\n",
              "      <td>4. ventrikül normal büyüklük ve konfigürasyond...</td>\n",
              "      <td>Göndermiş olduğunuz beyin MR raporunda genel o...</td>\n",
              "      <td>440</td>\n",
              "    </tr>\n",
              "    <tr>\n",
              "      <th>1</th>\n",
              "      <td>Vertigo</td>\n",
              "      <td>Şiddetli Baş Dönmesi ve bacaklarda Hissizlik</td>\n",
              "      <td>Merhabalar öncelikle kolay gelsin. 21 yaşında ...</td>\n",
              "      <td>Yaşadığınız baş dönmesi ve bacaklarda hissizli...</td>\n",
              "      <td>305</td>\n",
              "    </tr>\n",
              "    <tr>\n",
              "      <th>2</th>\n",
              "      <td>Karaciğer</td>\n",
              "      <td>Eklem ağrılarım ve morarmaların yüzünden dokto...</td>\n",
              "      <td>iyi günler. Eklem ağrılarım ve morarmaların yü...</td>\n",
              "      <td>Paylaştığınız test sonuçlarına göre, ANA (Anti...</td>\n",
              "      <td>161</td>\n",
              "    </tr>\n",
              "    <tr>\n",
              "      <th>3</th>\n",
              "      <td>Gebelik (Hamilelik)</td>\n",
              "      <td>İlişkiye girdikten 24 saat sonra içilen Ella h...</td>\n",
              "      <td>Hocam merhaba. 1 Aralık 2023 tarihinde kız ark...</td>\n",
              "      <td>Verdiğiniz bu bilgilere göre kız arkadaşınızın...</td>\n",
              "      <td>228</td>\n",
              "    </tr>\n",
              "    <tr>\n",
              "      <th>4</th>\n",
              "      <td>Doğum Kontrol</td>\n",
              "      <td>Zevk Suyu Hamile Bırakır Mı?</td>\n",
              "      <td>Öncelikle merhaba. Nişanlımla 14 Aralık tarihi...</td>\n",
              "      <td>İlişki sırasında içeri boşalma olmaması hamile...</td>\n",
              "      <td>354</td>\n",
              "    </tr>\n",
              "  </tbody>\n",
              "</table>\n",
              "</div>\n",
              "    <div class=\"colab-df-buttons\">\n",
              "\n",
              "  <div class=\"colab-df-container\">\n",
              "    <button class=\"colab-df-convert\" onclick=\"convertToInteractive('df-638d17ea-567b-4b97-b24a-c655b6aad405')\"\n",
              "            title=\"Convert this dataframe to an interactive table.\"\n",
              "            style=\"display:none;\">\n",
              "\n",
              "  <svg xmlns=\"http://www.w3.org/2000/svg\" height=\"24px\" viewBox=\"0 -960 960 960\">\n",
              "    <path d=\"M120-120v-720h720v720H120Zm60-500h600v-160H180v160Zm220 220h160v-160H400v160Zm0 220h160v-160H400v160ZM180-400h160v-160H180v160Zm440 0h160v-160H620v160ZM180-180h160v-160H180v160Zm440 0h160v-160H620v160Z\"/>\n",
              "  </svg>\n",
              "    </button>\n",
              "\n",
              "  <style>\n",
              "    .colab-df-container {\n",
              "      display:flex;\n",
              "      gap: 12px;\n",
              "    }\n",
              "\n",
              "    .colab-df-convert {\n",
              "      background-color: #E8F0FE;\n",
              "      border: none;\n",
              "      border-radius: 50%;\n",
              "      cursor: pointer;\n",
              "      display: none;\n",
              "      fill: #1967D2;\n",
              "      height: 32px;\n",
              "      padding: 0 0 0 0;\n",
              "      width: 32px;\n",
              "    }\n",
              "\n",
              "    .colab-df-convert:hover {\n",
              "      background-color: #E2EBFA;\n",
              "      box-shadow: 0px 1px 2px rgba(60, 64, 67, 0.3), 0px 1px 3px 1px rgba(60, 64, 67, 0.15);\n",
              "      fill: #174EA6;\n",
              "    }\n",
              "\n",
              "    .colab-df-buttons div {\n",
              "      margin-bottom: 4px;\n",
              "    }\n",
              "\n",
              "    [theme=dark] .colab-df-convert {\n",
              "      background-color: #3B4455;\n",
              "      fill: #D2E3FC;\n",
              "    }\n",
              "\n",
              "    [theme=dark] .colab-df-convert:hover {\n",
              "      background-color: #434B5C;\n",
              "      box-shadow: 0px 1px 3px 1px rgba(0, 0, 0, 0.15);\n",
              "      filter: drop-shadow(0px 1px 2px rgba(0, 0, 0, 0.3));\n",
              "      fill: #FFFFFF;\n",
              "    }\n",
              "  </style>\n",
              "\n",
              "    <script>\n",
              "      const buttonEl =\n",
              "        document.querySelector('#df-638d17ea-567b-4b97-b24a-c655b6aad405 button.colab-df-convert');\n",
              "      buttonEl.style.display =\n",
              "        google.colab.kernel.accessAllowed ? 'block' : 'none';\n",
              "\n",
              "      async function convertToInteractive(key) {\n",
              "        const element = document.querySelector('#df-638d17ea-567b-4b97-b24a-c655b6aad405');\n",
              "        const dataTable =\n",
              "          await google.colab.kernel.invokeFunction('convertToInteractive',\n",
              "                                                    [key], {});\n",
              "        if (!dataTable) return;\n",
              "\n",
              "        const docLinkHtml = 'Like what you see? Visit the ' +\n",
              "          '<a target=\"_blank\" href=https://colab.research.google.com/notebooks/data_table.ipynb>data table notebook</a>'\n",
              "          + ' to learn more about interactive tables.';\n",
              "        element.innerHTML = '';\n",
              "        dataTable['output_type'] = 'display_data';\n",
              "        await google.colab.output.renderOutput(dataTable, element);\n",
              "        const docLink = document.createElement('div');\n",
              "        docLink.innerHTML = docLinkHtml;\n",
              "        element.appendChild(docLink);\n",
              "      }\n",
              "    </script>\n",
              "  </div>\n",
              "\n",
              "\n",
              "<div id=\"df-4673cd1f-5c99-4357-8f5c-3856a4d450a5\">\n",
              "  <button class=\"colab-df-quickchart\" onclick=\"quickchart('df-4673cd1f-5c99-4357-8f5c-3856a4d450a5')\"\n",
              "            title=\"Suggest charts\"\n",
              "            style=\"display:none;\">\n",
              "\n",
              "<svg xmlns=\"http://www.w3.org/2000/svg\" height=\"24px\"viewBox=\"0 0 24 24\"\n",
              "     width=\"24px\">\n",
              "    <g>\n",
              "        <path d=\"M19 3H5c-1.1 0-2 .9-2 2v14c0 1.1.9 2 2 2h14c1.1 0 2-.9 2-2V5c0-1.1-.9-2-2-2zM9 17H7v-7h2v7zm4 0h-2V7h2v10zm4 0h-2v-4h2v4z\"/>\n",
              "    </g>\n",
              "</svg>\n",
              "  </button>\n",
              "\n",
              "<style>\n",
              "  .colab-df-quickchart {\n",
              "      --bg-color: #E8F0FE;\n",
              "      --fill-color: #1967D2;\n",
              "      --hover-bg-color: #E2EBFA;\n",
              "      --hover-fill-color: #174EA6;\n",
              "      --disabled-fill-color: #AAA;\n",
              "      --disabled-bg-color: #DDD;\n",
              "  }\n",
              "\n",
              "  [theme=dark] .colab-df-quickchart {\n",
              "      --bg-color: #3B4455;\n",
              "      --fill-color: #D2E3FC;\n",
              "      --hover-bg-color: #434B5C;\n",
              "      --hover-fill-color: #FFFFFF;\n",
              "      --disabled-bg-color: #3B4455;\n",
              "      --disabled-fill-color: #666;\n",
              "  }\n",
              "\n",
              "  .colab-df-quickchart {\n",
              "    background-color: var(--bg-color);\n",
              "    border: none;\n",
              "    border-radius: 50%;\n",
              "    cursor: pointer;\n",
              "    display: none;\n",
              "    fill: var(--fill-color);\n",
              "    height: 32px;\n",
              "    padding: 0;\n",
              "    width: 32px;\n",
              "  }\n",
              "\n",
              "  .colab-df-quickchart:hover {\n",
              "    background-color: var(--hover-bg-color);\n",
              "    box-shadow: 0 1px 2px rgba(60, 64, 67, 0.3), 0 1px 3px 1px rgba(60, 64, 67, 0.15);\n",
              "    fill: var(--button-hover-fill-color);\n",
              "  }\n",
              "\n",
              "  .colab-df-quickchart-complete:disabled,\n",
              "  .colab-df-quickchart-complete:disabled:hover {\n",
              "    background-color: var(--disabled-bg-color);\n",
              "    fill: var(--disabled-fill-color);\n",
              "    box-shadow: none;\n",
              "  }\n",
              "\n",
              "  .colab-df-spinner {\n",
              "    border: 2px solid var(--fill-color);\n",
              "    border-color: transparent;\n",
              "    border-bottom-color: var(--fill-color);\n",
              "    animation:\n",
              "      spin 1s steps(1) infinite;\n",
              "  }\n",
              "\n",
              "  @keyframes spin {\n",
              "    0% {\n",
              "      border-color: transparent;\n",
              "      border-bottom-color: var(--fill-color);\n",
              "      border-left-color: var(--fill-color);\n",
              "    }\n",
              "    20% {\n",
              "      border-color: transparent;\n",
              "      border-left-color: var(--fill-color);\n",
              "      border-top-color: var(--fill-color);\n",
              "    }\n",
              "    30% {\n",
              "      border-color: transparent;\n",
              "      border-left-color: var(--fill-color);\n",
              "      border-top-color: var(--fill-color);\n",
              "      border-right-color: var(--fill-color);\n",
              "    }\n",
              "    40% {\n",
              "      border-color: transparent;\n",
              "      border-right-color: var(--fill-color);\n",
              "      border-top-color: var(--fill-color);\n",
              "    }\n",
              "    60% {\n",
              "      border-color: transparent;\n",
              "      border-right-color: var(--fill-color);\n",
              "    }\n",
              "    80% {\n",
              "      border-color: transparent;\n",
              "      border-right-color: var(--fill-color);\n",
              "      border-bottom-color: var(--fill-color);\n",
              "    }\n",
              "    90% {\n",
              "      border-color: transparent;\n",
              "      border-bottom-color: var(--fill-color);\n",
              "    }\n",
              "  }\n",
              "</style>\n",
              "\n",
              "  <script>\n",
              "    async function quickchart(key) {\n",
              "      const quickchartButtonEl =\n",
              "        document.querySelector('#' + key + ' button');\n",
              "      quickchartButtonEl.disabled = true;  // To prevent multiple clicks.\n",
              "      quickchartButtonEl.classList.add('colab-df-spinner');\n",
              "      try {\n",
              "        const charts = await google.colab.kernel.invokeFunction(\n",
              "            'suggestCharts', [key], {});\n",
              "      } catch (error) {\n",
              "        console.error('Error during call to suggestCharts:', error);\n",
              "      }\n",
              "      quickchartButtonEl.classList.remove('colab-df-spinner');\n",
              "      quickchartButtonEl.classList.add('colab-df-quickchart-complete');\n",
              "    }\n",
              "    (() => {\n",
              "      let quickchartButtonEl =\n",
              "        document.querySelector('#df-4673cd1f-5c99-4357-8f5c-3856a4d450a5 button');\n",
              "      quickchartButtonEl.style.display =\n",
              "        google.colab.kernel.accessAllowed ? 'block' : 'none';\n",
              "    })();\n",
              "  </script>\n",
              "</div>\n",
              "\n",
              "    </div>\n",
              "  </div>\n"
            ],
            "application/vnd.google.colaboratory.intrinsic+json": {
              "type": "dataframe",
              "variable_name": "df",
              "summary": "{\n  \"name\": \"df\",\n  \"rows\": 1947,\n  \"fields\": [\n    {\n      \"column\": \"field\",\n      \"properties\": {\n        \"dtype\": \"category\",\n        \"num_unique_values\": 206,\n        \"samples\": [\n          \"Sa\\u00e7 D\\u00f6k\\u00fclmesi\",\n          \"Romatizma\",\n          \"Ba\\u011f\\u0131ml\\u0131l\\u0131k\"\n        ],\n        \"semantic_type\": \"\",\n        \"description\": \"\"\n      }\n    },\n    {\n      \"column\": \"title\",\n      \"properties\": {\n        \"dtype\": \"string\",\n        \"num_unique_values\": 1947,\n        \"samples\": [\n          \"Idrara \\u00e7\\u0131kma ve s\\u0131kl\\u0131klar\\u0131m varm\\u0131\\u015f hissi mevcut.\",\n          \"\\u00d6zel b\\u00f6lgemde k\\u0131rm\\u0131z\\u0131 \\u015fi\\u015flikler var.\",\n          \"Solda frontotemporal kemikte kraniatomi defektleri izlenmi\\u015ftir.\"\n        ],\n        \"semantic_type\": \"\",\n        \"description\": \"\"\n      }\n    },\n    {\n      \"column\": \"question\",\n      \"properties\": {\n        \"dtype\": \"string\",\n        \"num_unique_values\": 1942,\n        \"samples\": [\n          \"Merhaba , herhangi bir ejak\\u00fclasyon olmadan, klitorisle k\\u0131sm\\u0131yla penis temas\\u0131nda hamilelik riski var m\\u0131d\\u0131r? Herhangi bir penetrasyon da ya\\u015fanmad\\u0131.(Penisten hi\\u00e7bir bir s\\u0131v\\u0131 da gelmedi, zevk suyu vs).  B\\u00f6yle bir durumda risk var m\\u0131d\\u0131r?\",\n          \"Merhabalar. Mamografi \\u00e7ektirdim. Birads 0 oldu\\u011fu i\\u00e7in ultrasona y\\u00f6nlendirdiler. Ultrasonda da sol koltuk alt\\u0131 lenflerim 22\\u00d712 ve 25\\u00d713 mm \\u015feklinde iki adet  sa\\u011f koltuk alt\\u0131mda bir \\u015fey yok. Daha \\u00f6nce sol mememden biyopsi oldum ve adonezis \\u00e7\\u0131kt\\u0131. Biyopside iyi gelen bir kitle, k\\u00f6t\\u00fc huyluya d\\u00f6n\\u00fc\\u015f\\u00fcr m\\u00fc? 5 y\\u0131l oldu biyopsi olal\\u0131 hi\\u00e7 bir art\\u0131\\u015f g\\u00f6r\\u00fcnmedi boyutlar\\u0131nda. Kol alt\\u0131 lenflerinin bu \\u00f6l\\u00e7\\u00fcde olmas\\u0131 normal mi?\",\n          \"Merhaba hocam. Ben K\\u0131z\\u0131lay'a kan vermi\\u015ftim ve bana kan\\u0131n\\u0131z ula\\u015ft\\u0131 hayat kurtard\\u0131n\\u0131z diye sms gelmedi, ama kanver.org sitesine bakt\\u0131mda kan ba\\u011f\\u0131\\u015f\\u0131 yapmak i\\u00e7in randavu alabilirsiniz yaz\\u0131yor, bu kanda bir problem olmad\\u0131n\\u0131 m\\u0131 g\\u00f6sterir? Ben kanda bir s\\u0131k\\u0131nt\\u0131 olsa kan ba\\u011f\\u0131\\u015f\\u0131 yapmak i\\u00e7in randevu verece\\u011fini\\u00a0d\\u00fc\\u015f\\u00fcnm\\u00fcyorum \\u00e7\\u00fcnki *sorum \\u015fu hocam k\\u0131z\\u0131lay NAT testi diye bir test yap\\u0131yormu\\u015f, bu antikor testi mi? *kan ba\\u011f\\u0131\\u015f\\u0131ndan 52 g\\u00fcnde ve 89. g\\u00fcnde \\u00f6zel hastanede Anti h\\u0131v kemiluminesa\\u015f veya benzeri antikor testi yapt\\u0131rd\\u0131m 2 teste NEGAT\\u0130F geldi ve hepatit\\u00a0sifilis testleri de negatif geldi. Bu yapt\\u0131rd\\u0131\\u011f\\u0131m\\u00a0testler negatif geldi\\u011fine\\u00a0g\\u00f6re K\\u0131z\\u0131lay'\\u0131n testleri de kesinlikle negatif mi\\u00a0gelmi\\u015ftir? *90. G\\u00fcnde yapt\\u0131rd\\u0131m 3. NES\\u0130L veya 2. Nesil bilmiyorum anti h\\u0131v kemiluminesa\\u015f veya benzeri Test negatifli\\u011fi kesin midir? Ba\\u015fka test yapt\\u0131ray\\u0131m m\\u0131? HIV testi sonu\\u00e7lar\\u0131n\\u0131 dosyalar b\\u00f6l\\u00fcm\\u00fcne att\\u0131m. Bu sonu\\u00e7lar nas\\u0131l, s\\u0131n\\u0131rda m\\u0131 yoksa normal mi? Bir uzman doktor olarak testlerin detay\\u0131n\\u0131 ve bu konuda uzman olarak cevab\\u0131n\\u0131z\\u0131 bekliyorum hocam.\"\n        ],\n        \"semantic_type\": \"\",\n        \"description\": \"\"\n      }\n    },\n    {\n      \"column\": \"answer\",\n      \"properties\": {\n        \"dtype\": \"string\",\n        \"num_unique_values\": 1946,\n        \"samples\": [\n          \"Merhaba, S\\u0131k idrar \\u00e7\\u0131kma bir \\u00e7ok nedene ba\\u011fl\\u0131 olabilir. En s\\u0131k g\\u00f6r\\u00fclen nedenlerinden biri idrar yolu enfeksiyonlar\\u0131d\\u0131r. A\\u015f\\u0131r\\u0131 aktif mesane denilen durum da buna neden olabilir. Doktorunuz ile g\\u00f6r\\u00fc\\u015f\\u00fcn. Daha ileri tetkikler yapabilir, ilac\\u0131n\\u0131z\\u0131 de\\u011fi\\u015ftirebilir.\",\n          \"Merhaba , testi uygun zamanda vermi\\u015fsiniz . gebelik olsayd\\u0131 testiniz pozitif \\u00e7\\u0131kard\\u0131. Sa\\u011fl\\u0131kl\\u0131 g\\u00fcnler dilerim\",\n          \"Merhaba. Beyin MR raporuna g\\u00f6re,\\u00a0beynin bir b\\u00f6lgesinde, o\\u00a0b\\u00f6lgedeki kan damarlar\\u0131n\\u0131n hasar g\\u00f6rmesine ba\\u011fl\\u0131 olarak vazozjenik \\u00f6dem\\u00a0yani s\\u0131v\\u0131 birikmesi oldu\\u011fu ifade edilmektedir.\\u00a0Raporda ayr\\u0131ca, kafatas\\u0131n\\u0131n sol tarf\\u0131ndaki bir kemikte ameliyat izi (kraniatomi defekti)\\u00a0izlendi\\u011fi belirtilmektedir. Bu durum, daha \\u00f6nce beyin ameliyat\\u0131 nedeniyle\\u00a0kafatas\\u0131n\\u0131n a\\u00e7\\u0131ld\\u0131\\u011f\\u0131na i\\u015faret etmektedir.\\nSonu\\u00e7 olarak, beynin sol temporal lobunda, ameliyat sonras\\u0131 geli\\u015fen vazojenik \\u00f6dem oldu\\u011fu g\\u00f6r\\u00fclmektedir. Bu, genellikle ciddi bir durumu i\\u015faret etmez ve zamanla kendili\\u011finden iyile\\u015febilir. Ancak, hastan\\u0131n \\u015fikayetlerinin devam etmesi veya \\u015fiddetlenmesi durumunda, mutlaka doktoruna ba\\u015fvurmas\\u0131n\\u0131 tavsiye ederim.\"\n        ],\n        \"semantic_type\": \"\",\n        \"description\": \"\"\n      }\n    },\n    {\n      \"column\": \"num_tokens_pair\",\n      \"properties\": {\n        \"dtype\": \"number\",\n        \"std\": 174,\n        \"min\": 20,\n        \"max\": 1153,\n        \"num_unique_values\": 602,\n        \"samples\": [\n          173,\n          367,\n          97\n        ],\n        \"semantic_type\": \"\",\n        \"description\": \"\"\n      }\n    }\n  ]\n}"
            }
          },
          "metadata": {},
          "execution_count": 67
        }
      ]
    },
    {
      "cell_type": "code",
      "source": [
        "field_counts = df[\"field\"].value_counts()     # top 5 fields of questions asked\n",
        "field_counts.head(5)"
      ],
      "metadata": {
        "colab": {
          "base_uri": "https://localhost:8080/",
          "height": 272
        },
        "id": "Kkf8xty0pA0X",
        "outputId": "f79b02bc-d8d8-49c9-b1ac-74a9b9f50a3f"
      },
      "execution_count": 63,
      "outputs": [
        {
          "output_type": "execute_result",
          "data": {
            "text/plain": [
              "field\n",
              "Beyin & Sinir          131\n",
              "Kadın Sağlığı           99\n",
              "Gebelik (Hamilelik)     87\n",
              "Deri Hastalıkları       71\n",
              "Cinsel Sağlık           67\n",
              "Name: count, dtype: int64"
            ],
            "text/html": [
              "<div>\n",
              "<style scoped>\n",
              "    .dataframe tbody tr th:only-of-type {\n",
              "        vertical-align: middle;\n",
              "    }\n",
              "\n",
              "    .dataframe tbody tr th {\n",
              "        vertical-align: top;\n",
              "    }\n",
              "\n",
              "    .dataframe thead th {\n",
              "        text-align: right;\n",
              "    }\n",
              "</style>\n",
              "<table border=\"1\" class=\"dataframe\">\n",
              "  <thead>\n",
              "    <tr style=\"text-align: right;\">\n",
              "      <th></th>\n",
              "      <th>count</th>\n",
              "    </tr>\n",
              "    <tr>\n",
              "      <th>field</th>\n",
              "      <th></th>\n",
              "    </tr>\n",
              "  </thead>\n",
              "  <tbody>\n",
              "    <tr>\n",
              "      <th>Beyin &amp; Sinir</th>\n",
              "      <td>131</td>\n",
              "    </tr>\n",
              "    <tr>\n",
              "      <th>Kadın Sağlığı</th>\n",
              "      <td>99</td>\n",
              "    </tr>\n",
              "    <tr>\n",
              "      <th>Gebelik (Hamilelik)</th>\n",
              "      <td>87</td>\n",
              "    </tr>\n",
              "    <tr>\n",
              "      <th>Deri Hastalıkları</th>\n",
              "      <td>71</td>\n",
              "    </tr>\n",
              "    <tr>\n",
              "      <th>Cinsel Sağlık</th>\n",
              "      <td>67</td>\n",
              "    </tr>\n",
              "  </tbody>\n",
              "</table>\n",
              "</div><br><label><b>dtype:</b> int64</label>"
            ]
          },
          "metadata": {},
          "execution_count": 63
        }
      ]
    },
    {
      "cell_type": "code",
      "source": [
        "df[\"num_tokens_pair\"].sum()     # total number of tokens"
      ],
      "metadata": {
        "colab": {
          "base_uri": "https://localhost:8080/"
        },
        "id": "9hS17Ukb7DV6",
        "outputId": "5da6c43e-f274-4430-d64a-2ae48cc99d16"
      },
      "execution_count": 60,
      "outputs": [
        {
          "output_type": "execute_result",
          "data": {
            "text/plain": [
              "552047"
            ]
          },
          "metadata": {},
          "execution_count": 60
        }
      ]
    },
    {
      "cell_type": "code",
      "source": [
        "df.to_parquet(\"MedQuAD_small.parquet\")"
      ],
      "metadata": {
        "id": "ps-eSgeD8vcD"
      },
      "execution_count": 68,
      "outputs": []
    }
  ]
}