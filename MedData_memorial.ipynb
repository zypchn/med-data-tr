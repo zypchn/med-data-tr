{
  "nbformat": 4,
  "nbformat_minor": 0,
  "metadata": {
    "colab": {
      "provenance": [],
      "authorship_tag": "ABX9TyPEMm41KvJ+9qZJSqE8hEeO"
    },
    "kernelspec": {
      "name": "python3",
      "display_name": "Python 3"
    },
    "language_info": {
      "name": "python"
    }
  },
  "cells": [
    {
      "cell_type": "code",
      "execution_count": null,
      "metadata": {
        "colab": {
          "base_uri": "https://localhost:8080/"
        },
        "id": "EIbgIQ4j5T26",
        "outputId": "0cc45d1c-7349-400d-d6d9-aa8346c6fff7"
      },
      "outputs": [
        {
          "output_type": "stream",
          "name": "stdout",
          "text": [
            "\u001b[2K   \u001b[90m━━━━━━━━━━━━━━━━━━━━━━━━━━━━━━━━━━━━━━━━\u001b[0m \u001b[32m5.6/5.6 MB\u001b[0m \u001b[31m34.8 MB/s\u001b[0m eta \u001b[36m0:00:00\u001b[0m\n",
            "\u001b[2K   \u001b[90m━━━━━━━━━━━━━━━━━━━━━━━━━━━━━━━━━━━━━━━━\u001b[0m \u001b[32m1.2/1.2 MB\u001b[0m \u001b[31m11.4 MB/s\u001b[0m eta \u001b[36m0:00:00\u001b[0m\n",
            "\u001b[2K   \u001b[90m━━━━━━━━━━━━━━━━━━━━━━━━━━━━━━━━━━━━━━━━\u001b[0m \u001b[32m201.1/201.1 kB\u001b[0m \u001b[31m4.2 MB/s\u001b[0m eta \u001b[36m0:00:00\u001b[0m\n",
            "\u001b[?25h"
          ]
        }
      ],
      "source": [
        "! pip install requests -q\n",
        "! pip install html5lib -q\n",
        "! pip install bs4 -q\n",
        "! pip install tiktoken -q"
      ]
    },
    {
      "cell_type": "code",
      "source": [
        "import requests\n",
        "from bs4 import BeautifulSoup\n",
        "from concurrent.futures import ThreadPoolExecutor, as_completed\n",
        "import time\n",
        "import pandas as pd\n",
        "import tiktoken\n",
        "from google.colab import files"
      ],
      "metadata": {
        "id": "fHw-eKnD5fNZ"
      },
      "execution_count": null,
      "outputs": []
    },
    {
      "cell_type": "code",
      "source": [
        "base_url = \"https://www.memorial.com.tr\"\n",
        "def set_url(base_url, param):\n",
        "  return f\"{base_url}/{param}\""
      ],
      "metadata": {
        "id": "w32FRJf35grw"
      },
      "execution_count": null,
      "outputs": []
    },
    {
      "cell_type": "code",
      "source": [
        "def get_divs(url):\n",
        "  res = requests.get(url)\n",
        "  soup = BeautifulSoup(res.content, \"html.parser\")\n",
        "  htmlData = soup.find_all(\"div\", {\"class\": \"col-3 mini-image-box\"})\n",
        "  return htmlData"
      ],
      "metadata": {
        "id": "FIriGe-XVBBc"
      },
      "execution_count": null,
      "outputs": []
    },
    {
      "cell_type": "code",
      "source": [
        "def get_names(htmlData):\n",
        "  names = []\n",
        "  for html in htmlData:\n",
        "    name = html.find(\"h3\").text\n",
        "    name = name.replace(\"\\n\", \"\")\n",
        "    name = name.replace(\"\\r\", \"\")\n",
        "    name = name.strip()\n",
        "    names.append(name)\n",
        "  return names"
      ],
      "metadata": {
        "id": "HtvG-4TGXTks"
      },
      "execution_count": null,
      "outputs": []
    },
    {
      "cell_type": "code",
      "source": [
        "def get_raw_texts(params):\n",
        "  raw_texts = []\n",
        "  for p in params:\n",
        "    url = set_url(base_url, p)\n",
        "    res = requests.get(url)\n",
        "    soup = BeautifulSoup(res.content, \"html.parser\")\n",
        "    div = soup.find_all(\"div\", {\"class\": \"article\"}) # getting the main content\n",
        "    texts = div[0].find_all([\"h2\", \"h3\", \"p\"])\n",
        "    raw_texts.append(texts)\n",
        "  return raw_texts"
      ],
      "metadata": {
        "id": "Xavdw7xiJkZK"
      },
      "execution_count": null,
      "outputs": []
    },
    {
      "cell_type": "code",
      "source": [
        "def get_raw_text(record):\n",
        "  name = record[\"name\"]\n",
        "  param = record[\"param\"]\n",
        "  url = set_url(base_url, param)\n",
        "  res = requests.get(url)\n",
        "  soup = BeautifulSoup(res.content, \"html.parser\")\n",
        "  div = soup.find_all(\"div\", {\"class\": \"article\"}) # getting the main content\n",
        "  texts = div[0].find_all([\"h2\", \"h3\", \"p\"])\n",
        "  rec = {\n",
        "      name: texts\n",
        "  }\n",
        "  raw_texts.append(rec)\n",
        "  print(f\"successfuly extracted raw content of {param}\")\n",
        "\n",
        "def get_raw_text_pool(max_workers, param_records):\n",
        "  with ThreadPoolExecutor(max_workers=max_workers) as executor:\n",
        "    futures = [\n",
        "        executor.submit(get_raw_text, record) for record in param_records\n",
        "    ]\n",
        "    for future in as_completed(futures):\n",
        "      try:\n",
        "        future.result()\n",
        "      except Exception as e:\n",
        "        print(f\"Thread Error: {e}\")"
      ],
      "metadata": {
        "id": "y3UTxXZuaNc7"
      },
      "execution_count": null,
      "outputs": []
    },
    {
      "cell_type": "code",
      "source": [
        "def get_texts(raw_data, k):\n",
        "  # k : decides which part of the raw content will be deleted from the end\n",
        "  # useful for deleting non-relevant data present at the end\n",
        "  texts = []\n",
        "  for d in raw_data:\n",
        "    data = d.copy()\n",
        "    del data[-k:] # deletes the last k elements\n",
        "    text = \"\"\n",
        "    for element in data:\n",
        "      text += element.text\n",
        "    texts.append(\" \" + text)\n",
        "  return texts"
      ],
      "metadata": {
        "id": "uFm68ZQTK0_W"
      },
      "execution_count": null,
      "outputs": []
    },
    {
      "cell_type": "code",
      "source": [
        "def num_tokens_from_string(string: str, encoder_name: str) -> int:\n",
        "    # encoding = tiktoken.encoding_for_model(model_name)\n",
        "    encoding = tiktoken.get_encoding(encoder_name)\n",
        "    num_tokens = len(encoding.encode(string))\n",
        "    return num_tokens"
      ],
      "metadata": {
        "id": "Q8fmyYkIPlgP"
      },
      "execution_count": null,
      "outputs": []
    },
    {
      "cell_type": "code",
      "source": [
        "def get_num_tokens(encoder_name, texts):\n",
        "  num_tokens = []\n",
        "  for text in texts:\n",
        "    num_token = num_tokens_from_string(text, encoder_name)\n",
        "    num_tokens.append(num_token)\n",
        "  return num_tokens"
      ],
      "metadata": {
        "id": "RTCJlUIONrk1"
      },
      "execution_count": null,
      "outputs": []
    },
    {
      "cell_type": "markdown",
      "source": [
        "# Tanı ve Testler (Diagnoses and Tests)"
      ],
      "metadata": {
        "id": "tqPaa23kSyDc"
      }
    },
    {
      "cell_type": "code",
      "source": [
        "param = \"tani-ve-testler\"\n",
        "url = set_url(base_url, param)\n",
        "url"
      ],
      "metadata": {
        "colab": {
          "base_uri": "https://localhost:8080/",
          "height": 36
        },
        "id": "R9f2TcHXA7PX",
        "outputId": "834ee9d1-781d-40b4-b259-4f7fd1736c24"
      },
      "execution_count": null,
      "outputs": [
        {
          "output_type": "execute_result",
          "data": {
            "text/plain": [
              "'https://www.memorial.com.tr/tani-ve-testler'"
            ],
            "application/vnd.google.colaboratory.intrinsic+json": {
              "type": "string"
            }
          },
          "metadata": {},
          "execution_count": 194
        }
      ]
    },
    {
      "cell_type": "code",
      "source": [
        "htmlData = get_divs(url)"
      ],
      "metadata": {
        "id": "MJ58uZ_gWz27"
      },
      "execution_count": null,
      "outputs": []
    },
    {
      "cell_type": "code",
      "source": [
        "names = get_names(htmlData)\n",
        "names[:3], len(names)"
      ],
      "metadata": {
        "colab": {
          "base_uri": "https://localhost:8080/"
        },
        "id": "Vvqrk8wO-RGT",
        "outputId": "d19d82d2-27bc-491f-adfc-fc6b3dd00200"
      },
      "execution_count": null,
      "outputs": [
        {
          "output_type": "execute_result",
          "data": {
            "text/plain": [
              "(['Tiroid Biyopsisi',\n",
              "  '3 Boyutlu Ekokardiyografi',\n",
              "  'ACTH (Adrenokortikotropik Hormon) Testi'],\n",
              " 141)"
            ]
          },
          "metadata": {},
          "execution_count": 196
        }
      ]
    },
    {
      "cell_type": "code",
      "source": [
        "name_params = []\n",
        "for html in htmlData:\n",
        "  url = [a['href'] for a in html.select('a[href^=\"/tani-ve-testler\"]')]\n",
        "  name_params.append(url[0])"
      ],
      "metadata": {
        "id": "Kam5hvpj8Bui"
      },
      "execution_count": null,
      "outputs": []
    },
    {
      "cell_type": "code",
      "source": [
        "len(name_params)"
      ],
      "metadata": {
        "colab": {
          "base_uri": "https://localhost:8080/"
        },
        "id": "kj15yaitDfy2",
        "outputId": "8ce7c365-ace8-48e3-865d-f68be55c8dd5"
      },
      "execution_count": null,
      "outputs": [
        {
          "output_type": "execute_result",
          "data": {
            "text/plain": [
              "141"
            ]
          },
          "metadata": {},
          "execution_count": 77
        }
      ]
    },
    {
      "cell_type": "code",
      "source": [
        "raw_texts = get_raw_texts(name_params)    # takes about 34sec"
      ],
      "metadata": {
        "id": "L_GnusPMInLk"
      },
      "execution_count": null,
      "outputs": []
    },
    {
      "cell_type": "code",
      "source": [
        "texts = get_texts(raw_texts, k=4)   # k was checked beforehand"
      ],
      "metadata": {
        "id": "ktu6ao0jM7YA"
      },
      "execution_count": null,
      "outputs": []
    },
    {
      "cell_type": "code",
      "source": [
        "encoder = \"cl100k_base\"\n",
        "num_tokens = get_num_tokens(encoder, texts)"
      ],
      "metadata": {
        "id": "aKx3a0l7QUq6"
      },
      "execution_count": null,
      "outputs": []
    },
    {
      "cell_type": "code",
      "source": [
        "data = {\n",
        "    \"category\": \"Tanı ve Testler\",\n",
        "    \"topic\": names,\n",
        "    \"text\": texts,\n",
        "    \"num_tokens\": num_tokens\n",
        "}"
      ],
      "metadata": {
        "id": "D9iz436-QeEc"
      },
      "execution_count": null,
      "outputs": []
    },
    {
      "cell_type": "code",
      "source": [
        "df = pd.DataFrame(data=data, index=None)"
      ],
      "metadata": {
        "id": "a8DdPnPtQfUg"
      },
      "execution_count": null,
      "outputs": []
    },
    {
      "cell_type": "code",
      "source": [
        "df"
      ],
      "metadata": {
        "colab": {
          "base_uri": "https://localhost:8080/",
          "height": 423
        },
        "collapsed": true,
        "id": "JMZ6WJeBRKtt",
        "outputId": "4adb864f-65cc-4629-f4de-b029e1ea04e7"
      },
      "execution_count": null,
      "outputs": [
        {
          "output_type": "execute_result",
          "data": {
            "text/plain": [
              "            category                                    topic  \\\n",
              "0    Tanı ve Testler                         Tiroid Biyopsisi   \n",
              "1    Tanı ve Testler                3 Boyutlu Ekokardiyografi   \n",
              "2    Tanı ve Testler  ACTH (Adrenokortikotropik Hormon) Testi   \n",
              "3    Tanı ve Testler                          Akciğer Grafisi   \n",
              "4    Tanı ve Testler                            Albümin Testi   \n",
              "..               ...                                      ...   \n",
              "136  Tanı ve Testler                        Uyku Apnesi Testi   \n",
              "137  Tanı ve Testler                          Üre (BUN Testi)   \n",
              "138  Tanı ve Testler                          Üre Nefes Testi   \n",
              "139  Tanı ve Testler                          Ürodinami Testi   \n",
              "140  Tanı ve Testler                                WBC Testi   \n",
              "\n",
              "                                                  text  num_tokens  \n",
              "0     Tiroid bezini oluşturan hücrelerin düzensiz ç...        3501  \n",
              "1     Bilgisayar ve transdüser sistemlerindeki tekn...        2117  \n",
              "2     ACTH (adrenokortikotropik hormon), hipofiz be...        2363  \n",
              "3     Akciğer grafisi; kalp, akciğerler, kan damarl...        1753  \n",
              "4     Albümin testi, karaciğer ve böbrek fonksiyonl...        3426  \n",
              "..                                                 ...         ...  \n",
              "136   Kaliteli ve yeterli olmayan uyku süresi kişin...        3427  \n",
              "137   Üre, karaciğerin proteinin sindirimi sürecind...        3579  \n",
              "138   Dünyanın en yaygın enfeksiyonlarından biri ol...        1142  \n",
              "139   Erkeklerde ve kadınlarda hemen hemen her yaşt...        2850  \n",
              "140   White Blood Count ifadelerinin kısaltması ola...        3347  \n",
              "\n",
              "[141 rows x 4 columns]"
            ],
            "text/html": [
              "\n",
              "  <div id=\"df-5f0e8b43-f2cb-4206-bb5f-7618ee1659e0\" class=\"colab-df-container\">\n",
              "    <div>\n",
              "<style scoped>\n",
              "    .dataframe tbody tr th:only-of-type {\n",
              "        vertical-align: middle;\n",
              "    }\n",
              "\n",
              "    .dataframe tbody tr th {\n",
              "        vertical-align: top;\n",
              "    }\n",
              "\n",
              "    .dataframe thead th {\n",
              "        text-align: right;\n",
              "    }\n",
              "</style>\n",
              "<table border=\"1\" class=\"dataframe\">\n",
              "  <thead>\n",
              "    <tr style=\"text-align: right;\">\n",
              "      <th></th>\n",
              "      <th>category</th>\n",
              "      <th>topic</th>\n",
              "      <th>text</th>\n",
              "      <th>num_tokens</th>\n",
              "    </tr>\n",
              "  </thead>\n",
              "  <tbody>\n",
              "    <tr>\n",
              "      <th>0</th>\n",
              "      <td>Tanı ve Testler</td>\n",
              "      <td>Tiroid Biyopsisi</td>\n",
              "      <td>Tiroid bezini oluşturan hücrelerin düzensiz ç...</td>\n",
              "      <td>3501</td>\n",
              "    </tr>\n",
              "    <tr>\n",
              "      <th>1</th>\n",
              "      <td>Tanı ve Testler</td>\n",
              "      <td>3 Boyutlu Ekokardiyografi</td>\n",
              "      <td>Bilgisayar ve transdüser sistemlerindeki tekn...</td>\n",
              "      <td>2117</td>\n",
              "    </tr>\n",
              "    <tr>\n",
              "      <th>2</th>\n",
              "      <td>Tanı ve Testler</td>\n",
              "      <td>ACTH (Adrenokortikotropik Hormon) Testi</td>\n",
              "      <td>ACTH (adrenokortikotropik hormon), hipofiz be...</td>\n",
              "      <td>2363</td>\n",
              "    </tr>\n",
              "    <tr>\n",
              "      <th>3</th>\n",
              "      <td>Tanı ve Testler</td>\n",
              "      <td>Akciğer Grafisi</td>\n",
              "      <td>Akciğer grafisi; kalp, akciğerler, kan damarl...</td>\n",
              "      <td>1753</td>\n",
              "    </tr>\n",
              "    <tr>\n",
              "      <th>4</th>\n",
              "      <td>Tanı ve Testler</td>\n",
              "      <td>Albümin Testi</td>\n",
              "      <td>Albümin testi, karaciğer ve böbrek fonksiyonl...</td>\n",
              "      <td>3426</td>\n",
              "    </tr>\n",
              "    <tr>\n",
              "      <th>...</th>\n",
              "      <td>...</td>\n",
              "      <td>...</td>\n",
              "      <td>...</td>\n",
              "      <td>...</td>\n",
              "    </tr>\n",
              "    <tr>\n",
              "      <th>136</th>\n",
              "      <td>Tanı ve Testler</td>\n",
              "      <td>Uyku Apnesi Testi</td>\n",
              "      <td>Kaliteli ve yeterli olmayan uyku süresi kişin...</td>\n",
              "      <td>3427</td>\n",
              "    </tr>\n",
              "    <tr>\n",
              "      <th>137</th>\n",
              "      <td>Tanı ve Testler</td>\n",
              "      <td>Üre (BUN Testi)</td>\n",
              "      <td>Üre, karaciğerin proteinin sindirimi sürecind...</td>\n",
              "      <td>3579</td>\n",
              "    </tr>\n",
              "    <tr>\n",
              "      <th>138</th>\n",
              "      <td>Tanı ve Testler</td>\n",
              "      <td>Üre Nefes Testi</td>\n",
              "      <td>Dünyanın en yaygın enfeksiyonlarından biri ol...</td>\n",
              "      <td>1142</td>\n",
              "    </tr>\n",
              "    <tr>\n",
              "      <th>139</th>\n",
              "      <td>Tanı ve Testler</td>\n",
              "      <td>Ürodinami Testi</td>\n",
              "      <td>Erkeklerde ve kadınlarda hemen hemen her yaşt...</td>\n",
              "      <td>2850</td>\n",
              "    </tr>\n",
              "    <tr>\n",
              "      <th>140</th>\n",
              "      <td>Tanı ve Testler</td>\n",
              "      <td>WBC Testi</td>\n",
              "      <td>White Blood Count ifadelerinin kısaltması ola...</td>\n",
              "      <td>3347</td>\n",
              "    </tr>\n",
              "  </tbody>\n",
              "</table>\n",
              "<p>141 rows × 4 columns</p>\n",
              "</div>\n",
              "    <div class=\"colab-df-buttons\">\n",
              "\n",
              "  <div class=\"colab-df-container\">\n",
              "    <button class=\"colab-df-convert\" onclick=\"convertToInteractive('df-5f0e8b43-f2cb-4206-bb5f-7618ee1659e0')\"\n",
              "            title=\"Convert this dataframe to an interactive table.\"\n",
              "            style=\"display:none;\">\n",
              "\n",
              "  <svg xmlns=\"http://www.w3.org/2000/svg\" height=\"24px\" viewBox=\"0 -960 960 960\">\n",
              "    <path d=\"M120-120v-720h720v720H120Zm60-500h600v-160H180v160Zm220 220h160v-160H400v160Zm0 220h160v-160H400v160ZM180-400h160v-160H180v160Zm440 0h160v-160H620v160ZM180-180h160v-160H180v160Zm440 0h160v-160H620v160Z\"/>\n",
              "  </svg>\n",
              "    </button>\n",
              "\n",
              "  <style>\n",
              "    .colab-df-container {\n",
              "      display:flex;\n",
              "      gap: 12px;\n",
              "    }\n",
              "\n",
              "    .colab-df-convert {\n",
              "      background-color: #E8F0FE;\n",
              "      border: none;\n",
              "      border-radius: 50%;\n",
              "      cursor: pointer;\n",
              "      display: none;\n",
              "      fill: #1967D2;\n",
              "      height: 32px;\n",
              "      padding: 0 0 0 0;\n",
              "      width: 32px;\n",
              "    }\n",
              "\n",
              "    .colab-df-convert:hover {\n",
              "      background-color: #E2EBFA;\n",
              "      box-shadow: 0px 1px 2px rgba(60, 64, 67, 0.3), 0px 1px 3px 1px rgba(60, 64, 67, 0.15);\n",
              "      fill: #174EA6;\n",
              "    }\n",
              "\n",
              "    .colab-df-buttons div {\n",
              "      margin-bottom: 4px;\n",
              "    }\n",
              "\n",
              "    [theme=dark] .colab-df-convert {\n",
              "      background-color: #3B4455;\n",
              "      fill: #D2E3FC;\n",
              "    }\n",
              "\n",
              "    [theme=dark] .colab-df-convert:hover {\n",
              "      background-color: #434B5C;\n",
              "      box-shadow: 0px 1px 3px 1px rgba(0, 0, 0, 0.15);\n",
              "      filter: drop-shadow(0px 1px 2px rgba(0, 0, 0, 0.3));\n",
              "      fill: #FFFFFF;\n",
              "    }\n",
              "  </style>\n",
              "\n",
              "    <script>\n",
              "      const buttonEl =\n",
              "        document.querySelector('#df-5f0e8b43-f2cb-4206-bb5f-7618ee1659e0 button.colab-df-convert');\n",
              "      buttonEl.style.display =\n",
              "        google.colab.kernel.accessAllowed ? 'block' : 'none';\n",
              "\n",
              "      async function convertToInteractive(key) {\n",
              "        const element = document.querySelector('#df-5f0e8b43-f2cb-4206-bb5f-7618ee1659e0');\n",
              "        const dataTable =\n",
              "          await google.colab.kernel.invokeFunction('convertToInteractive',\n",
              "                                                    [key], {});\n",
              "        if (!dataTable) return;\n",
              "\n",
              "        const docLinkHtml = 'Like what you see? Visit the ' +\n",
              "          '<a target=\"_blank\" href=https://colab.research.google.com/notebooks/data_table.ipynb>data table notebook</a>'\n",
              "          + ' to learn more about interactive tables.';\n",
              "        element.innerHTML = '';\n",
              "        dataTable['output_type'] = 'display_data';\n",
              "        await google.colab.output.renderOutput(dataTable, element);\n",
              "        const docLink = document.createElement('div');\n",
              "        docLink.innerHTML = docLinkHtml;\n",
              "        element.appendChild(docLink);\n",
              "      }\n",
              "    </script>\n",
              "  </div>\n",
              "\n",
              "\n",
              "<div id=\"df-6af688ad-af4c-4f58-a53a-bbef17127cc3\">\n",
              "  <button class=\"colab-df-quickchart\" onclick=\"quickchart('df-6af688ad-af4c-4f58-a53a-bbef17127cc3')\"\n",
              "            title=\"Suggest charts\"\n",
              "            style=\"display:none;\">\n",
              "\n",
              "<svg xmlns=\"http://www.w3.org/2000/svg\" height=\"24px\"viewBox=\"0 0 24 24\"\n",
              "     width=\"24px\">\n",
              "    <g>\n",
              "        <path d=\"M19 3H5c-1.1 0-2 .9-2 2v14c0 1.1.9 2 2 2h14c1.1 0 2-.9 2-2V5c0-1.1-.9-2-2-2zM9 17H7v-7h2v7zm4 0h-2V7h2v10zm4 0h-2v-4h2v4z\"/>\n",
              "    </g>\n",
              "</svg>\n",
              "  </button>\n",
              "\n",
              "<style>\n",
              "  .colab-df-quickchart {\n",
              "      --bg-color: #E8F0FE;\n",
              "      --fill-color: #1967D2;\n",
              "      --hover-bg-color: #E2EBFA;\n",
              "      --hover-fill-color: #174EA6;\n",
              "      --disabled-fill-color: #AAA;\n",
              "      --disabled-bg-color: #DDD;\n",
              "  }\n",
              "\n",
              "  [theme=dark] .colab-df-quickchart {\n",
              "      --bg-color: #3B4455;\n",
              "      --fill-color: #D2E3FC;\n",
              "      --hover-bg-color: #434B5C;\n",
              "      --hover-fill-color: #FFFFFF;\n",
              "      --disabled-bg-color: #3B4455;\n",
              "      --disabled-fill-color: #666;\n",
              "  }\n",
              "\n",
              "  .colab-df-quickchart {\n",
              "    background-color: var(--bg-color);\n",
              "    border: none;\n",
              "    border-radius: 50%;\n",
              "    cursor: pointer;\n",
              "    display: none;\n",
              "    fill: var(--fill-color);\n",
              "    height: 32px;\n",
              "    padding: 0;\n",
              "    width: 32px;\n",
              "  }\n",
              "\n",
              "  .colab-df-quickchart:hover {\n",
              "    background-color: var(--hover-bg-color);\n",
              "    box-shadow: 0 1px 2px rgba(60, 64, 67, 0.3), 0 1px 3px 1px rgba(60, 64, 67, 0.15);\n",
              "    fill: var(--button-hover-fill-color);\n",
              "  }\n",
              "\n",
              "  .colab-df-quickchart-complete:disabled,\n",
              "  .colab-df-quickchart-complete:disabled:hover {\n",
              "    background-color: var(--disabled-bg-color);\n",
              "    fill: var(--disabled-fill-color);\n",
              "    box-shadow: none;\n",
              "  }\n",
              "\n",
              "  .colab-df-spinner {\n",
              "    border: 2px solid var(--fill-color);\n",
              "    border-color: transparent;\n",
              "    border-bottom-color: var(--fill-color);\n",
              "    animation:\n",
              "      spin 1s steps(1) infinite;\n",
              "  }\n",
              "\n",
              "  @keyframes spin {\n",
              "    0% {\n",
              "      border-color: transparent;\n",
              "      border-bottom-color: var(--fill-color);\n",
              "      border-left-color: var(--fill-color);\n",
              "    }\n",
              "    20% {\n",
              "      border-color: transparent;\n",
              "      border-left-color: var(--fill-color);\n",
              "      border-top-color: var(--fill-color);\n",
              "    }\n",
              "    30% {\n",
              "      border-color: transparent;\n",
              "      border-left-color: var(--fill-color);\n",
              "      border-top-color: var(--fill-color);\n",
              "      border-right-color: var(--fill-color);\n",
              "    }\n",
              "    40% {\n",
              "      border-color: transparent;\n",
              "      border-right-color: var(--fill-color);\n",
              "      border-top-color: var(--fill-color);\n",
              "    }\n",
              "    60% {\n",
              "      border-color: transparent;\n",
              "      border-right-color: var(--fill-color);\n",
              "    }\n",
              "    80% {\n",
              "      border-color: transparent;\n",
              "      border-right-color: var(--fill-color);\n",
              "      border-bottom-color: var(--fill-color);\n",
              "    }\n",
              "    90% {\n",
              "      border-color: transparent;\n",
              "      border-bottom-color: var(--fill-color);\n",
              "    }\n",
              "  }\n",
              "</style>\n",
              "\n",
              "  <script>\n",
              "    async function quickchart(key) {\n",
              "      const quickchartButtonEl =\n",
              "        document.querySelector('#' + key + ' button');\n",
              "      quickchartButtonEl.disabled = true;  // To prevent multiple clicks.\n",
              "      quickchartButtonEl.classList.add('colab-df-spinner');\n",
              "      try {\n",
              "        const charts = await google.colab.kernel.invokeFunction(\n",
              "            'suggestCharts', [key], {});\n",
              "      } catch (error) {\n",
              "        console.error('Error during call to suggestCharts:', error);\n",
              "      }\n",
              "      quickchartButtonEl.classList.remove('colab-df-spinner');\n",
              "      quickchartButtonEl.classList.add('colab-df-quickchart-complete');\n",
              "    }\n",
              "    (() => {\n",
              "      let quickchartButtonEl =\n",
              "        document.querySelector('#df-6af688ad-af4c-4f58-a53a-bbef17127cc3 button');\n",
              "      quickchartButtonEl.style.display =\n",
              "        google.colab.kernel.accessAllowed ? 'block' : 'none';\n",
              "    })();\n",
              "  </script>\n",
              "</div>\n",
              "\n",
              "  <div id=\"id_cb03e000-247b-44da-9c49-e48d6c2b85f7\">\n",
              "    <style>\n",
              "      .colab-df-generate {\n",
              "        background-color: #E8F0FE;\n",
              "        border: none;\n",
              "        border-radius: 50%;\n",
              "        cursor: pointer;\n",
              "        display: none;\n",
              "        fill: #1967D2;\n",
              "        height: 32px;\n",
              "        padding: 0 0 0 0;\n",
              "        width: 32px;\n",
              "      }\n",
              "\n",
              "      .colab-df-generate:hover {\n",
              "        background-color: #E2EBFA;\n",
              "        box-shadow: 0px 1px 2px rgba(60, 64, 67, 0.3), 0px 1px 3px 1px rgba(60, 64, 67, 0.15);\n",
              "        fill: #174EA6;\n",
              "      }\n",
              "\n",
              "      [theme=dark] .colab-df-generate {\n",
              "        background-color: #3B4455;\n",
              "        fill: #D2E3FC;\n",
              "      }\n",
              "\n",
              "      [theme=dark] .colab-df-generate:hover {\n",
              "        background-color: #434B5C;\n",
              "        box-shadow: 0px 1px 3px 1px rgba(0, 0, 0, 0.15);\n",
              "        filter: drop-shadow(0px 1px 2px rgba(0, 0, 0, 0.3));\n",
              "        fill: #FFFFFF;\n",
              "      }\n",
              "    </style>\n",
              "    <button class=\"colab-df-generate\" onclick=\"generateWithVariable('df')\"\n",
              "            title=\"Generate code using this dataframe.\"\n",
              "            style=\"display:none;\">\n",
              "\n",
              "  <svg xmlns=\"http://www.w3.org/2000/svg\" height=\"24px\"viewBox=\"0 0 24 24\"\n",
              "       width=\"24px\">\n",
              "    <path d=\"M7,19H8.4L18.45,9,17,7.55,7,17.6ZM5,21V16.75L18.45,3.32a2,2,0,0,1,2.83,0l1.4,1.43a1.91,1.91,0,0,1,.58,1.4,1.91,1.91,0,0,1-.58,1.4L9.25,21ZM18.45,9,17,7.55Zm-12,3A5.31,5.31,0,0,0,4.9,8.1,5.31,5.31,0,0,0,1,6.5,5.31,5.31,0,0,0,4.9,4.9,5.31,5.31,0,0,0,6.5,1,5.31,5.31,0,0,0,8.1,4.9,5.31,5.31,0,0,0,12,6.5,5.46,5.46,0,0,0,6.5,12Z\"/>\n",
              "  </svg>\n",
              "    </button>\n",
              "    <script>\n",
              "      (() => {\n",
              "      const buttonEl =\n",
              "        document.querySelector('#id_cb03e000-247b-44da-9c49-e48d6c2b85f7 button.colab-df-generate');\n",
              "      buttonEl.style.display =\n",
              "        google.colab.kernel.accessAllowed ? 'block' : 'none';\n",
              "\n",
              "      buttonEl.onclick = () => {\n",
              "        google.colab.notebook.generateWithVariable('df');\n",
              "      }\n",
              "      })();\n",
              "    </script>\n",
              "  </div>\n",
              "\n",
              "    </div>\n",
              "  </div>\n"
            ],
            "application/vnd.google.colaboratory.intrinsic+json": {
              "type": "dataframe",
              "variable_name": "df",
              "summary": "{\n  \"name\": \"df\",\n  \"rows\": 141,\n  \"fields\": [\n    {\n      \"column\": \"category\",\n      \"properties\": {\n        \"dtype\": \"category\",\n        \"num_unique_values\": 1,\n        \"samples\": [\n          \"Tan\\u0131 ve Testler\"\n        ],\n        \"semantic_type\": \"\",\n        \"description\": \"\"\n      }\n    },\n    {\n      \"column\": \"topic\",\n      \"properties\": {\n        \"dtype\": \"string\",\n        \"num_unique_values\": 141,\n        \"samples\": [\n          \"HPV- HPV DNA Testi\"\n        ],\n        \"semantic_type\": \"\",\n        \"description\": \"\"\n      }\n    },\n    {\n      \"column\": \"text\",\n      \"properties\": {\n        \"dtype\": \"string\",\n        \"num_unique_values\": 141,\n        \"samples\": [\n          \" Rahim a\\u011fz\\u0131 kanserine neden olabilen HPV (Human Papilloma Virus-\\u0130nsan Papilloma Vir\\u00fcs\\u00fc), d\\u00fcnyada cinsel temas nedeniyle bula\\u015fan enfeksiyonlar\\u0131n en s\\u0131k g\\u00f6r\\u00fclenlerinden biri olarak kabul ediliyor. Bu nedenle HPV enfeksiyonuna kar\\u015f\\u0131 tedbir al\\u0131nmas\\u0131 hayati \\u00f6nem ta\\u015f\\u0131yor. Gerek a\\u015f\\u0131 gerekse rutin taramalar, smear testi ve HPV DNA testleri sayesinde erken te\\u015fhis edilebilen rahim a\\u011fz\\u0131 kanseri, mutlaka jinekolojik onkoloji uzmanlar\\u0131 taraf\\u0131ndan de\\u011ferlendirilmesi gereken bir hastal\\u0131k olarak kar\\u015f\\u0131m\\u0131za \\u00e7\\u0131k\\u0131yor. \\u00d6zellikle HPV DNA testi ile HPV vir\\u00fcs\\u00fcn\\u00fcn tipinin belirlenmesi, kanserle m\\u00fccadelede bir ad\\u0131m \\u00f6nde olunmas\\u0131n\\u0131 sa\\u011fl\\u0131yor. Memorial Sa\\u011fl\\u0131k Grubu Kad\\u0131n Hastal\\u0131klar\\u0131 ve Do\\u011fum B\\u00f6l\\u00fcm\\u00fc\\u2019nden Jinekolojik Onkoloji Uzman\\u0131 Do\\u00e7. Dr. G\\u00f6khan Demirayak, HPV ve HPV DNA testleri hakk\\u0131nda bilgi verdi.Rahim a\\u011fz\\u0131 kanserine neden olabilen HPV (Human Papilloma Virus-\\u0130nsan Papilloma Vir\\u00fcs\\u00fc), d\\u00fcnyada cinsel temas nedeniyle bula\\u015fan enfeksiyonlar\\u0131n en s\\u0131k g\\u00f6r\\u00fclenlerinden biri olarak kabul ediliyor. Bu nedenle HPV enfeksiyonuna kar\\u015f\\u0131 tedbir al\\u0131nmas\\u0131 hayati \\u00f6nem ta\\u015f\\u0131yor. Gerek a\\u015f\\u0131 gerekse rutin taramalar, smear testi ve HPV DNA testleri sayesinde erken te\\u015fhis edilebilen rahim a\\u011fz\\u0131 kanseri, mutlaka jinekolojik onkoloji uzmanlar\\u0131 taraf\\u0131ndan de\\u011ferlendirilmesi gereken bir hastal\\u0131k olarak kar\\u015f\\u0131m\\u0131za \\u00e7\\u0131k\\u0131yor. \\u00d6zellikle HPV DNA testi ile HPV vir\\u00fcs\\u00fcn\\u00fcn tipinin belirlenmesi, kanserle m\\u00fccadelede bir ad\\u0131m \\u00f6nde olunmas\\u0131n\\u0131 sa\\u011fl\\u0131yor. Memorial Sa\\u011fl\\u0131k Grubu Kad\\u0131n Hastal\\u0131klar\\u0131 ve Do\\u011fum B\\u00f6l\\u00fcm\\u00fc\\u2019nden Jinekolojik Onkoloji Uzman\\u0131 Do\\u00e7. Dr. G\\u00f6khan Demirayak, HPV ve HPV DNA testleri hakk\\u0131nda bilgi verdi.HPV nedir?HPV, yayg\\u0131n olarak rahim a\\u011fz\\u0131 kanseri ve si\\u011fillere neden olan bir vir\\u00fcst\\u00fcr. 200'den fazla HPV \\u00e7e\\u015fidi vard\\u0131r. HPV vir\\u00fcs\\u00fcn\\u00fcn baz\\u0131 t\\u00fcrleri si\\u011fillere baz\\u0131lar\\u0131 ise kansere neden olabilmektedir. Her HPV vir\\u00fcs\\u00fc kansere neden olmayabilir ancak baz\\u0131 genital HPV t\\u00fcrleri rahim a\\u011fz\\u0131 kanserine sebebiyet verebilmektedir. Penis, genital b\\u00f6lge kanserleri HPV enfeksiyonu ile ili\\u015fkilendirilmi\\u015ftir. HPV, y\\u00fcksek ve d\\u00fc\\u015f\\u00fck riskli HPV tipleri olarak ikiye ayr\\u0131labilir. En s\\u0131k g\\u00f6r\\u00fclen ve en y\\u00fcksek riskli HPV vir\\u00fcs t\\u00fcrleri, HPV 16, HPV 18, HPV 33, HPV 31, HPV 45, HPV 52 ve HPV 58 olarak s\\u0131ralanabilmektedir. En s\\u0131k g\\u00f6r\\u00fclen ancak d\\u00fc\\u015f\\u00fck riskli HPV t\\u00fcrleri ise HPV 6, HPV 11 olarak s\\u0131ralanabilir. Y\\u00fcksek riskli HPV t\\u00fcrleri rahim a\\u011fz\\u0131 kanserine; d\\u00fc\\u015f\\u00fck riskli HPV t\\u00fcrleri ise daha \\u00e7ok genital si\\u011fillere yol a\\u00e7abilmektedir.HPV DNA testi nas\\u0131l yap\\u0131l\\u0131r?HPV testi rahim a\\u011fz\\u0131ndan al\\u0131nacak s\\u00fcr\\u00fcnt\\u00fc y\\u00f6ntemi ile test yap\\u0131labilir. E\\u011fer si\\u011fil var ise si\\u011fillerden \\u00f6rnek ( lokal anestezi alt\\u0131nda) ve yine servikal s\\u00fcr\\u00fcnt\\u00fc \\u00f6rne\\u011fi laboratuvarda incelenir. Beraberinde smear testi de yap\\u0131lmal\\u0131d\\u0131r.\\u00a0 Bu i\\u015flem sadece birka\\u00e7 dakika s\\u00fcrmektedir.HPV Pozitif ne demek?HPV pozitif sonu\\u00e7 pek \\u00e7ok ki\\u015fi taraf\\u0131ndan endi\\u015feyle kar\\u015f\\u0131la\\u015f\\u0131lacak bir sorundur. Ancak her HPV pozitif sonu\\u00e7 kesin olarak kanser olundu\\u011fu ya da olunaca\\u011f\\u0131 anlam\\u0131na gelmemektedir. HPV, bula\\u015ft\\u0131\\u011f\\u0131 zaman ki\\u015finin ba\\u011f\\u0131\\u015f\\u0131kl\\u0131k sistemi devreye girer ve bu vir\\u00fcs\\u00fc v\\u00fccuttan atmak i\\u00e7in sava\\u015f\\u0131r. Ba\\u011f\\u0131\\u015f\\u0131kl\\u0131k sistemi sayesinde bu vir\\u00fcsler %75 oran\\u0131nda bula\\u015ft\\u0131ktan sonraki 12 ay i\\u00e7inde ve %90 2 y\\u0131l i\\u00e7inde v\\u00fccuttan at\\u0131labilmektedir. E\\u011fer at\\u0131lamazsa vir\\u00fcs DNA\\u2019ya entegre olarak kanser s\\u00fcrecini ba\\u015flatabilir. Ba\\u011f\\u0131\\u015f\\u0131kl\\u0131k sistemi bu konuda \\u00e7ok \\u00f6nemlidir. Sigara i\\u00e7enlerde, d\\u00fczenli beslenmeyenlerde bu s\\u00fcre\\u00e7 ba\\u015far\\u0131s\\u0131z olabilir.HPV Negatif ne demek?Bazen testlerde HPV negatif sonucu g\\u00f6r\\u00fcl\\u00fcr. Bu, v\\u00fccutta HPV\\u2019nin olmad\\u0131\\u011f\\u0131 anlam\\u0131na gelmektedir. Ancak yine de tedbiri elden b\\u0131rakmamak gerekmektedir. HPV, sinsi bir vir\\u00fcst\\u00fcr. Negatif sonu\\u00e7 g\\u00f6r\\u00fcld\\u00fc\\u011f\\u00fcnde ba\\u011f\\u0131\\u015f\\u0131kl\\u0131k sisteminin g\\u00fc\\u00e7l\\u00fc tutulmas\\u0131, HPV\\u2019nin v\\u00fccuda girmemesi i\\u00e7in tedbir al\\u0131nmas\\u0131 gerekmektedir.HPV Pozitif belirtileri nelerdir?HPV v\\u00fccuda girdi\\u011finde genellikle ba\\u011f\\u0131\\u015f\\u0131kl\\u0131k sistemi vir\\u00fcs\\u00fc yenerek v\\u00fccuttan atmaktad\\u0131r. Ancak ba\\u011f\\u0131\\u015f\\u0131kl\\u0131k sisteminin yetersiz kald\\u0131\\u011f\\u0131 durumda v\\u00fccutta belirti olarak baz\\u0131 yerlerde si\\u011filler \\u00e7\\u0131kabilir. Ancak bizim i\\u00e7in daha \\u00f6nemli olan rahim a\\u011fz\\u0131 kanseri a\\u00e7\\u0131s\\u0131ndan y\\u00fcksek risk ta\\u015f\\u0131yan HPV tipleri maalesef belirti vermemektedir. Bu nedenle bu vir\\u00fcsleri saptamak i\\u00e7in HPV DNA tarama testleri \\u00f6nerilmektedir.Genital si\\u011filler: Bunlar d\\u00fcz lezyon, k\\u00fc\\u00e7\\u00fck karnabahara benzeyen yumrular olarak g\\u00f6r\\u00fcn\\u00fcr. Kad\\u0131nlarda genital si\\u011filler g\\u00f6r\\u00fcl\\u00fcr. Bunlar da vulvada, an\\u00fcs yak\\u0131n\\u0131nda, servikste ya da vajinada olu\\u015fur. Erkeklerde de penis, an\\u00fcs \\u00e7evresinde g\\u00f6r\\u00fcl\\u00fcr. Nadiren rahats\\u0131zl\\u0131k ve a\\u011fr\\u0131ya neden olurlar. Ki\\u015fide ka\\u015f\\u0131nt\\u0131 olu\\u015fturabilir.E\\u011fer vir\\u00fcs kansere neden olduysa ilerleyen bir durumda cinsel ili\\u015fki s\\u0131ras\\u0131nda a\\u011fr\\u0131, pelvik b\\u00f6lgede a\\u011fr\\u0131, ola\\u011fand\\u0131\\u015f\\u0131 ak\\u0131nt\\u0131, cinsel temas sonras\\u0131nda ola\\u011fand\\u0131\\u015f\\u0131 kanama olabilir. Daha ilerleyen kanser olgular\\u0131nda kilo kayb\\u0131, idrara \\u00e7\\u0131karken zorlanma, idrarda kan g\\u00f6r\\u00fclebilmektedir.HPV, oral yoldan da kanser sebebi olabilir. Bu durum da kal\\u0131c\\u0131 bo\\u011faz ve kulak a\\u011fr\\u0131s\\u0131, ses k\\u0131s\\u0131kl\\u0131\\u011f\\u0131, lenf d\\u00fc\\u011f\\u00fcmlerinde \\u015fi\\u015flik, yutkunurken a\\u011fr\\u0131, sebepsiz kilo kayb\\u0131 olu\\u015fturur. HPV vajinal kanserlere sebep olabilir. HPV, serviks yani rahim a\\u011fz\\u0131 kanseri; vajina kanseri, vulva kanseri, ba\\u015f-boyun kanserleri ve anal kanserlere neden olabilmektedir.Kad\\u0131nlar\\u0131n mutlaka d\\u00fczenli olarak PAP Smear ve HPV DNA testi yapt\\u0131rmas\\u0131 gerekmektedir.HPV tipleri nelerdir?HPV\\u2019nin 200\\u2019den fazla tipi bulunmaktad\\u0131r ve bu tiplerin \\u00e7o\\u011fu insanlarda enfeksiyona neden olmamaktad\\u0131r. Jinekolojik a\\u00e7\\u0131dan \\u00f6nemli olan ve insanlarda enfeksiyona neden olan HPV tipleri serviks (rahim a\\u011fz\\u0131) kanserine neden olma ihtimalleri d\\u00fc\\u015f\\u00fck ve y\\u00fcksek riskli olmak \\u00fczere ikiye ayr\\u0131l\\u0131r. HPV tip 6 ve 11 en s\\u0131k g\\u00f6r\\u00fclen d\\u00fc\\u015f\\u00fck riskli tipler olup genital si\\u011fil (kondilom) nedenidirler. Serviks kanseri a\\u00e7\\u0131s\\u0131ndan y\\u00fcksek riskli HPV tipleri ise 16, 18, 31, 33, 35, 39, 45, 51, 52, 56, 58, 59, 66 ve 68\\u2019dir. Bu HPV tipleri aras\\u0131ndan HPV tip 16 ve 18 serviks kanserlerinin %70\\u2019inden sorumludur.HPV vir\\u00fcs\\u00fcnden korunma yollar\\u0131 nelerdir?HPV'den korunman\\u0131n \\u015fu anda maalesef kesin bir yolu yoktur.\\u00a0 A\\u015f\\u0131lama, a\\u015f\\u0131n\\u0131n i\\u00e7erdi\\u011fi HPV 6, 11, 16 ve 18\\u2019e kar\\u015f\\u0131 ba\\u011f\\u0131\\u015f\\u0131kl\\u0131k sa\\u011flamaktad\\u0131r, ancak a\\u015f\\u0131y\\u0131 cinsel ili\\u015fki ba\\u015flamadan \\u00f6nce yap\\u0131lmas\\u0131 \\u00f6nemlidir. HPV a\\u015f\\u0131s\\u0131 9-26 ya\\u015f aras\\u0131ndaki \\u00e7ocuk ve eri\\u015fkinlere \\u00f6nerilmektedir. 9-14 ya\\u015f aras\\u0131ndaki k\\u0131z ve erkek \\u00e7ocuklara 2 doz, 15-26 ya\\u015f aras\\u0131ndaki eri\\u015fkin kad\\u0131n ve erkeklere 3 doz olarak \\u00f6nerilmektedir. 26 ya\\u015f\\u0131ndan sonra \\u00f6zellikle ili\\u015fkiye ba\\u015flam\\u0131\\u015f bireylerde azalmakla birlikte yine de koruyuculu\\u011fu olabilmektedir.HPV tan\\u0131s\\u0131 nas\\u0131l konur? HPV olup olmad\\u0131\\u011f\\u0131 nas\\u0131l anla\\u015f\\u0131l\\u0131r?HPV tan\\u0131s\\u0131 jinekolojik muayenede, serviksten bir f\\u0131r\\u00e7a yard\\u0131m\\u0131yla al\\u0131nan s\\u00fcr\\u00fcnt\\u00fcn\\u00fcn molek\\u00fcler olarak incelenmesi ile konulur. HPV testinin pozitif saptanmas\\u0131, kanser olunaca\\u011f\\u0131 anlam\\u0131na gelmemektedir. \\u00dclkemizde HPV taramalar\\u0131nda 30-65 ya\\u015f aras\\u0131ndaki kad\\u0131nlar\\u0131n yakla\\u015f\\u0131k %4,5\\u2019inde HPV testi pozitif saptanmaktad\\u0131r. HPV bula\\u015fmas\\u0131 durumunda, ba\\u011f\\u0131\\u015f\\u0131kl\\u0131k sistemimiz sayesinde %99 hastada vir\\u00fcs v\\u00fccuttan temizlenebilmektedir. E\\u011fer at\\u0131lamazsa bu vir\\u00fcs h\\u00fccre DNA'm\\u0131za entegre olarak kansere giden s\\u00fcreci ba\\u015flatmaktad\\u0131r. Ba\\u011f\\u0131\\u015f\\u0131kl\\u0131k sistemi bu konuda \\u00e7ok \\u00f6nemlidir. Sigara i\\u00e7enlerde, d\\u00fczenli beslenmeyenlerde bu s\\u00fcre\\u00e7 ba\\u015far\\u0131s\\u0131z olabilir. HPV pozitif oldu\\u011funda uygun hastalarda kolposkopi ile rahim a\\u011fz\\u0131, vajen ve gerekirse vulvan\\u0131n ayr\\u0131nt\\u0131l\\u0131 de\\u011ferlendirilmesi gerekmektedir. Kolposkopi \\u00f6zel tecr\\u00fcbe gerektiren bir i\\u015flem olup bu incelemede dokular 6 ile 40 kat aras\\u0131nda b\\u00fcy\\u00fct\\u00fcl\\u00fcr.HPV risk fakt\\u00f6rleri nelerdir?Cinsel hayatta \\u00e7ok e\\u015fli olunmas\\u0131 HPV enfeksiyonu riskini art\\u0131rmaktad\\u0131r. Birden fazla ki\\u015fiyle cinsel ili\\u015fki ya\\u015fayan ki\\u015filerde HPV a\\u00e7\\u0131s\\u0131nda risk daha y\\u00fcksek olur. Bunun yan\\u0131nda ba\\u011f\\u0131\\u015f\\u0131kl\\u0131k sisteminin zay\\u0131flad\\u0131\\u011f\\u0131 ki\\u015filer risk alt\\u0131nda olmaktad\\u0131r. HPV'ye maruz kalm\\u0131\\u015f y\\u00fczeylerle temas yoluyla da HPV nadiren bula\\u015ft\\u0131\\u011f\\u0131 bildirilmi\\u015ftir.HPV vir\\u00fcs\\u00fc nas\\u0131l bula\\u015f\\u0131r?\\u00c7ok e\\u015fli cinsel ya\\u015famda HPV vir\\u00fcs\\u00fc bula\\u015fmaktad\\u0131r. Y\\u00fczeysel temaslarda da nadiren bula\\u015f olmaktad\\u0131r. HPV i\\u00e7in, HPV'li bireyle anal, oral ya da vajinal seks bula\\u015f yolu olmaktad\\u0131r. Bunun yan\\u0131nda HPV'li genital b\\u00f6lge ile temas eden havlu ve bunun gibi e\\u015fyalar\\u0131n ortak kullan\\u0131lmas\\u0131yla da HPV bula\\u015fabilmektedir.HPV vir\\u00fcs\\u00fcn\\u00fcn neden oldu\\u011fu kanserler nelerdir?HPV'nin ba\\u015fta serviks (rahim a\\u011fz\\u0131) kanseri olmak \\u00fczere; kad\\u0131nlarda vajina- vulva kanserleri, erkeklerde penis kanseri, yine erkek ve kad\\u0131nlarda ba\\u015f-boyun kanserleri (larinks, farinks gibi), an\\u00fcs-rektum kanserleri ile ili\\u015fkisi oldu\\u011fu bilinmektedir.HPV a\\u015f\\u0131s\\u0131n\\u0131n yan etkileri nelerdir?A\\u015f\\u0131n\\u0131n vuruldu\\u011fu yerde k\\u0131zarma, \\u015fi\\u015fme, a\\u011fr\\u0131, mide bulant\\u0131s\\u0131, ba\\u015f a\\u011fr\\u0131s\\u0131 en s\\u0131k g\\u00f6r\\u00fclen ve ciddi soruna neden olmayan yan etkilerdendir. HPV a\\u015f\\u0131s\\u0131n\\u0131n ciddi sorunlara yol a\\u00e7an yan etkileri ise \\u00e7ok nadirdir (1.000.000 insanda 18).HPV- HPV DNA testi hakk\\u0131nda s\\u0131k sorulan sorularHPV tarama testim pozitif \\u00e7\\u0131karsa ne olur?HPV testi sonucu pozitif \\u00e7\\u0131karsa pani\\u011fe kap\\u0131lmamak \\u00f6nemlidir. Bu sonu\\u00e7 kanser anlam\\u0131na gelmemekte ancak kanser \\u00f6ncesi lezyon veya kanser riski a\\u00e7\\u0131s\\u0131ndan de\\u011ferlendirilmeniz gerekti\\u011fini g\\u00f6stermektedir. Bu nedenle test sonu\\u00e7lar\\u0131n\\u0131z\\u0131n bir Jinekolojik Onkoloji uzman\\u0131 veya bu konuda tecr\\u00fcbeli bir Kad\\u0131n Hastal\\u0131klar\\u0131 ve Do\\u011fum uzman\\u0131 taraf\\u0131ndan de\\u011ferlendirilmesi, muayenenin ger\\u00e7ekle\\u015ftirilmesi ve muayeneden sonra uygun hastalarda kolposkopi ile rahim a\\u011fz\\u0131, vajen ve gerekirse vulvan\\u0131n ayr\\u0131nt\\u0131l\\u0131 de\\u011ferlendirilmesi gerekmektedir. Kolposkopi \\u00f6zel tecr\\u00fcbe gerektiren bir i\\u015flemdir ve bu incelemede dokular 6 ile 40 kat aras\\u0131nda b\\u00fcy\\u00fct\\u00fcl\\u00fcr. Baz\\u0131 \\u00f6zel boyalar ile kanser \\u00f6ncesi lezyonlar\\u0131n g\\u00f6r\\u00fcn\\u00fcrl\\u00fc\\u011f\\u00fc artt\\u0131r\\u0131l\\u0131r ve \\u015f\\u00fcpheli b\\u00f6lgelerden k\\u00fc\\u00e7\\u00fck biyopsiler al\\u0131narak patalojiye g\\u00f6nderilir. Kolposkopi, muayenehane ortam\\u0131nda yap\\u0131lan ac\\u0131s\\u0131z, a\\u011fr\\u0131s\\u0131z bir prosed\\u00fcrd\\u00fcr. Kanser \\u00f6ncesi lezyonlar\\u0131n rahim a\\u011fz\\u0131 kanserine d\\u00f6n\\u00fc\\u015fmeden \\u00f6nce yakalanmas\\u0131 ve bu sayede tedavi edilebilmesine, \\u015fayet kanser a\\u015famas\\u0131na ilerlemi\\u015fse de t\\u00fcm\\u00f6r\\u00fcn erken evrede yakalanarak hastan\\u0131n k\\u00fcr \\u015fans\\u0131 yakalamas\\u0131n\\u0131 sa\\u011flar.HPV vir\\u00fcs\\u00fc ne kadar s\\u00fcrede kansere d\\u00f6n\\u00fc\\u015f\\u00fcr?HPV vir\\u00fcs\\u00fc ki\\u015fiye bula\\u015ft\\u0131ktan sonra kanser hemen olu\\u015fmaz. HPV\\u2019yi v\\u00fccudundan atamayan kad\\u0131nlarda \\u00f6nce CIN-1 (Cervical intraepithelial neoplasia-1), sonra CIN-2, daha sonra CIN-3 olu\\u015fur. Kanser CIN-3\\u2019ten sonraki a\\u015famad\\u0131r. Bu a\\u015famalar\\u0131n her birinden bir sonrakine ge\\u00e7i\\u015f ortalama 2-5 y\\u0131l aras\\u0131nda s\\u00fcrmektedir. Yani HPV pozitifli\\u011finden kanser a\\u015famas\\u0131na ge\\u00e7i\\u015f istisnalar olmakla birlikte yakla\\u015f\\u0131k 5-15 y\\u0131l i\\u00e7inde olabilmektedir. Jinekolojik muayenesini d\\u00fczenli olan kad\\u0131nlarda HPV pozitifli\\u011fi ve smear anormalli\\u011fi saptanmas\\u0131 durumunda amac\\u0131m\\u0131z CIN-2 ve 3 a\\u015famalar\\u0131nda yakalayarak kansere ilerlemeden \\u00f6nce bu lezyonlar\\u0131 \\u00e7\\u0131karmakt\\u0131r.HPV pozitif negatife d\\u00f6ner mi?30-65 ya\\u015f aras\\u0131ndaki kad\\u0131nlarda \\u00fclkemizde HPV pozitifli\\u011fi %4,5\\u2019tir. Ba\\u011f\\u0131\\u015f\\u0131kl\\u0131k sistemini etkileyen bir hastal\\u0131\\u011f\\u0131 olmayan kad\\u0131nlarda HPV ilk y\\u0131l i\\u00e7inde %75, ikinci y\\u0131lda %90 ve uzun vadede %99 v\\u00fccuttan temizlenmektedir. E\\u011fer temizlenemez ve DNA\\u2019m\\u0131za entegre olursa kanser s\\u00fcreci ba\\u015flamaktad\\u0131r. Bu noktada ba\\u011f\\u0131\\u015f\\u0131kl\\u0131\\u011f\\u0131n \\u00f6nemi b\\u00fcy\\u00fckt\\u00fcr. D\\u00fczensiz beslenme, sigara kullan\\u0131m\\u0131 ve sa\\u011fl\\u0131ks\\u0131z ya\\u015fam tarz\\u0131 s\\u00f6z konusu ise ba\\u011f\\u0131\\u015f\\u0131kl\\u0131k sistemi zay\\u0131f olmaktad\\u0131r.HPV kan testinde belli olur mu?HPV, kan testinde belli olmaz. T\\u0131pk\\u0131 smear testindeki gibi vajinal yoldan servikal s\\u00fcr\\u00fcnt\\u00fc \\u00f6rne\\u011fi al\\u0131n\\u0131r ve bu \\u00f6rnek molek\\u00fcler y\\u00f6ntemlerle incelendikten sonra HPV te\\u015fhis edilir.Bo\\u011fazda HPV vir\\u00fcs\\u00fc nas\\u0131l anla\\u015f\\u0131l\\u0131r?Bo\\u011fazda ya da a\\u011f\\u0131z i\\u00e7inde HPV, bo\\u011faz\\u0131n arkas\\u0131nda, dilin taban\\u0131nda olu\\u015fan si\\u011filler sayesinde fark edilebilir. E\\u011fer buradaki HPV y\\u00fcksek riskli ise a\\u011f\\u0131z-larinks-farinks kanseri geli\\u015febilir.HPV smear testinde \\u00e7\\u0131kar m\\u0131?HPV, Pap smear testinde \\u00e7\\u0131kmamaktad\\u0131r. Pap smear testinde rahim a\\u011fz\\u0131ndan al\\u0131nan h\\u00fccrelerde anormallik olup olmad\\u0131\\u011f\\u0131 kontrol edilmektedir.HPV \\u00f6m\\u00fcr boyu v\\u00fccutta kal\\u0131r m\\u0131?Ba\\u011f\\u0131\\u015f\\u0131kl\\u0131k sistemini etkileyen bir hastal\\u0131\\u011f\\u0131 olmayan kad\\u0131nlarda HPV ilk y\\u0131l i\\u00e7inde %75, ikinci y\\u0131lda %90 ve uzun vadede %99 v\\u00fccuttan temizlenmektedir. E\\u011fer temizlenemez ve DNA\\u2019m\\u0131za entegre olursa kanser s\\u00fcreci ba\\u015flamaktad\\u0131r.HPV ile enfekte olan herkes kanser olur mu?HPV ile enfekte kad\\u0131nlar\\u0131n %1\\u2019inden daha az\\u0131nda kansere ilerlemekte, %99 oran\\u0131nda v\\u00fccuttan ba\\u011f\\u0131\\u015f\\u0131kl\\u0131k sistemimiz arac\\u0131l\\u0131\\u011f\\u0131yla temizlenmektedir.E\\u015fimde HPV var ne yapmal\\u0131y\\u0131m?Kad\\u0131n veya erkekte HPV saptanmas\\u0131 durumunda ili\\u015fki s\\u0131ras\\u0131nda mutlaka kondom kullan\\u0131lmal\\u0131d\\u0131r. Kondom HPV bula\\u015fmas\\u0131n\\u0131n kesin olarak engelleyemese de bula\\u015fma ihtimalini azaltmaktad\\u0131r. HPV a\\u015f\\u0131s\\u0131 da serviks kanserine en s\\u0131k neden olan HPV tip 16 ve 18\\u2019e kar\\u015f\\u0131 ba\\u011f\\u0131\\u015f\\u0131kl\\u0131k sa\\u011flayaca\\u011f\\u0131ndan yap\\u0131labilir. E\\u011fer erkekte HPV pozitifli\\u011fi saptand\\u0131ysa 30 ya\\u015f \\u00fczeri kad\\u0131nlarda HPV testi ve Pap smear testi yap\\u0131lmal\\u0131 ve pozitiflik saptanmas\\u0131 durumunda serviks kolposkopi i\\u015flemi ile ayr\\u0131nt\\u0131l\\u0131 de\\u011ferlendirilmelidir. Kad\\u0131nlarda HPV testi pozitif \\u00e7\\u0131kmas\\u0131 durumunda erkekte rutin olarak HPV testi yap\\u0131lmas\\u0131na gerek yoktur. Ancak \\u00fcretra dedi\\u011fimiz idrar yolunda ya da d\\u0131\\u015f genital organda lezyon saptanmas\\u0131 durumunda mutlaka \\u00fcroloji uzman\\u0131 taraf\\u0131ndan de\\u011ferlendirilmelidir.HPV vir\\u00fcs\\u00fc el ile bula\\u015f\\u0131r m\\u0131?HPV'nin en s\\u0131k bula\\u015f yolu cinsel ili\\u015fkidir. Bunun d\\u0131\\u015f\\u0131nda havlu, i\\u00e7 \\u00e7ama\\u015f\\u0131r\\u0131, jilet, bornoz gibi malzemelerin ortak kullan\\u0131lmas\\u0131, tuvalet sonras\\u0131nda ellerini y\\u0131kamayan ki\\u015filerle tokala\\u015fmak da \\u00e7ok nadir bula\\u015f yollar\\u0131 da olabilmektedir.HPV vir\\u00fcs\\u00fc v\\u00fccuttan nas\\u0131l at\\u0131l\\u0131r?G\\u00fc\\u00e7l\\u00fc ba\\u011f\\u0131\\u015f\\u0131kl\\u0131k sistemi sayesinde vir\\u00fcs v\\u00fccuttan at\\u0131labilir. Ba\\u011f\\u0131\\u015f\\u0131kl\\u0131k sisteminin g\\u00fc\\u00e7l\\u00fc olmas\\u0131 sa\\u011fl\\u0131kl\\u0131 beslenme, d\\u00fczenli ya\\u015fam, kaliteli uyku, egzersiz, sigara i\\u00e7memek ba\\u011f\\u0131\\u015f\\u0131kl\\u0131k sisteminin g\\u00fc\\u00e7l\\u00fc olmas\\u0131n\\u0131 sa\\u011flar.Cinsel ili\\u015fki ya\\u015famadan HPV olunur mu?HPV, seks s\\u0131ras\\u0131nda cilt temas\\u0131yla olur. Ancak tam cinsel ili\\u015fki, birle\\u015fme de gerekmeyebilir. Oral seksle de HPV bula\\u015fabilir. Genital b\\u00f6lge d\\u0131\\u015f\\u0131nda, deride, t\\u0131rnak aras\\u0131nda da HPV olabilir. Bu b\\u00f6lgelerle temasta da HPV bula\\u015fabilir.HPV a\\u015f\\u0131s\\u0131 rutin a\\u015f\\u0131 takviminde yer al\\u0131yor mu?HPV a\\u015f\\u0131s\\u0131 rutin a\\u015f\\u0131 takviminde bulunmamaktad\\u0131r.HPV a\\u015f\\u0131s\\u0131 olan kad\\u0131nlar serviks kanseri taramas\\u0131na kat\\u0131lmal\\u0131 m\\u0131d\\u0131r?HPV a\\u015f\\u0131s\\u0131 olanlar da mutlaka rutin serviks kanseri taramas\\u0131n\\u0131 yapt\\u0131rmal\\u0131d\\u0131r. A\\u015f\\u0131, i\\u00e7erisinde bulunan tipler (T\\u00fcrkiye\\u2019de Gardasil 4\\u2019l\\u00fc a\\u015f\\u0131 bulunmaktad\\u0131r ve HPV 16 ve 18 tiplerini i\\u00e7ermektedir) d\\u0131\\u015f\\u0131ndaki y\\u00fcksek riskli HPV tipleri i\\u00e7in ba\\u011f\\u0131\\u015f\\u0131kl\\u0131k sa\\u011flamaz ve bu nedenle rutin tarama testleri mutlaka uygulanmal\\u0131d\\u0131r.HPV pozitif ama si\\u011fil yok ise ne olur?HPV bula\\u015f\\u0131c\\u0131 bir vir\\u00fcst\\u00fcr. V\\u00fccuda girince belirti g\\u00f6stermeden durabilir. HPV 6 ve 11 gibi baz\\u0131 tipler si\\u011fillere neden olurken \\u00f6zellikle HPV 16, 18,31, 33, 45, 52 ve 58 gibi daha bir\\u00e7ok tip rahim a\\u011fz\\u0131 kanserine ilerleyen s\\u00fcreci ba\\u015flatabilir. Dolay\\u0131s\\u0131yla ki\\u015fide pozitif y\\u00fcksek riskli HPV DNA sonucu var ancak si\\u011fil yoksa bir Jinekolojik Onkoloji ya da Kad\\u0131n Hastal\\u0131klar\\u0131 ve Do\\u011fum uzman\\u0131na g\\u00f6r\\u00fcn\\u00fclmesi gerekmektedir.HPV negatif smear negatif ne anlama gelmektedir?Bu sonucu alan ki\\u015fide rahim a\\u011fz\\u0131 kanseri geli\\u015fme olas\\u0131l\\u0131\\u011f\\u0131 \\u00e7ok \\u00e7ok d\\u00fc\\u015f\\u00fckt\\u00fcr. 5 senede bir HPV ve smear taramas\\u0131 yapt\\u0131rmas\\u0131 \\u00f6nerilmektedir.HPV DNA ile smear testi ayn\\u0131 \\u015fey mi?Rahim a\\u011fz\\u0131 kanserinin taramas\\u0131nda kullan\\u0131lan bu iki test birbirinden farkl\\u0131d\\u0131r. HPV DNA testinde rahim a\\u011fz\\u0131ndan al\\u0131nan s\\u00fcr\\u00fcnt\\u00fcde rahim a\\u011fz\\u0131 kanserine yol a\\u00e7abilen ve bu nedenle y\\u00fcksek riskli olarak tan\\u0131mlanan 14 HPV tipinin (HPV tip 16, 18, 31, 33, 35, 39, 41, 45, 51, 52, 56, 58, 59, 66, 68) varl\\u0131\\u011f\\u0131 ara\\u015ft\\u0131r\\u0131l\\u0131r. Bu vir\\u00fcslerden biri ya da birka\\u00e7\\u0131 pozitif saptanan hastalar kolposkopi ile de\\u011ferlendirilerek bu vir\\u00fcslerin \\u00f6zellikle rahim a\\u011fz\\u0131nda kansere ilerleyen s\\u00fcreci ba\\u015flat\\u0131p ba\\u015flatmad\\u0131klar\\u0131 de\\u011ferlendirilir. Pap smear testinde ise yine rahim a\\u011fz\\u0131ndan ve vajenden al\\u0131nan s\\u00fcr\\u00fcnt\\u00fcde y\\u00fcksek riskli HPV tiplerinin neden oldu\\u011fu rahim a\\u011fz\\u0131ndaki h\\u00fccresel de\\u011fi\\u015fikliklerin olup olmad\\u0131\\u011f\\u0131 de\\u011ferlendirilir. Bu hastalarda da kolposkopi ile \\u00f6zellikle rahim a\\u011fz\\u0131 de\\u011ferlendirilerek kansere ilerleyebilecek lezyon olup olmad\\u0131\\u011f\\u0131 de\\u011ferlendirilir. Kolposkopide kanser \\u00f6ncesi lezyon saptan\\u0131rsa (CIN2 veya 3 gibi) LEEP ad\\u0131 verilen nispeten basit bir i\\u015flemi ile bu dokular \\u00e7\\u0131kar\\u0131l\\u0131r.HPV si\\u011fil yoksa da bula\\u015f\\u0131r m\\u0131?HPV, cinsel yolla bula\\u015fan bir vir\\u00fcst\\u00fcr. HPV ta\\u015f\\u0131yan ki\\u015fiyle cinsel ili\\u015fki, oral ili\\u015fki, vajinal ili\\u015fki ya da anal ili\\u015fki ile bula\\u015fabilmektedir. Si\\u011fil olmasa da HPV bula\\u015f\\u0131c\\u0131d\\u0131r.HPV i\\u00e7in risk fakt\\u00f6rleri nelerdir?\\u00c7ok e\\u015flilik HPV enfeksiyonu riskini art\\u0131r\\u0131r. Birden fazla ki\\u015fiyle cinsel ili\\u015fki ya\\u015fayan ki\\u015filerde risk daha y\\u00fcksektir. Bunun yan\\u0131nda ba\\u011f\\u0131\\u015f\\u0131kl\\u0131k sisteminin zay\\u0131flad\\u0131\\u011f\\u0131 ki\\u015filer risk alt\\u0131ndad\\u0131r. HPV'ye maruz kalm\\u0131\\u015f y\\u00fczeylerle temas yoluyla da HPV nadiren bula\\u015fabilmektedir.HPV nas\\u0131l temizlenir?HPV'nin v\\u00fccuttan at\\u0131lmas\\u0131n\\u0131 sa\\u011flamak i\\u00e7in ba\\u011f\\u0131\\u015f\\u0131kl\\u0131k sistemi g\\u00fc\\u00e7lendirilmelidir. D\\u00fczenli uyku, dengeli beslenme, d\\u00fczenli egzersiz, ba\\u011f\\u0131\\u015f\\u0131kl\\u0131\\u011f\\u0131 destekleyen \\u00f6nerilerle bu m\\u00fcmk\\u00fcn olabilir.HPV 16 kanser yapar m\\u0131?HPV'nin 200'den fazla t\\u00fcr\\u00fc vard\\u0131r. \\u00d6zellikle HPV 16 kanser a\\u00e7\\u0131s\\u0131ndan riskli bir t\\u00fcrd\\u00fcr. HPV 16 ve HPV 18 t\\u00fcr\\u00fc rahim a\\u011fz\\u0131 kanserine sebep olurken, HPV 6 ve HPV 11 genital organlarda si\\u011fillere sebep olabilmektedir.HPV a\\u015f\\u0131s\\u0131 rahim a\\u011fz\\u0131 kanserini engeller mi?HPV \\u00e7ok tehlikeli bir vir\\u00fcst\\u00fcr. HPV ile rahim a\\u011fz\\u0131 kanserinin yak\\u0131ndan ili\\u015fkisi vard\\u0131r. HPV a\\u015f\\u0131s\\u0131 HPV enfeksiyonunu \\u00f6nleyerek rahim a\\u011fz\\u0131 kanserinden korumaktad\\u0131r. 4\\u2019l\\u00fc ve 9\\u2019lu a\\u015f\\u0131lar ayr\\u0131ca genital si\\u011filleri de \\u00f6nlemektedir. \\u0130lk cinsel ili\\u015fkiden \\u00f6nce uyguland\\u0131\\u011f\\u0131nda y\\u00fczde 100\\u2019e yak\\u0131n koruyuculu\\u011fu vard\\u0131r.HPV varsa endi\\u015fe edilmeli mi?Hastalar genellikle HPV pozitif oldu\\u011funu \\u00f6\\u011frendi\\u011finde panik halinde bize ba\\u015fvuruyorlar. Ancak panik yapmaya gerek yoktur. 50 ya\\u015f\\u0131na kadar her 5 kad\\u0131ndan 3 ya da 4\\u2019\\u00fc fark\\u0131nda olmasa da HPV ile enfekte olmaktad\\u0131r. Y\\u00fcksek riskli HPV pozitif kad\\u0131nlar\\u0131n %90\\u2019\\u0131 2 y\\u0131l i\\u00e7inde bu vir\\u00fcsten ba\\u011f\\u0131\\u015f\\u0131kl\\u0131k sistemi sayesinde kendili\\u011finden kurtulmaktad\\u0131r. Kanser riski vir\\u00fcs\\u00fc atamayan %10\\u2019luk grupta olu\\u015fmaktad\\u0131r. Dolay\\u0131s\\u0131yla HPV ile enfekte kad\\u0131nlar\\u0131n b\\u00fcy\\u00fck \\u00e7o\\u011funlu\\u011funda rahim a\\u011fz\\u0131 kanseri geli\\u015fmemektedir. Ancak kansere ilerleme konusunu \\u00f6ng\\u00f6remedi\\u011fimiz i\\u00e7in y\\u00fcksek riskli HPV pozitif saptanan kad\\u0131nlar mutlaka bir uzmana ba\\u015fvurmas\\u0131 ve takiplerini yapt\\u0131rmas\\u0131 \\u00f6nemlidir.\"\n        ],\n        \"semantic_type\": \"\",\n        \"description\": \"\"\n      }\n    },\n    {\n      \"column\": \"num_tokens\",\n      \"properties\": {\n        \"dtype\": \"number\",\n        \"std\": 1396,\n        \"min\": 1142,\n        \"max\": 11030,\n        \"num_unique_values\": 138,\n        \"samples\": [\n          1671\n        ],\n        \"semantic_type\": \"\",\n        \"description\": \"\"\n      }\n    }\n  ]\n}"
            }
          },
          "metadata": {},
          "execution_count": 293
        }
      ]
    },
    {
      "cell_type": "code",
      "source": [
        "df.to_pickle(\"tani-ve-testler.pkl\")"
      ],
      "metadata": {
        "id": "ug0RLw1iRLSR"
      },
      "execution_count": null,
      "outputs": []
    },
    {
      "cell_type": "markdown",
      "source": [
        "# Hastalıklar (Diseases)"
      ],
      "metadata": {
        "id": "TK4TiL3FUVWw"
      }
    },
    {
      "cell_type": "code",
      "source": [
        "param = \"hastaliklar\"\n",
        "url = set_url(base_url, param)\n",
        "url"
      ],
      "metadata": {
        "colab": {
          "base_uri": "https://localhost:8080/",
          "height": 36
        },
        "id": "SfoN4JlaUf41",
        "outputId": "1d665b8d-36aa-498f-d10f-b361c1ad0d20"
      },
      "execution_count": null,
      "outputs": [
        {
          "output_type": "execute_result",
          "data": {
            "text/plain": [
              "'https://www.memorial.com.tr/hastaliklar'"
            ],
            "application/vnd.google.colaboratory.intrinsic+json": {
              "type": "string"
            }
          },
          "metadata": {},
          "execution_count": 197
        }
      ]
    },
    {
      "cell_type": "code",
      "source": [
        "htmlData = get_divs(url)"
      ],
      "metadata": {
        "id": "STJqBZF8UsRp"
      },
      "execution_count": null,
      "outputs": []
    },
    {
      "cell_type": "code",
      "source": [
        "names = get_names(htmlData)\n",
        "names[:3], len(names)"
      ],
      "metadata": {
        "colab": {
          "base_uri": "https://localhost:8080/"
        },
        "id": "XN5U7o6-U7zu",
        "outputId": "dc7f8279-b123-4ade-857b-652896a1528c"
      },
      "execution_count": null,
      "outputs": [
        {
          "output_type": "execute_result",
          "data": {
            "text/plain": [
              "(['20’lik Diş', 'Addison Hastalığı', 'Adenit'], 569)"
            ]
          },
          "metadata": {},
          "execution_count": 199
        }
      ]
    },
    {
      "cell_type": "code",
      "source": [
        "name_params = []\n",
        "for html in htmlData:\n",
        "  url = [a['href'] for a in html.select('a[href^=\"/hastaliklar\"]')]\n",
        "  name_params.append(url[0])\n",
        "len(name_params)"
      ],
      "metadata": {
        "colab": {
          "base_uri": "https://localhost:8080/"
        },
        "id": "4w-cTvAqXNFu",
        "outputId": "60abe476-d731-4720-f130-28ae06c63ab2"
      },
      "execution_count": null,
      "outputs": [
        {
          "output_type": "execute_result",
          "data": {
            "text/plain": [
              "569"
            ]
          },
          "metadata": {},
          "execution_count": 200
        }
      ]
    },
    {
      "cell_type": "code",
      "source": [
        "# creating a list of dicts to keep track of the data while running ThreadPoolExecutor\n",
        "param_records = []\n",
        "for i in range(len(names)):\n",
        "  rec = {\n",
        "      \"name\": names[i],\n",
        "      \"param\": name_params[i]\n",
        "  }\n",
        "  param_records.append(rec)"
      ],
      "metadata": {
        "id": "QJ3nuWtwxV_K"
      },
      "execution_count": null,
      "outputs": []
    },
    {
      "cell_type": "code",
      "source": [
        "raw_texts = []\n",
        "get_raw_text_pool(10, param_records)      # takes about 1min to complete"
      ],
      "metadata": {
        "id": "ADM72ZZVYiDN"
      },
      "execution_count": null,
      "outputs": []
    },
    {
      "cell_type": "code",
      "source": [
        "len(raw_texts)    # checking if all the records are fetched"
      ],
      "metadata": {
        "colab": {
          "base_uri": "https://localhost:8080/"
        },
        "id": "8E5E8fdGY7EZ",
        "outputId": "6edb0a26-eea9-41d9-da81-4dc7cdd64abd"
      },
      "execution_count": null,
      "outputs": [
        {
          "output_type": "execute_result",
          "data": {
            "text/plain": [
              "569"
            ]
          },
          "metadata": {},
          "execution_count": 226
        }
      ]
    },
    {
      "cell_type": "code",
      "source": [
        "# getting raw text and names in a list format\n",
        "names = []\n",
        "raws = []\n",
        "for rec in raw_texts:\n",
        "  names.append(list(rec.keys())[0])\n",
        "  raws.append(list(rec.values())[0])"
      ],
      "metadata": {
        "id": "LAoGwEkMzaiZ"
      },
      "execution_count": null,
      "outputs": []
    },
    {
      "cell_type": "code",
      "source": [
        "texts = get_texts(raws, k=7)    # k was checked beforehand"
      ],
      "metadata": {
        "id": "TU3pdXvJzzp0"
      },
      "execution_count": null,
      "outputs": []
    },
    {
      "cell_type": "code",
      "source": [
        "encoder = \"cl100k_base\"\n",
        "num_tokens = get_num_tokens(encoder, texts)"
      ],
      "metadata": {
        "id": "5Dw-8x2Y1hOu"
      },
      "execution_count": null,
      "outputs": []
    },
    {
      "cell_type": "code",
      "source": [
        "data = {\n",
        "    \"category\": \"Hastalıklar\",\n",
        "    \"topic\": names,\n",
        "    \"text\": texts,\n",
        "    \"num_tokens\": num_tokens\n",
        "}"
      ],
      "metadata": {
        "id": "PDWDtEly5Mot"
      },
      "execution_count": null,
      "outputs": []
    },
    {
      "cell_type": "code",
      "source": [
        "df = pd.DataFrame(data=data, index=None)"
      ],
      "metadata": {
        "id": "bwl1n-cC5TaJ"
      },
      "execution_count": null,
      "outputs": []
    },
    {
      "cell_type": "code",
      "source": [
        "df"
      ],
      "metadata": {
        "colab": {
          "base_uri": "https://localhost:8080/",
          "height": 423
        },
        "id": "jrQnW1sQ5XDA",
        "outputId": "cb04affb-2282-4e8b-cac3-6802dae0eb51"
      },
      "execution_count": null,
      "outputs": [
        {
          "output_type": "execute_result",
          "data": {
            "text/plain": [
              "            category                                    topic  \\\n",
              "0    Tanı ve Testler                         Tiroid Biyopsisi   \n",
              "1    Tanı ve Testler                3 Boyutlu Ekokardiyografi   \n",
              "2    Tanı ve Testler  ACTH (Adrenokortikotropik Hormon) Testi   \n",
              "3    Tanı ve Testler                          Akciğer Grafisi   \n",
              "4    Tanı ve Testler                            Albümin Testi   \n",
              "..               ...                                      ...   \n",
              "136  Tanı ve Testler                        Uyku Apnesi Testi   \n",
              "137  Tanı ve Testler                          Üre (BUN Testi)   \n",
              "138  Tanı ve Testler                          Üre Nefes Testi   \n",
              "139  Tanı ve Testler                          Ürodinami Testi   \n",
              "140  Tanı ve Testler                                WBC Testi   \n",
              "\n",
              "                                                  text  num_tokens  \n",
              "0     Tiroid bezini oluşturan hücrelerin düzensiz ç...        3501  \n",
              "1     Bilgisayar ve transdüser sistemlerindeki tekn...        2117  \n",
              "2     ACTH (adrenokortikotropik hormon), hipofiz be...        2363  \n",
              "3     Akciğer grafisi; kalp, akciğerler, kan damarl...        1753  \n",
              "4     Albümin testi, karaciğer ve böbrek fonksiyonl...        3426  \n",
              "..                                                 ...         ...  \n",
              "136   Kaliteli ve yeterli olmayan uyku süresi kişin...        3427  \n",
              "137   Üre, karaciğerin proteinin sindirimi sürecind...        3579  \n",
              "138   Dünyanın en yaygın enfeksiyonlarından biri ol...        1142  \n",
              "139   Erkeklerde ve kadınlarda hemen hemen her yaşt...        2850  \n",
              "140   White Blood Count ifadelerinin kısaltması ola...        3347  \n",
              "\n",
              "[141 rows x 4 columns]"
            ],
            "text/html": [
              "\n",
              "  <div id=\"df-fa169b8e-97bf-4109-b617-c8ab7ad65a4d\" class=\"colab-df-container\">\n",
              "    <div>\n",
              "<style scoped>\n",
              "    .dataframe tbody tr th:only-of-type {\n",
              "        vertical-align: middle;\n",
              "    }\n",
              "\n",
              "    .dataframe tbody tr th {\n",
              "        vertical-align: top;\n",
              "    }\n",
              "\n",
              "    .dataframe thead th {\n",
              "        text-align: right;\n",
              "    }\n",
              "</style>\n",
              "<table border=\"1\" class=\"dataframe\">\n",
              "  <thead>\n",
              "    <tr style=\"text-align: right;\">\n",
              "      <th></th>\n",
              "      <th>category</th>\n",
              "      <th>topic</th>\n",
              "      <th>text</th>\n",
              "      <th>num_tokens</th>\n",
              "    </tr>\n",
              "  </thead>\n",
              "  <tbody>\n",
              "    <tr>\n",
              "      <th>0</th>\n",
              "      <td>Tanı ve Testler</td>\n",
              "      <td>Tiroid Biyopsisi</td>\n",
              "      <td>Tiroid bezini oluşturan hücrelerin düzensiz ç...</td>\n",
              "      <td>3501</td>\n",
              "    </tr>\n",
              "    <tr>\n",
              "      <th>1</th>\n",
              "      <td>Tanı ve Testler</td>\n",
              "      <td>3 Boyutlu Ekokardiyografi</td>\n",
              "      <td>Bilgisayar ve transdüser sistemlerindeki tekn...</td>\n",
              "      <td>2117</td>\n",
              "    </tr>\n",
              "    <tr>\n",
              "      <th>2</th>\n",
              "      <td>Tanı ve Testler</td>\n",
              "      <td>ACTH (Adrenokortikotropik Hormon) Testi</td>\n",
              "      <td>ACTH (adrenokortikotropik hormon), hipofiz be...</td>\n",
              "      <td>2363</td>\n",
              "    </tr>\n",
              "    <tr>\n",
              "      <th>3</th>\n",
              "      <td>Tanı ve Testler</td>\n",
              "      <td>Akciğer Grafisi</td>\n",
              "      <td>Akciğer grafisi; kalp, akciğerler, kan damarl...</td>\n",
              "      <td>1753</td>\n",
              "    </tr>\n",
              "    <tr>\n",
              "      <th>4</th>\n",
              "      <td>Tanı ve Testler</td>\n",
              "      <td>Albümin Testi</td>\n",
              "      <td>Albümin testi, karaciğer ve böbrek fonksiyonl...</td>\n",
              "      <td>3426</td>\n",
              "    </tr>\n",
              "    <tr>\n",
              "      <th>...</th>\n",
              "      <td>...</td>\n",
              "      <td>...</td>\n",
              "      <td>...</td>\n",
              "      <td>...</td>\n",
              "    </tr>\n",
              "    <tr>\n",
              "      <th>136</th>\n",
              "      <td>Tanı ve Testler</td>\n",
              "      <td>Uyku Apnesi Testi</td>\n",
              "      <td>Kaliteli ve yeterli olmayan uyku süresi kişin...</td>\n",
              "      <td>3427</td>\n",
              "    </tr>\n",
              "    <tr>\n",
              "      <th>137</th>\n",
              "      <td>Tanı ve Testler</td>\n",
              "      <td>Üre (BUN Testi)</td>\n",
              "      <td>Üre, karaciğerin proteinin sindirimi sürecind...</td>\n",
              "      <td>3579</td>\n",
              "    </tr>\n",
              "    <tr>\n",
              "      <th>138</th>\n",
              "      <td>Tanı ve Testler</td>\n",
              "      <td>Üre Nefes Testi</td>\n",
              "      <td>Dünyanın en yaygın enfeksiyonlarından biri ol...</td>\n",
              "      <td>1142</td>\n",
              "    </tr>\n",
              "    <tr>\n",
              "      <th>139</th>\n",
              "      <td>Tanı ve Testler</td>\n",
              "      <td>Ürodinami Testi</td>\n",
              "      <td>Erkeklerde ve kadınlarda hemen hemen her yaşt...</td>\n",
              "      <td>2850</td>\n",
              "    </tr>\n",
              "    <tr>\n",
              "      <th>140</th>\n",
              "      <td>Tanı ve Testler</td>\n",
              "      <td>WBC Testi</td>\n",
              "      <td>White Blood Count ifadelerinin kısaltması ola...</td>\n",
              "      <td>3347</td>\n",
              "    </tr>\n",
              "  </tbody>\n",
              "</table>\n",
              "<p>141 rows × 4 columns</p>\n",
              "</div>\n",
              "    <div class=\"colab-df-buttons\">\n",
              "\n",
              "  <div class=\"colab-df-container\">\n",
              "    <button class=\"colab-df-convert\" onclick=\"convertToInteractive('df-fa169b8e-97bf-4109-b617-c8ab7ad65a4d')\"\n",
              "            title=\"Convert this dataframe to an interactive table.\"\n",
              "            style=\"display:none;\">\n",
              "\n",
              "  <svg xmlns=\"http://www.w3.org/2000/svg\" height=\"24px\" viewBox=\"0 -960 960 960\">\n",
              "    <path d=\"M120-120v-720h720v720H120Zm60-500h600v-160H180v160Zm220 220h160v-160H400v160Zm0 220h160v-160H400v160ZM180-400h160v-160H180v160Zm440 0h160v-160H620v160ZM180-180h160v-160H180v160Zm440 0h160v-160H620v160Z\"/>\n",
              "  </svg>\n",
              "    </button>\n",
              "\n",
              "  <style>\n",
              "    .colab-df-container {\n",
              "      display:flex;\n",
              "      gap: 12px;\n",
              "    }\n",
              "\n",
              "    .colab-df-convert {\n",
              "      background-color: #E8F0FE;\n",
              "      border: none;\n",
              "      border-radius: 50%;\n",
              "      cursor: pointer;\n",
              "      display: none;\n",
              "      fill: #1967D2;\n",
              "      height: 32px;\n",
              "      padding: 0 0 0 0;\n",
              "      width: 32px;\n",
              "    }\n",
              "\n",
              "    .colab-df-convert:hover {\n",
              "      background-color: #E2EBFA;\n",
              "      box-shadow: 0px 1px 2px rgba(60, 64, 67, 0.3), 0px 1px 3px 1px rgba(60, 64, 67, 0.15);\n",
              "      fill: #174EA6;\n",
              "    }\n",
              "\n",
              "    .colab-df-buttons div {\n",
              "      margin-bottom: 4px;\n",
              "    }\n",
              "\n",
              "    [theme=dark] .colab-df-convert {\n",
              "      background-color: #3B4455;\n",
              "      fill: #D2E3FC;\n",
              "    }\n",
              "\n",
              "    [theme=dark] .colab-df-convert:hover {\n",
              "      background-color: #434B5C;\n",
              "      box-shadow: 0px 1px 3px 1px rgba(0, 0, 0, 0.15);\n",
              "      filter: drop-shadow(0px 1px 2px rgba(0, 0, 0, 0.3));\n",
              "      fill: #FFFFFF;\n",
              "    }\n",
              "  </style>\n",
              "\n",
              "    <script>\n",
              "      const buttonEl =\n",
              "        document.querySelector('#df-fa169b8e-97bf-4109-b617-c8ab7ad65a4d button.colab-df-convert');\n",
              "      buttonEl.style.display =\n",
              "        google.colab.kernel.accessAllowed ? 'block' : 'none';\n",
              "\n",
              "      async function convertToInteractive(key) {\n",
              "        const element = document.querySelector('#df-fa169b8e-97bf-4109-b617-c8ab7ad65a4d');\n",
              "        const dataTable =\n",
              "          await google.colab.kernel.invokeFunction('convertToInteractive',\n",
              "                                                    [key], {});\n",
              "        if (!dataTable) return;\n",
              "\n",
              "        const docLinkHtml = 'Like what you see? Visit the ' +\n",
              "          '<a target=\"_blank\" href=https://colab.research.google.com/notebooks/data_table.ipynb>data table notebook</a>'\n",
              "          + ' to learn more about interactive tables.';\n",
              "        element.innerHTML = '';\n",
              "        dataTable['output_type'] = 'display_data';\n",
              "        await google.colab.output.renderOutput(dataTable, element);\n",
              "        const docLink = document.createElement('div');\n",
              "        docLink.innerHTML = docLinkHtml;\n",
              "        element.appendChild(docLink);\n",
              "      }\n",
              "    </script>\n",
              "  </div>\n",
              "\n",
              "\n",
              "<div id=\"df-6bb988f1-bd3b-492d-9bec-932af2a8b88f\">\n",
              "  <button class=\"colab-df-quickchart\" onclick=\"quickchart('df-6bb988f1-bd3b-492d-9bec-932af2a8b88f')\"\n",
              "            title=\"Suggest charts\"\n",
              "            style=\"display:none;\">\n",
              "\n",
              "<svg xmlns=\"http://www.w3.org/2000/svg\" height=\"24px\"viewBox=\"0 0 24 24\"\n",
              "     width=\"24px\">\n",
              "    <g>\n",
              "        <path d=\"M19 3H5c-1.1 0-2 .9-2 2v14c0 1.1.9 2 2 2h14c1.1 0 2-.9 2-2V5c0-1.1-.9-2-2-2zM9 17H7v-7h2v7zm4 0h-2V7h2v10zm4 0h-2v-4h2v4z\"/>\n",
              "    </g>\n",
              "</svg>\n",
              "  </button>\n",
              "\n",
              "<style>\n",
              "  .colab-df-quickchart {\n",
              "      --bg-color: #E8F0FE;\n",
              "      --fill-color: #1967D2;\n",
              "      --hover-bg-color: #E2EBFA;\n",
              "      --hover-fill-color: #174EA6;\n",
              "      --disabled-fill-color: #AAA;\n",
              "      --disabled-bg-color: #DDD;\n",
              "  }\n",
              "\n",
              "  [theme=dark] .colab-df-quickchart {\n",
              "      --bg-color: #3B4455;\n",
              "      --fill-color: #D2E3FC;\n",
              "      --hover-bg-color: #434B5C;\n",
              "      --hover-fill-color: #FFFFFF;\n",
              "      --disabled-bg-color: #3B4455;\n",
              "      --disabled-fill-color: #666;\n",
              "  }\n",
              "\n",
              "  .colab-df-quickchart {\n",
              "    background-color: var(--bg-color);\n",
              "    border: none;\n",
              "    border-radius: 50%;\n",
              "    cursor: pointer;\n",
              "    display: none;\n",
              "    fill: var(--fill-color);\n",
              "    height: 32px;\n",
              "    padding: 0;\n",
              "    width: 32px;\n",
              "  }\n",
              "\n",
              "  .colab-df-quickchart:hover {\n",
              "    background-color: var(--hover-bg-color);\n",
              "    box-shadow: 0 1px 2px rgba(60, 64, 67, 0.3), 0 1px 3px 1px rgba(60, 64, 67, 0.15);\n",
              "    fill: var(--button-hover-fill-color);\n",
              "  }\n",
              "\n",
              "  .colab-df-quickchart-complete:disabled,\n",
              "  .colab-df-quickchart-complete:disabled:hover {\n",
              "    background-color: var(--disabled-bg-color);\n",
              "    fill: var(--disabled-fill-color);\n",
              "    box-shadow: none;\n",
              "  }\n",
              "\n",
              "  .colab-df-spinner {\n",
              "    border: 2px solid var(--fill-color);\n",
              "    border-color: transparent;\n",
              "    border-bottom-color: var(--fill-color);\n",
              "    animation:\n",
              "      spin 1s steps(1) infinite;\n",
              "  }\n",
              "\n",
              "  @keyframes spin {\n",
              "    0% {\n",
              "      border-color: transparent;\n",
              "      border-bottom-color: var(--fill-color);\n",
              "      border-left-color: var(--fill-color);\n",
              "    }\n",
              "    20% {\n",
              "      border-color: transparent;\n",
              "      border-left-color: var(--fill-color);\n",
              "      border-top-color: var(--fill-color);\n",
              "    }\n",
              "    30% {\n",
              "      border-color: transparent;\n",
              "      border-left-color: var(--fill-color);\n",
              "      border-top-color: var(--fill-color);\n",
              "      border-right-color: var(--fill-color);\n",
              "    }\n",
              "    40% {\n",
              "      border-color: transparent;\n",
              "      border-right-color: var(--fill-color);\n",
              "      border-top-color: var(--fill-color);\n",
              "    }\n",
              "    60% {\n",
              "      border-color: transparent;\n",
              "      border-right-color: var(--fill-color);\n",
              "    }\n",
              "    80% {\n",
              "      border-color: transparent;\n",
              "      border-right-color: var(--fill-color);\n",
              "      border-bottom-color: var(--fill-color);\n",
              "    }\n",
              "    90% {\n",
              "      border-color: transparent;\n",
              "      border-bottom-color: var(--fill-color);\n",
              "    }\n",
              "  }\n",
              "</style>\n",
              "\n",
              "  <script>\n",
              "    async function quickchart(key) {\n",
              "      const quickchartButtonEl =\n",
              "        document.querySelector('#' + key + ' button');\n",
              "      quickchartButtonEl.disabled = true;  // To prevent multiple clicks.\n",
              "      quickchartButtonEl.classList.add('colab-df-spinner');\n",
              "      try {\n",
              "        const charts = await google.colab.kernel.invokeFunction(\n",
              "            'suggestCharts', [key], {});\n",
              "      } catch (error) {\n",
              "        console.error('Error during call to suggestCharts:', error);\n",
              "      }\n",
              "      quickchartButtonEl.classList.remove('colab-df-spinner');\n",
              "      quickchartButtonEl.classList.add('colab-df-quickchart-complete');\n",
              "    }\n",
              "    (() => {\n",
              "      let quickchartButtonEl =\n",
              "        document.querySelector('#df-6bb988f1-bd3b-492d-9bec-932af2a8b88f button');\n",
              "      quickchartButtonEl.style.display =\n",
              "        google.colab.kernel.accessAllowed ? 'block' : 'none';\n",
              "    })();\n",
              "  </script>\n",
              "</div>\n",
              "\n",
              "  <div id=\"id_00f29924-7291-4578-94a3-721f6248b881\">\n",
              "    <style>\n",
              "      .colab-df-generate {\n",
              "        background-color: #E8F0FE;\n",
              "        border: none;\n",
              "        border-radius: 50%;\n",
              "        cursor: pointer;\n",
              "        display: none;\n",
              "        fill: #1967D2;\n",
              "        height: 32px;\n",
              "        padding: 0 0 0 0;\n",
              "        width: 32px;\n",
              "      }\n",
              "\n",
              "      .colab-df-generate:hover {\n",
              "        background-color: #E2EBFA;\n",
              "        box-shadow: 0px 1px 2px rgba(60, 64, 67, 0.3), 0px 1px 3px 1px rgba(60, 64, 67, 0.15);\n",
              "        fill: #174EA6;\n",
              "      }\n",
              "\n",
              "      [theme=dark] .colab-df-generate {\n",
              "        background-color: #3B4455;\n",
              "        fill: #D2E3FC;\n",
              "      }\n",
              "\n",
              "      [theme=dark] .colab-df-generate:hover {\n",
              "        background-color: #434B5C;\n",
              "        box-shadow: 0px 1px 3px 1px rgba(0, 0, 0, 0.15);\n",
              "        filter: drop-shadow(0px 1px 2px rgba(0, 0, 0, 0.3));\n",
              "        fill: #FFFFFF;\n",
              "      }\n",
              "    </style>\n",
              "    <button class=\"colab-df-generate\" onclick=\"generateWithVariable('df')\"\n",
              "            title=\"Generate code using this dataframe.\"\n",
              "            style=\"display:none;\">\n",
              "\n",
              "  <svg xmlns=\"http://www.w3.org/2000/svg\" height=\"24px\"viewBox=\"0 0 24 24\"\n",
              "       width=\"24px\">\n",
              "    <path d=\"M7,19H8.4L18.45,9,17,7.55,7,17.6ZM5,21V16.75L18.45,3.32a2,2,0,0,1,2.83,0l1.4,1.43a1.91,1.91,0,0,1,.58,1.4,1.91,1.91,0,0,1-.58,1.4L9.25,21ZM18.45,9,17,7.55Zm-12,3A5.31,5.31,0,0,0,4.9,8.1,5.31,5.31,0,0,0,1,6.5,5.31,5.31,0,0,0,4.9,4.9,5.31,5.31,0,0,0,6.5,1,5.31,5.31,0,0,0,8.1,4.9,5.31,5.31,0,0,0,12,6.5,5.46,5.46,0,0,0,6.5,12Z\"/>\n",
              "  </svg>\n",
              "    </button>\n",
              "    <script>\n",
              "      (() => {\n",
              "      const buttonEl =\n",
              "        document.querySelector('#id_00f29924-7291-4578-94a3-721f6248b881 button.colab-df-generate');\n",
              "      buttonEl.style.display =\n",
              "        google.colab.kernel.accessAllowed ? 'block' : 'none';\n",
              "\n",
              "      buttonEl.onclick = () => {\n",
              "        google.colab.notebook.generateWithVariable('df');\n",
              "      }\n",
              "      })();\n",
              "    </script>\n",
              "  </div>\n",
              "\n",
              "    </div>\n",
              "  </div>\n"
            ],
            "application/vnd.google.colaboratory.intrinsic+json": {
              "type": "dataframe",
              "variable_name": "df",
              "summary": "{\n  \"name\": \"df\",\n  \"rows\": 141,\n  \"fields\": [\n    {\n      \"column\": \"category\",\n      \"properties\": {\n        \"dtype\": \"category\",\n        \"num_unique_values\": 1,\n        \"samples\": [\n          \"Tan\\u0131 ve Testler\"\n        ],\n        \"semantic_type\": \"\",\n        \"description\": \"\"\n      }\n    },\n    {\n      \"column\": \"topic\",\n      \"properties\": {\n        \"dtype\": \"string\",\n        \"num_unique_values\": 141,\n        \"samples\": [\n          \"HPV- HPV DNA Testi\"\n        ],\n        \"semantic_type\": \"\",\n        \"description\": \"\"\n      }\n    },\n    {\n      \"column\": \"text\",\n      \"properties\": {\n        \"dtype\": \"string\",\n        \"num_unique_values\": 141,\n        \"samples\": [\n          \" Rahim a\\u011fz\\u0131 kanserine neden olabilen HPV (Human Papilloma Virus-\\u0130nsan Papilloma Vir\\u00fcs\\u00fc), d\\u00fcnyada cinsel temas nedeniyle bula\\u015fan enfeksiyonlar\\u0131n en s\\u0131k g\\u00f6r\\u00fclenlerinden biri olarak kabul ediliyor. Bu nedenle HPV enfeksiyonuna kar\\u015f\\u0131 tedbir al\\u0131nmas\\u0131 hayati \\u00f6nem ta\\u015f\\u0131yor. Gerek a\\u015f\\u0131 gerekse rutin taramalar, smear testi ve HPV DNA testleri sayesinde erken te\\u015fhis edilebilen rahim a\\u011fz\\u0131 kanseri, mutlaka jinekolojik onkoloji uzmanlar\\u0131 taraf\\u0131ndan de\\u011ferlendirilmesi gereken bir hastal\\u0131k olarak kar\\u015f\\u0131m\\u0131za \\u00e7\\u0131k\\u0131yor. \\u00d6zellikle HPV DNA testi ile HPV vir\\u00fcs\\u00fcn\\u00fcn tipinin belirlenmesi, kanserle m\\u00fccadelede bir ad\\u0131m \\u00f6nde olunmas\\u0131n\\u0131 sa\\u011fl\\u0131yor. Memorial Sa\\u011fl\\u0131k Grubu Kad\\u0131n Hastal\\u0131klar\\u0131 ve Do\\u011fum B\\u00f6l\\u00fcm\\u00fc\\u2019nden Jinekolojik Onkoloji Uzman\\u0131 Do\\u00e7. Dr. G\\u00f6khan Demirayak, HPV ve HPV DNA testleri hakk\\u0131nda bilgi verdi.Rahim a\\u011fz\\u0131 kanserine neden olabilen HPV (Human Papilloma Virus-\\u0130nsan Papilloma Vir\\u00fcs\\u00fc), d\\u00fcnyada cinsel temas nedeniyle bula\\u015fan enfeksiyonlar\\u0131n en s\\u0131k g\\u00f6r\\u00fclenlerinden biri olarak kabul ediliyor. Bu nedenle HPV enfeksiyonuna kar\\u015f\\u0131 tedbir al\\u0131nmas\\u0131 hayati \\u00f6nem ta\\u015f\\u0131yor. Gerek a\\u015f\\u0131 gerekse rutin taramalar, smear testi ve HPV DNA testleri sayesinde erken te\\u015fhis edilebilen rahim a\\u011fz\\u0131 kanseri, mutlaka jinekolojik onkoloji uzmanlar\\u0131 taraf\\u0131ndan de\\u011ferlendirilmesi gereken bir hastal\\u0131k olarak kar\\u015f\\u0131m\\u0131za \\u00e7\\u0131k\\u0131yor. \\u00d6zellikle HPV DNA testi ile HPV vir\\u00fcs\\u00fcn\\u00fcn tipinin belirlenmesi, kanserle m\\u00fccadelede bir ad\\u0131m \\u00f6nde olunmas\\u0131n\\u0131 sa\\u011fl\\u0131yor. Memorial Sa\\u011fl\\u0131k Grubu Kad\\u0131n Hastal\\u0131klar\\u0131 ve Do\\u011fum B\\u00f6l\\u00fcm\\u00fc\\u2019nden Jinekolojik Onkoloji Uzman\\u0131 Do\\u00e7. Dr. G\\u00f6khan Demirayak, HPV ve HPV DNA testleri hakk\\u0131nda bilgi verdi.HPV nedir?HPV, yayg\\u0131n olarak rahim a\\u011fz\\u0131 kanseri ve si\\u011fillere neden olan bir vir\\u00fcst\\u00fcr. 200'den fazla HPV \\u00e7e\\u015fidi vard\\u0131r. HPV vir\\u00fcs\\u00fcn\\u00fcn baz\\u0131 t\\u00fcrleri si\\u011fillere baz\\u0131lar\\u0131 ise kansere neden olabilmektedir. Her HPV vir\\u00fcs\\u00fc kansere neden olmayabilir ancak baz\\u0131 genital HPV t\\u00fcrleri rahim a\\u011fz\\u0131 kanserine sebebiyet verebilmektedir. Penis, genital b\\u00f6lge kanserleri HPV enfeksiyonu ile ili\\u015fkilendirilmi\\u015ftir. HPV, y\\u00fcksek ve d\\u00fc\\u015f\\u00fck riskli HPV tipleri olarak ikiye ayr\\u0131labilir. En s\\u0131k g\\u00f6r\\u00fclen ve en y\\u00fcksek riskli HPV vir\\u00fcs t\\u00fcrleri, HPV 16, HPV 18, HPV 33, HPV 31, HPV 45, HPV 52 ve HPV 58 olarak s\\u0131ralanabilmektedir. En s\\u0131k g\\u00f6r\\u00fclen ancak d\\u00fc\\u015f\\u00fck riskli HPV t\\u00fcrleri ise HPV 6, HPV 11 olarak s\\u0131ralanabilir. Y\\u00fcksek riskli HPV t\\u00fcrleri rahim a\\u011fz\\u0131 kanserine; d\\u00fc\\u015f\\u00fck riskli HPV t\\u00fcrleri ise daha \\u00e7ok genital si\\u011fillere yol a\\u00e7abilmektedir.HPV DNA testi nas\\u0131l yap\\u0131l\\u0131r?HPV testi rahim a\\u011fz\\u0131ndan al\\u0131nacak s\\u00fcr\\u00fcnt\\u00fc y\\u00f6ntemi ile test yap\\u0131labilir. E\\u011fer si\\u011fil var ise si\\u011fillerden \\u00f6rnek ( lokal anestezi alt\\u0131nda) ve yine servikal s\\u00fcr\\u00fcnt\\u00fc \\u00f6rne\\u011fi laboratuvarda incelenir. Beraberinde smear testi de yap\\u0131lmal\\u0131d\\u0131r.\\u00a0 Bu i\\u015flem sadece birka\\u00e7 dakika s\\u00fcrmektedir.HPV Pozitif ne demek?HPV pozitif sonu\\u00e7 pek \\u00e7ok ki\\u015fi taraf\\u0131ndan endi\\u015feyle kar\\u015f\\u0131la\\u015f\\u0131lacak bir sorundur. Ancak her HPV pozitif sonu\\u00e7 kesin olarak kanser olundu\\u011fu ya da olunaca\\u011f\\u0131 anlam\\u0131na gelmemektedir. HPV, bula\\u015ft\\u0131\\u011f\\u0131 zaman ki\\u015finin ba\\u011f\\u0131\\u015f\\u0131kl\\u0131k sistemi devreye girer ve bu vir\\u00fcs\\u00fc v\\u00fccuttan atmak i\\u00e7in sava\\u015f\\u0131r. Ba\\u011f\\u0131\\u015f\\u0131kl\\u0131k sistemi sayesinde bu vir\\u00fcsler %75 oran\\u0131nda bula\\u015ft\\u0131ktan sonraki 12 ay i\\u00e7inde ve %90 2 y\\u0131l i\\u00e7inde v\\u00fccuttan at\\u0131labilmektedir. E\\u011fer at\\u0131lamazsa vir\\u00fcs DNA\\u2019ya entegre olarak kanser s\\u00fcrecini ba\\u015flatabilir. Ba\\u011f\\u0131\\u015f\\u0131kl\\u0131k sistemi bu konuda \\u00e7ok \\u00f6nemlidir. Sigara i\\u00e7enlerde, d\\u00fczenli beslenmeyenlerde bu s\\u00fcre\\u00e7 ba\\u015far\\u0131s\\u0131z olabilir.HPV Negatif ne demek?Bazen testlerde HPV negatif sonucu g\\u00f6r\\u00fcl\\u00fcr. Bu, v\\u00fccutta HPV\\u2019nin olmad\\u0131\\u011f\\u0131 anlam\\u0131na gelmektedir. Ancak yine de tedbiri elden b\\u0131rakmamak gerekmektedir. HPV, sinsi bir vir\\u00fcst\\u00fcr. Negatif sonu\\u00e7 g\\u00f6r\\u00fcld\\u00fc\\u011f\\u00fcnde ba\\u011f\\u0131\\u015f\\u0131kl\\u0131k sisteminin g\\u00fc\\u00e7l\\u00fc tutulmas\\u0131, HPV\\u2019nin v\\u00fccuda girmemesi i\\u00e7in tedbir al\\u0131nmas\\u0131 gerekmektedir.HPV Pozitif belirtileri nelerdir?HPV v\\u00fccuda girdi\\u011finde genellikle ba\\u011f\\u0131\\u015f\\u0131kl\\u0131k sistemi vir\\u00fcs\\u00fc yenerek v\\u00fccuttan atmaktad\\u0131r. Ancak ba\\u011f\\u0131\\u015f\\u0131kl\\u0131k sisteminin yetersiz kald\\u0131\\u011f\\u0131 durumda v\\u00fccutta belirti olarak baz\\u0131 yerlerde si\\u011filler \\u00e7\\u0131kabilir. Ancak bizim i\\u00e7in daha \\u00f6nemli olan rahim a\\u011fz\\u0131 kanseri a\\u00e7\\u0131s\\u0131ndan y\\u00fcksek risk ta\\u015f\\u0131yan HPV tipleri maalesef belirti vermemektedir. Bu nedenle bu vir\\u00fcsleri saptamak i\\u00e7in HPV DNA tarama testleri \\u00f6nerilmektedir.Genital si\\u011filler: Bunlar d\\u00fcz lezyon, k\\u00fc\\u00e7\\u00fck karnabahara benzeyen yumrular olarak g\\u00f6r\\u00fcn\\u00fcr. Kad\\u0131nlarda genital si\\u011filler g\\u00f6r\\u00fcl\\u00fcr. Bunlar da vulvada, an\\u00fcs yak\\u0131n\\u0131nda, servikste ya da vajinada olu\\u015fur. Erkeklerde de penis, an\\u00fcs \\u00e7evresinde g\\u00f6r\\u00fcl\\u00fcr. Nadiren rahats\\u0131zl\\u0131k ve a\\u011fr\\u0131ya neden olurlar. Ki\\u015fide ka\\u015f\\u0131nt\\u0131 olu\\u015fturabilir.E\\u011fer vir\\u00fcs kansere neden olduysa ilerleyen bir durumda cinsel ili\\u015fki s\\u0131ras\\u0131nda a\\u011fr\\u0131, pelvik b\\u00f6lgede a\\u011fr\\u0131, ola\\u011fand\\u0131\\u015f\\u0131 ak\\u0131nt\\u0131, cinsel temas sonras\\u0131nda ola\\u011fand\\u0131\\u015f\\u0131 kanama olabilir. Daha ilerleyen kanser olgular\\u0131nda kilo kayb\\u0131, idrara \\u00e7\\u0131karken zorlanma, idrarda kan g\\u00f6r\\u00fclebilmektedir.HPV, oral yoldan da kanser sebebi olabilir. Bu durum da kal\\u0131c\\u0131 bo\\u011faz ve kulak a\\u011fr\\u0131s\\u0131, ses k\\u0131s\\u0131kl\\u0131\\u011f\\u0131, lenf d\\u00fc\\u011f\\u00fcmlerinde \\u015fi\\u015flik, yutkunurken a\\u011fr\\u0131, sebepsiz kilo kayb\\u0131 olu\\u015fturur. HPV vajinal kanserlere sebep olabilir. HPV, serviks yani rahim a\\u011fz\\u0131 kanseri; vajina kanseri, vulva kanseri, ba\\u015f-boyun kanserleri ve anal kanserlere neden olabilmektedir.Kad\\u0131nlar\\u0131n mutlaka d\\u00fczenli olarak PAP Smear ve HPV DNA testi yapt\\u0131rmas\\u0131 gerekmektedir.HPV tipleri nelerdir?HPV\\u2019nin 200\\u2019den fazla tipi bulunmaktad\\u0131r ve bu tiplerin \\u00e7o\\u011fu insanlarda enfeksiyona neden olmamaktad\\u0131r. Jinekolojik a\\u00e7\\u0131dan \\u00f6nemli olan ve insanlarda enfeksiyona neden olan HPV tipleri serviks (rahim a\\u011fz\\u0131) kanserine neden olma ihtimalleri d\\u00fc\\u015f\\u00fck ve y\\u00fcksek riskli olmak \\u00fczere ikiye ayr\\u0131l\\u0131r. HPV tip 6 ve 11 en s\\u0131k g\\u00f6r\\u00fclen d\\u00fc\\u015f\\u00fck riskli tipler olup genital si\\u011fil (kondilom) nedenidirler. Serviks kanseri a\\u00e7\\u0131s\\u0131ndan y\\u00fcksek riskli HPV tipleri ise 16, 18, 31, 33, 35, 39, 45, 51, 52, 56, 58, 59, 66 ve 68\\u2019dir. Bu HPV tipleri aras\\u0131ndan HPV tip 16 ve 18 serviks kanserlerinin %70\\u2019inden sorumludur.HPV vir\\u00fcs\\u00fcnden korunma yollar\\u0131 nelerdir?HPV'den korunman\\u0131n \\u015fu anda maalesef kesin bir yolu yoktur.\\u00a0 A\\u015f\\u0131lama, a\\u015f\\u0131n\\u0131n i\\u00e7erdi\\u011fi HPV 6, 11, 16 ve 18\\u2019e kar\\u015f\\u0131 ba\\u011f\\u0131\\u015f\\u0131kl\\u0131k sa\\u011flamaktad\\u0131r, ancak a\\u015f\\u0131y\\u0131 cinsel ili\\u015fki ba\\u015flamadan \\u00f6nce yap\\u0131lmas\\u0131 \\u00f6nemlidir. HPV a\\u015f\\u0131s\\u0131 9-26 ya\\u015f aras\\u0131ndaki \\u00e7ocuk ve eri\\u015fkinlere \\u00f6nerilmektedir. 9-14 ya\\u015f aras\\u0131ndaki k\\u0131z ve erkek \\u00e7ocuklara 2 doz, 15-26 ya\\u015f aras\\u0131ndaki eri\\u015fkin kad\\u0131n ve erkeklere 3 doz olarak \\u00f6nerilmektedir. 26 ya\\u015f\\u0131ndan sonra \\u00f6zellikle ili\\u015fkiye ba\\u015flam\\u0131\\u015f bireylerde azalmakla birlikte yine de koruyuculu\\u011fu olabilmektedir.HPV tan\\u0131s\\u0131 nas\\u0131l konur? HPV olup olmad\\u0131\\u011f\\u0131 nas\\u0131l anla\\u015f\\u0131l\\u0131r?HPV tan\\u0131s\\u0131 jinekolojik muayenede, serviksten bir f\\u0131r\\u00e7a yard\\u0131m\\u0131yla al\\u0131nan s\\u00fcr\\u00fcnt\\u00fcn\\u00fcn molek\\u00fcler olarak incelenmesi ile konulur. HPV testinin pozitif saptanmas\\u0131, kanser olunaca\\u011f\\u0131 anlam\\u0131na gelmemektedir. \\u00dclkemizde HPV taramalar\\u0131nda 30-65 ya\\u015f aras\\u0131ndaki kad\\u0131nlar\\u0131n yakla\\u015f\\u0131k %4,5\\u2019inde HPV testi pozitif saptanmaktad\\u0131r. HPV bula\\u015fmas\\u0131 durumunda, ba\\u011f\\u0131\\u015f\\u0131kl\\u0131k sistemimiz sayesinde %99 hastada vir\\u00fcs v\\u00fccuttan temizlenebilmektedir. E\\u011fer at\\u0131lamazsa bu vir\\u00fcs h\\u00fccre DNA'm\\u0131za entegre olarak kansere giden s\\u00fcreci ba\\u015flatmaktad\\u0131r. Ba\\u011f\\u0131\\u015f\\u0131kl\\u0131k sistemi bu konuda \\u00e7ok \\u00f6nemlidir. Sigara i\\u00e7enlerde, d\\u00fczenli beslenmeyenlerde bu s\\u00fcre\\u00e7 ba\\u015far\\u0131s\\u0131z olabilir. HPV pozitif oldu\\u011funda uygun hastalarda kolposkopi ile rahim a\\u011fz\\u0131, vajen ve gerekirse vulvan\\u0131n ayr\\u0131nt\\u0131l\\u0131 de\\u011ferlendirilmesi gerekmektedir. Kolposkopi \\u00f6zel tecr\\u00fcbe gerektiren bir i\\u015flem olup bu incelemede dokular 6 ile 40 kat aras\\u0131nda b\\u00fcy\\u00fct\\u00fcl\\u00fcr.HPV risk fakt\\u00f6rleri nelerdir?Cinsel hayatta \\u00e7ok e\\u015fli olunmas\\u0131 HPV enfeksiyonu riskini art\\u0131rmaktad\\u0131r. Birden fazla ki\\u015fiyle cinsel ili\\u015fki ya\\u015fayan ki\\u015filerde HPV a\\u00e7\\u0131s\\u0131nda risk daha y\\u00fcksek olur. Bunun yan\\u0131nda ba\\u011f\\u0131\\u015f\\u0131kl\\u0131k sisteminin zay\\u0131flad\\u0131\\u011f\\u0131 ki\\u015filer risk alt\\u0131nda olmaktad\\u0131r. HPV'ye maruz kalm\\u0131\\u015f y\\u00fczeylerle temas yoluyla da HPV nadiren bula\\u015ft\\u0131\\u011f\\u0131 bildirilmi\\u015ftir.HPV vir\\u00fcs\\u00fc nas\\u0131l bula\\u015f\\u0131r?\\u00c7ok e\\u015fli cinsel ya\\u015famda HPV vir\\u00fcs\\u00fc bula\\u015fmaktad\\u0131r. Y\\u00fczeysel temaslarda da nadiren bula\\u015f olmaktad\\u0131r. HPV i\\u00e7in, HPV'li bireyle anal, oral ya da vajinal seks bula\\u015f yolu olmaktad\\u0131r. Bunun yan\\u0131nda HPV'li genital b\\u00f6lge ile temas eden havlu ve bunun gibi e\\u015fyalar\\u0131n ortak kullan\\u0131lmas\\u0131yla da HPV bula\\u015fabilmektedir.HPV vir\\u00fcs\\u00fcn\\u00fcn neden oldu\\u011fu kanserler nelerdir?HPV'nin ba\\u015fta serviks (rahim a\\u011fz\\u0131) kanseri olmak \\u00fczere; kad\\u0131nlarda vajina- vulva kanserleri, erkeklerde penis kanseri, yine erkek ve kad\\u0131nlarda ba\\u015f-boyun kanserleri (larinks, farinks gibi), an\\u00fcs-rektum kanserleri ile ili\\u015fkisi oldu\\u011fu bilinmektedir.HPV a\\u015f\\u0131s\\u0131n\\u0131n yan etkileri nelerdir?A\\u015f\\u0131n\\u0131n vuruldu\\u011fu yerde k\\u0131zarma, \\u015fi\\u015fme, a\\u011fr\\u0131, mide bulant\\u0131s\\u0131, ba\\u015f a\\u011fr\\u0131s\\u0131 en s\\u0131k g\\u00f6r\\u00fclen ve ciddi soruna neden olmayan yan etkilerdendir. HPV a\\u015f\\u0131s\\u0131n\\u0131n ciddi sorunlara yol a\\u00e7an yan etkileri ise \\u00e7ok nadirdir (1.000.000 insanda 18).HPV- HPV DNA testi hakk\\u0131nda s\\u0131k sorulan sorularHPV tarama testim pozitif \\u00e7\\u0131karsa ne olur?HPV testi sonucu pozitif \\u00e7\\u0131karsa pani\\u011fe kap\\u0131lmamak \\u00f6nemlidir. Bu sonu\\u00e7 kanser anlam\\u0131na gelmemekte ancak kanser \\u00f6ncesi lezyon veya kanser riski a\\u00e7\\u0131s\\u0131ndan de\\u011ferlendirilmeniz gerekti\\u011fini g\\u00f6stermektedir. Bu nedenle test sonu\\u00e7lar\\u0131n\\u0131z\\u0131n bir Jinekolojik Onkoloji uzman\\u0131 veya bu konuda tecr\\u00fcbeli bir Kad\\u0131n Hastal\\u0131klar\\u0131 ve Do\\u011fum uzman\\u0131 taraf\\u0131ndan de\\u011ferlendirilmesi, muayenenin ger\\u00e7ekle\\u015ftirilmesi ve muayeneden sonra uygun hastalarda kolposkopi ile rahim a\\u011fz\\u0131, vajen ve gerekirse vulvan\\u0131n ayr\\u0131nt\\u0131l\\u0131 de\\u011ferlendirilmesi gerekmektedir. Kolposkopi \\u00f6zel tecr\\u00fcbe gerektiren bir i\\u015flemdir ve bu incelemede dokular 6 ile 40 kat aras\\u0131nda b\\u00fcy\\u00fct\\u00fcl\\u00fcr. Baz\\u0131 \\u00f6zel boyalar ile kanser \\u00f6ncesi lezyonlar\\u0131n g\\u00f6r\\u00fcn\\u00fcrl\\u00fc\\u011f\\u00fc artt\\u0131r\\u0131l\\u0131r ve \\u015f\\u00fcpheli b\\u00f6lgelerden k\\u00fc\\u00e7\\u00fck biyopsiler al\\u0131narak patalojiye g\\u00f6nderilir. Kolposkopi, muayenehane ortam\\u0131nda yap\\u0131lan ac\\u0131s\\u0131z, a\\u011fr\\u0131s\\u0131z bir prosed\\u00fcrd\\u00fcr. Kanser \\u00f6ncesi lezyonlar\\u0131n rahim a\\u011fz\\u0131 kanserine d\\u00f6n\\u00fc\\u015fmeden \\u00f6nce yakalanmas\\u0131 ve bu sayede tedavi edilebilmesine, \\u015fayet kanser a\\u015famas\\u0131na ilerlemi\\u015fse de t\\u00fcm\\u00f6r\\u00fcn erken evrede yakalanarak hastan\\u0131n k\\u00fcr \\u015fans\\u0131 yakalamas\\u0131n\\u0131 sa\\u011flar.HPV vir\\u00fcs\\u00fc ne kadar s\\u00fcrede kansere d\\u00f6n\\u00fc\\u015f\\u00fcr?HPV vir\\u00fcs\\u00fc ki\\u015fiye bula\\u015ft\\u0131ktan sonra kanser hemen olu\\u015fmaz. HPV\\u2019yi v\\u00fccudundan atamayan kad\\u0131nlarda \\u00f6nce CIN-1 (Cervical intraepithelial neoplasia-1), sonra CIN-2, daha sonra CIN-3 olu\\u015fur. Kanser CIN-3\\u2019ten sonraki a\\u015famad\\u0131r. Bu a\\u015famalar\\u0131n her birinden bir sonrakine ge\\u00e7i\\u015f ortalama 2-5 y\\u0131l aras\\u0131nda s\\u00fcrmektedir. Yani HPV pozitifli\\u011finden kanser a\\u015famas\\u0131na ge\\u00e7i\\u015f istisnalar olmakla birlikte yakla\\u015f\\u0131k 5-15 y\\u0131l i\\u00e7inde olabilmektedir. Jinekolojik muayenesini d\\u00fczenli olan kad\\u0131nlarda HPV pozitifli\\u011fi ve smear anormalli\\u011fi saptanmas\\u0131 durumunda amac\\u0131m\\u0131z CIN-2 ve 3 a\\u015famalar\\u0131nda yakalayarak kansere ilerlemeden \\u00f6nce bu lezyonlar\\u0131 \\u00e7\\u0131karmakt\\u0131r.HPV pozitif negatife d\\u00f6ner mi?30-65 ya\\u015f aras\\u0131ndaki kad\\u0131nlarda \\u00fclkemizde HPV pozitifli\\u011fi %4,5\\u2019tir. Ba\\u011f\\u0131\\u015f\\u0131kl\\u0131k sistemini etkileyen bir hastal\\u0131\\u011f\\u0131 olmayan kad\\u0131nlarda HPV ilk y\\u0131l i\\u00e7inde %75, ikinci y\\u0131lda %90 ve uzun vadede %99 v\\u00fccuttan temizlenmektedir. E\\u011fer temizlenemez ve DNA\\u2019m\\u0131za entegre olursa kanser s\\u00fcreci ba\\u015flamaktad\\u0131r. Bu noktada ba\\u011f\\u0131\\u015f\\u0131kl\\u0131\\u011f\\u0131n \\u00f6nemi b\\u00fcy\\u00fckt\\u00fcr. D\\u00fczensiz beslenme, sigara kullan\\u0131m\\u0131 ve sa\\u011fl\\u0131ks\\u0131z ya\\u015fam tarz\\u0131 s\\u00f6z konusu ise ba\\u011f\\u0131\\u015f\\u0131kl\\u0131k sistemi zay\\u0131f olmaktad\\u0131r.HPV kan testinde belli olur mu?HPV, kan testinde belli olmaz. T\\u0131pk\\u0131 smear testindeki gibi vajinal yoldan servikal s\\u00fcr\\u00fcnt\\u00fc \\u00f6rne\\u011fi al\\u0131n\\u0131r ve bu \\u00f6rnek molek\\u00fcler y\\u00f6ntemlerle incelendikten sonra HPV te\\u015fhis edilir.Bo\\u011fazda HPV vir\\u00fcs\\u00fc nas\\u0131l anla\\u015f\\u0131l\\u0131r?Bo\\u011fazda ya da a\\u011f\\u0131z i\\u00e7inde HPV, bo\\u011faz\\u0131n arkas\\u0131nda, dilin taban\\u0131nda olu\\u015fan si\\u011filler sayesinde fark edilebilir. E\\u011fer buradaki HPV y\\u00fcksek riskli ise a\\u011f\\u0131z-larinks-farinks kanseri geli\\u015febilir.HPV smear testinde \\u00e7\\u0131kar m\\u0131?HPV, Pap smear testinde \\u00e7\\u0131kmamaktad\\u0131r. Pap smear testinde rahim a\\u011fz\\u0131ndan al\\u0131nan h\\u00fccrelerde anormallik olup olmad\\u0131\\u011f\\u0131 kontrol edilmektedir.HPV \\u00f6m\\u00fcr boyu v\\u00fccutta kal\\u0131r m\\u0131?Ba\\u011f\\u0131\\u015f\\u0131kl\\u0131k sistemini etkileyen bir hastal\\u0131\\u011f\\u0131 olmayan kad\\u0131nlarda HPV ilk y\\u0131l i\\u00e7inde %75, ikinci y\\u0131lda %90 ve uzun vadede %99 v\\u00fccuttan temizlenmektedir. E\\u011fer temizlenemez ve DNA\\u2019m\\u0131za entegre olursa kanser s\\u00fcreci ba\\u015flamaktad\\u0131r.HPV ile enfekte olan herkes kanser olur mu?HPV ile enfekte kad\\u0131nlar\\u0131n %1\\u2019inden daha az\\u0131nda kansere ilerlemekte, %99 oran\\u0131nda v\\u00fccuttan ba\\u011f\\u0131\\u015f\\u0131kl\\u0131k sistemimiz arac\\u0131l\\u0131\\u011f\\u0131yla temizlenmektedir.E\\u015fimde HPV var ne yapmal\\u0131y\\u0131m?Kad\\u0131n veya erkekte HPV saptanmas\\u0131 durumunda ili\\u015fki s\\u0131ras\\u0131nda mutlaka kondom kullan\\u0131lmal\\u0131d\\u0131r. Kondom HPV bula\\u015fmas\\u0131n\\u0131n kesin olarak engelleyemese de bula\\u015fma ihtimalini azaltmaktad\\u0131r. HPV a\\u015f\\u0131s\\u0131 da serviks kanserine en s\\u0131k neden olan HPV tip 16 ve 18\\u2019e kar\\u015f\\u0131 ba\\u011f\\u0131\\u015f\\u0131kl\\u0131k sa\\u011flayaca\\u011f\\u0131ndan yap\\u0131labilir. E\\u011fer erkekte HPV pozitifli\\u011fi saptand\\u0131ysa 30 ya\\u015f \\u00fczeri kad\\u0131nlarda HPV testi ve Pap smear testi yap\\u0131lmal\\u0131 ve pozitiflik saptanmas\\u0131 durumunda serviks kolposkopi i\\u015flemi ile ayr\\u0131nt\\u0131l\\u0131 de\\u011ferlendirilmelidir. Kad\\u0131nlarda HPV testi pozitif \\u00e7\\u0131kmas\\u0131 durumunda erkekte rutin olarak HPV testi yap\\u0131lmas\\u0131na gerek yoktur. Ancak \\u00fcretra dedi\\u011fimiz idrar yolunda ya da d\\u0131\\u015f genital organda lezyon saptanmas\\u0131 durumunda mutlaka \\u00fcroloji uzman\\u0131 taraf\\u0131ndan de\\u011ferlendirilmelidir.HPV vir\\u00fcs\\u00fc el ile bula\\u015f\\u0131r m\\u0131?HPV'nin en s\\u0131k bula\\u015f yolu cinsel ili\\u015fkidir. Bunun d\\u0131\\u015f\\u0131nda havlu, i\\u00e7 \\u00e7ama\\u015f\\u0131r\\u0131, jilet, bornoz gibi malzemelerin ortak kullan\\u0131lmas\\u0131, tuvalet sonras\\u0131nda ellerini y\\u0131kamayan ki\\u015filerle tokala\\u015fmak da \\u00e7ok nadir bula\\u015f yollar\\u0131 da olabilmektedir.HPV vir\\u00fcs\\u00fc v\\u00fccuttan nas\\u0131l at\\u0131l\\u0131r?G\\u00fc\\u00e7l\\u00fc ba\\u011f\\u0131\\u015f\\u0131kl\\u0131k sistemi sayesinde vir\\u00fcs v\\u00fccuttan at\\u0131labilir. Ba\\u011f\\u0131\\u015f\\u0131kl\\u0131k sisteminin g\\u00fc\\u00e7l\\u00fc olmas\\u0131 sa\\u011fl\\u0131kl\\u0131 beslenme, d\\u00fczenli ya\\u015fam, kaliteli uyku, egzersiz, sigara i\\u00e7memek ba\\u011f\\u0131\\u015f\\u0131kl\\u0131k sisteminin g\\u00fc\\u00e7l\\u00fc olmas\\u0131n\\u0131 sa\\u011flar.Cinsel ili\\u015fki ya\\u015famadan HPV olunur mu?HPV, seks s\\u0131ras\\u0131nda cilt temas\\u0131yla olur. Ancak tam cinsel ili\\u015fki, birle\\u015fme de gerekmeyebilir. Oral seksle de HPV bula\\u015fabilir. Genital b\\u00f6lge d\\u0131\\u015f\\u0131nda, deride, t\\u0131rnak aras\\u0131nda da HPV olabilir. Bu b\\u00f6lgelerle temasta da HPV bula\\u015fabilir.HPV a\\u015f\\u0131s\\u0131 rutin a\\u015f\\u0131 takviminde yer al\\u0131yor mu?HPV a\\u015f\\u0131s\\u0131 rutin a\\u015f\\u0131 takviminde bulunmamaktad\\u0131r.HPV a\\u015f\\u0131s\\u0131 olan kad\\u0131nlar serviks kanseri taramas\\u0131na kat\\u0131lmal\\u0131 m\\u0131d\\u0131r?HPV a\\u015f\\u0131s\\u0131 olanlar da mutlaka rutin serviks kanseri taramas\\u0131n\\u0131 yapt\\u0131rmal\\u0131d\\u0131r. A\\u015f\\u0131, i\\u00e7erisinde bulunan tipler (T\\u00fcrkiye\\u2019de Gardasil 4\\u2019l\\u00fc a\\u015f\\u0131 bulunmaktad\\u0131r ve HPV 16 ve 18 tiplerini i\\u00e7ermektedir) d\\u0131\\u015f\\u0131ndaki y\\u00fcksek riskli HPV tipleri i\\u00e7in ba\\u011f\\u0131\\u015f\\u0131kl\\u0131k sa\\u011flamaz ve bu nedenle rutin tarama testleri mutlaka uygulanmal\\u0131d\\u0131r.HPV pozitif ama si\\u011fil yok ise ne olur?HPV bula\\u015f\\u0131c\\u0131 bir vir\\u00fcst\\u00fcr. V\\u00fccuda girince belirti g\\u00f6stermeden durabilir. HPV 6 ve 11 gibi baz\\u0131 tipler si\\u011fillere neden olurken \\u00f6zellikle HPV 16, 18,31, 33, 45, 52 ve 58 gibi daha bir\\u00e7ok tip rahim a\\u011fz\\u0131 kanserine ilerleyen s\\u00fcreci ba\\u015flatabilir. Dolay\\u0131s\\u0131yla ki\\u015fide pozitif y\\u00fcksek riskli HPV DNA sonucu var ancak si\\u011fil yoksa bir Jinekolojik Onkoloji ya da Kad\\u0131n Hastal\\u0131klar\\u0131 ve Do\\u011fum uzman\\u0131na g\\u00f6r\\u00fcn\\u00fclmesi gerekmektedir.HPV negatif smear negatif ne anlama gelmektedir?Bu sonucu alan ki\\u015fide rahim a\\u011fz\\u0131 kanseri geli\\u015fme olas\\u0131l\\u0131\\u011f\\u0131 \\u00e7ok \\u00e7ok d\\u00fc\\u015f\\u00fckt\\u00fcr. 5 senede bir HPV ve smear taramas\\u0131 yapt\\u0131rmas\\u0131 \\u00f6nerilmektedir.HPV DNA ile smear testi ayn\\u0131 \\u015fey mi?Rahim a\\u011fz\\u0131 kanserinin taramas\\u0131nda kullan\\u0131lan bu iki test birbirinden farkl\\u0131d\\u0131r. HPV DNA testinde rahim a\\u011fz\\u0131ndan al\\u0131nan s\\u00fcr\\u00fcnt\\u00fcde rahim a\\u011fz\\u0131 kanserine yol a\\u00e7abilen ve bu nedenle y\\u00fcksek riskli olarak tan\\u0131mlanan 14 HPV tipinin (HPV tip 16, 18, 31, 33, 35, 39, 41, 45, 51, 52, 56, 58, 59, 66, 68) varl\\u0131\\u011f\\u0131 ara\\u015ft\\u0131r\\u0131l\\u0131r. Bu vir\\u00fcslerden biri ya da birka\\u00e7\\u0131 pozitif saptanan hastalar kolposkopi ile de\\u011ferlendirilerek bu vir\\u00fcslerin \\u00f6zellikle rahim a\\u011fz\\u0131nda kansere ilerleyen s\\u00fcreci ba\\u015flat\\u0131p ba\\u015flatmad\\u0131klar\\u0131 de\\u011ferlendirilir. Pap smear testinde ise yine rahim a\\u011fz\\u0131ndan ve vajenden al\\u0131nan s\\u00fcr\\u00fcnt\\u00fcde y\\u00fcksek riskli HPV tiplerinin neden oldu\\u011fu rahim a\\u011fz\\u0131ndaki h\\u00fccresel de\\u011fi\\u015fikliklerin olup olmad\\u0131\\u011f\\u0131 de\\u011ferlendirilir. Bu hastalarda da kolposkopi ile \\u00f6zellikle rahim a\\u011fz\\u0131 de\\u011ferlendirilerek kansere ilerleyebilecek lezyon olup olmad\\u0131\\u011f\\u0131 de\\u011ferlendirilir. Kolposkopide kanser \\u00f6ncesi lezyon saptan\\u0131rsa (CIN2 veya 3 gibi) LEEP ad\\u0131 verilen nispeten basit bir i\\u015flemi ile bu dokular \\u00e7\\u0131kar\\u0131l\\u0131r.HPV si\\u011fil yoksa da bula\\u015f\\u0131r m\\u0131?HPV, cinsel yolla bula\\u015fan bir vir\\u00fcst\\u00fcr. HPV ta\\u015f\\u0131yan ki\\u015fiyle cinsel ili\\u015fki, oral ili\\u015fki, vajinal ili\\u015fki ya da anal ili\\u015fki ile bula\\u015fabilmektedir. Si\\u011fil olmasa da HPV bula\\u015f\\u0131c\\u0131d\\u0131r.HPV i\\u00e7in risk fakt\\u00f6rleri nelerdir?\\u00c7ok e\\u015flilik HPV enfeksiyonu riskini art\\u0131r\\u0131r. Birden fazla ki\\u015fiyle cinsel ili\\u015fki ya\\u015fayan ki\\u015filerde risk daha y\\u00fcksektir. Bunun yan\\u0131nda ba\\u011f\\u0131\\u015f\\u0131kl\\u0131k sisteminin zay\\u0131flad\\u0131\\u011f\\u0131 ki\\u015filer risk alt\\u0131ndad\\u0131r. HPV'ye maruz kalm\\u0131\\u015f y\\u00fczeylerle temas yoluyla da HPV nadiren bula\\u015fabilmektedir.HPV nas\\u0131l temizlenir?HPV'nin v\\u00fccuttan at\\u0131lmas\\u0131n\\u0131 sa\\u011flamak i\\u00e7in ba\\u011f\\u0131\\u015f\\u0131kl\\u0131k sistemi g\\u00fc\\u00e7lendirilmelidir. D\\u00fczenli uyku, dengeli beslenme, d\\u00fczenli egzersiz, ba\\u011f\\u0131\\u015f\\u0131kl\\u0131\\u011f\\u0131 destekleyen \\u00f6nerilerle bu m\\u00fcmk\\u00fcn olabilir.HPV 16 kanser yapar m\\u0131?HPV'nin 200'den fazla t\\u00fcr\\u00fc vard\\u0131r. \\u00d6zellikle HPV 16 kanser a\\u00e7\\u0131s\\u0131ndan riskli bir t\\u00fcrd\\u00fcr. HPV 16 ve HPV 18 t\\u00fcr\\u00fc rahim a\\u011fz\\u0131 kanserine sebep olurken, HPV 6 ve HPV 11 genital organlarda si\\u011fillere sebep olabilmektedir.HPV a\\u015f\\u0131s\\u0131 rahim a\\u011fz\\u0131 kanserini engeller mi?HPV \\u00e7ok tehlikeli bir vir\\u00fcst\\u00fcr. HPV ile rahim a\\u011fz\\u0131 kanserinin yak\\u0131ndan ili\\u015fkisi vard\\u0131r. HPV a\\u015f\\u0131s\\u0131 HPV enfeksiyonunu \\u00f6nleyerek rahim a\\u011fz\\u0131 kanserinden korumaktad\\u0131r. 4\\u2019l\\u00fc ve 9\\u2019lu a\\u015f\\u0131lar ayr\\u0131ca genital si\\u011filleri de \\u00f6nlemektedir. \\u0130lk cinsel ili\\u015fkiden \\u00f6nce uyguland\\u0131\\u011f\\u0131nda y\\u00fczde 100\\u2019e yak\\u0131n koruyuculu\\u011fu vard\\u0131r.HPV varsa endi\\u015fe edilmeli mi?Hastalar genellikle HPV pozitif oldu\\u011funu \\u00f6\\u011frendi\\u011finde panik halinde bize ba\\u015fvuruyorlar. Ancak panik yapmaya gerek yoktur. 50 ya\\u015f\\u0131na kadar her 5 kad\\u0131ndan 3 ya da 4\\u2019\\u00fc fark\\u0131nda olmasa da HPV ile enfekte olmaktad\\u0131r. Y\\u00fcksek riskli HPV pozitif kad\\u0131nlar\\u0131n %90\\u2019\\u0131 2 y\\u0131l i\\u00e7inde bu vir\\u00fcsten ba\\u011f\\u0131\\u015f\\u0131kl\\u0131k sistemi sayesinde kendili\\u011finden kurtulmaktad\\u0131r. Kanser riski vir\\u00fcs\\u00fc atamayan %10\\u2019luk grupta olu\\u015fmaktad\\u0131r. Dolay\\u0131s\\u0131yla HPV ile enfekte kad\\u0131nlar\\u0131n b\\u00fcy\\u00fck \\u00e7o\\u011funlu\\u011funda rahim a\\u011fz\\u0131 kanseri geli\\u015fmemektedir. Ancak kansere ilerleme konusunu \\u00f6ng\\u00f6remedi\\u011fimiz i\\u00e7in y\\u00fcksek riskli HPV pozitif saptanan kad\\u0131nlar mutlaka bir uzmana ba\\u015fvurmas\\u0131 ve takiplerini yapt\\u0131rmas\\u0131 \\u00f6nemlidir.\"\n        ],\n        \"semantic_type\": \"\",\n        \"description\": \"\"\n      }\n    },\n    {\n      \"column\": \"num_tokens\",\n      \"properties\": {\n        \"dtype\": \"number\",\n        \"std\": 1396,\n        \"min\": 1142,\n        \"max\": 11030,\n        \"num_unique_values\": 138,\n        \"samples\": [\n          1671\n        ],\n        \"semantic_type\": \"\",\n        \"description\": \"\"\n      }\n    }\n  ]\n}"
            }
          },
          "metadata": {},
          "execution_count": 319
        }
      ]
    },
    {
      "cell_type": "code",
      "source": [
        "df.to_pickle(\"hastaliklar.pkl\")"
      ],
      "metadata": {
        "id": "lqWOPZ165Xhc"
      },
      "execution_count": null,
      "outputs": []
    },
    {
      "cell_type": "markdown",
      "source": [
        "# Tedavi Yöntemleri (Treatment Methods)"
      ],
      "metadata": {
        "id": "-raj8kFi5t6V"
      }
    },
    {
      "cell_type": "code",
      "source": [
        "param = \"tedavi-yontemleri\"\n",
        "url = set_url(base_url, param)\n",
        "url"
      ],
      "metadata": {
        "colab": {
          "base_uri": "https://localhost:8080/",
          "height": 36
        },
        "id": "fxx-KvsK5fbG",
        "outputId": "3ffdcec1-a342-473e-a2be-6923341feac2"
      },
      "execution_count": null,
      "outputs": [
        {
          "output_type": "execute_result",
          "data": {
            "text/plain": [
              "'https://www.memorial.com.tr/tedavi-yontemleri'"
            ],
            "application/vnd.google.colaboratory.intrinsic+json": {
              "type": "string"
            }
          },
          "metadata": {},
          "execution_count": 299
        }
      ]
    },
    {
      "cell_type": "code",
      "source": [
        "htmlData = get_divs(url)"
      ],
      "metadata": {
        "id": "-o5Cl63z6OR-"
      },
      "execution_count": null,
      "outputs": []
    },
    {
      "cell_type": "code",
      "source": [
        "names = get_names(htmlData)\n",
        "names[:3], len(names)"
      ],
      "metadata": {
        "colab": {
          "base_uri": "https://localhost:8080/"
        },
        "id": "7W9C6n6b6Ub3",
        "outputId": "3e4ecf54-a8e5-47f4-8238-ea4198b33a8d"
      },
      "execution_count": null,
      "outputs": [
        {
          "output_type": "execute_result",
          "data": {
            "text/plain": [
              "(['Ablasyon', 'Açık Kalp Ameliyatı', 'Açık Nefrektomi'], 207)"
            ]
          },
          "metadata": {},
          "execution_count": 301
        }
      ]
    },
    {
      "cell_type": "code",
      "source": [
        "name_params = []\n",
        "for html in htmlData:\n",
        "  url = [a['href'] for a in html.select('a[href^=\"/tedavi-yontemleri\"]')]\n",
        "  name_params.append(url[0])\n",
        "len(name_params)"
      ],
      "metadata": {
        "colab": {
          "base_uri": "https://localhost:8080/"
        },
        "id": "navwYIu_6mTE",
        "outputId": "3b11a98d-e828-40fe-b888-620a1f062036"
      },
      "execution_count": null,
      "outputs": [
        {
          "output_type": "execute_result",
          "data": {
            "text/plain": [
              "207"
            ]
          },
          "metadata": {},
          "execution_count": 302
        }
      ]
    },
    {
      "cell_type": "code",
      "source": [
        "# creating a list of dicts to keep track of the data while running ThreadPoolExecutor\n",
        "param_records = []\n",
        "for i in range(len(names)):\n",
        "  rec = {\n",
        "      \"name\": names[i],\n",
        "      \"param\": name_params[i]\n",
        "  }\n",
        "  param_records.append(rec)"
      ],
      "metadata": {
        "id": "fpu_wjmuE9IV"
      },
      "execution_count": null,
      "outputs": []
    },
    {
      "cell_type": "code",
      "source": [
        "raw_texts = []\n",
        "get_raw_text_pool(10, param_records)      # takes about 30sec to complete"
      ],
      "metadata": {
        "id": "Kn9f8zEeFWdQ"
      },
      "execution_count": null,
      "outputs": []
    },
    {
      "cell_type": "code",
      "source": [
        "# getting raw text and names in a list format\n",
        "names = []\n",
        "raws = []\n",
        "for rec in raw_texts:\n",
        "  names.append(list(rec.keys())[0])\n",
        "  raws.append(list(rec.values())[0])"
      ],
      "metadata": {
        "id": "yN2PXzT6FZVS"
      },
      "execution_count": null,
      "outputs": []
    },
    {
      "cell_type": "code",
      "source": [
        "texts = get_texts(raws, k=4)    # k was checked beforehand"
      ],
      "metadata": {
        "id": "xB7BJ-TMHBP1"
      },
      "execution_count": null,
      "outputs": []
    },
    {
      "cell_type": "code",
      "source": [
        "encoder = \"cl100k_base\"\n",
        "num_tokens = get_num_tokens(encoder, texts)"
      ],
      "metadata": {
        "id": "vw6Ys4CSHUZI"
      },
      "execution_count": null,
      "outputs": []
    },
    {
      "cell_type": "code",
      "source": [
        "data = {\n",
        "    \"category\": \"Tedavi Yöntemleri\",\n",
        "    \"topic\": names,\n",
        "    \"text\": texts,\n",
        "    \"num_tokens\": num_tokens\n",
        "}"
      ],
      "metadata": {
        "id": "IFnZpVoRHav-"
      },
      "execution_count": null,
      "outputs": []
    },
    {
      "cell_type": "code",
      "source": [
        "df = pd.DataFrame(data=data, index=None)"
      ],
      "metadata": {
        "id": "RzlC3db0HxmW"
      },
      "execution_count": null,
      "outputs": []
    },
    {
      "cell_type": "code",
      "source": [
        "df"
      ],
      "metadata": {
        "colab": {
          "base_uri": "https://localhost:8080/",
          "height": 423
        },
        "id": "NHMhQv5MH1J5",
        "outputId": "e47c4045-1e3e-4469-d5e8-e595e19bc9ba"
      },
      "execution_count": null,
      "outputs": [
        {
          "output_type": "execute_result",
          "data": {
            "text/plain": [
              "              category                              topic  \\\n",
              "0    Tedavi Yöntemleri                Açık Kalp Ameliyatı   \n",
              "1    Tedavi Yöntemleri                             Aferez   \n",
              "2    Tedavi Yöntemleri                    Akciğer Kanseri   \n",
              "3    Tedavi Yöntemleri                           Ablasyon   \n",
              "4    Tedavi Yöntemleri                        Akıllı Lens   \n",
              "..                 ...                                ...   \n",
              "202  Tedavi Yöntemleri            Yumurta Çatlatma İğnesi   \n",
              "203  Tedavi Yöntemleri  Yüksek Tibial Osteotomi Ameliyatı   \n",
              "204  Tedavi Yöntemleri                        Yüz Dolgusu   \n",
              "205  Tedavi Yöntemleri                         Vitrektomi   \n",
              "206  Tedavi Yöntemleri                            Whipple   \n",
              "\n",
              "                                                  text  num_tokens  \n",
              "0     Kalp ameliyatlarında en klasik yöntem olan aç...        1552  \n",
              "1     Aferez, kişinin vücudundan kanının alınarak b...        1608  \n",
              "2     Tüm dünyada kanser türleri arasında en sık ha...        2206  \n",
              "3     Ablasyon anormal kalp ritmini düzeltmek amaçl...        2074  \n",
              "4     Akıllı lens, göz içine yerleştirilen ve görme...        1445  \n",
              "..                                                 ...         ...  \n",
              "202   Yumurtalama sorunu yaşayıp, adet düzensizliği...        2008  \n",
              "203   Diz eklemi, vücudun ağırlığını taşıyan karmaş...        1766  \n",
              "204   Yüz dolgusu, çene, göz, elmacık kemikleri ve ...        2569  \n",
              "205   Vitrektomi, göz içerisinde yer alan vitreus s...        2377  \n",
              "206   Pankreas başı, bu bölgeye yakın safra yolları...        2665  \n",
              "\n",
              "[207 rows x 4 columns]"
            ],
            "text/html": [
              "\n",
              "  <div id=\"df-abaa2bc8-878f-4e6e-9d33-27e029cd1f05\" class=\"colab-df-container\">\n",
              "    <div>\n",
              "<style scoped>\n",
              "    .dataframe tbody tr th:only-of-type {\n",
              "        vertical-align: middle;\n",
              "    }\n",
              "\n",
              "    .dataframe tbody tr th {\n",
              "        vertical-align: top;\n",
              "    }\n",
              "\n",
              "    .dataframe thead th {\n",
              "        text-align: right;\n",
              "    }\n",
              "</style>\n",
              "<table border=\"1\" class=\"dataframe\">\n",
              "  <thead>\n",
              "    <tr style=\"text-align: right;\">\n",
              "      <th></th>\n",
              "      <th>category</th>\n",
              "      <th>topic</th>\n",
              "      <th>text</th>\n",
              "      <th>num_tokens</th>\n",
              "    </tr>\n",
              "  </thead>\n",
              "  <tbody>\n",
              "    <tr>\n",
              "      <th>0</th>\n",
              "      <td>Tedavi Yöntemleri</td>\n",
              "      <td>Açık Kalp Ameliyatı</td>\n",
              "      <td>Kalp ameliyatlarında en klasik yöntem olan aç...</td>\n",
              "      <td>1552</td>\n",
              "    </tr>\n",
              "    <tr>\n",
              "      <th>1</th>\n",
              "      <td>Tedavi Yöntemleri</td>\n",
              "      <td>Aferez</td>\n",
              "      <td>Aferez, kişinin vücudundan kanının alınarak b...</td>\n",
              "      <td>1608</td>\n",
              "    </tr>\n",
              "    <tr>\n",
              "      <th>2</th>\n",
              "      <td>Tedavi Yöntemleri</td>\n",
              "      <td>Akciğer Kanseri</td>\n",
              "      <td>Tüm dünyada kanser türleri arasında en sık ha...</td>\n",
              "      <td>2206</td>\n",
              "    </tr>\n",
              "    <tr>\n",
              "      <th>3</th>\n",
              "      <td>Tedavi Yöntemleri</td>\n",
              "      <td>Ablasyon</td>\n",
              "      <td>Ablasyon anormal kalp ritmini düzeltmek amaçl...</td>\n",
              "      <td>2074</td>\n",
              "    </tr>\n",
              "    <tr>\n",
              "      <th>4</th>\n",
              "      <td>Tedavi Yöntemleri</td>\n",
              "      <td>Akıllı Lens</td>\n",
              "      <td>Akıllı lens, göz içine yerleştirilen ve görme...</td>\n",
              "      <td>1445</td>\n",
              "    </tr>\n",
              "    <tr>\n",
              "      <th>...</th>\n",
              "      <td>...</td>\n",
              "      <td>...</td>\n",
              "      <td>...</td>\n",
              "      <td>...</td>\n",
              "    </tr>\n",
              "    <tr>\n",
              "      <th>202</th>\n",
              "      <td>Tedavi Yöntemleri</td>\n",
              "      <td>Yumurta Çatlatma İğnesi</td>\n",
              "      <td>Yumurtalama sorunu yaşayıp, adet düzensizliği...</td>\n",
              "      <td>2008</td>\n",
              "    </tr>\n",
              "    <tr>\n",
              "      <th>203</th>\n",
              "      <td>Tedavi Yöntemleri</td>\n",
              "      <td>Yüksek Tibial Osteotomi Ameliyatı</td>\n",
              "      <td>Diz eklemi, vücudun ağırlığını taşıyan karmaş...</td>\n",
              "      <td>1766</td>\n",
              "    </tr>\n",
              "    <tr>\n",
              "      <th>204</th>\n",
              "      <td>Tedavi Yöntemleri</td>\n",
              "      <td>Yüz Dolgusu</td>\n",
              "      <td>Yüz dolgusu, çene, göz, elmacık kemikleri ve ...</td>\n",
              "      <td>2569</td>\n",
              "    </tr>\n",
              "    <tr>\n",
              "      <th>205</th>\n",
              "      <td>Tedavi Yöntemleri</td>\n",
              "      <td>Vitrektomi</td>\n",
              "      <td>Vitrektomi, göz içerisinde yer alan vitreus s...</td>\n",
              "      <td>2377</td>\n",
              "    </tr>\n",
              "    <tr>\n",
              "      <th>206</th>\n",
              "      <td>Tedavi Yöntemleri</td>\n",
              "      <td>Whipple</td>\n",
              "      <td>Pankreas başı, bu bölgeye yakın safra yolları...</td>\n",
              "      <td>2665</td>\n",
              "    </tr>\n",
              "  </tbody>\n",
              "</table>\n",
              "<p>207 rows × 4 columns</p>\n",
              "</div>\n",
              "    <div class=\"colab-df-buttons\">\n",
              "\n",
              "  <div class=\"colab-df-container\">\n",
              "    <button class=\"colab-df-convert\" onclick=\"convertToInteractive('df-abaa2bc8-878f-4e6e-9d33-27e029cd1f05')\"\n",
              "            title=\"Convert this dataframe to an interactive table.\"\n",
              "            style=\"display:none;\">\n",
              "\n",
              "  <svg xmlns=\"http://www.w3.org/2000/svg\" height=\"24px\" viewBox=\"0 -960 960 960\">\n",
              "    <path d=\"M120-120v-720h720v720H120Zm60-500h600v-160H180v160Zm220 220h160v-160H400v160Zm0 220h160v-160H400v160ZM180-400h160v-160H180v160Zm440 0h160v-160H620v160ZM180-180h160v-160H180v160Zm440 0h160v-160H620v160Z\"/>\n",
              "  </svg>\n",
              "    </button>\n",
              "\n",
              "  <style>\n",
              "    .colab-df-container {\n",
              "      display:flex;\n",
              "      gap: 12px;\n",
              "    }\n",
              "\n",
              "    .colab-df-convert {\n",
              "      background-color: #E8F0FE;\n",
              "      border: none;\n",
              "      border-radius: 50%;\n",
              "      cursor: pointer;\n",
              "      display: none;\n",
              "      fill: #1967D2;\n",
              "      height: 32px;\n",
              "      padding: 0 0 0 0;\n",
              "      width: 32px;\n",
              "    }\n",
              "\n",
              "    .colab-df-convert:hover {\n",
              "      background-color: #E2EBFA;\n",
              "      box-shadow: 0px 1px 2px rgba(60, 64, 67, 0.3), 0px 1px 3px 1px rgba(60, 64, 67, 0.15);\n",
              "      fill: #174EA6;\n",
              "    }\n",
              "\n",
              "    .colab-df-buttons div {\n",
              "      margin-bottom: 4px;\n",
              "    }\n",
              "\n",
              "    [theme=dark] .colab-df-convert {\n",
              "      background-color: #3B4455;\n",
              "      fill: #D2E3FC;\n",
              "    }\n",
              "\n",
              "    [theme=dark] .colab-df-convert:hover {\n",
              "      background-color: #434B5C;\n",
              "      box-shadow: 0px 1px 3px 1px rgba(0, 0, 0, 0.15);\n",
              "      filter: drop-shadow(0px 1px 2px rgba(0, 0, 0, 0.3));\n",
              "      fill: #FFFFFF;\n",
              "    }\n",
              "  </style>\n",
              "\n",
              "    <script>\n",
              "      const buttonEl =\n",
              "        document.querySelector('#df-abaa2bc8-878f-4e6e-9d33-27e029cd1f05 button.colab-df-convert');\n",
              "      buttonEl.style.display =\n",
              "        google.colab.kernel.accessAllowed ? 'block' : 'none';\n",
              "\n",
              "      async function convertToInteractive(key) {\n",
              "        const element = document.querySelector('#df-abaa2bc8-878f-4e6e-9d33-27e029cd1f05');\n",
              "        const dataTable =\n",
              "          await google.colab.kernel.invokeFunction('convertToInteractive',\n",
              "                                                    [key], {});\n",
              "        if (!dataTable) return;\n",
              "\n",
              "        const docLinkHtml = 'Like what you see? Visit the ' +\n",
              "          '<a target=\"_blank\" href=https://colab.research.google.com/notebooks/data_table.ipynb>data table notebook</a>'\n",
              "          + ' to learn more about interactive tables.';\n",
              "        element.innerHTML = '';\n",
              "        dataTable['output_type'] = 'display_data';\n",
              "        await google.colab.output.renderOutput(dataTable, element);\n",
              "        const docLink = document.createElement('div');\n",
              "        docLink.innerHTML = docLinkHtml;\n",
              "        element.appendChild(docLink);\n",
              "      }\n",
              "    </script>\n",
              "  </div>\n",
              "\n",
              "\n",
              "<div id=\"df-36fd93a7-29c2-4de9-9eb7-c6128ba74212\">\n",
              "  <button class=\"colab-df-quickchart\" onclick=\"quickchart('df-36fd93a7-29c2-4de9-9eb7-c6128ba74212')\"\n",
              "            title=\"Suggest charts\"\n",
              "            style=\"display:none;\">\n",
              "\n",
              "<svg xmlns=\"http://www.w3.org/2000/svg\" height=\"24px\"viewBox=\"0 0 24 24\"\n",
              "     width=\"24px\">\n",
              "    <g>\n",
              "        <path d=\"M19 3H5c-1.1 0-2 .9-2 2v14c0 1.1.9 2 2 2h14c1.1 0 2-.9 2-2V5c0-1.1-.9-2-2-2zM9 17H7v-7h2v7zm4 0h-2V7h2v10zm4 0h-2v-4h2v4z\"/>\n",
              "    </g>\n",
              "</svg>\n",
              "  </button>\n",
              "\n",
              "<style>\n",
              "  .colab-df-quickchart {\n",
              "      --bg-color: #E8F0FE;\n",
              "      --fill-color: #1967D2;\n",
              "      --hover-bg-color: #E2EBFA;\n",
              "      --hover-fill-color: #174EA6;\n",
              "      --disabled-fill-color: #AAA;\n",
              "      --disabled-bg-color: #DDD;\n",
              "  }\n",
              "\n",
              "  [theme=dark] .colab-df-quickchart {\n",
              "      --bg-color: #3B4455;\n",
              "      --fill-color: #D2E3FC;\n",
              "      --hover-bg-color: #434B5C;\n",
              "      --hover-fill-color: #FFFFFF;\n",
              "      --disabled-bg-color: #3B4455;\n",
              "      --disabled-fill-color: #666;\n",
              "  }\n",
              "\n",
              "  .colab-df-quickchart {\n",
              "    background-color: var(--bg-color);\n",
              "    border: none;\n",
              "    border-radius: 50%;\n",
              "    cursor: pointer;\n",
              "    display: none;\n",
              "    fill: var(--fill-color);\n",
              "    height: 32px;\n",
              "    padding: 0;\n",
              "    width: 32px;\n",
              "  }\n",
              "\n",
              "  .colab-df-quickchart:hover {\n",
              "    background-color: var(--hover-bg-color);\n",
              "    box-shadow: 0 1px 2px rgba(60, 64, 67, 0.3), 0 1px 3px 1px rgba(60, 64, 67, 0.15);\n",
              "    fill: var(--button-hover-fill-color);\n",
              "  }\n",
              "\n",
              "  .colab-df-quickchart-complete:disabled,\n",
              "  .colab-df-quickchart-complete:disabled:hover {\n",
              "    background-color: var(--disabled-bg-color);\n",
              "    fill: var(--disabled-fill-color);\n",
              "    box-shadow: none;\n",
              "  }\n",
              "\n",
              "  .colab-df-spinner {\n",
              "    border: 2px solid var(--fill-color);\n",
              "    border-color: transparent;\n",
              "    border-bottom-color: var(--fill-color);\n",
              "    animation:\n",
              "      spin 1s steps(1) infinite;\n",
              "  }\n",
              "\n",
              "  @keyframes spin {\n",
              "    0% {\n",
              "      border-color: transparent;\n",
              "      border-bottom-color: var(--fill-color);\n",
              "      border-left-color: var(--fill-color);\n",
              "    }\n",
              "    20% {\n",
              "      border-color: transparent;\n",
              "      border-left-color: var(--fill-color);\n",
              "      border-top-color: var(--fill-color);\n",
              "    }\n",
              "    30% {\n",
              "      border-color: transparent;\n",
              "      border-left-color: var(--fill-color);\n",
              "      border-top-color: var(--fill-color);\n",
              "      border-right-color: var(--fill-color);\n",
              "    }\n",
              "    40% {\n",
              "      border-color: transparent;\n",
              "      border-right-color: var(--fill-color);\n",
              "      border-top-color: var(--fill-color);\n",
              "    }\n",
              "    60% {\n",
              "      border-color: transparent;\n",
              "      border-right-color: var(--fill-color);\n",
              "    }\n",
              "    80% {\n",
              "      border-color: transparent;\n",
              "      border-right-color: var(--fill-color);\n",
              "      border-bottom-color: var(--fill-color);\n",
              "    }\n",
              "    90% {\n",
              "      border-color: transparent;\n",
              "      border-bottom-color: var(--fill-color);\n",
              "    }\n",
              "  }\n",
              "</style>\n",
              "\n",
              "  <script>\n",
              "    async function quickchart(key) {\n",
              "      const quickchartButtonEl =\n",
              "        document.querySelector('#' + key + ' button');\n",
              "      quickchartButtonEl.disabled = true;  // To prevent multiple clicks.\n",
              "      quickchartButtonEl.classList.add('colab-df-spinner');\n",
              "      try {\n",
              "        const charts = await google.colab.kernel.invokeFunction(\n",
              "            'suggestCharts', [key], {});\n",
              "      } catch (error) {\n",
              "        console.error('Error during call to suggestCharts:', error);\n",
              "      }\n",
              "      quickchartButtonEl.classList.remove('colab-df-spinner');\n",
              "      quickchartButtonEl.classList.add('colab-df-quickchart-complete');\n",
              "    }\n",
              "    (() => {\n",
              "      let quickchartButtonEl =\n",
              "        document.querySelector('#df-36fd93a7-29c2-4de9-9eb7-c6128ba74212 button');\n",
              "      quickchartButtonEl.style.display =\n",
              "        google.colab.kernel.accessAllowed ? 'block' : 'none';\n",
              "    })();\n",
              "  </script>\n",
              "</div>\n",
              "\n",
              "  <div id=\"id_49ce6588-386f-40b4-a5a7-d1bb80e945cf\">\n",
              "    <style>\n",
              "      .colab-df-generate {\n",
              "        background-color: #E8F0FE;\n",
              "        border: none;\n",
              "        border-radius: 50%;\n",
              "        cursor: pointer;\n",
              "        display: none;\n",
              "        fill: #1967D2;\n",
              "        height: 32px;\n",
              "        padding: 0 0 0 0;\n",
              "        width: 32px;\n",
              "      }\n",
              "\n",
              "      .colab-df-generate:hover {\n",
              "        background-color: #E2EBFA;\n",
              "        box-shadow: 0px 1px 2px rgba(60, 64, 67, 0.3), 0px 1px 3px 1px rgba(60, 64, 67, 0.15);\n",
              "        fill: #174EA6;\n",
              "      }\n",
              "\n",
              "      [theme=dark] .colab-df-generate {\n",
              "        background-color: #3B4455;\n",
              "        fill: #D2E3FC;\n",
              "      }\n",
              "\n",
              "      [theme=dark] .colab-df-generate:hover {\n",
              "        background-color: #434B5C;\n",
              "        box-shadow: 0px 1px 3px 1px rgba(0, 0, 0, 0.15);\n",
              "        filter: drop-shadow(0px 1px 2px rgba(0, 0, 0, 0.3));\n",
              "        fill: #FFFFFF;\n",
              "      }\n",
              "    </style>\n",
              "    <button class=\"colab-df-generate\" onclick=\"generateWithVariable('df')\"\n",
              "            title=\"Generate code using this dataframe.\"\n",
              "            style=\"display:none;\">\n",
              "\n",
              "  <svg xmlns=\"http://www.w3.org/2000/svg\" height=\"24px\"viewBox=\"0 0 24 24\"\n",
              "       width=\"24px\">\n",
              "    <path d=\"M7,19H8.4L18.45,9,17,7.55,7,17.6ZM5,21V16.75L18.45,3.32a2,2,0,0,1,2.83,0l1.4,1.43a1.91,1.91,0,0,1,.58,1.4,1.91,1.91,0,0,1-.58,1.4L9.25,21ZM18.45,9,17,7.55Zm-12,3A5.31,5.31,0,0,0,4.9,8.1,5.31,5.31,0,0,0,1,6.5,5.31,5.31,0,0,0,4.9,4.9,5.31,5.31,0,0,0,6.5,1,5.31,5.31,0,0,0,8.1,4.9,5.31,5.31,0,0,0,12,6.5,5.46,5.46,0,0,0,6.5,12Z\"/>\n",
              "  </svg>\n",
              "    </button>\n",
              "    <script>\n",
              "      (() => {\n",
              "      const buttonEl =\n",
              "        document.querySelector('#id_49ce6588-386f-40b4-a5a7-d1bb80e945cf button.colab-df-generate');\n",
              "      buttonEl.style.display =\n",
              "        google.colab.kernel.accessAllowed ? 'block' : 'none';\n",
              "\n",
              "      buttonEl.onclick = () => {\n",
              "        google.colab.notebook.generateWithVariable('df');\n",
              "      }\n",
              "      })();\n",
              "    </script>\n",
              "  </div>\n",
              "\n",
              "    </div>\n",
              "  </div>\n"
            ],
            "application/vnd.google.colaboratory.intrinsic+json": {
              "type": "dataframe",
              "variable_name": "df",
              "summary": "{\n  \"name\": \"df\",\n  \"rows\": 207,\n  \"fields\": [\n    {\n      \"column\": \"category\",\n      \"properties\": {\n        \"dtype\": \"category\",\n        \"num_unique_values\": 1,\n        \"samples\": [\n          \"Tedavi Y\\u00f6ntemleri\"\n        ],\n        \"semantic_type\": \"\",\n        \"description\": \"\"\n      }\n    },\n    {\n      \"column\": \"topic\",\n      \"properties\": {\n        \"dtype\": \"string\",\n        \"num_unique_values\": 207,\n        \"samples\": [\n          \"Mitraclip\"\n        ],\n        \"semantic_type\": \"\",\n        \"description\": \"\"\n      }\n    },\n    {\n      \"column\": \"text\",\n      \"properties\": {\n        \"dtype\": \"string\",\n        \"num_unique_values\": 207,\n        \"samples\": [\n          \" Mitral kapaktaki problemlerde ileri ya\\u015f hastalar\\u0131 i\\u00e7in a\\u00e7\\u0131k cerrahi uygun olmayabiliyor. Bu nedenle g\\u00f6\\u011f\\u00fcste kesi olmadan kas\\u0131ktan yap\\u0131lan mitraclip tedavisi \\u00f6zellikle nefes almakta zorlanan hastalar\\u0131n, nefesini d\\u00fczeltip, hareketlerini rahatlatan ve uzun vadede kalbin bozulmas\\u0131n\\u0131 \\u00f6nleyebilecek bir yakla\\u015f\\u0131md\\u0131r. Memorial Sa\\u011fl\\u0131k Grubu Kardiyoloji B\\u00f6l\\u00fcm\\u00fc Uzmanlar\\u0131 mitraclip tedavisi hakk\\u0131nda bilgi verdi.M\\u0130TRACL\\u0130P (Ameliyats\\u0131z Mitral Kapak Yetmezli\\u011fi Tamiri) nedir?Mitraclip mitral kapa\\u011f\\u0131n ka\\u00e7a\\u011f\\u0131nda uygulanan minimal invaziv bir tedavi metodudur. Klasik olarak ka\\u00e7ak olan mitral kapaklar a\\u00e7\\u0131k kalp cerrahisiyle tedavi edilmektedir. Bir\\u00e7ok hastada g\\u00f6\\u011f\\u00fcs kemi\\u011finin kesilmesi gerekmektedir. Robotla da bu tedavinin yap\\u0131lmas\\u0131 m\\u00fcmk\\u00fcnd\\u00fcr ama robotla da a\\u00e7\\u0131k kalp cerrahisi s\\u00f6z konusudur. Yani robotla da g\\u00f6\\u011f\\u00fcste bir tak\\u0131m kesiler yap\\u0131lmaktad\\u0131r. Mitraclip metodu ise t\\u00fcm\\u00fcyle anjiyo y\\u00f6ntemiyle uygulanmaktad\\u0131r. G\\u00f6\\u011f\\u00fcste hi\\u00e7bir kesinin olmad\\u0131\\u011f\\u0131, kas\\u0131ktan yap\\u0131lan bir i\\u015flemdir.M\\u0130TRACL\\u0130P hangi hastal\\u0131klarda uygulan\\u0131r?Mitral kapak ka\\u00e7aklar\\u0131nda ameliyat, ileri ya\\u015f hastalar\\u0131 i\\u00e7in \\u00f6nemli s\\u0131k\\u0131nt\\u0131lar\\u0131 da beraberinde getiriyor. Ya\\u015fl\\u0131 hastalar genellikle damar sertli\\u011fi ve v\\u00fccut y\\u0131pranmas\\u0131na ba\\u011fl\\u0131 olarak s\\u0131kl\\u0131kla aort kapakta zaman zaman da mitral kapakta ciddi sorunlarla kar\\u015f\\u0131la\\u015f\\u0131yor. Bu problemlerin \\u00e7\\u00f6z\\u00fcm\\u00fc ne yaz\\u0131k ki klasik y\\u00f6ntemlerle her zaman m\\u00fcmk\\u00fcn olam\\u0131yor. \\u00c7\\u00fcnk\\u00fc 90 ya\\u015f\\u0131ndaki bir hastaya kapak de\\u011fi\\u015ftirme ameliyat\\u0131 uygulamak \\u00e7ok riskli. Ameliyat sonras\\u0131 olu\\u015fabilecek komplikasyonlar ileri ya\\u015ftaki hastalarda k\\u00f6t\\u00fc sonu\\u00e7lara neden olabiliyor. Hekimler olarak \\u00f6yle durumlarla kar\\u015f\\u0131la\\u015f\\u0131yoruz ki, bazen \\u00e7ok ya\\u015fl\\u0131 hastalar\\u0131 ameliyat edemedi\\u011fimiz i\\u00e7in onlar\\u0131 kaderlerine terk ediyoruz. \\u00d6zellikle uzun y\\u0131llar sigara kullan\\u0131m\\u0131 olan ya\\u015fl\\u0131 hastalar akci\\u011fer sorunlar\\u0131n\\u0131n yan\\u0131 s\\u0131ra ba\\u015fka hastal\\u0131klarla da kar\\u015f\\u0131m\\u0131za \\u00e7\\u0131kabiliyor. Bunun yan\\u0131nda ge\\u00e7irdikleri kanser operasyonlar\\u0131, diyabet gibi sorunlar\\u0131 yani e\\u015flik eden hastal\\u0131klar\\u0131 \\u00e7ok say\\u0131da olabiliyor. Bu t\\u00fcr durumlar ya\\u015fl\\u0131 hastalar\\u0131n ameliyat edilmelerine engel te\\u015fkil ediyor. A\\u00e7\\u0131k kalp cerrahisini kald\\u0131ramayacak hastalarda daha d\\u00fc\\u015f\\u00fck riskli oldu\\u011fu i\\u00e7in, yani ameliyat kadar b\\u00fcy\\u00fck prosed\\u00fcr olmad\\u0131\\u011f\\u0131 i\\u00e7in y\\u00fcksek riskli, e\\u015flik eden ba\\u015fka hastal\\u0131klar\\u0131 olan, ya\\u015f\\u0131 ilerlemi\\u015f hastalarda mitraclip zaman zaman uygulanmaktad\\u0131r. Ancak halen standart tedavi metodu kapa\\u011f\\u0131n g\\u00f6r\\u00fclerek tamir edilmesidir. Bunu a\\u00e7\\u0131k kalp cerrahisiyle kalp damar cerrahlar\\u0131 yapar, mitraclip i\\u015flemi ise giri\\u015fimsel kardiyoloji uzmanlar\\u0131 taraf\\u0131ndan yap\\u0131lmaktad\\u0131r.M\\u0130TRACL\\u0130P (Ameliyats\\u0131z Mitral Kapak Yetmezli\\u011fi Tamiri) nas\\u0131l yap\\u0131l\\u0131r?Standart tedavi metodu mitral kapa\\u011f\\u0131n tamiridir. Bu da kalp cerrahisiyle yap\\u0131lmaktad\\u0131r. Mitraclip \\u015fu a\\u015famada biraz deneysel bir metoddur. Mitraclip cihaz\\u0131n ismidir. Bu k\\u00fc\\u00e7\\u00fck mandala benzeyen bir cihazd\\u0131r. Mitral kapak \\u00f6n ve arka yapraktan olu\\u015fmaktad\\u0131r. Anjiyo metoduyla kateterle kas\\u0131k toplardamar\\u0131ndan girilip, kar\\u0131n i\\u00e7indeki b\\u00fcy\\u00fck toplardamara ge\\u00e7ilerek kalbe ula\\u015f\\u0131lmaktad\\u0131r. Bu s\\u0131rada hastaya kas\\u0131ktan lokal anestezi uygulanmaktad\\u0131r. Sonras\\u0131nda damar i\\u00e7indeki kateter kanal\\u0131yla mitral kapak seviyesine kadar mitraclip cihaz\\u0131 ula\\u015ft\\u0131r\\u0131lmaktad\\u0131r. Mitraclipin kanatlar\\u0131 bu noktaya ula\\u015ft\\u0131\\u011f\\u0131nda a\\u00e7\\u0131lmaktad\\u0131r.\\u00a0 Problemli olan mitral kapak k\\u0131s\\u0131mlar\\u0131 mitraclipin kanatlar\\u0131 alt\\u0131na al\\u0131n\\u0131r, diki\\u015f halkalar\\u0131 serbest hale getirilir ve hedeflenen kapak yap\\u0131s\\u0131 sa\\u011flan\\u0131nca diki\\u015fler kar\\u015f\\u0131l\\u0131kl\\u0131 olarak tutturulur. Bu noktada kapakta yeterli kapanma sa\\u011fland\\u0131\\u011f\\u0131 test edilir. Bu \\u015fekilde kapak tamir edilmi\\u015f olur.S\\u0131k\\u00e7a sorulan sorular\\u00a0M\\u0130TRACL\\u0130P y\\u00f6ntemi ka\\u00e7 saat s\\u00fcrer?Mitraclip y\\u00f6ntemi, 1-1 bu\\u00e7uk saat s\\u00fcren bu i\\u015flemdir.M\\u0130TRACL\\u0130P hastanede yatmay\\u0131 gerektirir mi?Bu giri\\u015fimsel y\\u00f6ntem sonras\\u0131nda hastalar, k\\u0131sa s\\u00fcrede g\\u00fcnl\\u00fck aktivitelerine geri d\\u00f6nebilmektedir.M\\u0130TRACL\\u0130P (Ameliyats\\u0131z Mitral Kapak Yetmezli\\u011fi Tamiri) i\\u00e7in gerekli olan kriterler nelerdir?Mitraclipte \\u00e7ok net kriterler belli olmamakla birlikte ileri d\\u00fczeyde mitral yetersizlik olmas\\u0131 gerekmektedir. Mitral yetersizli\\u011fin sebebinin romatizmal kalp hastal\\u0131\\u011f\\u0131 olmamas\\u0131 gerekmektedir. Bu t\\u00fcr kapaklar kire\\u00e7li, bu t\\u00fcr i\\u015flemlerin ba\\u015far\\u0131l\\u0131 olamayaca\\u011f\\u0131 t\\u00fcrde kapaklard\\u0131r. G\\u00fcn\\u00fcm\\u00fczde kalp yetersizli\\u011finin e\\u015flik etti\\u011fi mitral yetersizli\\u011finde mitraclip daha \\u00e7ok kullan\\u0131lmaktad\\u0131r. Mitral kapak prolapsusu hastalar\\u0131nda da kullan\\u0131labilmektedir. Ancak hala en \\u00f6nemli tedavi metodu cerrahidir.M\\u0130TRACL\\u0130P herkese uygulan\\u0131r m\\u0131?Herkese mitraclip yap\\u0131lmas\\u0131 do\\u011fru bir yakla\\u015f\\u0131m de\\u011fildir. Esas olarak ameliyat\\u0131 kald\\u0131ramayaca\\u011f\\u0131 d\\u00fc\\u015f\\u00fcn\\u00fclen, y\\u00fcksek riskli hastalarda, a\\u011f\\u0131r kalp yetersizli\\u011fi olan, ileri ya\\u015fta olan, b\\u00f6breklerinde ve di\\u011fer organlar\\u0131nda ciddi sorunlar\\u0131 bulunan, b\\u00fcy\\u00fck bir cerrahiyle iyile\\u015fme s\\u00fcrecini atlatamayacak m\\u00fc\\u015fk\\u00fcl hastalar mitraclip i\\u00e7in ideal hastalard\\u0131r.M\\u0130TRACL\\u0130P y\\u00f6ntemiyle nefes al\\u0131\\u015f veri\\u015fte sorun olur mu?M\\u0130TRACL\\u0130P yani mandallama y\\u00f6ntemi, \\u00f6zellikle nefes almakta zorlanan hastalar\\u0131n, nefesini d\\u00fczeltip, hareketlerini rahatlatan ve uzun vadede kalbin bozulmas\\u0131n\\u0131 \\u00f6nleyebilecek bir yakla\\u015f\\u0131m olarak kullan\\u0131lmaya ba\\u015flanm\\u0131\\u015ft\\u0131r.M\\u0130TRACL\\u0130P (Ameliyats\\u0131z Mitral Kapak Yetmezli\\u011fi Tamiri) \\u00f6ncesi neler yap\\u0131lmal\\u0131?Mitraclip \\u00f6ncesinde hastalara yemek borusundan ekokardiyografi i\\u015fleminin yap\\u0131lmas\\u0131 gerekmektedir. Kardiyolog t\\u00fcm bu s\\u00fcreci organize etmektedir. Hastan\\u0131n \\u00f6zel olarak dikkat etmesi gereken bir durum s\\u00f6z konusu olmamakla birlikte kardiyoloji uzman\\u0131 hastalar\\u0131 uygun bir bi\\u00e7imde bilgilendirmektedir.M\\u0130TRACL\\u0130P (Ameliyats\\u0131z Mitral Kapak Yetmezli\\u011fi Tamiri) sonras\\u0131 neler yap\\u0131lmal\\u0131?Olduktan sonra birtak\\u0131m kan suland\\u0131r\\u0131c\\u0131 ila\\u00e7lar\\u0131n kullan\\u0131lmas\\u0131 gerekmektedir. Buna \\u00f6zellikle dikkat edilmelidir. Yine mitraclip sonras\\u0131nda hastalar mitraclipi uygulayan kardiyoloji doktoru taraf\\u0131ndan bilgilendirmektedir.M\\u0130TRACL\\u0130P (Ameliyats\\u0131z Mitral Kapak Yetmezli\\u011fi Tamiri) avantajlar\\u0131 nelerdir?En b\\u00fcy\\u00fck avantaj\\u0131 minimal invaziv bir i\\u015flem olmas\\u0131, hastan\\u0131n g\\u00f6\\u011f\\u00fcs kemi\\u011finin kesilmemesidir. Cerrahiye g\\u00f6re hastanede yat\\u0131\\u015f s\\u00fcresi daha k\\u0131sad\\u0131r.\\u00a0M\\u0130TRACL\\u0130P (Ameliyats\\u0131z Mitral Kapak Yetmezli\\u011fi Tamiri) dezavantajlar\\u0131 nelerdir?Ba\\u015far\\u0131 oran\\u0131 a\\u00e7\\u0131k cerrahi kadar y\\u00fcksek olmayabilmektedir. G\\u00f6rerek kalp damar cerrah\\u0131n\\u0131n mitral kapa\\u011f\\u0131 tamir etmesi daha sa\\u011fl\\u0131kl\\u0131 bir yakla\\u015f\\u0131md\\u0131r. Maliyet a\\u00e7\\u0131s\\u0131ndan da a\\u00e7\\u0131k kalp cerrahisine g\\u00f6re daha dezavantajl\\u0131d\\u0131r.\\u00a0M\\u0130TRACL\\u0130P (Ameliyats\\u0131z Mitral Kapak Yetmezli\\u011fi Tamiri) a\\u011fr\\u0131l\\u0131 m\\u0131d\\u0131r?Genellikle kas\\u0131ktan lokal anestezi verilerek yap\\u0131lan bir i\\u015flem oldu\\u011fu i\\u00e7in minimal bir a\\u011fr\\u0131 hissettirecektir.\\u00a0M\\u0130TRACL\\u0130P (Ameliyats\\u0131z Mitral Kapak Yetmezli\\u011fi Tamiri) g\\u00fcvenli midir?Yap\\u0131lan ara\\u015ft\\u0131rmalar g\\u00fcvenli\\u00a0 bir i\\u015flem oldu\\u011funu g\\u00f6stermektedir. Bunun yan\\u0131nda ara\\u015ft\\u0131rmalara g\\u00f6re mitral yetersizlikte ciddi azalmalar\\u0131 sa\\u011flad\\u0131\\u011f\\u0131, kalp yetersizli\\u011fine ba\\u011fl\\u0131 hastaneye yat\\u0131\\u015flarda d\\u00fc\\u015f\\u00fc\\u015f oldu\\u011fu bilinmektedir. Cerrahiye g\\u00f6re hastanede yat\\u0131\\u015f s\\u00fcresi daha k\\u0131sad\\u0131r.M\\u0130TRACL\\u0130P (Ameliyats\\u0131z Mitral Kapak Yetmezli\\u011fi Tamiri) i\\u00e7in ya\\u015f s\\u0131n\\u0131r\\u0131 var m\\u0131?Bir ya\\u015f s\\u0131n\\u0131r\\u0131 yoktur. Her ya\\u015fta potansiyel olarak uygulanabilmektedir. Genel olarak cerrahi riski y\\u00fcksek olan hastalarda uygulanmas\\u0131 gerekmektedir. Gen\\u00e7 mitral yetersizli\\u011fi olan bir hastada y\\u00fcksek risk yoksa \\u00e7ok da \\u00f6nerilmemektedir.M\\u0130TRACL\\u0130P (Ameliyats\\u0131z Mitral Kapak Yetmezli\\u011fi Tamiri) riskleri var m\\u0131?Ka\\u00e7\\u0131n\\u0131lmas\\u0131 gereken hastalar bulunmaktad\\u0131r. \\u0130\\u015flem sonras\\u0131nda bir d\\u00f6nem kan suland\\u0131r\\u0131c\\u0131 kullan\\u0131lmas\\u0131 gerekmektedir. \\u0130\\u015flem esnas\\u0131nda daha kuvvetli kan suland\\u0131r\\u0131c\\u0131lar kullan\\u0131lmaktad\\u0131r. E\\u011fer hasta kan suland\\u0131r\\u0131c\\u0131 kullanamayacak durumdaysa, hastan\\u0131n aktif bir kanamas\\u0131 varsa uygulanamamaktad\\u0131r. Sorun kapakta endokarditse yine uygulanamamaktad\\u0131r. Romatizmal mitral kapak hastal\\u0131\\u011f\\u0131 varsa kapakta kire\\u00e7 oldu\\u011fu i\\u00e7in uygulanmamas\\u0131 gerekmektedir.M\\u0130TRACL\\u0130P hangi damardan uygulan\\u0131r?\\u0130\\u015flem anjiyografik olarak yap\\u0131ld\\u0131\\u011f\\u0131 i\\u00e7in \\u00f6zellikle kas\\u0131ktaki toplardamardan girerek prosed\\u00fcr uygulanmaktad\\u0131r. Karn\\u0131n i\\u00e7indeki b\\u00fcy\\u00fck toplardamara gitmektedir kateterler, sonras\\u0131nda da kalbin i\\u00e7ine girilmektedir. E\\u011fer bu yolun \\u00fczerinde herhangi bir yerde p\\u0131ht\\u0131 varsa i\\u015flemin yine uygulanmamas\\u0131 gerekmektedir.M\\u0130TRACL\\u0130P sonras\\u0131 hastan\\u0131n hayat\\u0131nda neler de\\u011fi\\u015fir?\\u0130\\u015flem sonras\\u0131nda hastan\\u0131n \\u00f6ncelikle kalbe ba\\u011fl\\u0131 nefes alamama, nefes d\\u00fczensizli\\u011fi yak\\u0131nmalar\\u0131nda azalma meydana gelir. Ayr\\u0131ca kalbin boyutlar\\u0131 k\\u00fc\\u00e7\\u00fcl\\u00fcr; kalp b\\u00fcy\\u00fcmesi durur. Hastalar\\u0131n hareket kapasiteleri artar.\"\n        ],\n        \"semantic_type\": \"\",\n        \"description\": \"\"\n      }\n    },\n    {\n      \"column\": \"num_tokens\",\n      \"properties\": {\n        \"dtype\": \"number\",\n        \"std\": 1896,\n        \"min\": 792,\n        \"max\": 21494,\n        \"num_unique_values\": 200,\n        \"samples\": [\n          3543\n        ],\n        \"semantic_type\": \"\",\n        \"description\": \"\"\n      }\n    }\n  ]\n}"
            }
          },
          "metadata": {},
          "execution_count": 323
        }
      ]
    },
    {
      "cell_type": "code",
      "source": [
        "df.to_pickle(\"tedavi-yontemleri.pkl\")"
      ],
      "metadata": {
        "id": "s_nzrlxLH1gs"
      },
      "execution_count": null,
      "outputs": []
    },
    {
      "cell_type": "markdown",
      "source": [
        "# Merging DataFrames"
      ],
      "metadata": {
        "id": "ISbnTqcHIBhn"
      }
    },
    {
      "cell_type": "code",
      "source": [
        "df_1 = pd.read_pickle(\"tani-ve-testler.pkl\")\n",
        "df_2 = pd.read_pickle(\"hastaliklar.pkl\")\n",
        "df_3 = pd.read_pickle(\"tedavi-yontemleri.pkl\")"
      ],
      "metadata": {
        "id": "5A8fLwdoH9dS"
      },
      "execution_count": null,
      "outputs": []
    },
    {
      "cell_type": "code",
      "source": [
        "frames = [df_1, df_2, df_3]\n",
        "result = pd.concat(frames, ignore_index=True)"
      ],
      "metadata": {
        "id": "h2M6oDRuJQQG"
      },
      "execution_count": null,
      "outputs": []
    },
    {
      "cell_type": "code",
      "source": [
        "result"
      ],
      "metadata": {
        "colab": {
          "base_uri": "https://localhost:8080/",
          "height": 423
        },
        "id": "z0VxI3u0JZWI",
        "outputId": "b13db313-e23c-4ccb-8ee7-1031dcca8be6"
      },
      "execution_count": null,
      "outputs": [
        {
          "output_type": "execute_result",
          "data": {
            "text/plain": [
              "              category                                    topic  \\\n",
              "0      Tanı ve Testler                         Tiroid Biyopsisi   \n",
              "1      Tanı ve Testler                3 Boyutlu Ekokardiyografi   \n",
              "2      Tanı ve Testler  ACTH (Adrenokortikotropik Hormon) Testi   \n",
              "3      Tanı ve Testler                          Akciğer Grafisi   \n",
              "4      Tanı ve Testler                            Albümin Testi   \n",
              "..                 ...                                      ...   \n",
              "912  Tedavi Yöntemleri                  Yumurta Çatlatma İğnesi   \n",
              "913  Tedavi Yöntemleri        Yüksek Tibial Osteotomi Ameliyatı   \n",
              "914  Tedavi Yöntemleri                              Yüz Dolgusu   \n",
              "915  Tedavi Yöntemleri                               Vitrektomi   \n",
              "916  Tedavi Yöntemleri                                  Whipple   \n",
              "\n",
              "                                                  text  num_tokens  \n",
              "0     Tiroid bezini oluşturan hücrelerin düzensiz ç...        3501  \n",
              "1     Bilgisayar ve transdüser sistemlerindeki tekn...        2117  \n",
              "2     ACTH (adrenokortikotropik hormon), hipofiz be...        2363  \n",
              "3     Akciğer grafisi; kalp, akciğerler, kan damarl...        1753  \n",
              "4     Albümin testi, karaciğer ve böbrek fonksiyonl...        3426  \n",
              "..                                                 ...         ...  \n",
              "912   Yumurtalama sorunu yaşayıp, adet düzensizliği...        2008  \n",
              "913   Diz eklemi, vücudun ağırlığını taşıyan karmaş...        1766  \n",
              "914   Yüz dolgusu, çene, göz, elmacık kemikleri ve ...        2569  \n",
              "915   Vitrektomi, göz içerisinde yer alan vitreus s...        2377  \n",
              "916   Pankreas başı, bu bölgeye yakın safra yolları...        2665  \n",
              "\n",
              "[917 rows x 4 columns]"
            ],
            "text/html": [
              "\n",
              "  <div id=\"df-9f852c01-d312-4098-982e-249f7a5d3659\" class=\"colab-df-container\">\n",
              "    <div>\n",
              "<style scoped>\n",
              "    .dataframe tbody tr th:only-of-type {\n",
              "        vertical-align: middle;\n",
              "    }\n",
              "\n",
              "    .dataframe tbody tr th {\n",
              "        vertical-align: top;\n",
              "    }\n",
              "\n",
              "    .dataframe thead th {\n",
              "        text-align: right;\n",
              "    }\n",
              "</style>\n",
              "<table border=\"1\" class=\"dataframe\">\n",
              "  <thead>\n",
              "    <tr style=\"text-align: right;\">\n",
              "      <th></th>\n",
              "      <th>category</th>\n",
              "      <th>topic</th>\n",
              "      <th>text</th>\n",
              "      <th>num_tokens</th>\n",
              "    </tr>\n",
              "  </thead>\n",
              "  <tbody>\n",
              "    <tr>\n",
              "      <th>0</th>\n",
              "      <td>Tanı ve Testler</td>\n",
              "      <td>Tiroid Biyopsisi</td>\n",
              "      <td>Tiroid bezini oluşturan hücrelerin düzensiz ç...</td>\n",
              "      <td>3501</td>\n",
              "    </tr>\n",
              "    <tr>\n",
              "      <th>1</th>\n",
              "      <td>Tanı ve Testler</td>\n",
              "      <td>3 Boyutlu Ekokardiyografi</td>\n",
              "      <td>Bilgisayar ve transdüser sistemlerindeki tekn...</td>\n",
              "      <td>2117</td>\n",
              "    </tr>\n",
              "    <tr>\n",
              "      <th>2</th>\n",
              "      <td>Tanı ve Testler</td>\n",
              "      <td>ACTH (Adrenokortikotropik Hormon) Testi</td>\n",
              "      <td>ACTH (adrenokortikotropik hormon), hipofiz be...</td>\n",
              "      <td>2363</td>\n",
              "    </tr>\n",
              "    <tr>\n",
              "      <th>3</th>\n",
              "      <td>Tanı ve Testler</td>\n",
              "      <td>Akciğer Grafisi</td>\n",
              "      <td>Akciğer grafisi; kalp, akciğerler, kan damarl...</td>\n",
              "      <td>1753</td>\n",
              "    </tr>\n",
              "    <tr>\n",
              "      <th>4</th>\n",
              "      <td>Tanı ve Testler</td>\n",
              "      <td>Albümin Testi</td>\n",
              "      <td>Albümin testi, karaciğer ve böbrek fonksiyonl...</td>\n",
              "      <td>3426</td>\n",
              "    </tr>\n",
              "    <tr>\n",
              "      <th>...</th>\n",
              "      <td>...</td>\n",
              "      <td>...</td>\n",
              "      <td>...</td>\n",
              "      <td>...</td>\n",
              "    </tr>\n",
              "    <tr>\n",
              "      <th>912</th>\n",
              "      <td>Tedavi Yöntemleri</td>\n",
              "      <td>Yumurta Çatlatma İğnesi</td>\n",
              "      <td>Yumurtalama sorunu yaşayıp, adet düzensizliği...</td>\n",
              "      <td>2008</td>\n",
              "    </tr>\n",
              "    <tr>\n",
              "      <th>913</th>\n",
              "      <td>Tedavi Yöntemleri</td>\n",
              "      <td>Yüksek Tibial Osteotomi Ameliyatı</td>\n",
              "      <td>Diz eklemi, vücudun ağırlığını taşıyan karmaş...</td>\n",
              "      <td>1766</td>\n",
              "    </tr>\n",
              "    <tr>\n",
              "      <th>914</th>\n",
              "      <td>Tedavi Yöntemleri</td>\n",
              "      <td>Yüz Dolgusu</td>\n",
              "      <td>Yüz dolgusu, çene, göz, elmacık kemikleri ve ...</td>\n",
              "      <td>2569</td>\n",
              "    </tr>\n",
              "    <tr>\n",
              "      <th>915</th>\n",
              "      <td>Tedavi Yöntemleri</td>\n",
              "      <td>Vitrektomi</td>\n",
              "      <td>Vitrektomi, göz içerisinde yer alan vitreus s...</td>\n",
              "      <td>2377</td>\n",
              "    </tr>\n",
              "    <tr>\n",
              "      <th>916</th>\n",
              "      <td>Tedavi Yöntemleri</td>\n",
              "      <td>Whipple</td>\n",
              "      <td>Pankreas başı, bu bölgeye yakın safra yolları...</td>\n",
              "      <td>2665</td>\n",
              "    </tr>\n",
              "  </tbody>\n",
              "</table>\n",
              "<p>917 rows × 4 columns</p>\n",
              "</div>\n",
              "    <div class=\"colab-df-buttons\">\n",
              "\n",
              "  <div class=\"colab-df-container\">\n",
              "    <button class=\"colab-df-convert\" onclick=\"convertToInteractive('df-9f852c01-d312-4098-982e-249f7a5d3659')\"\n",
              "            title=\"Convert this dataframe to an interactive table.\"\n",
              "            style=\"display:none;\">\n",
              "\n",
              "  <svg xmlns=\"http://www.w3.org/2000/svg\" height=\"24px\" viewBox=\"0 -960 960 960\">\n",
              "    <path d=\"M120-120v-720h720v720H120Zm60-500h600v-160H180v160Zm220 220h160v-160H400v160Zm0 220h160v-160H400v160ZM180-400h160v-160H180v160Zm440 0h160v-160H620v160ZM180-180h160v-160H180v160Zm440 0h160v-160H620v160Z\"/>\n",
              "  </svg>\n",
              "    </button>\n",
              "\n",
              "  <style>\n",
              "    .colab-df-container {\n",
              "      display:flex;\n",
              "      gap: 12px;\n",
              "    }\n",
              "\n",
              "    .colab-df-convert {\n",
              "      background-color: #E8F0FE;\n",
              "      border: none;\n",
              "      border-radius: 50%;\n",
              "      cursor: pointer;\n",
              "      display: none;\n",
              "      fill: #1967D2;\n",
              "      height: 32px;\n",
              "      padding: 0 0 0 0;\n",
              "      width: 32px;\n",
              "    }\n",
              "\n",
              "    .colab-df-convert:hover {\n",
              "      background-color: #E2EBFA;\n",
              "      box-shadow: 0px 1px 2px rgba(60, 64, 67, 0.3), 0px 1px 3px 1px rgba(60, 64, 67, 0.15);\n",
              "      fill: #174EA6;\n",
              "    }\n",
              "\n",
              "    .colab-df-buttons div {\n",
              "      margin-bottom: 4px;\n",
              "    }\n",
              "\n",
              "    [theme=dark] .colab-df-convert {\n",
              "      background-color: #3B4455;\n",
              "      fill: #D2E3FC;\n",
              "    }\n",
              "\n",
              "    [theme=dark] .colab-df-convert:hover {\n",
              "      background-color: #434B5C;\n",
              "      box-shadow: 0px 1px 3px 1px rgba(0, 0, 0, 0.15);\n",
              "      filter: drop-shadow(0px 1px 2px rgba(0, 0, 0, 0.3));\n",
              "      fill: #FFFFFF;\n",
              "    }\n",
              "  </style>\n",
              "\n",
              "    <script>\n",
              "      const buttonEl =\n",
              "        document.querySelector('#df-9f852c01-d312-4098-982e-249f7a5d3659 button.colab-df-convert');\n",
              "      buttonEl.style.display =\n",
              "        google.colab.kernel.accessAllowed ? 'block' : 'none';\n",
              "\n",
              "      async function convertToInteractive(key) {\n",
              "        const element = document.querySelector('#df-9f852c01-d312-4098-982e-249f7a5d3659');\n",
              "        const dataTable =\n",
              "          await google.colab.kernel.invokeFunction('convertToInteractive',\n",
              "                                                    [key], {});\n",
              "        if (!dataTable) return;\n",
              "\n",
              "        const docLinkHtml = 'Like what you see? Visit the ' +\n",
              "          '<a target=\"_blank\" href=https://colab.research.google.com/notebooks/data_table.ipynb>data table notebook</a>'\n",
              "          + ' to learn more about interactive tables.';\n",
              "        element.innerHTML = '';\n",
              "        dataTable['output_type'] = 'display_data';\n",
              "        await google.colab.output.renderOutput(dataTable, element);\n",
              "        const docLink = document.createElement('div');\n",
              "        docLink.innerHTML = docLinkHtml;\n",
              "        element.appendChild(docLink);\n",
              "      }\n",
              "    </script>\n",
              "  </div>\n",
              "\n",
              "\n",
              "<div id=\"df-3a0fd2a1-1f4d-4ba9-93ee-fbdf124fca63\">\n",
              "  <button class=\"colab-df-quickchart\" onclick=\"quickchart('df-3a0fd2a1-1f4d-4ba9-93ee-fbdf124fca63')\"\n",
              "            title=\"Suggest charts\"\n",
              "            style=\"display:none;\">\n",
              "\n",
              "<svg xmlns=\"http://www.w3.org/2000/svg\" height=\"24px\"viewBox=\"0 0 24 24\"\n",
              "     width=\"24px\">\n",
              "    <g>\n",
              "        <path d=\"M19 3H5c-1.1 0-2 .9-2 2v14c0 1.1.9 2 2 2h14c1.1 0 2-.9 2-2V5c0-1.1-.9-2-2-2zM9 17H7v-7h2v7zm4 0h-2V7h2v10zm4 0h-2v-4h2v4z\"/>\n",
              "    </g>\n",
              "</svg>\n",
              "  </button>\n",
              "\n",
              "<style>\n",
              "  .colab-df-quickchart {\n",
              "      --bg-color: #E8F0FE;\n",
              "      --fill-color: #1967D2;\n",
              "      --hover-bg-color: #E2EBFA;\n",
              "      --hover-fill-color: #174EA6;\n",
              "      --disabled-fill-color: #AAA;\n",
              "      --disabled-bg-color: #DDD;\n",
              "  }\n",
              "\n",
              "  [theme=dark] .colab-df-quickchart {\n",
              "      --bg-color: #3B4455;\n",
              "      --fill-color: #D2E3FC;\n",
              "      --hover-bg-color: #434B5C;\n",
              "      --hover-fill-color: #FFFFFF;\n",
              "      --disabled-bg-color: #3B4455;\n",
              "      --disabled-fill-color: #666;\n",
              "  }\n",
              "\n",
              "  .colab-df-quickchart {\n",
              "    background-color: var(--bg-color);\n",
              "    border: none;\n",
              "    border-radius: 50%;\n",
              "    cursor: pointer;\n",
              "    display: none;\n",
              "    fill: var(--fill-color);\n",
              "    height: 32px;\n",
              "    padding: 0;\n",
              "    width: 32px;\n",
              "  }\n",
              "\n",
              "  .colab-df-quickchart:hover {\n",
              "    background-color: var(--hover-bg-color);\n",
              "    box-shadow: 0 1px 2px rgba(60, 64, 67, 0.3), 0 1px 3px 1px rgba(60, 64, 67, 0.15);\n",
              "    fill: var(--button-hover-fill-color);\n",
              "  }\n",
              "\n",
              "  .colab-df-quickchart-complete:disabled,\n",
              "  .colab-df-quickchart-complete:disabled:hover {\n",
              "    background-color: var(--disabled-bg-color);\n",
              "    fill: var(--disabled-fill-color);\n",
              "    box-shadow: none;\n",
              "  }\n",
              "\n",
              "  .colab-df-spinner {\n",
              "    border: 2px solid var(--fill-color);\n",
              "    border-color: transparent;\n",
              "    border-bottom-color: var(--fill-color);\n",
              "    animation:\n",
              "      spin 1s steps(1) infinite;\n",
              "  }\n",
              "\n",
              "  @keyframes spin {\n",
              "    0% {\n",
              "      border-color: transparent;\n",
              "      border-bottom-color: var(--fill-color);\n",
              "      border-left-color: var(--fill-color);\n",
              "    }\n",
              "    20% {\n",
              "      border-color: transparent;\n",
              "      border-left-color: var(--fill-color);\n",
              "      border-top-color: var(--fill-color);\n",
              "    }\n",
              "    30% {\n",
              "      border-color: transparent;\n",
              "      border-left-color: var(--fill-color);\n",
              "      border-top-color: var(--fill-color);\n",
              "      border-right-color: var(--fill-color);\n",
              "    }\n",
              "    40% {\n",
              "      border-color: transparent;\n",
              "      border-right-color: var(--fill-color);\n",
              "      border-top-color: var(--fill-color);\n",
              "    }\n",
              "    60% {\n",
              "      border-color: transparent;\n",
              "      border-right-color: var(--fill-color);\n",
              "    }\n",
              "    80% {\n",
              "      border-color: transparent;\n",
              "      border-right-color: var(--fill-color);\n",
              "      border-bottom-color: var(--fill-color);\n",
              "    }\n",
              "    90% {\n",
              "      border-color: transparent;\n",
              "      border-bottom-color: var(--fill-color);\n",
              "    }\n",
              "  }\n",
              "</style>\n",
              "\n",
              "  <script>\n",
              "    async function quickchart(key) {\n",
              "      const quickchartButtonEl =\n",
              "        document.querySelector('#' + key + ' button');\n",
              "      quickchartButtonEl.disabled = true;  // To prevent multiple clicks.\n",
              "      quickchartButtonEl.classList.add('colab-df-spinner');\n",
              "      try {\n",
              "        const charts = await google.colab.kernel.invokeFunction(\n",
              "            'suggestCharts', [key], {});\n",
              "      } catch (error) {\n",
              "        console.error('Error during call to suggestCharts:', error);\n",
              "      }\n",
              "      quickchartButtonEl.classList.remove('colab-df-spinner');\n",
              "      quickchartButtonEl.classList.add('colab-df-quickchart-complete');\n",
              "    }\n",
              "    (() => {\n",
              "      let quickchartButtonEl =\n",
              "        document.querySelector('#df-3a0fd2a1-1f4d-4ba9-93ee-fbdf124fca63 button');\n",
              "      quickchartButtonEl.style.display =\n",
              "        google.colab.kernel.accessAllowed ? 'block' : 'none';\n",
              "    })();\n",
              "  </script>\n",
              "</div>\n",
              "\n",
              "  <div id=\"id_a3f839d9-f7e4-4d17-94ee-3a4557c99e08\">\n",
              "    <style>\n",
              "      .colab-df-generate {\n",
              "        background-color: #E8F0FE;\n",
              "        border: none;\n",
              "        border-radius: 50%;\n",
              "        cursor: pointer;\n",
              "        display: none;\n",
              "        fill: #1967D2;\n",
              "        height: 32px;\n",
              "        padding: 0 0 0 0;\n",
              "        width: 32px;\n",
              "      }\n",
              "\n",
              "      .colab-df-generate:hover {\n",
              "        background-color: #E2EBFA;\n",
              "        box-shadow: 0px 1px 2px rgba(60, 64, 67, 0.3), 0px 1px 3px 1px rgba(60, 64, 67, 0.15);\n",
              "        fill: #174EA6;\n",
              "      }\n",
              "\n",
              "      [theme=dark] .colab-df-generate {\n",
              "        background-color: #3B4455;\n",
              "        fill: #D2E3FC;\n",
              "      }\n",
              "\n",
              "      [theme=dark] .colab-df-generate:hover {\n",
              "        background-color: #434B5C;\n",
              "        box-shadow: 0px 1px 3px 1px rgba(0, 0, 0, 0.15);\n",
              "        filter: drop-shadow(0px 1px 2px rgba(0, 0, 0, 0.3));\n",
              "        fill: #FFFFFF;\n",
              "      }\n",
              "    </style>\n",
              "    <button class=\"colab-df-generate\" onclick=\"generateWithVariable('result')\"\n",
              "            title=\"Generate code using this dataframe.\"\n",
              "            style=\"display:none;\">\n",
              "\n",
              "  <svg xmlns=\"http://www.w3.org/2000/svg\" height=\"24px\"viewBox=\"0 0 24 24\"\n",
              "       width=\"24px\">\n",
              "    <path d=\"M7,19H8.4L18.45,9,17,7.55,7,17.6ZM5,21V16.75L18.45,3.32a2,2,0,0,1,2.83,0l1.4,1.43a1.91,1.91,0,0,1,.58,1.4,1.91,1.91,0,0,1-.58,1.4L9.25,21ZM18.45,9,17,7.55Zm-12,3A5.31,5.31,0,0,0,4.9,8.1,5.31,5.31,0,0,0,1,6.5,5.31,5.31,0,0,0,4.9,4.9,5.31,5.31,0,0,0,6.5,1,5.31,5.31,0,0,0,8.1,4.9,5.31,5.31,0,0,0,12,6.5,5.46,5.46,0,0,0,6.5,12Z\"/>\n",
              "  </svg>\n",
              "    </button>\n",
              "    <script>\n",
              "      (() => {\n",
              "      const buttonEl =\n",
              "        document.querySelector('#id_a3f839d9-f7e4-4d17-94ee-3a4557c99e08 button.colab-df-generate');\n",
              "      buttonEl.style.display =\n",
              "        google.colab.kernel.accessAllowed ? 'block' : 'none';\n",
              "\n",
              "      buttonEl.onclick = () => {\n",
              "        google.colab.notebook.generateWithVariable('result');\n",
              "      }\n",
              "      })();\n",
              "    </script>\n",
              "  </div>\n",
              "\n",
              "    </div>\n",
              "  </div>\n"
            ],
            "application/vnd.google.colaboratory.intrinsic+json": {
              "type": "dataframe",
              "variable_name": "result",
              "summary": "{\n  \"name\": \"result\",\n  \"rows\": 917,\n  \"fields\": [\n    {\n      \"column\": \"category\",\n      \"properties\": {\n        \"dtype\": \"category\",\n        \"num_unique_values\": 3,\n        \"samples\": [\n          \"Tan\\u0131 ve Testler\",\n          \"Hastal\\u0131klar\",\n          \"Tedavi Y\\u00f6ntemleri\"\n        ],\n        \"semantic_type\": \"\",\n        \"description\": \"\"\n      }\n    },\n    {\n      \"column\": \"topic\",\n      \"properties\": {\n        \"dtype\": \"string\",\n        \"num_unique_values\": 916,\n        \"samples\": [\n          \"Hipospadias\",\n          \"Penis Plasti Ameliyatlar\\u0131\",\n          \"Grip\"\n        ],\n        \"semantic_type\": \"\",\n        \"description\": \"\"\n      }\n    },\n    {\n      \"column\": \"text\",\n      \"properties\": {\n        \"dtype\": \"string\",\n        \"num_unique_values\": 917,\n        \"samples\": [\n          \" Uyku apnesi, \\u00fcst solunum yolunu i\\u00e7eren hava yollar\\u0131n\\u0131n t\\u0131kanmas\\u0131 nedeniyle horlaman\\u0131n ya\\u015fand\\u0131\\u011f\\u0131,\\u00a0uyku s\\u0131ras\\u0131nda solunumun tekrar tekrar kesilip geri ba\\u015flad\\u0131\\u011f\\u0131 solunum bozuklu\\u011fudur. En yayg\\u0131n t\\u00fcr\\u00fc\\u00a0obstr\\u00fcktif uyku apnesidir. Sabahlar\\u0131 yorgun uyanma, dikkatsizlik gibi sorunlara neden olabilen uyku apnesi\\u00a0tedavi edilmedi\\u011fi takdirde fel\\u00e7, kalp krizi ve \\u00f6l\\u00fcme yol a\\u00e7abilir.Uyku apnesi, \\u00fcst solunum yolunu i\\u00e7eren hava yollar\\u0131n\\u0131n t\\u0131kanmas\\u0131 nedeniyle horlaman\\u0131n ya\\u015fand\\u0131\\u011f\\u0131,\\u00a0uyku s\\u0131ras\\u0131nda solunumun tekrar tekrar kesilip geri ba\\u015flad\\u0131\\u011f\\u0131 solunum bozuklu\\u011fudur. En yayg\\u0131n t\\u00fcr\\u00fc\\u00a0obstr\\u00fcktif uyku apnesidir. Sabahlar\\u0131 yorgun uyanma, dikkatsizlik gibi sorunlara neden olabilen uyku apnesi\\u00a0tedavi edilmedi\\u011fi takdirde fel\\u00e7, kalp krizi ve \\u00f6l\\u00fcme yol a\\u00e7abilir.\\nUyku Apnesi Nedir?Uyku apnesi, uyku s\\u0131ras\\u0131nda solunum yollar\\u0131ndaki kaslar\\u0131n gev\\u015femesi ve akci\\u011ferlere hava ak\\u0131\\u015f\\u0131n\\u0131n engellenmesi sonucu\\u00a0solunumun tekrar tekrar durup ba\\u015flad\\u0131\\u011f\\u0131 bir uyku bozuklu\\u011fudur. \\u00dcst solunum yolunun a\\u00e7\\u0131k kalmas\\u0131n\\u0131 sa\\u011flayan kaslarda ya\\u015fanan gev\\u015feme ile\\u00a0dil k\\u00f6k\\u00fc veya yumu\\u015fak dama\\u011f\\u0131n veya a\\u015f\\u0131r\\u0131 b\\u00fcy\\u00fcm\\u00fc\\u015f bademciklerin hava yolunu t\\u0131kamas\\u0131 sonucunda en az 10 saniye nefes alamamak uyku apnesi olarak adland\\u0131r\\u0131l\\u0131r. Bu t\\u0131kan\\u0131kl\\u0131k, birka\\u00e7 saniyeden dakikalara kadar s\\u00fcrebilir. 1 saat i\\u00e7erisinde 30 veya daha fazla kezde ger\\u00e7ekle\\u015febilir. Uyku apnesi s\\u0131ras\\u0131nda solunum \\u00e7abas\\u0131 s\\u00fcrse de, bir s\\u00fcre sonra daha da artan bu \\u00e7aba beyni uyar\\u0131r ve hava yolu a\\u00e7\\u0131l\\u0131r. Solunumu durana kadar horlayan ki\\u015fi, g\\u00fcr\\u00fclt\\u00fcl\\u00fc bir homurdanma ile yeniden nefes almaya ve horlamaya devam eder. Gerekli \\u00f6nlemler al\\u0131nmad\\u0131\\u011f\\u0131nda uyku apnesinin dikkatsizli\\u011fe yol a\\u00e7arak trafik kazas\\u0131 riskini 7-8 kat artt\\u0131rd\\u0131\\u011f\\u0131 ve i\\u015f kazalar\\u0131na neden oldu\\u011fu biliniyor. Uyku apnesinin g\\u00f6r\\u00fclme s\\u0131kl\\u0131\\u011f\\u0131 %1-4 olsa da, diyabet hastal\\u0131\\u011f\\u0131n\\u0131n %3, ast\\u0131m s\\u0131kl\\u0131\\u011f\\u0131n\\u0131n yakla\\u015f\\u0131k %5 oldu\\u011fu d\\u00fc\\u015f\\u00fcn\\u00fcl\\u00fcrse ne kadar \\u00f6nemli bir sorun oldu\\u011fu daha iyi anla\\u015f\\u0131labilir.Uyku Apnesi Nas\\u0131l Olur?Uyku apnesi\\u00a0bo\\u011fazda bulunan\\u00a0yumu\\u015fak dokular\\u0131 destekleyen dil ve damak kaslar\\u0131n\\u0131n ge\\u00e7ici olarak gev\\u015femesi ile hava yollar\\u0131n\\u0131n daral\\u0131p kapanmas\\u0131na ba\\u011fl\\u0131 nefes alman\\u0131n ge\\u00e7ici olarak kesilmesine neden olur. Obstr\\u00fcktif uyku apnesi\\u00a0hava yollar\\u0131n\\u0131n t\\u0131kanmas\\u0131,\\u00a0merkezi apne\\u00a0ise beynin solunumu do\\u011fru \\u015fekilde kontrol edememesi sonucu ger\\u00e7ekle\\u015fir.Uyku Apnesi T\\u00fcrleri Nelerdir?Uyku esnas\\u0131nda nefes almay\\u0131 durduran uyku apnesinin 3 tipi bulunur. Bunlar santral, obstr\\u00fcktif (t\\u0131kay\\u0131c\\u0131) ve mikst (karma) olarak a\\u00e7\\u0131klan\\u0131r.Santral uyku apnesiSantral uyku apnesi, uyku esnas\\u0131nda nefes alma d\\u00fcrt\\u00fcs\\u00fcn\\u00fc ger\\u00e7ekle\\u015ftiren kaslar\\u0131n sinyal g\\u00f6ndermemesi durumunda ortaya \\u00e7\\u0131kan uyku apnesi tipidir.Obstr\\u00fcktif uyku apnesi (T\\u0131kay\\u0131c\\u0131)Uyku kalitesinde ciddi etkisi bulunan obstr\\u00fcktif uyku apnesi, hava yolundaki i\\u015flev kayb\\u0131ndan dolay\\u0131 oksijenin v\\u00fccuda az girmesine neden olan apne tipidir. Uykunun kesilmesinden kaynakl\\u0131 olarak ataklara da neden olur.Mikst uyku apnesi (Karma)Mikst uyku apnesi, ki\\u015filerde obstr\\u00fcktif ve santral uyku apnesi ile beraber g\\u00f6r\\u00fclen apne t\\u00fcr\\u00fcd\\u00fcr.Uyku Apnesi Neden Olur?Uyku apnesinin nedeni, bo\\u011fazdaki kaslar\\u0131n havan\\u0131n ge\\u00e7ece\\u011fi alan\\u0131 kapatacak \\u015fekilde gev\\u015femesidir. \\u00dcst solunum yolundaki darl\\u0131klar \\u00e7ocukluktan itibaren, solunum yolunun y\\u0131pranmas\\u0131na sebep olabilir ve bu da uyku apne sendromuna neden olabilir. \\u0130\\u015fte uyku apnesinin yayg\\u0131n nedenleri: Fazla kilo(obezite) Burun t\\u0131kan\\u0131kl\\u0131\\u011f\\u0131 B\\u00fcy\\u00fck bademciklere ve geniz etine sahip olmak Boyun \\u00e7evresi kal\\u0131n olan ki\\u015filerin hava yollar\\u0131n\\u0131n dar olmas\\u0131 Ya\\u015fl\\u0131l\\u0131k Cinsiyet (erkeklerde uyku apnesi olas\\u0131\\u011f\\u0131 2-3 kat daha fazlad\\u0131r) Genetik yatk\\u0131nl\\u0131k Y\\u00fcksek tansiyon ve diyabet gibi t\\u0131bbi sorunlar Alkol kullanmak Sigara i\\u00e7mek uyku apnesi nedenleri aras\\u0131nda g\\u00f6sterilebilir.\\u00a0Uyku apnesi sadece yeti\\u015fkinlerde de\\u011fil, \\u00e7ocuklarda da g\\u00f6r\\u00fclebilir. Uyku apne sendromu olan ki\\u015fide horlama, 3-4 kat daha fazla, \\u00e7ok kaba ve g\\u00fcr\\u00fclt\\u00fcl\\u00fc \\u015fekilde ger\\u00e7ekle\\u015fir. Horlaman\\u0131n yan\\u0131 s\\u0131ra nefes darl\\u0131\\u011f\\u0131, s\\u0131k s\\u0131k i\\u00e7 \\u00e7ekme, el kol hareketleriyle \\u00e7\\u0131rp\\u0131narak uyanmaya \\u00e7al\\u0131\\u015fma, s\\u0131k ve uzun s\\u00fcreli solunum durmalar\\u0131, sabah yorgun uyanmak da uyku apne sendromu ya\\u015fayan ki\\u015filerde g\\u00f6r\\u00fcl\\u00fcr. Uyku apnesinin tam nedeni say\\u0131lmasa da, uyku apne sendromlu hastalar\\u0131n %30-50'sinde hipertansiyon g\\u00f6r\\u00fclmektedir.Uyku Apnesinin Belirtileri Nelerdir?En \\u00f6nemli semptomu uykuda solunumun durmas\\u0131 olan uyku apnesinin belirtileri \\u015funlard\\u0131r: Y\\u00fcksek sesle horlama Uyku s\\u0131ras\\u0131nda nefes nefese kalma ile ani uyan\\u0131\\u015flar A\\u011f\\u0131z kurulu\\u011fu ile uyanmak Sabahlar\\u0131 uyan\\u0131ld\\u0131\\u011f\\u0131nda ba\\u015f a\\u011fr\\u0131s\\u0131 A\\u011f\\u0131z kurulu\\u011fu G\\u00fcnd\\u00fczleri uyku hali (hipersomni) Uyku s\\u0131ras\\u0131nda nefes alman\\u0131n durmas\\u0131 Sinirlilik hali Libido azalmas\\u0131 Konsantre olma zorlu\\u011fu Geceleri huzursuz hissetmeAyr\\u0131ca ba\\u015f a\\u011fr\\u0131s\\u0131, unutkanl\\u0131k, konsantrasyon bozuklu\\u011fu, depresyon, sabah din\\u00e7 uyanamama ve a\\u015f\\u0131r\\u0131 derecede uykulu olmak ve yorgunluk hali ise uyku apnesinin g\\u00fcnd\\u00fcz g\\u00f6zlenebilen belirtileri aras\\u0131ndad\\u0131r. Uyku apnesi belirtilerinin g\\u00f6r\\u00fcld\\u00fc\\u011f\\u00fc ki\\u015filer g\\u00fcn i\\u00e7erisinde bir\\u00e7ok ciddi tablo ile kar\\u015f\\u0131la\\u015f\\u0131labilmektedir. Uykuda ani \\u00f6l\\u00fcm, inme, kalp krizi ve kalp yetmezli\\u011fi, e\\u011fer hasta obez ise kilo vermede zorluk, akci\\u011fer hastalar\\u0131nda solunum yetmezli\\u011fi, cinsel isteksizlik ve iktidars\\u0131zl\\u0131k, kontrol alt\\u0131na al\\u0131namayan diyabet bu olumsuzluklara \\u00f6rnek olarak g\\u00f6sterilebilir. Bunun yan\\u0131 s\\u0131ra, uyku apnesi ki\\u015fide g\\u00fcnd\\u00fcz s\\u00fcrekli yorgunluk ve konsantrasyon eksikli\\u011fine neden olaca\\u011f\\u0131 i\\u00e7in trafik ve i\\u015f kazalar\\u0131na da neden olabilmektedir.Uyku Apnesi Kimlerde G\\u00f6r\\u00fcl\\u00fcr?Uyku apnesi, uyurken \\u00fcst solunum yolunun t\\u0131kanmas\\u0131 nedeniyle solunumun tekrar tekrar kesilmesi ba\\u015flamas\\u0131yla ortaya \\u00e7\\u0131kan ciddi bir uyku bozuklu\\u011fudur. Her ya\\u015fta g\\u00f6r\\u00fclebilen uyku apnesi, \\u00f6zellikle 40-70 ya\\u015f aral\\u0131\\u011f\\u0131ndaki ki\\u015filerde daha fazla ya\\u015fanmaktad\\u0131r. Kilolu ve ya\\u015fl\\u0131 olmak uyku apnesine zemin haz\\u0131rlar. Bunun yan\\u0131nda erkeklerde kad\\u0131nlara oranla daha fazla g\\u00f6r\\u00fcl\\u00fcr. Kad\\u0131nlarda menopoz sonras\\u0131 d\\u00f6nemde uyku apnesi g\\u00f6r\\u00fclme s\\u0131kl\\u0131\\u011f\\u0131 artabilir.Uyku Apnesi Nelere Sebep Olur?Uykuda solunum durmalar\\u0131; kalp at\\u0131m\\u0131nda d\\u00fczensizlik ve ileri ya\\u015flarda ritim bozuklu\\u011funa ba\\u011fl\\u0131 olarak uykuda ani \\u00f6l\\u00fcmlere neden olmaktad\\u0131r. Bununla birlikte; Geceleri s\\u0131k idrara \\u00e7\\u0131kma Gece a\\u015f\\u0131r\\u0131 terleme, Sabah yorgun ve uykulu uyanma, G\\u00fcnd\\u00fcz isteksizlik, S\\u0131k\\u0131nt\\u0131 ve gerginli\\u011fe yol a\\u00e7maktad\\u0131r.G\\u00fcnd\\u00fcz uykulu hal, trafik kazalar\\u0131na yol a\\u00e7maktad\\u0131r. Uzun d\\u00f6nemde uyku apne sendromu; y\\u00fcksek tansiyon, kalp krizi, beyin damar t\\u0131kan\\u0131klar\\u0131 sonucu fel\\u00e7ler gibi ciddi problemleri de ortaya \\u00e7\\u0131karmaktad\\u0131r. Uykuda solunum durmas\\u0131 olan hastalarda gece boyunca ortaya \\u00e7\\u0131kan d\\u00fc\\u015f\\u00fck oksijen d\\u00fczeyi, hastan\\u0131n kalp ve damar sisteminde y\\u00fcklenmeye yol a\\u00e7makta, hastalar\\u0131n yar\\u0131ya yak\\u0131n\\u0131nda zaman i\\u00e7inde kalp b\\u00fcy\\u00fcmesine ve hipertansiyona sebep olmaktad\\u0131r.Hipertansiyonun, bu hastalarda %30-40 oranlar\\u0131nda ve hatta baz\\u0131 \\u00e7al\\u0131\\u015fmalarda %50\\u2019ye varan oranlarda g\\u00f6r\\u00fcld\\u00fc\\u011f\\u00fc bilinmektedir. Hastalar\\u0131n kalp ritimleri incelendi\\u011finde apne s\\u0131ras\\u0131nda olu\\u015fan bradikardiyi uyan\\u0131kl\\u0131k s\\u0131ras\\u0131nda ta\\u015fikardi izlemektedir. Bradi-ta\\u015fi-aritmi denen bu ritim bozuklu\\u011funa bazen daha de\\u011fi\\u015fik ritim bozukluklar\\u0131 da eklenebilmektedir. Kalp ritmindeki bozukluklar, bazen hastan\\u0131n uykuda kaybedilmesine dahi sebep olmaktad\\u0131r.Uyku Apnesi Tan\\u0131s\\u0131 Nas\\u0131l Konulur?Uyku apnesi testi, hastal\\u0131\\u011f\\u0131n tespiti ve tedavisi s\\u00fcrecinde en \\u00f6nemli a\\u015famad\\u0131r. \\\"Polisomnografi\\\" denilen uyku apnesi testi t\\u00fcm gece boyunca beyin aktivitesinin ve solunumsal olaylar\\u0131n kaydedildi\\u011fi bir testtir. Bu testle birlikte elektroensefalografi (EEG), elektrook\\u00fclografi (EOG), elektrokardiyografi (EKG), elektromiyografi (EMG), g\\u00f6\\u011f\\u00fcs ve kar\\u0131n hareketleri kayd\\u0131n\\u0131 i\\u00e7eren solunum eforu, burun ve a\\u011f\\u0131zdan hava ak\\u0131m\\u0131 kayd\\u0131, oksijen sat\\u00fcrasyonu, v\\u00fccut pozisyonu gibi 8 parametrenin gece boyunca 7 saat s\\u00fcre ile takibi sa\\u011flanmaktad\\u0131r.Uyku apnesi testi olan Polisomnografi yani uyku testi, uyku s\\u0131ras\\u0131nda beyin dalgalar\\u0131, g\\u00f6z hareketleri, a\\u011f\\u0131z ve burundan hava ak\\u0131m\\u0131, horlama, kalp h\\u0131z\\u0131, bacak hareketleri ve oksijen seviyelerinin \\u00f6l\\u00e7\\u00fcm\\u00fc esas\\u0131na dayan\\u0131r. Uyku apnesi testini yapt\\u0131rabilmek i\\u00e7in hastalar\\u0131n bir gece uyku odas\\u0131nda kalmalar\\u0131 gerekir. Test s\\u0131ras\\u0131nda v\\u00fccudun \\u00e7e\\u015fitli noktalar\\u0131na ba\\u011flanan kablolarla al\\u0131nan sinyaller odan\\u0131n d\\u0131\\u015f\\u0131ndaki bilgisayara aktar\\u0131l\\u0131r. Sabaha kadar al\\u0131nan bu kay\\u0131tlar\\u0131n incelenmesiyle, uyku s\\u00fcresince solunumun ka\\u00e7 defa durdu\\u011fu, ne kadar s\\u00fcre ile durdu\\u011fu, durdu\\u011funda oksijen de\\u011ferlerinin ve kalp h\\u0131z\\u0131n\\u0131n nas\\u0131l etkilendi\\u011fi ve derin uykuya dal\\u0131n\\u0131p dal\\u0131nmad\\u0131\\u011f\\u0131 gibi bir\\u00e7ok parametreye bak\\u0131labilir.Uyku Apnesi Nas\\u0131l Tedavi Edilir?Uyku apnesi tedavisinde ilk yap\\u0131lmas\\u0131 gereken obezite s\\u00f6z konusu ise bu durumun a\\u015f\\u0131lmas\\u0131d\\u0131r. E\\u011fer \\u00fcst solunum yollar\\u0131nda belirgin anatomik darl\\u0131klar var ise hastan\\u0131n Kulak Burun Bo\\u011faz uzman\\u0131 taraf\\u0131ndan cerrahi giri\\u015fim y\\u00f6n\\u00fcnden de\\u011ferlendirilmesi gerekir.Celon metodu yani bipolar radyo frekans ile termoterapi y\\u00f6ntemi ve plazma y\\u00f6ntemleriyle yap\\u0131lan cerrahi tedavi bunladan biridir. Horlama ve uyku apnesi i\\u00e7in uygulanan cerrahi tedavinin ba\\u015far\\u0131s\\u0131, cerrahiye uygun hastan\\u0131n belirlenmesine ve ameliyatta kullan\\u0131lan cihazlara ba\\u011fl\\u0131 olmaktad\\u0131r. Cerrahide kullan\\u0131lan cihazlar\\u0131n dokuda fazla hasar olu\\u015fturmamas\\u0131, ameliyat sonras\\u0131 d\\u00f6nemde hastan\\u0131n a\\u011fr\\u0131lar\\u0131n\\u0131n daha az olmas\\u0131nda olduk\\u00e7a \\u00f6nemlidir. Ayr\\u0131ca uyku apnesi cihazlar\\u0131 da tedavide kullan\\u0131lmaktad\\u0131r.\\u0130leri derecede uyku apnesi tedavisinde ise pozitif hava bas\\u0131nc\\u0131 (CPAP) tedavisi uygulanmal\\u0131d\\u0131r. Tedavi etkisine ve hastan\\u0131n tercihine g\\u00f6re otomatik ayarlarda d\\u00fczenleme yap\\u0131larak ya da sabit bas\\u0131n\\u00e7l\\u0131 cihaza ge\\u00e7ilerek hasta takibe al\\u0131nmal\\u0131d\\u0131r. Uyku apnesi makinesi olarak da bilinen CPAP cihaz\\u0131 kullanmakta g\\u00fc\\u00e7l\\u00fck \\u00e7eken ya da hafif derece vakalarda a\\u011f\\u0131z i\\u00e7i aparey ile alt \\u00e7ene \\u00f6ne al\\u0131narak dilin geriye d\\u00fc\\u015f\\u00fcp \\u00fcst solunum yolunu t\\u0131kamas\\u0131 \\u00f6nlenebilir. Uyku apnesinin \\u00f6zg\\u00fcn tedavisi, hava yolunu devaml\\u0131 a\\u00e7\\u0131k tutacak \\u015fekilde bas\\u0131n\\u00e7l\\u0131 hava veren cihazlar\\u0131n kullan\\u0131m\\u0131yla sa\\u011flanmaktad\\u0131r.PAP (pozitif havayolu bas\\u0131nc\\u0131) cihazlar\\u0131 yani halk dilinde uyku apnesi maskesi \\u00fcst hava yollar\\u0131n\\u0131n uyku s\\u0131ras\\u0131nda a\\u00e7\\u0131k kalmas\\u0131n\\u0131 sa\\u011flayarak uyku apnesini \\u00f6nlemektedir. Gece boyunca y\\u00fcze s\\u0131k\\u0131ca oturan silikon bir maskeyle bas\\u0131n\\u00e7l\\u0131 hava veren bu cihazlar, ba\\u015flang\\u0131\\u00e7ta hasta i\\u00e7in rahats\\u0131z edici g\\u00f6r\\u00fcnebilmektedir. Buna ra\\u011fmen, sabah dinlenmi\\u015f ve uykusunu alm\\u0131\\u015f olarak uyanan hastalar cihaz\\u0131 kolayl\\u0131kla kabul etmektedir. Hastaya hangi cihaz\\u0131n uygun oldu\\u011funu tespit etmek ve apnelerin yok oldu\\u011fu veya minimum say\\u0131ya indi\\u011fini g\\u00f6rmek i\\u00e7in ikinci bir gecenin uyku laboratuvar\\u0131nda ge\\u00e7irilmesi gerekmektedir.\\u00a0 Cihazla uyku apnesi tedavisinin ard\\u0131ndan uyku apnesi sorunundan kurtulan ki\\u015filerin ya\\u015fam kaliteleri yeniden y\\u00fckselmektedir.Uyku Apnesi ile Ba\\u015fa \\u00c7\\u0131kmak i\\u00e7in Yap\\u0131labilecekler Nelerdir?Hayat kalitesini art\\u0131rmak ve bu durumla ba\\u015fa \\u00e7\\u0131kabilmek i\\u00e7in uyku apnesine kar\\u015f\\u0131 \\u015fu \\u00f6nlemler al\\u0131nabilir: Kilo kontrol\\u00fc sa\\u011flay\\u0131n Hava nemlendiricisinden yararlan\\u0131n Uyurken pozisyonunuza dikkat edin Sigara ve alkolden uzak durunUyku Apnesine Ne \\u0130yi Gelir?Uyku apnesi semptomlar\\u0131n\\u0131 hafifletmek i\\u00e7in do\\u011fal y\\u00f6ntemlerden yararlanabilirsiniz. Bu y\\u00f6ntemler sa\\u011fl\\u0131kl\\u0131 bir uyku ge\\u00e7irmenizi sa\\u011flayarak iyile\\u015fmenize yard\\u0131mc\\u0131 olacakt\\u0131r.Oda \\u0131s\\u0131s\\u0131n\\u0131 ayarlay\\u0131nUyku apnesi olan ki\\u015filer oda s\\u0131cakl\\u0131\\u011f\\u0131 16 derece civar\\u0131nda oldu\\u011funda daha iyi uyumaktad\\u0131r. Odan\\u0131 ne \\u00e7ok s\\u0131cak ne de \\u00e7ok so\\u011fuk olmas\\u0131 uyku verimlili\\u011fini art\\u0131r\\u0131r.Lavantadan yararlan\\u0131nKayg\\u0131y\\u0131 azaltmada etkili olan lavanta, ki\\u015finin rahatlamas\\u0131n\\u0131 sa\\u011flayarak uyku moduna ge\\u00e7mesini kolayla\\u015ft\\u0131r\\u0131r. Saf lavanta ya\\u011f\\u0131n\\u0131 havluya birka\\u00e7 damla d\\u00f6kt\\u00fckten sonra yast\\u0131k k\\u0131l\\u0131f\\u0131n\\u0131z\\u0131n i\\u00e7ine koyun ve o \\u015fekilde uyuyun.Magnezyum deste\\u011fi al\\u0131nUyku apnesine sahip olan ki\\u015filer d\\u00fc\\u015f\\u00fck magnezyum seviyesine sahip oldu\\u011fundan magnezyum i\\u00e7eren besinler t\\u00fcketmek bu ki\\u015filer i\\u00e7in \\u00f6nemlidir. Muz, lahana, \\u0131spanak, avokado ve kuruyemi\\u015fler magnezyum a\\u00e7\\u0131s\\u0131ndan zengin g\\u0131dalar olup uyku apnesine iyi gelir.Do\\u011fal baldan yararlanarak bo\\u011faz\\u0131n\\u0131z\\u0131 rahatlat\\u0131nAntioksidan g\\u00f6revi g\\u00f6ren bal, uyku apnesine sahip ki\\u015filerin bo\\u011faz\\u0131n\\u0131 yat\\u0131\\u015ft\\u0131rarak rahat bir uyku ge\\u00e7irmelerine katk\\u0131 sa\\u011flar.Yoga gibi egzersizlerden yararlan\\u0131n Bo\\u011faz kaslar\\u0131n\\u0131n gev\\u015feyerek bo\\u011fazdaki dokular\\u0131n hava ge\\u00e7i\\u015fini engellemesine neden olan uyku apnesine kar\\u015f\\u0131 yoga gibi egzersizlerden yararlanabilirsiniz.Uyku Apnesi Hakk\\u0131nda S\\u0131k Sorulan SorularUyku apnesi ve horlama aras\\u0131ndaki fark nedir?Uyku apnesi, uyku s\\u0131ras\\u0131nda nefes almada 10 saniye veya daha fazla duraklamalarla kendini g\\u00f6steren ve huzursuz uykuya neden olan bir uyku bozuklu\\u011fudur. Uyku s\\u0131ras\\u0131nda tekrarlayan solunum kesintilerine neden olur. Pek \\u00e7ok sebeple ortaya \\u00e7\\u0131kabilen horlama ise uyku esnas\\u0131ndan hava yollar\\u0131nda olu\\u015fan titre\\u015fimin sebep oldu\\u011fu g\\u00fcr\\u00fclt\\u00fc olarak tan\\u0131mlan\\u0131r.Uyku apnesi ve \\u015fi\\u015fmanl\\u0131k aras\\u0131ndaki ili\\u015fki nedir?Obezite ve uyku apnesi aras\\u0131nda do\\u011frudan bir ili\\u015fki bulunur. Bunun sebebi ise kilolu ve obez ki\\u015filerde \\u00fcst solunum yollar\\u0131ndaki yer alan ya\\u011f birikintilerinin hava yollar\\u0131n\\u0131 daraltmas\\u0131ndan kaynaklan\\u0131r. Bu b\\u00f6lgede kas aktivitesinde azalma oldu\\u011fundan, uyku apnesine yol a\\u00e7abilmektedir.Uyku apnesi neden meydana gelir?Uyku apnesi bir\\u00e7ok sebepten meydana gelebilir fakat en \\u00f6nemlisi bo\\u011fazda hava ge\\u00e7i\\u015finin oldu\\u011fu b\\u00f6lgenin kapanmas\\u0131 ve gev\\u015femesinden dolay\\u0131d\\u0131r.Uyku apnesi \\u00f6ld\\u00fcr\\u00fcr m\\u00fc?Uyku apnesine m\\u00fcdahale edilmezse ve gerekli \\u00f6nlemler al\\u0131nmazsa fel\\u00e7 ya da ani \\u00f6l\\u00fcmlere sebebiyet verebilir.Uyku apnesi olan hangi pozisyonda uyumal\\u0131?Uyku apnesi olan ki\\u015filerin y\\u00fcz \\u00fcst\\u00fc uyumas\\u0131 \\u00f6nerilmektedir. B\\u00f6ylece solunum yollar\\u0131 a\\u00e7\\u0131k kalarak hava ge\\u00e7i\\u015fi sa\\u011flanmas\\u0131 hedeflenir.Uyku apnesi psikolojik olabilir mi?Psikolojik ya da sosyal sorunlar uyku apnesini tetikleyebilmektedir.Apne nedir?Solunumun ge\\u00e7ici olarak durmas\\u0131na apne denilmektedir. Genellikle uyku apnesi olarak bilinmektedir.Uyku apnesi nas\\u0131l \\u00f6nlenir?Uyku apnesi, al\\u0131nacak basit \\u00f6nemler sayesinde \\u00f6nlenebilir. Hastal\\u0131k i\\u00e7in de\\u011fi\\u015ftirilebilir risk fakt\\u00f6rlerinden en \\u00f6nemlisi obezitedir. Uyku apnesi kilo verilerek %50 oran\\u0131nda azalt\\u0131labilir. Ayr\\u0131ca, alkol ve uyku ila\\u00e7lar\\u0131ndan ka\\u00e7\\u0131nmak, sigaray\\u0131 b\\u0131rakmak ve s\\u0131rt \\u00fcst\\u00fc yatmamak da rahats\\u0131zl\\u0131\\u011f\\u0131 azalt\\u0131r. Horlamay\\u0131 azaltan ve burun a\\u00e7\\u0131kl\\u0131\\u011f\\u0131n\\u0131 sa\\u011flayan spreyler veya elastik bantlar uyku apnesi tedavisi i\\u00e7in yeterli olmaz.Uyku apnesi oldu\\u011fumu nas\\u0131l anlar\\u0131m?Uyku apnesinin belirtilerinin hasta taraf\\u0131ndan fark edilmesi zordur. Bu konuda ki\\u015finin uyku durumunu bilen e\\u015fi, ebeveynleri, \\u00e7ocuklar\\u0131 ya da yak\\u0131nlar\\u0131 taraf\\u0131ndan do\\u011fru bilgi sa\\u011flanmal\\u0131d\\u0131r. Uyku apnesinin varl\\u0131\\u011f\\u0131ndan s\\u00f6z edebilmek i\\u00e7in 3 \\u00f6nemli soruyu cevapland\\u0131rmak \\u00e7ok \\u00f6nemlidir. Horlama, uykuda nefes durmas\\u0131 ve g\\u00fcnd\\u00fcz artm\\u0131\\u015f uyku hali var m\\u0131? Bu 3 soruya \\u201cevet\\u201d yan\\u0131t\\u0131 veriliyorsa, bu durum uyku apnesi ile kar\\u015f\\u0131 kar\\u015f\\u0131ya olundu\\u011fu anlam\\u0131na gelecektir.\\u00a0 Bunun i\\u00e7in en k\\u0131sa s\\u00fcrede bir uzman doktora ba\\u015fvurulmal\\u0131d\\u0131r.\\u00c7ocuklarda uyku apnesi olur mu?Evet, \\u00e7ocuklarda uyku apnesi olur. \\u00c7ocuklar\\u0131n \\u00f6zellikle gece uykular\\u0131 yak\\u0131n takibe al\\u0131nmal\\u0131d\\u0131r. \\u00c7ocu\\u011fun uykuda a\\u011fz\\u0131n\\u0131n a\\u00e7\\u0131k uyuyup uyumad\\u0131\\u011f\\u0131, horlama ya da h\\u0131r\\u0131lt\\u0131l\\u0131 nefes almalar belli periyodlarla kontrol edilmelidir. Geniz eti ve bademciklerin b\\u00fcy\\u00fck oldu\\u011fu durumlar\\u0131n uyku apnesine yol a\\u00e7abilece\\u011fi unutulmamal\\u0131d\\u0131r. Doktora gitmeden \\u00f6nce \\u00e7ocu\\u011fun uyku an\\u0131n\\u0131n videoya al\\u0131nmas\\u0131 te\\u015fhis a\\u00e7\\u0131s\\u0131ndan \\u00f6nemli bir ayr\\u0131nt\\u0131d\\u0131r.Uyku apnesi olan ne yapmal\\u0131?T\\u00fcm hastalara genel olarak kilo verilmesi, sigara ve alkol\\u00fcn b\\u0131rak\\u0131lmas\\u0131 \\u00f6nerilmektedir. Diyabet, hipertansiyon, y\\u00fcksek kolesterol, obezite gibi hastal\\u0131klar a\\u00e7\\u0131s\\u0131ndan riski y\\u00fcksek olan ki\\u015filerde uyku apne sendromunun te\\u015fhis ve tedavisi b\\u00fcy\\u00fck \\u00f6nem ta\\u015f\\u0131maktad\\u0131r.Uyku sorunlar\\u0131 nelere yol a\\u00e7ar?Uyku apnesi sa\\u011fl\\u0131kl\\u0131 uykuyu bozar. Oysa uyku bedensel dinlenmeye zemin haz\\u0131rlad\\u0131\\u011f\\u0131 gibi zihinsel fonksiyonlar\\u0131n da yenilendi\\u011fi bir d\\u00f6nemdir. Sa\\u011fl\\u0131kl\\u0131 bir v\\u00fccut i\\u00e7in ve g\\u00fcn\\u00fcn kaliteli ge\\u00e7ebilmesi i\\u00e7in uykunun s\\u00fcresinden ziyade kalitesinin art\\u0131r\\u0131lmas\\u0131 daha \\u00f6nemlidir. Kronik uykusuzluk; g\\u00fcnd\\u00fcz dikkat eksikli\\u011fi, konsantrasyon g\\u00fc\\u00e7l\\u00fc\\u011f\\u00fc, a\\u015f\\u0131r\\u0131 sinirlilik, i\\u015f performans\\u0131nda d\\u00fc\\u015fme, depresyon, y\\u00fcksek tansiyon ve metabolik bozukluklara kadar bir\\u00e7ok soruna neden olabilmektedir.\\nUyku Apnesi Nedir?Uyku apnesi, uyku s\\u0131ras\\u0131nda solunum yollar\\u0131ndaki kaslar\\u0131n gev\\u015femesi ve akci\\u011ferlere hava ak\\u0131\\u015f\\u0131n\\u0131n engellenmesi sonucu\\u00a0solunumun tekrar tekrar durup ba\\u015flad\\u0131\\u011f\\u0131 bir uyku bozuklu\\u011fudur. \\u00dcst solunum yolunun a\\u00e7\\u0131k kalmas\\u0131n\\u0131 sa\\u011flayan kaslarda ya\\u015fanan gev\\u015feme ile\\u00a0dil k\\u00f6k\\u00fc veya yumu\\u015fak dama\\u011f\\u0131n veya a\\u015f\\u0131r\\u0131 b\\u00fcy\\u00fcm\\u00fc\\u015f bademciklerin hava yolunu t\\u0131kamas\\u0131 sonucunda en az 10 saniye nefes alamamak uyku apnesi olarak adland\\u0131r\\u0131l\\u0131r. Bu t\\u0131kan\\u0131kl\\u0131k, birka\\u00e7 saniyeden dakikalara kadar s\\u00fcrebilir. 1 saat i\\u00e7erisinde 30 veya daha fazla kezde ger\\u00e7ekle\\u015febilir. Uyku apnesi s\\u0131ras\\u0131nda solunum \\u00e7abas\\u0131 s\\u00fcrse de, bir s\\u00fcre sonra daha da artan bu \\u00e7aba beyni uyar\\u0131r ve hava yolu a\\u00e7\\u0131l\\u0131r. Solunumu durana kadar horlayan ki\\u015fi, g\\u00fcr\\u00fclt\\u00fcl\\u00fc bir homurdanma ile yeniden nefes almaya ve horlamaya devam eder. Gerekli \\u00f6nlemler al\\u0131nmad\\u0131\\u011f\\u0131nda uyku apnesinin dikkatsizli\\u011fe yol a\\u00e7arak trafik kazas\\u0131 riskini 7-8 kat artt\\u0131rd\\u0131\\u011f\\u0131 ve i\\u015f kazalar\\u0131na neden oldu\\u011fu biliniyor. Uyku apnesinin g\\u00f6r\\u00fclme s\\u0131kl\\u0131\\u011f\\u0131 %1-4 olsa da, diyabet hastal\\u0131\\u011f\\u0131n\\u0131n %3, ast\\u0131m s\\u0131kl\\u0131\\u011f\\u0131n\\u0131n yakla\\u015f\\u0131k %5 oldu\\u011fu d\\u00fc\\u015f\\u00fcn\\u00fcl\\u00fcrse ne kadar \\u00f6nemli bir sorun oldu\\u011fu daha iyi anla\\u015f\\u0131labilir.Uyku Apnesi Nas\\u0131l Olur?Uyku apnesi\\u00a0bo\\u011fazda bulunan\\u00a0yumu\\u015fak dokular\\u0131 destekleyen dil ve damak kaslar\\u0131n\\u0131n ge\\u00e7ici olarak gev\\u015femesi ile hava yollar\\u0131n\\u0131n daral\\u0131p kapanmas\\u0131na ba\\u011fl\\u0131 nefes alman\\u0131n ge\\u00e7ici olarak kesilmesine neden olur. Obstr\\u00fcktif uyku apnesi\\u00a0hava yollar\\u0131n\\u0131n t\\u0131kanmas\\u0131,\\u00a0merkezi apne\\u00a0ise beynin solunumu do\\u011fru \\u015fekilde kontrol edememesi sonucu ger\\u00e7ekle\\u015fir.Uyku Apnesi T\\u00fcrleri Nelerdir?Uyku esnas\\u0131nda nefes almay\\u0131 durduran uyku apnesinin 3 tipi bulunur. Bunlar santral, obstr\\u00fcktif (t\\u0131kay\\u0131c\\u0131) ve mikst (karma) olarak a\\u00e7\\u0131klan\\u0131r.Santral uyku apnesiSantral uyku apnesi, uyku esnas\\u0131nda nefes alma d\\u00fcrt\\u00fcs\\u00fcn\\u00fc ger\\u00e7ekle\\u015ftiren kaslar\\u0131n sinyal g\\u00f6ndermemesi durumunda ortaya \\u00e7\\u0131kan uyku apnesi tipidir.Obstr\\u00fcktif uyku apnesi (T\\u0131kay\\u0131c\\u0131)Uyku kalitesinde ciddi etkisi bulunan obstr\\u00fcktif uyku apnesi, hava yolundaki i\\u015flev kayb\\u0131ndan dolay\\u0131 oksijenin v\\u00fccuda az girmesine neden olan apne tipidir. Uykunun kesilmesinden kaynakl\\u0131 olarak ataklara da neden olur.Mikst uyku apnesi (Karma)Mikst uyku apnesi, ki\\u015filerde obstr\\u00fcktif ve santral uyku apnesi ile beraber g\\u00f6r\\u00fclen apne t\\u00fcr\\u00fcd\\u00fcr.Uyku Apnesi Neden Olur?Uyku apnesinin nedeni, bo\\u011fazdaki kaslar\\u0131n havan\\u0131n ge\\u00e7ece\\u011fi alan\\u0131 kapatacak \\u015fekilde gev\\u015femesidir. \\u00dcst solunum yolundaki darl\\u0131klar \\u00e7ocukluktan itibaren, solunum yolunun y\\u0131pranmas\\u0131na sebep olabilir ve bu da uyku apne sendromuna neden olabilir. \\u0130\\u015fte uyku apnesinin yayg\\u0131n nedenleri:Uyku apnesi sadece yeti\\u015fkinlerde de\\u011fil, \\u00e7ocuklarda da g\\u00f6r\\u00fclebilir. Uyku apne sendromu olan ki\\u015fide horlama, 3-4 kat daha fazla, \\u00e7ok kaba ve g\\u00fcr\\u00fclt\\u00fcl\\u00fc \\u015fekilde ger\\u00e7ekle\\u015fir. Horlaman\\u0131n yan\\u0131 s\\u0131ra nefes darl\\u0131\\u011f\\u0131, s\\u0131k s\\u0131k i\\u00e7 \\u00e7ekme, el kol hareketleriyle \\u00e7\\u0131rp\\u0131narak uyanmaya \\u00e7al\\u0131\\u015fma, s\\u0131k ve uzun s\\u00fcreli solunum durmalar\\u0131, sabah yorgun uyanmak da uyku apne sendromu ya\\u015fayan ki\\u015filerde g\\u00f6r\\u00fcl\\u00fcr. Uyku apnesinin tam nedeni say\\u0131lmasa da, uyku apne sendromlu hastalar\\u0131n %30-50'sinde hipertansiyon g\\u00f6r\\u00fclmektedir.Uyku Apnesinin Belirtileri Nelerdir?En \\u00f6nemli semptomu uykuda solunumun durmas\\u0131 olan uyku apnesinin belirtileri \\u015funlard\\u0131r:Ayr\\u0131ca ba\\u015f a\\u011fr\\u0131s\\u0131, unutkanl\\u0131k, konsantrasyon bozuklu\\u011fu, depresyon, sabah din\\u00e7 uyanamama ve a\\u015f\\u0131r\\u0131 derecede uykulu olmak ve yorgunluk hali ise uyku apnesinin g\\u00fcnd\\u00fcz g\\u00f6zlenebilen belirtileri aras\\u0131ndad\\u0131r. Uyku apnesi belirtilerinin g\\u00f6r\\u00fcld\\u00fc\\u011f\\u00fc ki\\u015filer g\\u00fcn i\\u00e7erisinde bir\\u00e7ok ciddi tablo ile kar\\u015f\\u0131la\\u015f\\u0131labilmektedir. Uykuda ani \\u00f6l\\u00fcm, inme, kalp krizi ve kalp yetmezli\\u011fi, e\\u011fer hasta obez ise kilo vermede zorluk, akci\\u011fer hastalar\\u0131nda solunum yetmezli\\u011fi, cinsel isteksizlik ve iktidars\\u0131zl\\u0131k, kontrol alt\\u0131na al\\u0131namayan diyabet bu olumsuzluklara \\u00f6rnek olarak g\\u00f6sterilebilir. Bunun yan\\u0131 s\\u0131ra, uyku apnesi ki\\u015fide g\\u00fcnd\\u00fcz s\\u00fcrekli yorgunluk ve konsantrasyon eksikli\\u011fine neden olaca\\u011f\\u0131 i\\u00e7in trafik ve i\\u015f kazalar\\u0131na da neden olabilmektedir.Uyku Apnesi Kimlerde G\\u00f6r\\u00fcl\\u00fcr?Uyku apnesi, uyurken \\u00fcst solunum yolunun t\\u0131kanmas\\u0131 nedeniyle solunumun tekrar tekrar kesilmesi ba\\u015flamas\\u0131yla ortaya \\u00e7\\u0131kan ciddi bir uyku bozuklu\\u011fudur. Her ya\\u015fta g\\u00f6r\\u00fclebilen uyku apnesi, \\u00f6zellikle 40-70 ya\\u015f aral\\u0131\\u011f\\u0131ndaki ki\\u015filerde daha fazla ya\\u015fanmaktad\\u0131r. Kilolu ve ya\\u015fl\\u0131 olmak uyku apnesine zemin haz\\u0131rlar. Bunun yan\\u0131nda erkeklerde kad\\u0131nlara oranla daha fazla g\\u00f6r\\u00fcl\\u00fcr. Kad\\u0131nlarda menopoz sonras\\u0131 d\\u00f6nemde uyku apnesi g\\u00f6r\\u00fclme s\\u0131kl\\u0131\\u011f\\u0131 artabilir.Uyku Apnesi Nelere Sebep Olur?Uykuda solunum durmalar\\u0131; kalp at\\u0131m\\u0131nda d\\u00fczensizlik ve ileri ya\\u015flarda ritim bozuklu\\u011funa ba\\u011fl\\u0131 olarak uykuda ani \\u00f6l\\u00fcmlere neden olmaktad\\u0131r. Bununla birlikte;G\\u00fcnd\\u00fcz uykulu hal, trafik kazalar\\u0131na yol a\\u00e7maktad\\u0131r. Uzun d\\u00f6nemde uyku apne sendromu; y\\u00fcksek tansiyon, kalp krizi, beyin damar t\\u0131kan\\u0131klar\\u0131 sonucu fel\\u00e7ler gibi ciddi problemleri de ortaya \\u00e7\\u0131karmaktad\\u0131r. Uykuda solunum durmas\\u0131 olan hastalarda gece boyunca ortaya \\u00e7\\u0131kan d\\u00fc\\u015f\\u00fck oksijen d\\u00fczeyi, hastan\\u0131n kalp ve damar sisteminde y\\u00fcklenmeye yol a\\u00e7makta, hastalar\\u0131n yar\\u0131ya yak\\u0131n\\u0131nda zaman i\\u00e7inde kalp b\\u00fcy\\u00fcmesine ve hipertansiyona sebep olmaktad\\u0131r.Hipertansiyonun, bu hastalarda %30-40 oranlar\\u0131nda ve hatta baz\\u0131 \\u00e7al\\u0131\\u015fmalarda %50\\u2019ye varan oranlarda g\\u00f6r\\u00fcld\\u00fc\\u011f\\u00fc bilinmektedir. Hastalar\\u0131n kalp ritimleri incelendi\\u011finde apne s\\u0131ras\\u0131nda olu\\u015fan bradikardiyi uyan\\u0131kl\\u0131k s\\u0131ras\\u0131nda ta\\u015fikardi izlemektedir. Bradi-ta\\u015fi-aritmi denen bu ritim bozuklu\\u011funa bazen daha de\\u011fi\\u015fik ritim bozukluklar\\u0131 da eklenebilmektedir. Kalp ritmindeki bozukluklar, bazen hastan\\u0131n uykuda kaybedilmesine dahi sebep olmaktad\\u0131r.Uyku Apnesi Tan\\u0131s\\u0131 Nas\\u0131l Konulur?Uyku apnesi testi, hastal\\u0131\\u011f\\u0131n tespiti ve tedavisi s\\u00fcrecinde en \\u00f6nemli a\\u015famad\\u0131r. \\\"Polisomnografi\\\" denilen uyku apnesi testi t\\u00fcm gece boyunca beyin aktivitesinin ve solunumsal olaylar\\u0131n kaydedildi\\u011fi bir testtir. Bu testle birlikte elektroensefalografi (EEG), elektrook\\u00fclografi (EOG), elektrokardiyografi (EKG), elektromiyografi (EMG), g\\u00f6\\u011f\\u00fcs ve kar\\u0131n hareketleri kayd\\u0131n\\u0131 i\\u00e7eren solunum eforu, burun ve a\\u011f\\u0131zdan hava ak\\u0131m\\u0131 kayd\\u0131, oksijen sat\\u00fcrasyonu, v\\u00fccut pozisyonu gibi 8 parametrenin gece boyunca 7 saat s\\u00fcre ile takibi sa\\u011flanmaktad\\u0131r.Uyku apnesi testi olan Polisomnografi yani uyku testi, uyku s\\u0131ras\\u0131nda beyin dalgalar\\u0131, g\\u00f6z hareketleri, a\\u011f\\u0131z ve burundan hava ak\\u0131m\\u0131, horlama, kalp h\\u0131z\\u0131, bacak hareketleri ve oksijen seviyelerinin \\u00f6l\\u00e7\\u00fcm\\u00fc esas\\u0131na dayan\\u0131r. Uyku apnesi testini yapt\\u0131rabilmek i\\u00e7in hastalar\\u0131n bir gece uyku odas\\u0131nda kalmalar\\u0131 gerekir. Test s\\u0131ras\\u0131nda v\\u00fccudun \\u00e7e\\u015fitli noktalar\\u0131na ba\\u011flanan kablolarla al\\u0131nan sinyaller odan\\u0131n d\\u0131\\u015f\\u0131ndaki bilgisayara aktar\\u0131l\\u0131r. Sabaha kadar al\\u0131nan bu kay\\u0131tlar\\u0131n incelenmesiyle, uyku s\\u00fcresince solunumun ka\\u00e7 defa durdu\\u011fu, ne kadar s\\u00fcre ile durdu\\u011fu, durdu\\u011funda oksijen de\\u011ferlerinin ve kalp h\\u0131z\\u0131n\\u0131n nas\\u0131l etkilendi\\u011fi ve derin uykuya dal\\u0131n\\u0131p dal\\u0131nmad\\u0131\\u011f\\u0131 gibi bir\\u00e7ok parametreye bak\\u0131labilir.Uyku Apnesi Nas\\u0131l Tedavi Edilir?Uyku apnesi tedavisinde ilk yap\\u0131lmas\\u0131 gereken obezite s\\u00f6z konusu ise bu durumun a\\u015f\\u0131lmas\\u0131d\\u0131r. E\\u011fer \\u00fcst solunum yollar\\u0131nda belirgin anatomik darl\\u0131klar var ise hastan\\u0131n Kulak Burun Bo\\u011faz uzman\\u0131 taraf\\u0131ndan cerrahi giri\\u015fim y\\u00f6n\\u00fcnden de\\u011ferlendirilmesi gerekir.Celon metodu yani bipolar radyo frekans ile termoterapi y\\u00f6ntemi ve plazma y\\u00f6ntemleriyle yap\\u0131lan cerrahi tedavi bunladan biridir. Horlama ve uyku apnesi i\\u00e7in uygulanan cerrahi tedavinin ba\\u015far\\u0131s\\u0131, cerrahiye uygun hastan\\u0131n belirlenmesine ve ameliyatta kullan\\u0131lan cihazlara ba\\u011fl\\u0131 olmaktad\\u0131r. Cerrahide kullan\\u0131lan cihazlar\\u0131n dokuda fazla hasar olu\\u015fturmamas\\u0131, ameliyat sonras\\u0131 d\\u00f6nemde hastan\\u0131n a\\u011fr\\u0131lar\\u0131n\\u0131n daha az olmas\\u0131nda olduk\\u00e7a \\u00f6nemlidir. Ayr\\u0131ca uyku apnesi cihazlar\\u0131 da tedavide kullan\\u0131lmaktad\\u0131r.\\u0130leri derecede uyku apnesi tedavisinde ise pozitif hava bas\\u0131nc\\u0131 (CPAP) tedavisi uygulanmal\\u0131d\\u0131r. Tedavi etkisine ve hastan\\u0131n tercihine g\\u00f6re otomatik ayarlarda d\\u00fczenleme yap\\u0131larak ya da sabit bas\\u0131n\\u00e7l\\u0131 cihaza ge\\u00e7ilerek hasta takibe al\\u0131nmal\\u0131d\\u0131r. Uyku apnesi makinesi olarak da bilinen CPAP cihaz\\u0131 kullanmakta g\\u00fc\\u00e7l\\u00fck \\u00e7eken ya da hafif derece vakalarda a\\u011f\\u0131z i\\u00e7i aparey ile alt \\u00e7ene \\u00f6ne al\\u0131narak dilin geriye d\\u00fc\\u015f\\u00fcp \\u00fcst solunum yolunu t\\u0131kamas\\u0131 \\u00f6nlenebilir. Uyku apnesinin \\u00f6zg\\u00fcn tedavisi, hava yolunu devaml\\u0131 a\\u00e7\\u0131k tutacak \\u015fekilde bas\\u0131n\\u00e7l\\u0131 hava veren cihazlar\\u0131n kullan\\u0131m\\u0131yla sa\\u011flanmaktad\\u0131r.PAP (pozitif havayolu bas\\u0131nc\\u0131) cihazlar\\u0131 yani halk dilinde uyku apnesi maskesi \\u00fcst hava yollar\\u0131n\\u0131n uyku s\\u0131ras\\u0131nda a\\u00e7\\u0131k kalmas\\u0131n\\u0131 sa\\u011flayarak uyku apnesini \\u00f6nlemektedir. Gece boyunca y\\u00fcze s\\u0131k\\u0131ca oturan silikon bir maskeyle bas\\u0131n\\u00e7l\\u0131 hava veren bu cihazlar, ba\\u015flang\\u0131\\u00e7ta hasta i\\u00e7in rahats\\u0131z edici g\\u00f6r\\u00fcnebilmektedir. Buna ra\\u011fmen, sabah dinlenmi\\u015f ve uykusunu alm\\u0131\\u015f olarak uyanan hastalar cihaz\\u0131 kolayl\\u0131kla kabul etmektedir. Hastaya hangi cihaz\\u0131n uygun oldu\\u011funu tespit etmek ve apnelerin yok oldu\\u011fu veya minimum say\\u0131ya indi\\u011fini g\\u00f6rmek i\\u00e7in ikinci bir gecenin uyku laboratuvar\\u0131nda ge\\u00e7irilmesi gerekmektedir.\\u00a0 Cihazla uyku apnesi tedavisinin ard\\u0131ndan uyku apnesi sorunundan kurtulan ki\\u015filerin ya\\u015fam kaliteleri yeniden y\\u00fckselmektedir.Uyku Apnesi ile Ba\\u015fa \\u00c7\\u0131kmak i\\u00e7in Yap\\u0131labilecekler Nelerdir?Hayat kalitesini art\\u0131rmak ve bu durumla ba\\u015fa \\u00e7\\u0131kabilmek i\\u00e7in uyku apnesine kar\\u015f\\u0131 \\u015fu \\u00f6nlemler al\\u0131nabilir:Uyku Apnesine Ne \\u0130yi Gelir?Uyku apnesi semptomlar\\u0131n\\u0131 hafifletmek i\\u00e7in do\\u011fal y\\u00f6ntemlerden yararlanabilirsiniz. Bu y\\u00f6ntemler sa\\u011fl\\u0131kl\\u0131 bir uyku ge\\u00e7irmenizi sa\\u011flayarak iyile\\u015fmenize yard\\u0131mc\\u0131 olacakt\\u0131r.Oda \\u0131s\\u0131s\\u0131n\\u0131 ayarlay\\u0131nUyku apnesi olan ki\\u015filer oda s\\u0131cakl\\u0131\\u011f\\u0131 16 derece civar\\u0131nda oldu\\u011funda daha iyi uyumaktad\\u0131r. Odan\\u0131 ne \\u00e7ok s\\u0131cak ne de \\u00e7ok so\\u011fuk olmas\\u0131 uyku verimlili\\u011fini art\\u0131r\\u0131r.Lavantadan yararlan\\u0131nKayg\\u0131y\\u0131 azaltmada etkili olan lavanta, ki\\u015finin rahatlamas\\u0131n\\u0131 sa\\u011flayarak uyku moduna ge\\u00e7mesini kolayla\\u015ft\\u0131r\\u0131r. Saf lavanta ya\\u011f\\u0131n\\u0131 havluya birka\\u00e7 damla d\\u00f6kt\\u00fckten sonra yast\\u0131k k\\u0131l\\u0131f\\u0131n\\u0131z\\u0131n i\\u00e7ine koyun ve o \\u015fekilde uyuyun.Magnezyum deste\\u011fi al\\u0131nUyku apnesine sahip olan ki\\u015filer d\\u00fc\\u015f\\u00fck magnezyum seviyesine sahip oldu\\u011fundan magnezyum i\\u00e7eren besinler t\\u00fcketmek bu ki\\u015filer i\\u00e7in \\u00f6nemlidir. Muz, lahana, \\u0131spanak, avokado ve kuruyemi\\u015fler magnezyum a\\u00e7\\u0131s\\u0131ndan zengin g\\u0131dalar olup uyku apnesine iyi gelir.Do\\u011fal baldan yararlanarak bo\\u011faz\\u0131n\\u0131z\\u0131 rahatlat\\u0131nAntioksidan g\\u00f6revi g\\u00f6ren bal, uyku apnesine sahip ki\\u015filerin bo\\u011faz\\u0131n\\u0131 yat\\u0131\\u015ft\\u0131rarak rahat bir uyku ge\\u00e7irmelerine katk\\u0131 sa\\u011flar.Yoga gibi egzersizlerden yararlan\\u0131n Bo\\u011faz kaslar\\u0131n\\u0131n gev\\u015feyerek bo\\u011fazdaki dokular\\u0131n hava ge\\u00e7i\\u015fini engellemesine neden olan uyku apnesine kar\\u015f\\u0131 yoga gibi egzersizlerden yararlanabilirsiniz.Uyku Apnesi Hakk\\u0131nda S\\u0131k Sorulan SorularUyku apnesi ve horlama aras\\u0131ndaki fark nedir?Uyku apnesi, uyku s\\u0131ras\\u0131nda nefes almada 10 saniye veya daha fazla duraklamalarla kendini g\\u00f6steren ve huzursuz uykuya neden olan bir uyku bozuklu\\u011fudur. Uyku s\\u0131ras\\u0131nda tekrarlayan solunum kesintilerine neden olur. Pek \\u00e7ok sebeple ortaya \\u00e7\\u0131kabilen horlama ise uyku esnas\\u0131ndan hava yollar\\u0131nda olu\\u015fan titre\\u015fimin sebep oldu\\u011fu g\\u00fcr\\u00fclt\\u00fc olarak tan\\u0131mlan\\u0131r.Uyku apnesi ve \\u015fi\\u015fmanl\\u0131k aras\\u0131ndaki ili\\u015fki nedir?Obezite ve uyku apnesi aras\\u0131nda do\\u011frudan bir ili\\u015fki bulunur. Bunun sebebi ise kilolu ve obez ki\\u015filerde \\u00fcst solunum yollar\\u0131ndaki yer alan ya\\u011f birikintilerinin hava yollar\\u0131n\\u0131 daraltmas\\u0131ndan kaynaklan\\u0131r. Bu b\\u00f6lgede kas aktivitesinde azalma oldu\\u011fundan, uyku apnesine yol a\\u00e7abilmektedir.Uyku apnesi neden meydana gelir?Uyku apnesi bir\\u00e7ok sebepten meydana gelebilir fakat en \\u00f6nemlisi bo\\u011fazda hava ge\\u00e7i\\u015finin oldu\\u011fu b\\u00f6lgenin kapanmas\\u0131 ve gev\\u015femesinden dolay\\u0131d\\u0131r.Uyku apnesi \\u00f6ld\\u00fcr\\u00fcr m\\u00fc?Uyku apnesine m\\u00fcdahale edilmezse ve gerekli \\u00f6nlemler al\\u0131nmazsa fel\\u00e7 ya da ani \\u00f6l\\u00fcmlere sebebiyet verebilir.Uyku apnesi olan hangi pozisyonda uyumal\\u0131?Uyku apnesi olan ki\\u015filerin y\\u00fcz \\u00fcst\\u00fc uyumas\\u0131 \\u00f6nerilmektedir. B\\u00f6ylece solunum yollar\\u0131 a\\u00e7\\u0131k kalarak hava ge\\u00e7i\\u015fi sa\\u011flanmas\\u0131 hedeflenir.Uyku apnesi psikolojik olabilir mi?Psikolojik ya da sosyal sorunlar uyku apnesini tetikleyebilmektedir.Apne nedir?Solunumun ge\\u00e7ici olarak durmas\\u0131na apne denilmektedir. Genellikle uyku apnesi olarak bilinmektedir.Uyku apnesi nas\\u0131l \\u00f6nlenir?Uyku apnesi, al\\u0131nacak basit \\u00f6nemler sayesinde \\u00f6nlenebilir. Hastal\\u0131k i\\u00e7in de\\u011fi\\u015ftirilebilir risk fakt\\u00f6rlerinden en \\u00f6nemlisi obezitedir. Uyku apnesi kilo verilerek %50 oran\\u0131nda azalt\\u0131labilir. Ayr\\u0131ca, alkol ve uyku ila\\u00e7lar\\u0131ndan ka\\u00e7\\u0131nmak, sigaray\\u0131 b\\u0131rakmak ve s\\u0131rt \\u00fcst\\u00fc yatmamak da rahats\\u0131zl\\u0131\\u011f\\u0131 azalt\\u0131r. Horlamay\\u0131 azaltan ve burun a\\u00e7\\u0131kl\\u0131\\u011f\\u0131n\\u0131 sa\\u011flayan spreyler veya elastik bantlar uyku apnesi tedavisi i\\u00e7in yeterli olmaz.Uyku apnesi oldu\\u011fumu nas\\u0131l anlar\\u0131m?Uyku apnesinin belirtilerinin hasta taraf\\u0131ndan fark edilmesi zordur. Bu konuda ki\\u015finin uyku durumunu bilen e\\u015fi, ebeveynleri, \\u00e7ocuklar\\u0131 ya da yak\\u0131nlar\\u0131 taraf\\u0131ndan do\\u011fru bilgi sa\\u011flanmal\\u0131d\\u0131r. Uyku apnesinin varl\\u0131\\u011f\\u0131ndan s\\u00f6z edebilmek i\\u00e7in 3 \\u00f6nemli soruyu cevapland\\u0131rmak \\u00e7ok \\u00f6nemlidir. Horlama, uykuda nefes durmas\\u0131 ve g\\u00fcnd\\u00fcz artm\\u0131\\u015f uyku hali var m\\u0131? Bu 3 soruya \\u201cevet\\u201d yan\\u0131t\\u0131 veriliyorsa, bu durum uyku apnesi ile kar\\u015f\\u0131 kar\\u015f\\u0131ya olundu\\u011fu anlam\\u0131na gelecektir.\\u00a0 Bunun i\\u00e7in en k\\u0131sa s\\u00fcrede bir uzman doktora ba\\u015fvurulmal\\u0131d\\u0131r.\\u00c7ocuklarda uyku apnesi olur mu?Evet, \\u00e7ocuklarda uyku apnesi olur. \\u00c7ocuklar\\u0131n \\u00f6zellikle gece uykular\\u0131 yak\\u0131n takibe al\\u0131nmal\\u0131d\\u0131r. \\u00c7ocu\\u011fun uykuda a\\u011fz\\u0131n\\u0131n a\\u00e7\\u0131k uyuyup uyumad\\u0131\\u011f\\u0131, horlama ya da h\\u0131r\\u0131lt\\u0131l\\u0131 nefes almalar belli periyodlarla kontrol edilmelidir. Geniz eti ve bademciklerin b\\u00fcy\\u00fck oldu\\u011fu durumlar\\u0131n uyku apnesine yol a\\u00e7abilece\\u011fi unutulmamal\\u0131d\\u0131r. Doktora gitmeden \\u00f6nce \\u00e7ocu\\u011fun uyku an\\u0131n\\u0131n videoya al\\u0131nmas\\u0131 te\\u015fhis a\\u00e7\\u0131s\\u0131ndan \\u00f6nemli bir ayr\\u0131nt\\u0131d\\u0131r.Uyku apnesi olan ne yapmal\\u0131?T\\u00fcm hastalara genel olarak kilo verilmesi, sigara ve alkol\\u00fcn b\\u0131rak\\u0131lmas\\u0131 \\u00f6nerilmektedir. Diyabet, hipertansiyon, y\\u00fcksek kolesterol, obezite gibi hastal\\u0131klar a\\u00e7\\u0131s\\u0131ndan riski y\\u00fcksek olan ki\\u015filerde uyku apne sendromunun te\\u015fhis ve tedavisi b\\u00fcy\\u00fck \\u00f6nem ta\\u015f\\u0131maktad\\u0131r.Uyku sorunlar\\u0131 nelere yol a\\u00e7ar?Uyku apnesi sa\\u011fl\\u0131kl\\u0131 uykuyu bozar. Oysa uyku bedensel dinlenmeye zemin haz\\u0131rlad\\u0131\\u011f\\u0131 gibi zihinsel fonksiyonlar\\u0131n da yenilendi\\u011fi bir d\\u00f6nemdir. Sa\\u011fl\\u0131kl\\u0131 bir v\\u00fccut i\\u00e7in ve g\\u00fcn\\u00fcn kaliteli ge\\u00e7ebilmesi i\\u00e7in uykunun s\\u00fcresinden ziyade kalitesinin art\\u0131r\\u0131lmas\\u0131 daha \\u00f6nemlidir. Kronik uykusuzluk; g\\u00fcnd\\u00fcz dikkat eksikli\\u011fi, konsantrasyon g\\u00fc\\u00e7l\\u00fc\\u011f\\u00fc, a\\u015f\\u0131r\\u0131 sinirlilik, i\\u015f performans\\u0131nda d\\u00fc\\u015fme, depresyon, y\\u00fcksek tansiyon ve metabolik bozukluklara kadar bir\\u00e7ok soruna neden olabilmektedir.\",\n          \" Hem \\u00e7ocuklarda hem de yeti\\u015fkinlerin sa\\u011fl\\u0131\\u011f\\u0131 i\\u00e7in en \\u00f6nemli vitaminlerden D vitamini eksikli\\u011fi pek \\u00e7ok sa\\u011fl\\u0131k sorununa kap\\u0131 a\\u00e7abilir. Kemik sa\\u011fl\\u0131\\u011f\\u0131n\\u0131n olmazsa olmaz\\u0131 D vitamini kanser gibi hastal\\u0131klarda da \\u00f6nlem olabilir. Memorial \\u015ei\\u015fli Hastanesi Klinik Biyokimya Laboratuvar\\u0131 Sorumlusu Do\\u00e7. Dr. Nilg\\u00fcn Tekke\\u015fin, D vitamini ve testi hakk\\u0131nda bilgi verdi.Hem \\u00e7ocuklarda hem de yeti\\u015fkinlerin sa\\u011fl\\u0131\\u011f\\u0131 i\\u00e7in en \\u00f6nemli vitaminlerden D vitamini eksikli\\u011fi pek \\u00e7ok sa\\u011fl\\u0131k sorununa kap\\u0131 a\\u00e7abilir. Kemik sa\\u011fl\\u0131\\u011f\\u0131n\\u0131n olmazsa olmaz\\u0131 D vitamini kanser gibi hastal\\u0131klarda da \\u00f6nlem olabilir. Memorial \\u015ei\\u015fli Hastanesi Klinik Biyokimya Laboratuvar\\u0131 Sorumlusu Do\\u00e7. Dr. Nilg\\u00fcn Tekke\\u015fin, D vitamini ve testi hakk\\u0131nda bilgi verdi.D vitamini testi nedir?D vitamini, hem yeti\\u015fkin hem \\u00e7ocuk sa\\u011fl\\u0131\\u011f\\u0131 i\\u00e7in gerekli olan vitaminler aras\\u0131nda yer almaktad\\u0131r. D vitamini eksikli\\u011finde hem yeti\\u015fkinlerde hem de \\u00e7ocuklarda \\u00e7e\\u015fitli sa\\u011fl\\u0131k sorunlar\\u0131 ortaya \\u00e7\\u0131kabilir. Bu nedenle vitamin seviyelerinin istenilen d\\u00fczeyde olmas\\u0131 \\u00e7ok \\u00f6nemlidir. T\\u0131p dilinde kalsiferol denilen, ya\\u011fda \\u00e7\\u00f6z\\u00fcnen, karaci\\u011ferde ve ya\\u011f dokuda depolanan vitamin \\u00e7e\\u015fitlerinden biridir. D2 ve D3 olarak iki tipe ayr\\u0131lmaktad\\u0131r. G\\u00fcne\\u015ften ve besinlerden al\\u0131nan D vitamini, karaci\\u011ferde ve b\\u00f6brekte de\\u011fi\\u015fime u\\u011frayarak daha etkili bir kimyasala d\\u00f6n\\u00fc\\u015fmektedir. Fosfor ve kalsiyum maddelerinin kan seviyelerini dengeleyen vitamin, D vitaminidir. Di\\u015f ve kemik sa\\u011fl\\u0131\\u011f\\u0131 a\\u00e7\\u0131s\\u0131ndan son derece \\u00f6nemlidir. Kalsiyumun ba\\u011f\\u0131rsaklarda emilimini sa\\u011flarken b\\u00f6breklerde de kalsiyum kayb\\u0131n\\u0131 azaltmaktad\\u0131r. Kemiklerin kalsiyum birikimi ile sertle\\u015fmesi D vitamini ile ger\\u00e7ekle\\u015fmektedir. Kas g\\u00fcc\\u00fcn\\u00fc ve kas k\\u00fctlesini artt\\u0131rd\\u0131\\u011f\\u0131 i\\u00e7in \\u00f6zellikle ya\\u015fl\\u0131larda g\\u00f6r\\u00fclen d\\u00fc\\u015fme durumlar\\u0131n\\u0131 azaltmaktad\\u0131r. Kemik erimesine neden olan paratiroid hormonun salg\\u0131lanmas\\u0131n\\u0131 \\u00f6nlemektedir. Kas ve kemik sa\\u011fl\\u0131\\u011f\\u0131 i\\u00e7in vitamin al\\u0131m\\u0131na ve beslenme d\\u00fczenine \\u00f6zen g\\u00f6sterilmesi son derece \\u00f6nemlidir. D vitamini diyabete kar\\u015f\\u0131 koruma \\u00f6zelli\\u011fine sahiptir. Yeterli D vitaminine sahip olan \\u00e7ocuklarda Tip 1 diyabetin azald\\u0131\\u011f\\u0131, d\\u00fc\\u015f\\u00fck olanlarda ise Tip 2 diyabetin artt\\u0131\\u011f\\u0131 g\\u00f6r\\u00fclmektedir. Ayr\\u0131ca metabolik sendrom gibi durumlar, D vitamini eksikli\\u011fi g\\u00f6r\\u00fclen ki\\u015filerde ortaya \\u00e7\\u0131kar. Ba\\u011f\\u0131\\u015f\\u0131kl\\u0131k sistemini g\\u00fc\\u00e7lendiren vitaminler aras\\u0131nda D vitamini de yer almaktad\\u0131r. Ba\\u011f\\u0131\\u015f\\u0131kl\\u0131\\u011f\\u0131 g\\u00fc\\u00e7lendirerek hastal\\u0131klara kar\\u015f\\u0131 koruma sa\\u011flayan D vitamini, v\\u00fccuttaki t\\u00fcm h\\u00fccreler i\\u00e7in yararl\\u0131d\\u0131r. \\u00dclseratif kolit, Crohn, Multipl Skleroz (MS) gibi ba\\u011f\\u0131\\u015f\\u0131kl\\u0131k sisteminin neden oldu\\u011fu hastal\\u0131klarda d\\u00fc\\u015f\\u00fck D vitaminine rastlanmaktad\\u0131r. Yeterli D vitamini ile bu hastal\\u0131klar\\u0131n \\u00f6nlenebildi\\u011fi g\\u00f6r\\u00fclmektedir. D vitamini kalp sa\\u011fl\\u0131\\u011f\\u0131na ve hastal\\u0131klar\\u0131na iyi gelmektedir. Y\\u00fcksek tansiyon, kalp hastal\\u0131klar\\u0131, baz\\u0131 kanser t\\u00fcrleri ile ilgili hastal\\u0131klara kar\\u015f\\u0131 koruyucu etkisi vard\\u0131r. V\\u00fccut i\\u00e7in \\u00f6nemli olan D vitamini testi de Tam Kan Say\\u0131m\\u0131 testi i\\u00e7inde doktor taraf\\u0131ndan istenebilmektedir.D vitamini hangi hastal\\u0131klar\\u0131n tan\\u0131s\\u0131 i\\u00e7in yap\\u0131l\\u0131r?Osteomalazi, osteoporoz, paget gibi kemik hastal\\u0131\\u011f\\u0131 olan ki\\u015filere, kas- iskelet sistemine ait belirtiler ya\\u015fayan ki\\u015filere, g\\u00fcne\\u015f \\u0131\\u015f\\u0131\\u011f\\u0131n\\u0131 yeterli d\\u00fczeyde alamayanlara, obezitede, k\\u0131sa aral\\u0131klarla hamile kalan anne adaylar\\u0131na, emziren annelere, baz\\u0131 ila\\u00e7lar\\u0131 kullanan ki\\u015filere D vitamini testi yap\\u0131lmaktad\\u0131r. Ayr\\u0131ca kistik fibrosiz, MS, \\u00fclseratif kolit, Crohn hastal\\u0131\\u011f\\u0131n\\u0131 izlemek i\\u00e7in de bu test istenir. \\u0130leri ya\\u015fta ve menopoz d\\u00f6neminde de D vitamini testi istenebilmektedir.D vitamini testi nas\\u0131l yap\\u0131l\\u0131r?\\u0130\\u00e7 Hastal\\u0131klar\\u0131 (Dahiliye) uzman doktorlar\\u0131n y\\u00f6nlendirmesiyle hastan\\u0131n kolundaki bir damardan girilerek kan al\\u0131n\\u0131r. Bu kanda D vitamini de\\u011feri bulunur.S\\u0131k sorulan sorular\\u00a0D vitamini y\\u00fcksekli\\u011fi nedir?Her \\u015feyin fazlas\\u0131 v\\u00fccut i\\u00e7in zararl\\u0131d\\u0131r. D vitamini miktar\\u0131 i\\u00e7in de ayn\\u0131 \\u015fey ge\\u00e7erlidir ve fazlas\\u0131 zehirlenmelere sebebiyet verebilmektedir. Y\\u00fcksek D vitamini seviyesi, organlarda ve yumu\\u015fak dokularda kalsiyum birikimlerine yol a\\u00e7abilmektedir. Bunun sonucunda da b\\u00f6brek ta\\u015f\\u0131, y\\u00fcksek tansiyon ataklar\\u0131 g\\u00f6r\\u00fclebilmektedir. Ayr\\u0131ca D vitamini fazlal\\u0131\\u011f\\u0131 kanda kalsiyum y\\u00fckselmesine, b\\u00f6brek hastal\\u0131klar\\u0131na, b\\u00f6brek ta\\u015flar\\u0131na ve damar sorunlar\\u0131na yol a\\u00e7abilmektedir. Fazla D vitamini zehirlenmelere yol a\\u00e7abilmekte ve bu zehirlenme sonucunda geli\\u015fen b\\u00f6brek yetmezli\\u011fi ve kalp yetmezli\\u011fi \\u00f6l\\u00fcme sebep olabilmektedir. Erken toksisite (zehirlenme) belirtileri kemik a\\u011fr\\u0131lar\\u0131, sersemlik, a\\u011f\\u0131z kurulu\\u011fu, kab\\u0131zl\\u0131k, s\\u00fcrekli ba\\u015f a\\u011fr\\u0131s\\u0131, susuzluk, kas a\\u011fr\\u0131s\\u0131, i\\u015ftahs\\u0131zl\\u0131k, mide bulant\\u0131s\\u0131, kusma, d\\u00fczensiz kalp at\\u0131\\u015f\\u0131 \\u015feklinde g\\u00f6r\\u00fclebilmektedir. Kronik toksisite belirtileri ciltte ka\\u015f\\u0131nt\\u0131, mide bulant\\u0131s\\u0131, cinsel isteksizlik, \\u015fiddetli mide a\\u011fr\\u0131s\\u0131, psikiyatrik problemler, kemik a\\u011fr\\u0131s\\u0131, idrarda bulan\\u0131kl\\u0131k, g\\u00f6zlerin \\u0131\\u015f\\u0131\\u011fa kar\\u015f\\u0131 hassas olmas\\u0131, kusma gibi durumlarla kendini belli edebilmektedir.G\\u00fcne\\u015f \\u0131\\u015f\\u0131nlar\\u0131, D vitamini fazlal\\u0131\\u011f\\u0131n\\u0131 yok etti\\u011fi i\\u00e7in g\\u00fcne\\u015flenme ile D vitamini zehirlenmesi meydana gelmemektedir.D vitamini d\\u00fc\\u015f\\u00fckl\\u00fc\\u011f\\u00fc nedir?D vitamini eksikli\\u011fi, v\\u00fccudun t\\u00fcm sistemlerini etkilemekte ve pek \\u00e7ok hastal\\u0131\\u011fa davetiye \\u00e7\\u0131karmaktad\\u0131r. G\\u00fcn\\u00fcm\\u00fcz\\u00fcn ya\\u015fam ko\\u015fullar\\u0131, kapal\\u0131 ortamlarda \\u00e7al\\u0131\\u015fmak, a\\u00e7\\u0131k hava aktivitelerini yeterince ger\\u00e7ekle\\u015ftirmemek, yetersiz beslenme D vitamini eksikli\\u011fini art\\u0131rmaktad\\u0131r. D vitamini eksikli\\u011fi, her ya\\u015f grubunu etkileyen ve \\u00f6nemli sa\\u011fl\\u0131k sorunlar\\u0131n\\u0131n ortaya \\u00e7\\u0131kmas\\u0131na sebep olan bir etkendir. D vitamini eksikli\\u011fi \\u00e7e\\u015fitli belirtilerle ortaya \\u00e7\\u0131kabilmektedir. Burada \\u00f6nemli olan detay, ki\\u015filerin kendilerini izlemesi ve gerekli \\u00f6nlemleri almas\\u0131d\\u0131r. D vitamini eksikli\\u011fi belirtileri a\\u015fa\\u011f\\u0131daki \\u015fekilde s\\u0131ralanabilir:- Genel v\\u00fccut a\\u011fr\\u0131s\\u0131- Yorgunluk- Y\\u00fcr\\u00fcmekte zorlanma (denge problemi)- Kemik a\\u011fr\\u0131s\\u0131- Kuvvet kayb\\u0131- Sa\\u00e7 d\\u00f6k\\u00fclmesi- Ba\\u015f a\\u011fr\\u0131s\\u0131- Depresyon- De\\u011fi\\u015fken ruh hali- Uykusuzluk- Eklemlerde ve parmaklarda a\\u011fr\\u0131- G\\u00f6zalt\\u0131 morluklar\\u0131- A\\u015f\\u0131r\\u0131 terleme- Kilo vermekte g\\u00fc\\u00e7l\\u00fck \\u00e7ekme- S\\u00fcrekli \\u00fc\\u015f\\u00fcmeD vitamini eksikli\\u011fi ki\\u015filerde; kanser, kronik yorgunluk, diyabet, hipertansiyon, depresyon, romatizma ve kalp hastal\\u0131klar\\u0131 gibi sa\\u011fl\\u0131k sorunlar\\u0131na yol a\\u00e7abilir. D vitamini eksikli\\u011fi; kemik yo\\u011funlu\\u011funu da olumsuz etkiler ve kemik hastal\\u0131klar\\u0131na davetiye \\u00e7\\u0131kar\\u0131r.D vitamini de\\u011feri ka\\u00e7 olmal\\u0131?* Fazla D\\u00fc\\u015f\\u00fck D Vitamini Seviyesi: 30 nmol / L'nin alt\\u0131nda (12 ng / mL)* Hafif D\\u00fc\\u015f\\u00fck D Vitamini Seviyesi: 30 nmol / L (12 ng / mL) ile 50 nmol / L (20 ng / mL) aras\\u0131nda* Normal D Vitamini Seviyesi: 50 nmol / L (20 ng / mL) ile 125 nmol / L (50 ng / mL) aras\\u0131nda* Y\\u00fcksek D Vitamini Seviyesi: 125 nmol / L'den (50 ng / mL) y\\u00fcksekD vitamini nelerde var?D vitamini eksikli\\u011fi, v\\u00fccudun t\\u00fcm sistemlerini etkilemekte ve pek \\u00e7ok hastal\\u0131\\u011fa davetiye \\u00e7\\u0131karmaktad\\u0131r. G\\u00fcn\\u00fcm\\u00fcz\\u00fcn ya\\u015fam ko\\u015fullar\\u0131, kapal\\u0131 ortamlarda \\u00e7al\\u0131\\u015fmak, a\\u00e7\\u0131k hava aktivitelerini yeterince ger\\u00e7ekle\\u015ftirmemek, yetersiz beslenme D vitamini eksikli\\u011fini art\\u0131rmaktad\\u0131r. D vitamini eksikli\\u011fi, her ya\\u015f grubunu etkileyen ve \\u00f6nemli sa\\u011fl\\u0131k sorunlar\\u0131n\\u0131n ortaya \\u00e7\\u0131kmas\\u0131na sebep olan bir etkendir.D vitamini eksikli\\u011fi \\u00e7e\\u015fitli belirtilerle ortaya \\u00e7\\u0131kabilmektedir. Burada \\u00f6nemli olan detay, ki\\u015filerin kendilerini izlemesi ve gerekli \\u00f6nlemleri almas\\u0131d\\u0131r. D vitamini eksikli\\u011fi belirtileri a\\u015fa\\u011f\\u0131daki \\u015fekilde s\\u0131ralanabilir:- Genel v\\u00fccut a\\u011fr\\u0131s\\u0131- Yorgunluk- Y\\u00fcr\\u00fcmekte zorlanma (denge problemi)- Kemik a\\u011fr\\u0131s\\u0131- Kuvvet kayb\\u0131- Sa\\u00e7 d\\u00f6k\\u00fclmesi- Ba\\u015f a\\u011fr\\u0131s\\u0131- Depresyon- De\\u011fi\\u015fken ruh hali- Uykusuzluk- Eklemlerde ve parmaklarda a\\u011fr\\u0131- G\\u00f6zalt\\u0131 morluklar\\u0131- A\\u015f\\u0131r\\u0131 terleme- Kilo vermekte g\\u00fc\\u00e7l\\u00fck \\u00e7ekme- S\\u00fcrekli \\u00fc\\u015f\\u00fcmeD vitamini eksikli\\u011fi ki\\u015filerde; kanser, kronik yorgunluk, diyabet, hipertansiyon, depresyon, romatizma ve kalp hastal\\u0131klar\\u0131 gibi sa\\u011fl\\u0131k sorunlar\\u0131na yol a\\u00e7abilir. D vitamini eksikli\\u011fi; kemik yo\\u011funlu\\u011funu da olumsuz etkiler ve kemik hastal\\u0131klar\\u0131na davetiye \\u00e7\\u0131kar\\u0131r.D vitamini damla \\u015feklinde al\\u0131n\\u0131r m\\u0131?D vitamini takviyesi (d vitamini ila\\u00e7lar\\u0131) almadan \\u00f6nce mutlaka doktora dan\\u0131\\u015f\\u0131lmal\\u0131 ve ki\\u015fiye uygun D vitamini eksikli\\u011fi tedavisi yap\\u0131lmal\\u0131d\\u0131r. D vitamini eksikli\\u011fini \\u00f6\\u011frenmek i\\u00e7in hemen online hastane randevusu alabilirsiniz. D vitamini eksikli\\u011fi tan\\u0131s\\u0131, kandaki D vitamini seviyesi \\u00f6l\\u00e7\\u00fclerek konmaktad\\u0131r. G\\u00fcnl\\u00fck ihtiyac\\u0131 kar\\u015f\\u0131layamayanlara a\\u011f\\u0131zdan tedavi \\u00f6nerilmektedir. \\u201cD vitamini eksikli\\u011fi nas\\u0131l giderilir?\\u201d sorular\\u0131na yan\\u0131t olarak \\u201cDaha y\\u00fcksek dozlu D vitamini takviyeleri kal\\u00e7adan enjeksiyonla uygulanabilmektedir. Yap\\u0131lan ara\\u015ft\\u0131rmalara g\\u00f6re D vitamini hap\\u0131 ya da D vitamini damlas\\u0131 ya\\u011fl\\u0131 yemeklerle al\\u0131nd\\u0131\\u011f\\u0131nda vitaminin emilimi daha fazla olmaktad\\u0131r\\u201d denilebilir.Hamilelikte D vitamini eksikli\\u011finin zararlar\\u0131 nelerdir?D vitamini eksikli\\u011fi kad\\u0131n hastal\\u0131klar\\u0131 ve do\\u011fum konusunda da kendini g\\u00f6stermektedir. Hamilelik d\\u00f6neminde anne ve \\u00e7ocuk sa\\u011fl\\u0131\\u011f\\u0131 i\\u00e7in D vitamini kullan\\u0131m\\u0131 son derece \\u00f6nemlidir. Anne karn\\u0131ndaki bebek kalsiyum ihtiyac\\u0131n\\u0131 anneden kar\\u015f\\u0131lad\\u0131\\u011f\\u0131 i\\u00e7in annenin hamilelik ve emzirme d\\u00f6neminde kalsiyum dengesinin sa\\u011flanmas\\u0131 i\\u00e7in D vitamini d\\u00fczeyinin yeterli olmas\\u0131 gerekmektedir. D vitamini eksikli\\u011fi olan annelerin bebeklerinin kemiklerinde yumu\\u015fama ve zay\\u0131flama g\\u00f6r\\u00fclebilir. Bebe\\u011fin kaslar\\u0131nda zay\\u0131fl\\u0131k, b\\u0131ng\\u0131lda\\u011f\\u0131n\\u0131n kapanmas\\u0131 ya da kapanmamas\\u0131, di\\u015f \\u00e7\\u0131kmas\\u0131nda zay\\u0131fl\\u0131k da D vitamini eksikli\\u011fiyle ili\\u015fkilidir. Hamilelikte eksik D vitamini al\\u0131m\\u0131, yeni do\\u011fan bebeklerde kal\\u0131c\\u0131 hasar b\\u0131rakabilmekte ve do\\u011fumdan sonra ger\\u00e7ekle\\u015ftirilen vitamin takviyesi ile tam olarak d\\u00fczeltilememektedir.D vitamini eksikli\\u011finde anne adaylar\\u0131nda gebelik zehirlenmesi denilen preeklamsi/eklamsi riskinde art\\u0131\\u015f ya\\u015fanabilmektedir. Hamilelikte halsizlik, yetersiz kilo al\\u0131m\\u0131, yorgunluk, kas ve kemik a\\u011fr\\u0131lar\\u0131n\\u0131n olmas\\u0131 da D vitaminiyle ilgilidir. Ayr\\u0131ca gebelik \\u015fekeri ve kemik erimesi D vitamini eksikli\\u011finde meydana gelebilecek durumlar aras\\u0131ndad\\u0131r. D vitamini d\\u00fc\\u015f\\u00fck olan annelerde sezaryen ile do\\u011fum daha fazla olmaktad\\u0131r. Anne adaylar\\u0131na 12. haftadan itibaren D vitamini takviyesine ba\\u015flanmal\\u0131 ve emzirme d\\u00f6neminin 6. ay\\u0131na kadar s\\u00fcrd\\u00fcr\\u00fclmelidir.D vitamini eksikli\\u011finde kimler risk alt\\u0131nda?D vitamini eksikli\\u011finde g\\u00f6r\\u00fclen hastal\\u0131klar konusunda risk alt\\u0131nda olan ki\\u015filer:\\u2022 A\\u00e7\\u0131k tenliler\\u2022 Ya\\u015fl\\u0131lar\\u2022 Diyabet hastalar\\u0131\\u2022 Kapal\\u0131 ortamlarda \\u00e7al\\u0131\\u015fanlar ve kapal\\u0131 giyinenler\\u2022 Y\\u00fcksek fakt\\u00f6rl\\u00fc g\\u00fcne\\u015f koruyucu kullananlar\\u2022 B\\u00f6brek ve karaci\\u011fer hastal\\u0131klar\\u0131 olanlar\\u2022 Beslenme bozuklu\\u011fu olanlar\\u2022 Mide ameliyat\\u0131 olanlar\\u2022 Gebelik ve emzirme d\\u00f6neminde olanlar\\u2022 Epilepsi ilac\\u0131 kullanan ki\\u015filer\\u2022 Kortizon kullananlar\\u2022 \\u00c7\\u00f6lyak hastal\\u0131\\u011f\\u0131 olanlarD vitamini eksikli\\u011fi kanser yapar m\\u0131?Yap\\u0131lan \\u00e7al\\u0131\\u015fmalarda D vitamini eksikli\\u011finin kad\\u0131nlarda g\\u00f6r\\u00fclme s\\u0131kl\\u0131\\u011f\\u0131 y\\u00fczde 93 olup erkeklerden daha y\\u00fcksek oldu\\u011fu fark edilmi\\u015ftir. Son d\\u00f6nemlerde D vitamini ve kanser ili\\u015fkisinin oldu\\u011funa dair ortaya at\\u0131lan s\\u00f6ylemler en \\u00e7ok kad\\u0131nlar\\u0131 pani\\u011fe sevk etse de, kanser ve bu vitaminin eksikli\\u011fine dair net bir ili\\u015fki yoktur.D vitamini kanseri \\u00f6nler mi?D vitamini, hem kad\\u0131n, hem \\u00e7ocuk hem erkek sa\\u011fl\\u0131\\u011f\\u0131 i\\u00e7in gerekli olan vitaminler aras\\u0131nda yer almaktad\\u0131r. D vitamini eksikli\\u011finde \\u00f6zellikle kad\\u0131nlarda ve \\u00e7ocuklarda \\u00e7e\\u015fitli sa\\u011fl\\u0131k sorunlar\\u0131 ortaya \\u00e7\\u0131kabilir. Bu nedenle vitamin seviyelerinin istenilen d\\u00fczeyde olmas\\u0131 \\u00e7ok \\u00f6nemlidir. D vitamini v\\u00fccutta kalsiyum dengesinin d\\u00fczenlemek, kemik mineral yap\\u0131s\\u0131n\\u0131n olu\\u015fmas\\u0131n\\u0131 sa\\u011flamak, b\\u00fcy\\u00fcme-geli\\u015fmeye katk\\u0131da bulunmak ve ba\\u011f\\u0131\\u015f\\u0131kl\\u0131k sistemini g\\u00fc\\u00e7lendirmek gibi \\u00f6nemli bir i\\u015fleve sahiptir. Bunlar\\u0131n yan\\u0131nda D vitamini h\\u00fccrelerin kontrols\\u00fcz b\\u00fcy\\u00fcmelerini d\\u00fczenlerken \\u00f6nemli bir rol \\u00fcstlenmektedir. \\u00c7e\\u015fitli ara\\u015ft\\u0131rmalar kanseri de tan\\u0131mlayan kontrols\\u00fcz h\\u00fccre \\u00e7o\\u011falmas\\u0131n\\u0131 \\u00f6nlemeye yard\\u0131mc\\u0131 oldu\\u011funu g\\u00f6stermi\\u015ftir. Ancak Bu konuda kesin konu\\u015fmak i\\u00e7in daha fazla kontroll\\u00fc ara\\u015ft\\u0131rmaya ihtiya\\u00e7 vard\\u0131r. D vitamini d\\u00fc\\u015f\\u00fck olanlara D vitamini takviyesi verildi\\u011finde ve verilmedi\\u011finde \\u00e7\\u0131kan sonu\\u00e7larda kanser riskinde azalmaya sebep olunmad\\u0131\\u011f\\u0131n\\u0131n g\\u00f6zlendi\\u011fi \\u00e7al\\u0131\\u015fmalar da vard\\u0131r. D vitamini eksikli\\u011finin tek ba\\u015f\\u0131na kanser belirtisi olmayaca\\u011f\\u0131 bilinmelidir.Menopozda D vitamini \\u00f6nemli mi?Son y\\u0131llarda infertiliteden, kilo verme konusuna kadar pek \\u00e7ok sorunda D vitamini \\u00f6nerildi\\u011fi g\\u00f6r\\u00fclmektedir. Ancak D vitamininin infertiliteye etkisi de kesin kan\\u0131tlanm\\u0131\\u015f de\\u011fildir. \\u201cD vitamini eksik oldu\\u011fu i\\u00e7in kanser olunur\\u201d demek bireyleri pani\\u011fe sevk edebilmektedir. Kanserle ili\\u015fkisinden ziyade D vitamininin kemik yap\\u0131s\\u0131nda \\u00f6nemli etkileri vard\\u0131r. \\u00d6zellikle menopoz ve sonras\\u0131 d\\u00f6nemde kemik yap\\u0131s\\u0131n\\u0131n sa\\u011fl\\u0131kl\\u0131 olmas\\u0131 a\\u00e7\\u0131s\\u0131ndan D vitamini \\u00e7ok \\u00f6nemlidir. Menopoz s\\u00fcrecinde D vitamini eksikli\\u011fi nedeniyle en k\\u00fc\\u00e7\\u00fck bir d\\u00fc\\u015fme sorununda bile kemik k\\u0131r\\u0131lmas\\u0131, boy k\\u0131salmas\\u0131 gibi sorunlar g\\u00f6r\\u00fclmektedir. Bu nedenle gerek beslenmekle, gerek g\\u00fcne\\u015f \\u0131\\u015f\\u0131\\u011f\\u0131 almakla bunlar yetersiz gelirse de uygun oranda D vitamini takviyesi verilmektedir.D vitamini g\\u00fcnl\\u00fck ihtiyac\\u0131 ne kadard\\u0131r?D vitamini ihtiyac\\u0131 ya\\u015fa ve ki\\u015fiye g\\u00f6re de\\u011fi\\u015fkenlik g\\u00f6sterir. 1 ya\\u015f\\u0131na kadarki bebeklerde 400 IU yeterli iken, 1 ya\\u015f\\u0131ndan sonraki 600 IU al\\u0131nmas\\u0131 gerekir. 70 ya\\u015f\\u0131ndan sonra g\\u00fcnl\\u00fck D vitamini ihtiyac\\u0131 artmaktad\\u0131r.D vitamininin g\\u00f6revleri nelerdir?D vitamininin metabolizmadaki ba\\u015fl\\u0131ca g\\u00f6revi kalsiyum ve fosfor emilimini sa\\u011flayarak v\\u00fccuttaki kalsiyum ve fosfor dengesini d\\u00fczenlemektir. D vitamini yoklu\\u011funda kalsiyum emilimi %10-15 d\\u00fczeyinde iken D vitaminin varl\\u0131\\u011f\\u0131nda bu oran %30-80 de\\u011ferlerine kadar \\u00e7\\u0131kmaktad\\u0131rD vitamini kullan\\u0131m\\u0131 b\\u00f6breklerdeki kalsiyum kayb\\u0131n\\u0131 \\u00f6nlemektedir.Kemik direncini art\\u0131rmaktad\\u0131r.\\u0130ns\\u00fclin yap\\u0131m\\u0131nda olumlu etkileri vard\\u0131r.D vitamininin do\\u011fru oranlarda kullan\\u0131m\\u0131n\\u0131n bir\\u00e7ok kanser t\\u00fcr\\u00fcne kar\\u015f\\u0131 koruyucu rol oynad\\u0131\\u011f\\u0131 y\\u00f6n\\u00fcnde \\u00e7ok say\\u0131da \\u00e7al\\u0131\\u015fma bulunmaktad\\u0131r.D vitamini takviyesi almal\\u0131 m\\u0131y\\u0131m?D vitamini asla doktora bilgi vermeden, doktorun vermedi\\u011fi \\u015fekilde al\\u0131nmamal\\u0131d\\u0131r. \\u00c7\\u00fcnk\\u00fc ya\\u011fda depolanan, idrar ile at\\u0131lmayan bir vitamin olmas\\u0131ndan dolay\\u0131 geli\\u015fig\\u00fczel kullan\\u0131lmas\\u0131 y\\u00fcksek kan d\\u00fczeylerine sebep olabilir. D vitamini al\\u0131m\\u0131 v\\u00fccut i\\u00e7in son derece yararl\\u0131d\\u0131r ancak her \\u015feyin fazlas\\u0131n\\u0131n zararl\\u0131 oldu\\u011fu gibi bu vitaminin de a\\u015f\\u0131r\\u0131 al\\u0131m\\u0131 istenmeyen etkilere neden olabilir. Bir insan g\\u00fcnde 4000 \\u00fcniteden fazla D vitamini al\\u0131m\\u0131 yapmamal\\u0131d\\u0131r. \\u00c7ok y\\u00fcksek D vitamini seviyesi, ki\\u015finin yumu\\u015fak doku ve organlar\\u0131nda kalsiyum birikimlerine yol a\\u00e7abilmektedir. Bu nedenle mutlaka uzman yard\\u0131m\\u0131 al\\u0131nmal\\u0131 ve v\\u00fccutta D vitamini seviyesi \\u00f6l\\u00e7t\\u00fcr\\u00fclmelidir. Fazla miktarda D vitamini kullan\\u0131lmas\\u0131;Doku ve eklem kire\\u00e7lenmelerineB\\u00f6brek ta\\u015f\\u0131 olu\\u015fumuna ve b\\u00f6brek hasar\\u0131na zemin haz\\u0131rlamaktad\\u0131r.Y\\u00fcksek tansiyona neden olabilir.A\\u015f\\u0131r\\u0131 D vitamini kullan\\u0131m\\u0131 zehirlenmelere yol a\\u00e7abilir. Zehirlenmeye ba\\u011fl\\u0131 olarak; a\\u011f\\u0131z kurulu\\u011fu, ba\\u015f a\\u011fr\\u0131s\\u0131, mide bulant\\u0131s\\u0131, kusma, d\\u00fczensin kal at\\u0131\\u015f\\u0131 ya\\u015fanabilir.G\\u00fcne\\u015f koruyucu D vitaminini etkiler mi?20 fakt\\u00f6rl\\u00fc ve \\u00fcst\\u00fc g\\u00fcne\\u015f koruyucular deride D vitamini olu\\u015fumunu azalt\\u0131r ya da tamamen engellemektedir.D vitamini eksikli\\u011fi grip yapar m\\u0131?D vitamininin do\\u011fal ba\\u011f\\u0131\\u015f\\u0131kl\\u0131k sistemi i\\u00e7inde \\u00f6nemli bir rol\\u00fc bulunmaktad\\u0131r.\\u00a0 S\\u00fcrekli nezle grip oluyorsan\\u0131z, iyile\\u015fme s\\u00fcreciniz \\u00e7ok uzuyorsa D vitamini eksikli\\u011fi ya\\u015f\\u0131yor olabilirsiniz. Ast\\u0131m ve kronik akci\\u011fer hastas\\u0131ysan\\u0131z D vitamini eksikli\\u011fi bu rahats\\u0131zl\\u0131klar\\u0131 daha fazla ya\\u015faman\\u0131za neden olur. Bu nedenle en k\\u0131sa zamanda bir doktora ba\\u015fvurmal\\u0131s\\u0131n\\u0131z.D vitamininin depresyonla ilgisi var m\\u0131?Hi\\u00e7bir sorun ya\\u015famad\\u0131\\u011f\\u0131n\\u0131z bir i\\u015f ve bir aile hayat\\u0131n\\u0131z var ama siz kendinizi s\\u00fcrekli mutsuz, h\\u00fcz\\u00fcnl\\u00fc ve \\u00fczg\\u00fcn hissediyorsunuz. Bu nedensiz depresyonun sebebi beyinde \\u00fcretilen ve ruh halinin d\\u00fczenlenmesinde \\u00f6nemli etkisi bulunan serotonin seviyesinin D vitamini eksikli\\u011fine ba\\u011fl\\u0131 olarak d\\u00fc\\u015fmesi olabilir. Beyninizin sa\\u011fl\\u0131kl\\u0131 \\u00e7al\\u0131\\u015farak d\\u00fczenli bir mutluluk hormonu salg\\u0131lanmas\\u0131 i\\u00e7in D vitamini eksikli\\u011fini giderin.\",\n          \" Hipersomnia, gece en az 6-7 saat gibi iyi bir uyku s\\u00fcresi ya\\u015fansa bile g\\u00fcn i\\u00e7inde ki\\u015finin kendisini her an uykuya dalabilecek kadar uykulu veya uyu\\u015fuk hissetme halidir. Oranlama yap\\u0131ld\\u0131\\u011f\\u0131nda kad\\u0131nlarda erkeklere g\\u00f6re daha fazla g\\u00f6r\\u00fclen bir uyku bozuklu\\u011fu olan hipersomnia, ki\\u015finin g\\u00fcn i\\u00e7inde birka\\u00e7 kez uykuya dalma ihtiyac\\u0131na sebep olabilir. Hipersomnia ya\\u015fayan ki\\u015filer, i\\u015fyerinde ve sosyal hayat\\u0131nda i\\u015flevsellik problemi ya\\u015famakla birlikte ya\\u015fam kalitesinde azalma hisseder ve bu durum g\\u00fcn i\\u00e7inde kazalar ya\\u015fanma riskini art\\u0131r\\u0131r.Hipersomnia, gece en az 6-7 saat gibi iyi bir uyku s\\u00fcresi ya\\u015fansa bile g\\u00fcn i\\u00e7inde ki\\u015finin kendisini her an uykuya dalabilecek kadar uykulu veya uyu\\u015fuk hissetme halidir. Oranlama yap\\u0131ld\\u0131\\u011f\\u0131nda kad\\u0131nlarda erkeklere g\\u00f6re daha fazla g\\u00f6r\\u00fclen bir uyku bozuklu\\u011fu olan hipersomnia, ki\\u015finin g\\u00fcn i\\u00e7inde birka\\u00e7 kez uykuya dalma ihtiyac\\u0131na sebep olabilir. Hipersomnia ya\\u015fayan ki\\u015filer, i\\u015fyerinde ve sosyal hayat\\u0131nda i\\u015flevsellik problemi ya\\u015famakla birlikte ya\\u015fam kalitesinde azalma hisseder ve bu durum g\\u00fcn i\\u00e7inde kazalar ya\\u015fanma riskini art\\u0131r\\u0131r.\\nHipersomnia Nedir?A\\u015f\\u0131r\\u0131 uykulu olma hali olan hipersomnia, gece yeterli uyku al\\u0131nmas\\u0131na kar\\u015f\\u0131n g\\u00fcn i\\u00e7inde a\\u015f\\u0131r\\u0131 bitkin ve uykulu hissedip, uyan\\u0131k kalamama durumudur. Hipersomnia ya\\u015fayan ki\\u015filer g\\u00fcn i\\u00e7inde kendisini s\\u00fcrekli uykulu hisseder ve \\u00f6zellikle uyku ataklar\\u0131yla birlikte uykuya dalarlar. Bu durum bireyin g\\u00fcn i\\u00e7inde enerjisinin d\\u00fc\\u015fmesine ve g\\u00fcnl\\u00fck rutin i\\u015flerini i\\u015flevsel bir \\u015fekilde ger\\u00e7ekle\\u015ftirememesine sebebiyet verir. Uyku apnesi, n\\u00f6rolojik hastal\\u0131klar, ba\\u011f\\u0131ml\\u0131l\\u0131k, depresyon veya baz\\u0131 sakinle\\u015ftiricilerin neden olabilece\\u011fi hipersomnia, ki\\u015fiyi uzun s\\u00fcre rahats\\u0131z etti\\u011finde birtak\\u0131m ba\\u015fka hastal\\u0131klara da yol a\\u00e7abilir.Kad\\u0131nlarda daha yayg\\u0131n olarak ortaya \\u00e7\\u0131kabilen hipersomnia, ila\\u00e7lar, ya\\u015fam tarz\\u0131 de\\u011fi\\u015fimi, e\\u011fitim ve destek gruplar\\u0131 gibi tedavi se\\u00e7enekleriyle ortadan kald\\u0131r\\u0131lmaya \\u00e7al\\u0131\\u015f\\u0131l\\u0131r.Hipersomnia Neden Olur?Hipersomniaya neden olan durumlar aras\\u0131nda MS hastal\\u0131\\u011f\\u0131, uyku apnesi, meydana gelen kafa travmas\\u0131, genetik yatk\\u0131nl\\u0131k, depresyon, ba\\u011f\\u0131ml\\u0131l\\u0131k ve baz\\u0131 sakinle\\u015ftirici ila\\u00e7lar g\\u00f6sterilebilir. Bunlarla birlikte bir t\\u00fcm\\u00f6r veya a\\u015f\\u0131r\\u0131 kilolu olmak da hipersomnia olu\\u015fma riskini y\\u00fckseltir.Hipersomnia nedenleri \\u015fu \\u015fekilde \\u00f6zetlenebilir: MS, parkinson ve epilepsi gibi n\\u00f6rolojik hastal\\u0131klar Uyku apnesi Kafa travmalar\\u0131 Depresyon Genetik yatk\\u0131nl\\u0131k Klein-Levin Sendromu Sigara ve alkol ba\\u011f\\u0131ml\\u0131l\\u0131\\u011f\\u0131 Baz\\u0131 sakinle\\u015ftirici ila\\u00e7lar \\u0130yi veya k\\u00f6t\\u00fc huylu t\\u00fcm\\u00f6rler Obezite B12 eksikli\\u011fiHipersomnia \\u00c7e\\u015fitleri Nelerdir?Hipersomnia, kendi i\\u00e7inde birtak\\u0131m sebeplere ba\\u011fl\\u0131 olarak farkl\\u0131 t\\u00fcrler bar\\u0131nd\\u0131r\\u0131r. Hipersomnia belirtileri \\u015funlard\\u0131r:Narkolepsi tip 1: Katapleksi (duygular\\u0131n tetikledi\\u011fi ani kas zay\\u0131fl\\u0131\\u011f\\u0131) ile birlikte narkolepsi olarak da adland\\u0131r\\u0131lan bu narkolepsi t\\u00fcr\\u00fc, beyin ve beyin omurilik s\\u0131v\\u0131s\\u0131ndaki kimyasal (n\\u00f6rotransmitter) hipokretinin (orexin olarak da bilinir) d\\u00fc\\u015f\\u00fck seviyede olmas\\u0131ndan kaynaklan\\u0131r. G\\u00fcnd\\u00fcz uykular\\u0131, di\\u011fer a\\u015f\\u0131r\\u0131 uyku hali bozukluklar\\u0131ndaki g\\u00fcnd\\u00fcz uykular\\u0131yla kar\\u015f\\u0131la\\u015ft\\u0131r\\u0131ld\\u0131\\u011f\\u0131nda genellikle daha k\\u0131sa ve canland\\u0131r\\u0131c\\u0131d\\u0131r. Narkolepsi tip 1 genellikle 10 ila 25 ya\\u015flar\\u0131 aras\\u0131nda ba\\u015flar. Hal\\u00fcsinasyonlar ve uyku felciyle birlikte kendini g\\u00f6sterir.Narkolepsi tip 2: Narkolepsi tip 2, katapleksiyi i\\u00e7ermez. Narkolepsi tip 2'de semptomlar tehlikeli ve zorlay\\u0131c\\u0131 de\\u011fildir, hipokretin seviyesi de normaldir. Narkolepsi tip 2 genellikle ergenlik d\\u00f6neminde ba\\u015flar.Kleine-Levin sendromu: Bu durum tekrarlayan a\\u015f\\u0131r\\u0131 uyku ataklar\\u0131ndan meydana gelir. Genellikle zihinsel, davran\\u0131\\u015fsal ve bazen de psikiyatrik bozukluklarla birlikte ortaya \\u00e7\\u0131kar. Yakla\\u015f\\u0131k 10 g\\u00fcn s\\u00fcrebilmesiyle birlikte, baz\\u0131 ki\\u015filerde birka\\u00e7 hafta ve aylar\\u0131 bulabilir, y\\u0131lda birka\\u00e7 kez ise tekrarland\\u0131\\u011f\\u0131 g\\u00f6zlenebilir.\\u0130diyopatik hipersomnia: \\u0130diyopatik hipersomnia, alt\\u0131nda bilinen bir nedenin olmad\\u0131\\u011f\\u0131 hipersomnia t\\u00fcr\\u00fcd\\u00fcr. Dolay\\u0131s\\u0131yla idiyopatik hipersomnia, deliksiz ve uzun bir uyku uyunsa bile bilinmeyen nedenlerden dolay\\u0131 a\\u015f\\u0131r\\u0131 uykulu hissedilmesi anlam\\u0131na gelir.Hipersomnia Belirtileri Nelerdir?Hipersomnia\\u2019n\\u0131n g\\u00f6zle g\\u00f6r\\u00fcl\\u00fcr en net belirtisi ki\\u015finin gece deliksiz ve g\\u00fc\\u00e7l\\u00fc bir uyku uyumas\\u0131na ra\\u011fmen g\\u00fcnd\\u00fcz s\\u00fcrekli uykulu hissetme halidir. Bu belirtiyi uykulu hissetme haline ba\\u011fl\\u0131 olarak a\\u015f\\u0131r\\u0131 yorgunluk ve enerji d\\u00fc\\u015f\\u00fckl\\u00fc\\u011f\\u00fc takip eder. Karar verme bozuklu\\u011fu ve konsantrasyon problemi de hipersomnia belirtilerinden say\\u0131l\\u0131r.Hipersomnia belirtileri genel olarak \\u015funlar\\u0131 i\\u00e7erir: Deliksiz bir gece uykusuna ra\\u011fmen g\\u00fcnd\\u00fcz uykulu hissetmek Sabahlar\\u0131 zor uyanmak Beklenmedik zamanlarda gelen uyku ataklar\\u0131 ve uykuya dalmak Uykulu olma haline ba\\u011fl\\u0131 yorgunluk ve enerji d\\u00fc\\u015f\\u00fckl\\u00fc\\u011f\\u00fc Agresiflik ve sinirlilik hali Rutin i\\u015fleri yapamayacak hale gelmek Karar verme g\\u00fc\\u00e7l\\u00fc\\u011f\\u00fc Haf\\u0131za ve konsantrasyon bozuklu\\u011fu Ba\\u015f a\\u011fr\\u0131s\\u0131 \\u0130\\u015ftah kayb\\u0131 Hal\\u00fcsinasyonlar Kaza riskinde art\\u0131\\u015fHipersomnias\\u0131 olan ki\\u015filer genellikle kendilerini uykulu hisseder ve bu uykulu olma hali enerjilerinin d\\u00fc\\u015fmesine ve yorgun hissetmelerine neden olur. Yorgunlukla birlikte rutin i\\u015flerin yap\\u0131lamayacak hale gelmesi, kayg\\u0131l\\u0131 ve sinirli ruh hali, konsantrasyon bozuklu\\u011fu ve kaza riskinde art\\u0131\\u015flar ya\\u015fan\\u0131r. Hipersomnia\\u2019n\\u0131n \\u00e7ok uzun y\\u0131llar devam etti\\u011fi senaryoda uykusuzlu\\u011fa ba\\u011fl\\u0131 v\\u00fccutta bozulmalar ba\\u015flayabilir, bu durum farkl\\u0131 hastal\\u0131klar\\u0131n ortaya \\u00e7\\u0131kmas\\u0131na neden olabilir.Hipersomnia Nas\\u0131l Te\\u015fhis Edilir?Hipersomnia te\\u015fhisi i\\u00e7in doktor taraf\\u0131ndan t\\u0131bbi \\u00f6yk\\u00fcn\\u00fcz, uyku ge\\u00e7mi\\u015finiz ve mevcut ila\\u00e7lar\\u0131n\\u0131z\\u0131n varl\\u0131\\u011f\\u0131 \\u00f6\\u011frenilir. Bir uyku g\\u00fcnl\\u00fc\\u011f\\u00fc kullanarak uyku ve uyanma d\\u00fczeninin takip edilmesi de istenebilir. Ayr\\u0131ca bile\\u011fe tak\\u0131lan ve birka\\u00e7 hafta boyunca uyku-uyan\\u0131kl\\u0131k d\\u00f6ng\\u00fcs\\u00fcndeki kesintileri takip edebilen k\\u00fc\\u00e7\\u00fck, saat benzeri bir cihaz olan bir aktigrafi sens\\u00f6r\\u00fc tak\\u0131lmas\\u0131 da talep edilebilir.Bunlarla birlikte hipersomnia te\\u015fhisi i\\u00e7in uygulanabilecek testler \\u015f\\u00f6yledir: Polisomnografi \\u00c7oklu uyku gecikme testi Uyku anketleriHipersomnia Tedavisi Nas\\u0131l Yap\\u0131l\\u0131r?Hipersomnia tedavisi genellikle g\\u00fcn i\\u00e7inde uyan\\u0131k kalmay\\u0131 tedavi edecek ila\\u00e7lar ve ya\\u015fam tarz\\u0131nda yap\\u0131lacak de\\u011fi\\u015fiklikleri i\\u00e7erir. Doktor kontrol\\u00fcnde al\\u0131nacak ila\\u00e7lar ve ya\\u015fam tarz\\u0131 de\\u011fi\\u015fiklikleriyle birlikte hipersomnia \\u015fikayetlerinden kurtulman\\u0131z m\\u00fcmk\\u00fcnd\\u00fcr.\\u0130la\\u00e7lar daha \\u00e7ok uyan\\u0131kl\\u0131\\u011f\\u0131 te\\u015fvik edici bile\\u015fen i\\u00e7eren ila\\u00e7lard\\u0131r. Yap\\u0131lacak ya\\u015fam tarz\\u0131 de\\u011fi\\u015fiklikleri ise d\\u00fczenli bir uyku program\\u0131 olu\\u015fturmak, uykuya m\\u00fcsait bir ortam yaratmak (serin, karanl\\u0131k oda; rahat yast\\u0131klar ve yatak), kafeini s\\u0131n\\u0131rlamak ve yatmadan \\u00f6nce egzersiz yapmak gibi uygulamalard\\u0131r.Hipersomnia Nas\\u0131l \\u00d6nlenir?Hipersomnia\\u2019y\\u0131 \\u00f6nlemek ve riskini azaltmak i\\u00e7in uygulanmas\\u0131 gereken ad\\u0131mlar \\u015fu \\u015fekildedir: Her gece ayn\\u0131 saatte uyumaya \\u00e7al\\u0131\\u015f\\u0131n Uykuya m\\u00fcsait serin bir ortam, rahat bir yatak tercih edin Yatmadan birka\\u00e7 saat \\u00f6nce kafeinli i\\u00e7ecekler t\\u00fcketmeyin Sigara ve alkolden uzak durun M\\u00fcmk\\u00fcn oldu\\u011funca stresten ka\\u00e7\\u0131n\\u0131nHipersomnia Hakk\\u0131nda S\\u0131k Sorulan SorularHipersomnia ne demek?Hipersomnia \\u00f6zetle, gece \\u00e7ok iyi uyumas\\u0131na ra\\u011fmen ki\\u015finin g\\u00fcn i\\u00e7inde kendisini a\\u015f\\u0131r\\u0131 uykulu hissetme halidir.Hipersomnia\\u2019ya ne iyi gelir?Hipersomnia \\u015fikayetlerinden kurtulmak i\\u00e7in uykunun d\\u00fczenli olmas\\u0131, kafeinin s\\u0131n\\u0131rlan\\u0131p sigara ve alkonden uzak durulmas\\u0131 ve sa\\u011fl\\u0131kl\\u0131 beslenmeye birlikte egzersiz yap\\u0131lmas\\u0131 gerekir.Hipersomnia i\\u00e7in hangi doktora gidilir?Hipersomnia belirtileri ya\\u015fayan ki\\u015filer n\\u00f6roloji doktorundan randevu alabilir.Hipersomnia hastalar\\u0131 nas\\u0131l beslenmeli? Hasta uyumadan birka\\u00e7 saat \\u00f6nce kafeinli \\u00fcr\\u00fcnlerden ve re\\u00e7etesiz sat\\u0131lan ila\\u00e7lar t\\u00fcketmemelidir. Yatmadan \\u00f6nce t\\u00fct\\u00fcn \\u00fcr\\u00fcnleri alkol t\\u00fcketmemelidir. Ki\\u015finin kendisini takip eden, alan\\u0131nda uzman hekimin belirledi\\u011fi yiyecekler veya belirli ila\\u00e7lar\\u0131 t\\u00fcketmesi gerekir.Hipersomnia hastalarda kazalara sebep olur mu?Hastan\\u0131n uyku kalitesini iyile\\u015ftirmek, herhangi bir yaralanma ve kazalara sebep olmamak ad\\u0131na ya\\u015fam tarz\\u0131 de\\u011fi\\u015fiklikleri yapmas\\u0131 gerekir.\\nHipersomnia Nedir?A\\u015f\\u0131r\\u0131 uykulu olma hali olan hipersomnia, gece yeterli uyku al\\u0131nmas\\u0131na kar\\u015f\\u0131n g\\u00fcn i\\u00e7inde a\\u015f\\u0131r\\u0131 bitkin ve uykulu hissedip, uyan\\u0131k kalamama durumudur. Hipersomnia ya\\u015fayan ki\\u015filer g\\u00fcn i\\u00e7inde kendisini s\\u00fcrekli uykulu hisseder ve \\u00f6zellikle uyku ataklar\\u0131yla birlikte uykuya dalarlar. Bu durum bireyin g\\u00fcn i\\u00e7inde enerjisinin d\\u00fc\\u015fmesine ve g\\u00fcnl\\u00fck rutin i\\u015flerini i\\u015flevsel bir \\u015fekilde ger\\u00e7ekle\\u015ftirememesine sebebiyet verir. Uyku apnesi, n\\u00f6rolojik hastal\\u0131klar, ba\\u011f\\u0131ml\\u0131l\\u0131k, depresyon veya baz\\u0131 sakinle\\u015ftiricilerin neden olabilece\\u011fi hipersomnia, ki\\u015fiyi uzun s\\u00fcre rahats\\u0131z etti\\u011finde birtak\\u0131m ba\\u015fka hastal\\u0131klara da yol a\\u00e7abilir.Kad\\u0131nlarda daha yayg\\u0131n olarak ortaya \\u00e7\\u0131kabilen hipersomnia, ila\\u00e7lar, ya\\u015fam tarz\\u0131 de\\u011fi\\u015fimi, e\\u011fitim ve destek gruplar\\u0131 gibi tedavi se\\u00e7enekleriyle ortadan kald\\u0131r\\u0131lmaya \\u00e7al\\u0131\\u015f\\u0131l\\u0131r.Hipersomnia Neden Olur?Hipersomniaya neden olan durumlar aras\\u0131nda MS hastal\\u0131\\u011f\\u0131, uyku apnesi, meydana gelen kafa travmas\\u0131, genetik yatk\\u0131nl\\u0131k, depresyon, ba\\u011f\\u0131ml\\u0131l\\u0131k ve baz\\u0131 sakinle\\u015ftirici ila\\u00e7lar g\\u00f6sterilebilir. Bunlarla birlikte bir t\\u00fcm\\u00f6r veya a\\u015f\\u0131r\\u0131 kilolu olmak da hipersomnia olu\\u015fma riskini y\\u00fckseltir.Hipersomnia nedenleri \\u015fu \\u015fekilde \\u00f6zetlenebilir:Hipersomnia \\u00c7e\\u015fitleri Nelerdir?Hipersomnia, kendi i\\u00e7inde birtak\\u0131m sebeplere ba\\u011fl\\u0131 olarak farkl\\u0131 t\\u00fcrler bar\\u0131nd\\u0131r\\u0131r. Hipersomnia belirtileri \\u015funlard\\u0131r:Narkolepsi tip 1: Katapleksi (duygular\\u0131n tetikledi\\u011fi ani kas zay\\u0131fl\\u0131\\u011f\\u0131) ile birlikte narkolepsi olarak da adland\\u0131r\\u0131lan bu narkolepsi t\\u00fcr\\u00fc, beyin ve beyin omurilik s\\u0131v\\u0131s\\u0131ndaki kimyasal (n\\u00f6rotransmitter) hipokretinin (orexin olarak da bilinir) d\\u00fc\\u015f\\u00fck seviyede olmas\\u0131ndan kaynaklan\\u0131r. G\\u00fcnd\\u00fcz uykular\\u0131, di\\u011fer a\\u015f\\u0131r\\u0131 uyku hali bozukluklar\\u0131ndaki g\\u00fcnd\\u00fcz uykular\\u0131yla kar\\u015f\\u0131la\\u015ft\\u0131r\\u0131ld\\u0131\\u011f\\u0131nda genellikle daha k\\u0131sa ve canland\\u0131r\\u0131c\\u0131d\\u0131r. Narkolepsi tip 1 genellikle 10 ila 25 ya\\u015flar\\u0131 aras\\u0131nda ba\\u015flar. Hal\\u00fcsinasyonlar ve uyku felciyle birlikte kendini g\\u00f6sterir.Narkolepsi tip 2: Narkolepsi tip 2, katapleksiyi i\\u00e7ermez. Narkolepsi tip 2'de semptomlar tehlikeli ve zorlay\\u0131c\\u0131 de\\u011fildir, hipokretin seviyesi de normaldir. Narkolepsi tip 2 genellikle ergenlik d\\u00f6neminde ba\\u015flar.Kleine-Levin sendromu: Bu durum tekrarlayan a\\u015f\\u0131r\\u0131 uyku ataklar\\u0131ndan meydana gelir. Genellikle zihinsel, davran\\u0131\\u015fsal ve bazen de psikiyatrik bozukluklarla birlikte ortaya \\u00e7\\u0131kar. Yakla\\u015f\\u0131k 10 g\\u00fcn s\\u00fcrebilmesiyle birlikte, baz\\u0131 ki\\u015filerde birka\\u00e7 hafta ve aylar\\u0131 bulabilir, y\\u0131lda birka\\u00e7 kez ise tekrarland\\u0131\\u011f\\u0131 g\\u00f6zlenebilir.\\u0130diyopatik hipersomnia: \\u0130diyopatik hipersomnia, alt\\u0131nda bilinen bir nedenin olmad\\u0131\\u011f\\u0131 hipersomnia t\\u00fcr\\u00fcd\\u00fcr. Dolay\\u0131s\\u0131yla idiyopatik hipersomnia, deliksiz ve uzun bir uyku uyunsa bile bilinmeyen nedenlerden dolay\\u0131 a\\u015f\\u0131r\\u0131 uykulu hissedilmesi anlam\\u0131na gelir.Hipersomnia Belirtileri Nelerdir?Hipersomnia\\u2019n\\u0131n g\\u00f6zle g\\u00f6r\\u00fcl\\u00fcr en net belirtisi ki\\u015finin gece deliksiz ve g\\u00fc\\u00e7l\\u00fc bir uyku uyumas\\u0131na ra\\u011fmen g\\u00fcnd\\u00fcz s\\u00fcrekli uykulu hissetme halidir. Bu belirtiyi uykulu hissetme haline ba\\u011fl\\u0131 olarak a\\u015f\\u0131r\\u0131 yorgunluk ve enerji d\\u00fc\\u015f\\u00fckl\\u00fc\\u011f\\u00fc takip eder. Karar verme bozuklu\\u011fu ve konsantrasyon problemi de hipersomnia belirtilerinden say\\u0131l\\u0131r.Hipersomnia belirtileri genel olarak \\u015funlar\\u0131 i\\u00e7erir:Hipersomnias\\u0131 olan ki\\u015filer genellikle kendilerini uykulu hisseder ve bu uykulu olma hali enerjilerinin d\\u00fc\\u015fmesine ve yorgun hissetmelerine neden olur. Yorgunlukla birlikte rutin i\\u015flerin yap\\u0131lamayacak hale gelmesi, kayg\\u0131l\\u0131 ve sinirli ruh hali, konsantrasyon bozuklu\\u011fu ve kaza riskinde art\\u0131\\u015flar ya\\u015fan\\u0131r. Hipersomnia\\u2019n\\u0131n \\u00e7ok uzun y\\u0131llar devam etti\\u011fi senaryoda uykusuzlu\\u011fa ba\\u011fl\\u0131 v\\u00fccutta bozulmalar ba\\u015flayabilir, bu durum farkl\\u0131 hastal\\u0131klar\\u0131n ortaya \\u00e7\\u0131kmas\\u0131na neden olabilir.Hipersomnia Nas\\u0131l Te\\u015fhis Edilir?Hipersomnia te\\u015fhisi i\\u00e7in doktor taraf\\u0131ndan t\\u0131bbi \\u00f6yk\\u00fcn\\u00fcz, uyku ge\\u00e7mi\\u015finiz ve mevcut ila\\u00e7lar\\u0131n\\u0131z\\u0131n varl\\u0131\\u011f\\u0131 \\u00f6\\u011frenilir. Bir uyku g\\u00fcnl\\u00fc\\u011f\\u00fc kullanarak uyku ve uyanma d\\u00fczeninin takip edilmesi de istenebilir. Ayr\\u0131ca bile\\u011fe tak\\u0131lan ve birka\\u00e7 hafta boyunca uyku-uyan\\u0131kl\\u0131k d\\u00f6ng\\u00fcs\\u00fcndeki kesintileri takip edebilen k\\u00fc\\u00e7\\u00fck, saat benzeri bir cihaz olan bir aktigrafi sens\\u00f6r\\u00fc tak\\u0131lmas\\u0131 da talep edilebilir.Bunlarla birlikte hipersomnia te\\u015fhisi i\\u00e7in uygulanabilecek testler \\u015f\\u00f6yledir:Hipersomnia Tedavisi Nas\\u0131l Yap\\u0131l\\u0131r?Hipersomnia tedavisi genellikle g\\u00fcn i\\u00e7inde uyan\\u0131k kalmay\\u0131 tedavi edecek ila\\u00e7lar ve ya\\u015fam tarz\\u0131nda yap\\u0131lacak de\\u011fi\\u015fiklikleri i\\u00e7erir. Doktor kontrol\\u00fcnde al\\u0131nacak ila\\u00e7lar ve ya\\u015fam tarz\\u0131 de\\u011fi\\u015fiklikleriyle birlikte hipersomnia \\u015fikayetlerinden kurtulman\\u0131z m\\u00fcmk\\u00fcnd\\u00fcr.\\u0130la\\u00e7lar daha \\u00e7ok uyan\\u0131kl\\u0131\\u011f\\u0131 te\\u015fvik edici bile\\u015fen i\\u00e7eren ila\\u00e7lard\\u0131r. Yap\\u0131lacak ya\\u015fam tarz\\u0131 de\\u011fi\\u015fiklikleri ise d\\u00fczenli bir uyku program\\u0131 olu\\u015fturmak, uykuya m\\u00fcsait bir ortam yaratmak (serin, karanl\\u0131k oda; rahat yast\\u0131klar ve yatak), kafeini s\\u0131n\\u0131rlamak ve yatmadan \\u00f6nce egzersiz yapmak gibi uygulamalard\\u0131r.Hipersomnia Nas\\u0131l \\u00d6nlenir?Hipersomnia\\u2019y\\u0131 \\u00f6nlemek ve riskini azaltmak i\\u00e7in uygulanmas\\u0131 gereken ad\\u0131mlar \\u015fu \\u015fekildedir:Hipersomnia Hakk\\u0131nda S\\u0131k Sorulan SorularHipersomnia ne demek?Hipersomnia \\u00f6zetle, gece \\u00e7ok iyi uyumas\\u0131na ra\\u011fmen ki\\u015finin g\\u00fcn i\\u00e7inde kendisini a\\u015f\\u0131r\\u0131 uykulu hissetme halidir.Hipersomnia\\u2019ya ne iyi gelir?Hipersomnia \\u015fikayetlerinden kurtulmak i\\u00e7in uykunun d\\u00fczenli olmas\\u0131, kafeinin s\\u0131n\\u0131rlan\\u0131p sigara ve alkonden uzak durulmas\\u0131 ve sa\\u011fl\\u0131kl\\u0131 beslenmeye birlikte egzersiz yap\\u0131lmas\\u0131 gerekir.Hipersomnia i\\u00e7in hangi doktora gidilir?Hipersomnia belirtileri ya\\u015fayan ki\\u015filer n\\u00f6roloji doktorundan randevu alabilir.Hipersomnia hastalar\\u0131 nas\\u0131l beslenmeli? Hasta uyumadan birka\\u00e7 saat \\u00f6nce kafeinli \\u00fcr\\u00fcnlerden ve re\\u00e7etesiz sat\\u0131lan ila\\u00e7lar t\\u00fcketmemelidir. Yatmadan \\u00f6nce t\\u00fct\\u00fcn \\u00fcr\\u00fcnleri alkol t\\u00fcketmemelidir. Ki\\u015finin kendisini takip eden, alan\\u0131nda uzman hekimin belirledi\\u011fi yiyecekler veya belirli ila\\u00e7lar\\u0131 t\\u00fcketmesi gerekir.Hipersomnia hastalarda kazalara sebep olur mu?Hastan\\u0131n uyku kalitesini iyile\\u015ftirmek, herhangi bir yaralanma ve kazalara sebep olmamak ad\\u0131na ya\\u015fam tarz\\u0131 de\\u011fi\\u015fiklikleri yapmas\\u0131 gerekir.\"\n        ],\n        \"semantic_type\": \"\",\n        \"description\": \"\"\n      }\n    },\n    {\n      \"column\": \"num_tokens\",\n      \"properties\": {\n        \"dtype\": \"number\",\n        \"std\": 3638,\n        \"min\": 792,\n        \"max\": 28246,\n        \"num_unique_values\": 864,\n        \"samples\": [\n          6047,\n          1802,\n          8681\n        ],\n        \"semantic_type\": \"\",\n        \"description\": \"\"\n      }\n    }\n  ]\n}"
            }
          },
          "metadata": {},
          "execution_count": 353
        }
      ]
    },
    {
      "cell_type": "code",
      "source": [
        "result[\"num_tokens\"].sum()    # total number of tokens"
      ],
      "metadata": {
        "colab": {
          "base_uri": "https://localhost:8080/"
        },
        "id": "xtUWCnNdKx3m",
        "outputId": "f40a6c46-3f96-4078-f0fa-a20030c8e199"
      },
      "execution_count": null,
      "outputs": [
        {
          "output_type": "execute_result",
          "data": {
            "text/plain": [
              "5227389"
            ]
          },
          "metadata": {},
          "execution_count": 354
        }
      ]
    },
    {
      "cell_type": "code",
      "source": [
        "result.to_pickle(\"MedData_P1.pkl\")"
      ],
      "metadata": {
        "id": "-nsFImI_KF9-"
      },
      "execution_count": null,
      "outputs": []
    }
  ]
}
