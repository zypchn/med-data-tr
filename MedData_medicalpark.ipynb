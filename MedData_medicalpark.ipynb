{
  "nbformat": 4,
  "nbformat_minor": 0,
  "metadata": {
    "colab": {
      "provenance": [],
      "authorship_tag": "ABX9TyOOc+vxulfMB2ot/hPvqi8g"
    },
    "kernelspec": {
      "name": "python3",
      "display_name": "Python 3"
    },
    "language_info": {
      "name": "python"
    }
  },
  "cells": [
    {
      "cell_type": "code",
      "execution_count": null,
      "metadata": {
        "id": "xUPUoDoYYYAl"
      },
      "outputs": [],
      "source": [
        "! pip install requests -q\n",
        "! pip install html5lib -q\n",
        "! pip install bs4 -q\n",
        "! pip install tiktoken -q"
      ]
    },
    {
      "cell_type": "code",
      "source": [
        "import requests\n",
        "from bs4 import BeautifulSoup\n",
        "from concurrent.futures import ThreadPoolExecutor, as_completed\n",
        "import time\n",
        "import pandas as pd\n",
        "import tiktoken\n",
        "from google.colab import files"
      ],
      "metadata": {
        "id": "LKCwCD3jsg-W"
      },
      "execution_count": null,
      "outputs": []
    },
    {
      "cell_type": "markdown",
      "source": [
        "Some info about the website\n",
        "- has a total of 378 pages (1.22.2025)\n",
        "- each page has exactly 12 posts so expected total would be ≈4500 (considering filtration)\n",
        "- each article has it's own category and on it's page so categorical pagination won't be a problem (though you can browse with categories on the website), we will just scrape the category name and text content at the same time"
      ],
      "metadata": {
        "id": "LeI8iFp6_dgG"
      }
    },
    {
      "cell_type": "markdown",
      "source": [
        "# Getting Post URLs"
      ],
      "metadata": {
        "id": "vl7zeUR8NUpt"
      }
    },
    {
      "cell_type": "code",
      "source": [
        "base_url = \"https://www.medicalpark.com.tr\"\n",
        "guide_url = base_url + \"/saglik-rehberi\""
      ],
      "metadata": {
        "id": "t-ul4ELRsjVZ"
      },
      "execution_count": null,
      "outputs": []
    },
    {
      "cell_type": "code",
      "source": [
        "res = requests.get(base_url)\n",
        "soup = BeautifulSoup(res.content, \"html.parser\")"
      ],
      "metadata": {
        "id": "lKyuKZJosn0n"
      },
      "execution_count": null,
      "outputs": []
    },
    {
      "cell_type": "code",
      "source": [
        "links = []\n",
        "\n",
        "def get_urls(i, base_url):\n",
        "  param = {\n",
        "      \"pg\": i+1\n",
        "  }\n",
        "  res = requests.get(base_url, param)\n",
        "  soup = BeautifulSoup(res.content, \"html.parser\")\n",
        "  divs = soup.find_all(\"div\", {\"class\": \"col-md-3 no-padding\"})\n",
        "  for div in divs:\n",
        "    a = div.find(\"a\")\n",
        "    topic = a.text.strip()\n",
        "    href = a[\"href\"]\n",
        "    rec = {\n",
        "        \"topic\": topic,\n",
        "        \"href\": href\n",
        "    }\n",
        "    links.append(rec)\n",
        "    print(f\"link got successfully for {topic}\")"
      ],
      "metadata": {
        "id": "S1SiD0gFH8aM"
      },
      "execution_count": null,
      "outputs": []
    },
    {
      "cell_type": "code",
      "source": [
        "def get_all_urls(num_workers, len_page, base_url):\n",
        "  with ThreadPoolExecutor(max_workers=num_workers) as executor:\n",
        "    futures = [\n",
        "        executor.submit(get_urls, i, base_url) for i in range(len_page)\n",
        "    ]\n",
        "    for future in as_completed(futures):\n",
        "      try:\n",
        "        future.result()\n",
        "      except Exception as e:\n",
        "        print(f\"Thread Error: {e}\")"
      ],
      "metadata": {
        "id": "pWkpAX1BKs1v"
      },
      "execution_count": null,
      "outputs": []
    },
    {
      "cell_type": "code",
      "source": [
        "get_all_urls(10, 378, guide_url)"
      ],
      "metadata": {
        "id": "AYvUz1zLLQCh"
      },
      "execution_count": null,
      "outputs": []
    },
    {
      "cell_type": "code",
      "source": [
        "len(links)    # all the records are fetched"
      ],
      "metadata": {
        "colab": {
          "base_uri": "https://localhost:8080/"
        },
        "id": "9q5j9p6bS8Ix",
        "outputId": "5dd06957-fd68-4912-e19e-f30ed60fe1fd"
      },
      "execution_count": null,
      "outputs": [
        {
          "output_type": "execute_result",
          "data": {
            "text/plain": [
              "4536"
            ]
          },
          "metadata": {},
          "execution_count": 8
        }
      ]
    },
    {
      "cell_type": "markdown",
      "source": [
        "# Filtering Data"
      ],
      "metadata": {
        "id": "Hb-4XxfvNbON"
      }
    },
    {
      "cell_type": "markdown",
      "source": [
        "\n",
        "**By Link** : <br/>\n",
        "It was seen that some links contain location values which indicates that the corresponding post may be an advertisement of an hospital in the said location. To keep the data unbiased, those links are be dropped."
      ],
      "metadata": {
        "id": "o7B4OW_YTIon"
      }
    },
    {
      "cell_type": "code",
      "source": [
        "locations = [\"Adana\", \"Ankara\", \"Antalya\", \"Bursa\", \"Canakkale\", \"Kocaeli\", \"Mersin\", \"Ordu\", \"Samsun\", \"Tokat\", \"İstanbul\"]\n",
        "filtered_links = [link for link in links if not any(loc.lower() in link[\"href\"] for loc in locations)]"
      ],
      "metadata": {
        "id": "HaeUi5miRSv3"
      },
      "execution_count": null,
      "outputs": []
    },
    {
      "cell_type": "code",
      "source": [
        "len(filtered_links)     # 24 records were dropped"
      ],
      "metadata": {
        "colab": {
          "base_uri": "https://localhost:8080/"
        },
        "id": "dtWNXyR7SImO",
        "outputId": "425a0621-d5df-40c5-ca96-a3d80daaf422"
      },
      "execution_count": null,
      "outputs": [
        {
          "output_type": "execute_result",
          "data": {
            "text/plain": [
              "4512"
            ]
          },
          "metadata": {},
          "execution_count": 10
        }
      ]
    },
    {
      "cell_type": "markdown",
      "source": [
        "**By Topic** : <br/>\n",
        "Further inspection showed that some article titles contain the word \"paket\" (package) or \"servis\" (service) which strongly implys an advertisement."
      ],
      "metadata": {
        "id": "XgPzpmIONgT5"
      }
    },
    {
      "cell_type": "code",
      "source": [
        "ad_words = [\"Paket\", \"Hizmet\"] + locations   # may add some words later\n",
        "filtered_links = [link for link in filtered_links if not any(word in link[\"topic\"] for word in ad_words)]"
      ],
      "metadata": {
        "id": "ClAL8sbDTCYf"
      },
      "execution_count": null,
      "outputs": []
    },
    {
      "cell_type": "code",
      "source": [
        "len(filtered_links)     # 41 records were dropped"
      ],
      "metadata": {
        "colab": {
          "base_uri": "https://localhost:8080/"
        },
        "id": "abqxBWayMtcQ",
        "outputId": "1e883654-b749-418e-f159-f3fea2315405"
      },
      "execution_count": null,
      "outputs": [
        {
          "output_type": "execute_result",
          "data": {
            "text/plain": [
              "4471"
            ]
          },
          "metadata": {},
          "execution_count": 12
        }
      ]
    },
    {
      "cell_type": "markdown",
      "source": [
        "*Conclusion* : 65 records were dropped in total"
      ],
      "metadata": {
        "id": "Pow6cGGjM9Zg"
      }
    },
    {
      "cell_type": "markdown",
      "source": [
        "# Getting Text Data"
      ],
      "metadata": {
        "id": "3GcY9ctSQ8Kc"
      }
    },
    {
      "cell_type": "markdown",
      "source": [
        "After tyring a sample ULR, the relevant texts are found in [2 : -3] (-3 not included). <br/>\n",
        "All pages follow the same template, so this indexing applies to all records."
      ],
      "metadata": {
        "id": "y1bZt5utaFAS"
      }
    },
    {
      "cell_type": "code",
      "source": [
        "raw_data = []\n",
        "\n",
        "def get_raw_html(base_url, record):\n",
        "  topic = record[\"topic\"]\n",
        "  param = record[\"href\"]\n",
        "  url = base_url + param\n",
        "  res = requests.get(url)\n",
        "  soup = BeautifulSoup(res.content, \"html.parser\")\n",
        "  a = soup.find(\"a\", {\"id\": \"ContentPlaceHolder1_navHlthDepartment\"})\n",
        "  div = soup.find(\"div\", {\"class\": \"postContent\"})\n",
        "  text_elements = div.find_all([\"h2\", \"p\"])\n",
        "  category = a.text\n",
        "  rec = {\n",
        "      \"category\": category,\n",
        "      \"topic\": topic,\n",
        "      \"raw_text\": text_elements\n",
        "  }\n",
        "  raw_data.append(rec)\n",
        "  print(f\"successfuly extracted raw data for {topic}\")"
      ],
      "metadata": {
        "id": "QDDmb61UMuzu"
      },
      "execution_count": null,
      "outputs": []
    },
    {
      "cell_type": "code",
      "source": [
        "def get_all_raw_html(max_workers, base_url, records):\n",
        "  with ThreadPoolExecutor(max_workers=max_workers) as executor:\n",
        "    futures = [\n",
        "        executor.submit(get_raw_html, base_url, record) for record in records\n",
        "    ]\n",
        "    for future in as_completed(futures):\n",
        "      try:\n",
        "        future.result()\n",
        "      except Exception as e:\n",
        "        print(f\"Thread Error: {e}\")"
      ],
      "metadata": {
        "id": "73Ct_T-UXs_c"
      },
      "execution_count": null,
      "outputs": []
    },
    {
      "cell_type": "code",
      "source": [
        "get_all_raw_html(10, base_url, filtered_links)"
      ],
      "metadata": {
        "id": "NGSI4juwjX5Z"
      },
      "execution_count": null,
      "outputs": []
    },
    {
      "cell_type": "code",
      "source": [
        "len(raw_data)     # lost 1 record -> Thread Error: 'NoneType' object has no attribute 'find_all'"
      ],
      "metadata": {
        "colab": {
          "base_uri": "https://localhost:8080/"
        },
        "id": "zlgax2U9HT3o",
        "outputId": "6bf27135-70b8-4438-aa69-3583868eff0f"
      },
      "execution_count": null,
      "outputs": [
        {
          "output_type": "execute_result",
          "data": {
            "text/plain": [
              "4470"
            ]
          },
          "metadata": {},
          "execution_count": 17
        }
      ]
    },
    {
      "cell_type": "code",
      "source": [
        "categories = []\n",
        "topics = []\n",
        "\n",
        "for data in raw_data:\n",
        "  cat = data[\"category\"]\n",
        "  top = data[\"topic\"]\n",
        "  categories.append(cat)\n",
        "  topics.append(top)"
      ],
      "metadata": {
        "id": "GBWHsWKtGzJI"
      },
      "execution_count": null,
      "outputs": []
    },
    {
      "cell_type": "code",
      "source": [
        "def get_text(raw_data):\n",
        "  texts = []\n",
        "  for d in raw_data:\n",
        "    data = d[\"raw_text\"].copy()\n",
        "    data = data[2:-3]\n",
        "    text = \"\"\n",
        "    for element in data:\n",
        "      text += element.text.strip()\n",
        "    texts.append(\" \" + text)\n",
        "  return texts"
      ],
      "metadata": {
        "id": "uVLctxiPjj3E"
      },
      "execution_count": null,
      "outputs": []
    },
    {
      "cell_type": "code",
      "source": [
        "def num_tokens_from_string(string: str, encoder_name: str) -> int:\n",
        "    # encoding = tiktoken.encoding_for_model(model_name)\n",
        "    encoding = tiktoken.get_encoding(encoder_name)\n",
        "    num_tokens = len(encoding.encode(string))\n",
        "    return num_tokens"
      ],
      "metadata": {
        "id": "b0d0s_-FGUsi"
      },
      "execution_count": null,
      "outputs": []
    },
    {
      "cell_type": "code",
      "source": [
        "def get_num_tokens(encoder_name, texts):\n",
        "  num_tokens = []\n",
        "  for text in texts:\n",
        "    num_token = num_tokens_from_string(text, encoder_name)\n",
        "    num_tokens.append(num_token)\n",
        "  return num_tokens"
      ],
      "metadata": {
        "id": "Cc2TJEJsJ1Ai"
      },
      "execution_count": null,
      "outputs": []
    },
    {
      "cell_type": "code",
      "source": [
        "texts = get_text(raw_data)"
      ],
      "metadata": {
        "id": "V6c-yob3J1Va"
      },
      "execution_count": null,
      "outputs": []
    },
    {
      "cell_type": "code",
      "source": [
        "len(texts)    # no record loss"
      ],
      "metadata": {
        "colab": {
          "base_uri": "https://localhost:8080/"
        },
        "id": "KcupRebSLMaj",
        "outputId": "53bb452c-e92f-4655-faca-3feed474b73a"
      },
      "execution_count": null,
      "outputs": [
        {
          "output_type": "execute_result",
          "data": {
            "text/plain": [
              "4470"
            ]
          },
          "metadata": {},
          "execution_count": 51
        }
      ]
    },
    {
      "cell_type": "code",
      "source": [
        "encoder = \"o200k_base\"\n",
        "num_tokens = get_num_tokens(encoder, texts)"
      ],
      "metadata": {
        "id": "g5jCIL4SLbkD"
      },
      "execution_count": null,
      "outputs": []
    },
    {
      "cell_type": "code",
      "source": [
        "data = {\n",
        "    \"department\": categories,\n",
        "    \"topic\": topics,\n",
        "    \"text\": texts,\n",
        "    \"num_tokens\": num_tokens\n",
        "}"
      ],
      "metadata": {
        "id": "S4V-BRO-L7Ep"
      },
      "execution_count": null,
      "outputs": []
    },
    {
      "cell_type": "code",
      "source": [
        "df = pd.DataFrame(data=data, index=None)"
      ],
      "metadata": {
        "id": "MnAC7J4wMPFJ"
      },
      "execution_count": null,
      "outputs": []
    },
    {
      "cell_type": "code",
      "source": [
        "df.head()"
      ],
      "metadata": {
        "colab": {
          "base_uri": "https://localhost:8080/",
          "height": 206
        },
        "id": "aluCVPhbMSHQ",
        "outputId": "066fe614-7571-4f90-9ee4-87253018d323"
      },
      "execution_count": null,
      "outputs": [
        {
          "output_type": "execute_result",
          "data": {
            "text/plain": [
              "              department                                              topic  \\\n",
              "0          Genel Cerrahi  Ülserovejetan Kitle Belirtileri Nelerdir? Ülse...   \n",
              "1       Gastroenteroloji      Rektumdan (Makattan) Kan Gelmesi​ Neden Olur?   \n",
              "2  Dermatoloji (Cildiye)               Yatak Böceği Isırığına Ne İyi Gelir?   \n",
              "3       Gastroenteroloji                 Segmenter Kolon Rezeksiyonu Nedir?   \n",
              "4  Dermatoloji (Cildiye)  Vatoz Sokması Anında Ne Yapılmalıdır? Vatoz So...   \n",
              "\n",
              "                                                text  num_tokens  \n",
              "0   Vücutta oluşan anormal kitleler insanlar için...        3540  \n",
              "1   Birbirinden farklı pek çok rahatsızlık rektum...        4617  \n",
              "2   Yatak böceği ısırığı, gece hareketli olan yat...        5005  \n",
              "3   Segmenter kolon rezeksiyonu; kanser, divertik...        4486  \n",
              "4   Denizlerin derinliklerinde yüzmek keyif veric...        3244  "
            ],
            "text/html": [
              "\n",
              "  <div id=\"df-4d4d2d6c-513b-4066-b699-3a296b1ac781\" class=\"colab-df-container\">\n",
              "    <div>\n",
              "<style scoped>\n",
              "    .dataframe tbody tr th:only-of-type {\n",
              "        vertical-align: middle;\n",
              "    }\n",
              "\n",
              "    .dataframe tbody tr th {\n",
              "        vertical-align: top;\n",
              "    }\n",
              "\n",
              "    .dataframe thead th {\n",
              "        text-align: right;\n",
              "    }\n",
              "</style>\n",
              "<table border=\"1\" class=\"dataframe\">\n",
              "  <thead>\n",
              "    <tr style=\"text-align: right;\">\n",
              "      <th></th>\n",
              "      <th>department</th>\n",
              "      <th>topic</th>\n",
              "      <th>text</th>\n",
              "      <th>num_tokens</th>\n",
              "    </tr>\n",
              "  </thead>\n",
              "  <tbody>\n",
              "    <tr>\n",
              "      <th>0</th>\n",
              "      <td>Genel Cerrahi</td>\n",
              "      <td>Ülserovejetan Kitle Belirtileri Nelerdir? Ülse...</td>\n",
              "      <td>Vücutta oluşan anormal kitleler insanlar için...</td>\n",
              "      <td>3540</td>\n",
              "    </tr>\n",
              "    <tr>\n",
              "      <th>1</th>\n",
              "      <td>Gastroenteroloji</td>\n",
              "      <td>Rektumdan (Makattan) Kan Gelmesi​ Neden Olur?</td>\n",
              "      <td>Birbirinden farklı pek çok rahatsızlık rektum...</td>\n",
              "      <td>4617</td>\n",
              "    </tr>\n",
              "    <tr>\n",
              "      <th>2</th>\n",
              "      <td>Dermatoloji (Cildiye)</td>\n",
              "      <td>Yatak Böceği Isırığına Ne İyi Gelir?</td>\n",
              "      <td>Yatak böceği ısırığı, gece hareketli olan yat...</td>\n",
              "      <td>5005</td>\n",
              "    </tr>\n",
              "    <tr>\n",
              "      <th>3</th>\n",
              "      <td>Gastroenteroloji</td>\n",
              "      <td>Segmenter Kolon Rezeksiyonu Nedir?</td>\n",
              "      <td>Segmenter kolon rezeksiyonu; kanser, divertik...</td>\n",
              "      <td>4486</td>\n",
              "    </tr>\n",
              "    <tr>\n",
              "      <th>4</th>\n",
              "      <td>Dermatoloji (Cildiye)</td>\n",
              "      <td>Vatoz Sokması Anında Ne Yapılmalıdır? Vatoz So...</td>\n",
              "      <td>Denizlerin derinliklerinde yüzmek keyif veric...</td>\n",
              "      <td>3244</td>\n",
              "    </tr>\n",
              "  </tbody>\n",
              "</table>\n",
              "</div>\n",
              "    <div class=\"colab-df-buttons\">\n",
              "\n",
              "  <div class=\"colab-df-container\">\n",
              "    <button class=\"colab-df-convert\" onclick=\"convertToInteractive('df-4d4d2d6c-513b-4066-b699-3a296b1ac781')\"\n",
              "            title=\"Convert this dataframe to an interactive table.\"\n",
              "            style=\"display:none;\">\n",
              "\n",
              "  <svg xmlns=\"http://www.w3.org/2000/svg\" height=\"24px\" viewBox=\"0 -960 960 960\">\n",
              "    <path d=\"M120-120v-720h720v720H120Zm60-500h600v-160H180v160Zm220 220h160v-160H400v160Zm0 220h160v-160H400v160ZM180-400h160v-160H180v160Zm440 0h160v-160H620v160ZM180-180h160v-160H180v160Zm440 0h160v-160H620v160Z\"/>\n",
              "  </svg>\n",
              "    </button>\n",
              "\n",
              "  <style>\n",
              "    .colab-df-container {\n",
              "      display:flex;\n",
              "      gap: 12px;\n",
              "    }\n",
              "\n",
              "    .colab-df-convert {\n",
              "      background-color: #E8F0FE;\n",
              "      border: none;\n",
              "      border-radius: 50%;\n",
              "      cursor: pointer;\n",
              "      display: none;\n",
              "      fill: #1967D2;\n",
              "      height: 32px;\n",
              "      padding: 0 0 0 0;\n",
              "      width: 32px;\n",
              "    }\n",
              "\n",
              "    .colab-df-convert:hover {\n",
              "      background-color: #E2EBFA;\n",
              "      box-shadow: 0px 1px 2px rgba(60, 64, 67, 0.3), 0px 1px 3px 1px rgba(60, 64, 67, 0.15);\n",
              "      fill: #174EA6;\n",
              "    }\n",
              "\n",
              "    .colab-df-buttons div {\n",
              "      margin-bottom: 4px;\n",
              "    }\n",
              "\n",
              "    [theme=dark] .colab-df-convert {\n",
              "      background-color: #3B4455;\n",
              "      fill: #D2E3FC;\n",
              "    }\n",
              "\n",
              "    [theme=dark] .colab-df-convert:hover {\n",
              "      background-color: #434B5C;\n",
              "      box-shadow: 0px 1px 3px 1px rgba(0, 0, 0, 0.15);\n",
              "      filter: drop-shadow(0px 1px 2px rgba(0, 0, 0, 0.3));\n",
              "      fill: #FFFFFF;\n",
              "    }\n",
              "  </style>\n",
              "\n",
              "    <script>\n",
              "      const buttonEl =\n",
              "        document.querySelector('#df-4d4d2d6c-513b-4066-b699-3a296b1ac781 button.colab-df-convert');\n",
              "      buttonEl.style.display =\n",
              "        google.colab.kernel.accessAllowed ? 'block' : 'none';\n",
              "\n",
              "      async function convertToInteractive(key) {\n",
              "        const element = document.querySelector('#df-4d4d2d6c-513b-4066-b699-3a296b1ac781');\n",
              "        const dataTable =\n",
              "          await google.colab.kernel.invokeFunction('convertToInteractive',\n",
              "                                                    [key], {});\n",
              "        if (!dataTable) return;\n",
              "\n",
              "        const docLinkHtml = 'Like what you see? Visit the ' +\n",
              "          '<a target=\"_blank\" href=https://colab.research.google.com/notebooks/data_table.ipynb>data table notebook</a>'\n",
              "          + ' to learn more about interactive tables.';\n",
              "        element.innerHTML = '';\n",
              "        dataTable['output_type'] = 'display_data';\n",
              "        await google.colab.output.renderOutput(dataTable, element);\n",
              "        const docLink = document.createElement('div');\n",
              "        docLink.innerHTML = docLinkHtml;\n",
              "        element.appendChild(docLink);\n",
              "      }\n",
              "    </script>\n",
              "  </div>\n",
              "\n",
              "\n",
              "<div id=\"df-3f7dfd57-3e60-4509-9388-2bf6ce9ac747\">\n",
              "  <button class=\"colab-df-quickchart\" onclick=\"quickchart('df-3f7dfd57-3e60-4509-9388-2bf6ce9ac747')\"\n",
              "            title=\"Suggest charts\"\n",
              "            style=\"display:none;\">\n",
              "\n",
              "<svg xmlns=\"http://www.w3.org/2000/svg\" height=\"24px\"viewBox=\"0 0 24 24\"\n",
              "     width=\"24px\">\n",
              "    <g>\n",
              "        <path d=\"M19 3H5c-1.1 0-2 .9-2 2v14c0 1.1.9 2 2 2h14c1.1 0 2-.9 2-2V5c0-1.1-.9-2-2-2zM9 17H7v-7h2v7zm4 0h-2V7h2v10zm4 0h-2v-4h2v4z\"/>\n",
              "    </g>\n",
              "</svg>\n",
              "  </button>\n",
              "\n",
              "<style>\n",
              "  .colab-df-quickchart {\n",
              "      --bg-color: #E8F0FE;\n",
              "      --fill-color: #1967D2;\n",
              "      --hover-bg-color: #E2EBFA;\n",
              "      --hover-fill-color: #174EA6;\n",
              "      --disabled-fill-color: #AAA;\n",
              "      --disabled-bg-color: #DDD;\n",
              "  }\n",
              "\n",
              "  [theme=dark] .colab-df-quickchart {\n",
              "      --bg-color: #3B4455;\n",
              "      --fill-color: #D2E3FC;\n",
              "      --hover-bg-color: #434B5C;\n",
              "      --hover-fill-color: #FFFFFF;\n",
              "      --disabled-bg-color: #3B4455;\n",
              "      --disabled-fill-color: #666;\n",
              "  }\n",
              "\n",
              "  .colab-df-quickchart {\n",
              "    background-color: var(--bg-color);\n",
              "    border: none;\n",
              "    border-radius: 50%;\n",
              "    cursor: pointer;\n",
              "    display: none;\n",
              "    fill: var(--fill-color);\n",
              "    height: 32px;\n",
              "    padding: 0;\n",
              "    width: 32px;\n",
              "  }\n",
              "\n",
              "  .colab-df-quickchart:hover {\n",
              "    background-color: var(--hover-bg-color);\n",
              "    box-shadow: 0 1px 2px rgba(60, 64, 67, 0.3), 0 1px 3px 1px rgba(60, 64, 67, 0.15);\n",
              "    fill: var(--button-hover-fill-color);\n",
              "  }\n",
              "\n",
              "  .colab-df-quickchart-complete:disabled,\n",
              "  .colab-df-quickchart-complete:disabled:hover {\n",
              "    background-color: var(--disabled-bg-color);\n",
              "    fill: var(--disabled-fill-color);\n",
              "    box-shadow: none;\n",
              "  }\n",
              "\n",
              "  .colab-df-spinner {\n",
              "    border: 2px solid var(--fill-color);\n",
              "    border-color: transparent;\n",
              "    border-bottom-color: var(--fill-color);\n",
              "    animation:\n",
              "      spin 1s steps(1) infinite;\n",
              "  }\n",
              "\n",
              "  @keyframes spin {\n",
              "    0% {\n",
              "      border-color: transparent;\n",
              "      border-bottom-color: var(--fill-color);\n",
              "      border-left-color: var(--fill-color);\n",
              "    }\n",
              "    20% {\n",
              "      border-color: transparent;\n",
              "      border-left-color: var(--fill-color);\n",
              "      border-top-color: var(--fill-color);\n",
              "    }\n",
              "    30% {\n",
              "      border-color: transparent;\n",
              "      border-left-color: var(--fill-color);\n",
              "      border-top-color: var(--fill-color);\n",
              "      border-right-color: var(--fill-color);\n",
              "    }\n",
              "    40% {\n",
              "      border-color: transparent;\n",
              "      border-right-color: var(--fill-color);\n",
              "      border-top-color: var(--fill-color);\n",
              "    }\n",
              "    60% {\n",
              "      border-color: transparent;\n",
              "      border-right-color: var(--fill-color);\n",
              "    }\n",
              "    80% {\n",
              "      border-color: transparent;\n",
              "      border-right-color: var(--fill-color);\n",
              "      border-bottom-color: var(--fill-color);\n",
              "    }\n",
              "    90% {\n",
              "      border-color: transparent;\n",
              "      border-bottom-color: var(--fill-color);\n",
              "    }\n",
              "  }\n",
              "</style>\n",
              "\n",
              "  <script>\n",
              "    async function quickchart(key) {\n",
              "      const quickchartButtonEl =\n",
              "        document.querySelector('#' + key + ' button');\n",
              "      quickchartButtonEl.disabled = true;  // To prevent multiple clicks.\n",
              "      quickchartButtonEl.classList.add('colab-df-spinner');\n",
              "      try {\n",
              "        const charts = await google.colab.kernel.invokeFunction(\n",
              "            'suggestCharts', [key], {});\n",
              "      } catch (error) {\n",
              "        console.error('Error during call to suggestCharts:', error);\n",
              "      }\n",
              "      quickchartButtonEl.classList.remove('colab-df-spinner');\n",
              "      quickchartButtonEl.classList.add('colab-df-quickchart-complete');\n",
              "    }\n",
              "    (() => {\n",
              "      let quickchartButtonEl =\n",
              "        document.querySelector('#df-3f7dfd57-3e60-4509-9388-2bf6ce9ac747 button');\n",
              "      quickchartButtonEl.style.display =\n",
              "        google.colab.kernel.accessAllowed ? 'block' : 'none';\n",
              "    })();\n",
              "  </script>\n",
              "</div>\n",
              "\n",
              "    </div>\n",
              "  </div>\n"
            ],
            "application/vnd.google.colaboratory.intrinsic+json": {
              "type": "dataframe",
              "variable_name": "df",
              "summary": "{\n  \"name\": \"df\",\n  \"rows\": 4470,\n  \"fields\": [\n    {\n      \"column\": \"department\",\n      \"properties\": {\n        \"dtype\": \"category\",\n        \"num_unique_values\": 74,\n        \"samples\": [\n          \"Ortopedi ve Travmatoloji\",\n          \"\\u0130mm\\u00fcnoloji ve Alerji Hastal\\u0131klar\\u0131(GH)\",\n          \"G\\u00f6\\u011f\\u00fcs Hastal\\u0131klar\\u0131\"\n        ],\n        \"semantic_type\": \"\",\n        \"description\": \"\"\n      }\n    },\n    {\n      \"column\": \"topic\",\n      \"properties\": {\n        \"dtype\": \"string\",\n        \"num_unique_values\": 4465,\n        \"samples\": [\n          \"Covid 19 Terleme Neden Olur Nas\\u0131l Ge\\u00e7er?\",\n          \"Apikal Rezeksiyon Ameliyat\\u0131 Nas\\u0131l Yap\\u0131l\\u0131r?\",\n          \"Check-Up Ne Kadar S\\u00fcrer?\"\n        ],\n        \"semantic_type\": \"\",\n        \"description\": \"\"\n      }\n    },\n    {\n      \"column\": \"text\",\n      \"properties\": {\n        \"dtype\": \"string\",\n        \"num_unique_values\": 4382,\n        \"samples\": [\n          \" Lokal eksizyon, bir ne\\u015fterin (keskin bir b\\u0131\\u00e7ak, makas vb. alet de olabilir) bir t\\u00fcm\\u00f6r\\u00fc veya di\\u011fer anormal lezyonu ve etraf\\u0131ndaki normal dokuyu kesmek i\\u00e7in kullan\\u0131ld\\u0131\\u011f\\u0131 cerrahi bir prosed\\u00fcre verilen isimdir. \\u00c7\\u0131kar\\u0131lan normal doku miktar\\u0131, \\u00e7\\u0131kar\\u0131lan t\\u00fcm\\u00f6r\\u00fcn ne kadar derin veya ne kadar b\\u00fcy\\u00fck oldu\\u011funa ba\\u011fl\\u0131d\\u0131r. Baz\\u0131 cilt veya meme kanseri t\\u00fcrlerini \\u00e7\\u0131karmak i\\u00e7in genellikle geni\\u015f bir lokal eksizyon yap\\u0131l\\u0131r.\\u0130\\u00e7indekilerLokal Eksizyonu Nedir?Lokal Eksizyon \\u00c7e\\u015fitleri Nelerdir?Lokal Eksizyon Tan\\u0131s\\u0131 Nas\\u0131l Konulur?Lokal Eksizyon Nas\\u0131l Tedavi Edilir?Lokal Eksizyonu Ameliyat\\u0131Lokal Eksizyonu Tedavisi Sonras\\u0131 \\u0130yile\\u015fme S\\u00fcreciS\\u0131k\\u00e7a Sorulan Sorular\\n Lokal Eksizyonu Nedir?\\nLokal eksizyon, iyi huylu t\\u00fcm\\u00f6r \\u00f6zelliklerine sahip se\\u00e7ilmi\\u015f erken evre hastalar i\\u00e7in bir se\\u00e7enektir, ancak daha y\\u00fcksek oranda lokal n\\u00fcksler (tekrarlama) ile de ili\\u015fkilidir. Lokal eksizyon, radikal rezeksiyonu tolere edemeyen t\\u0131bbi olarak tehlike alt\\u0131ndaki hastalar i\\u00e7in a\\u00e7\\u0131k olan tek se\\u00e7enek olabilir. Her iki durumda da, cerrah ve hastalar bu teknikle ili\\u015fkili \\u00e7e\\u015fitli s\\u0131n\\u0131rlamalar, faydalar ve risklere tabiidir.\\u00a0\\n Lokal Eksizyon \\u00c7e\\u015fitleri Nelerdir?\\nGeni\\u015f lokal eksizyon (meme kanseri s\\u00f6z konusu oldu\\u011funda), kanserin etraf\\u0131nda meme dokusunun halkas\\u0131yla birlikte \\u00e7\\u0131kar\\u0131lmas\\u0131n\\u0131 i\\u00e7erir. Cerrah\\u0131n\\u0131z meme ucunuzun \\u00e7\\u0131kar\\u0131lmas\\u0131 gerekip gerekmedi\\u011fini size s\\u00f6yleyecektir.\\u00a0\\nSa\\u011fl\\u0131k uzman\\u0131 meme dokunuzu \\u00e7\\u0131karman\\u0131n yan\\u0131 s\\u0131ra, i\\u00e7lerinde\\u00a0kanser\\u00a0h\\u00fccresi olup olmad\\u0131\\u011f\\u0131n\\u0131 bulmak i\\u00e7in koltuk alt\\u0131n\\u0131zdaki lenf d\\u00fc\\u011f\\u00fcmlerini de \\u00e7\\u0131karabilir. Standart lokal eksizyon iyi huylu ya da k\\u00f6t\\u00fc huylu t\\u00fcm\\u00f6r\\u00fcn \\u00e7\\u0131kar\\u0131lmas\\u0131n\\u0131 i\\u00e7erir ve geni\\u015f lokal eksizyona g\\u00f6re daha az doku \\u00e7\\u0131kar\\u0131lmas\\u0131 gerekti\\u011finde kullan\\u0131l\\u0131r.\\n Lokal Eksizyon Tan\\u0131s\\u0131 Nas\\u0131l Konulur?\\nLokal eksizyon tan\\u0131 konulmu\\u015f bir hastal\\u0131\\u011f\\u0131n tedavisinde ya da tan\\u0131 konulmam\\u0131\\u015f bir hastal\\u0131\\u011fa tan\\u0131 koyabilmek i\\u00e7in uygulanabilir. Kanser tedavisinde ve tan\\u0131 konulmas\\u0131nda kullan\\u0131ld\\u0131\\u011f\\u0131 gibi, sadece kanser tedavisinde de kullan\\u0131lmaz.\\u00a0\\nLokal eksizyon, anormal benler veya deri b\\u00f6lgesinin (deri biyopsisi veya eksizyon biyopsisi olarak da bilinir) ve b\\u00f6lgenin etraf\\u0131ndaki az miktarda normal derinin \\u00e7\\u0131kar\\u0131l\\u0131p (eksizyon) test i\\u00e7in bir\\u00a0laboratuvara\\u00a0g\\u00f6nderilmesi i\\u015flemidir. Baz\\u0131 ki\\u015filer sadece kozmetik ama\\u00e7l\\u0131 olarak da v\\u00fccutlar\\u0131ndaki ya da y\\u00fczlerindeki benlerden kurtulmak isteyebilir.\\u00a0\\n\\u0130\\u015flem kanser \\u015f\\u00fcphesi bulunsun ya da bulunmas\\u0131n, sadece estetik ama\\u00e7l\\u0131 da yap\\u0131lsa al\\u0131nan doku \\u00f6rne\\u011fi uzmanlar taraf\\u0131ndan incelenir. Bunun yan\\u0131nda kanser tan\\u0131s\\u0131 konulmu\\u015f hastalarda da kanseri ameliyatla \\u00e7\\u0131karmak, erken meme kanserinden kurtulman\\u0131z i\\u00e7in bir \\u015fans sa\\u011flar. Cerrah\\u0131n\\u0131z\\u0131n \\u00e7\\u0131kard\\u0131\\u011f\\u0131 meme dokusu ve lenf d\\u00fc\\u011f\\u00fcmleri, herhangi bir sonraki tedaviye karar vermenize yard\\u0131mc\\u0131 olmak i\\u00e7in mikroskop alt\\u0131nda incelenmeye g\\u00f6nderilir.\\n Lokal Eksizyon Nas\\u0131l Tedavi Edilir?\\nBu t\\u00fcr\\u00a0biyopsi\\u00a0i\\u00e7in, doktor \\u00f6nce b\\u00f6lgeyi uyu\\u015fturmak i\\u00e7in bir ila\\u00e7 enjekte eder. Daha sonra, t\\u00fcm t\\u00fcm\\u00f6r\\u00fc i\\u00e7eren bir kitle veya deri par\\u00e7as\\u0131 \\u00e7\\u0131kar\\u0131l\\u0131r ve yaran\\u0131n kenarlar\\u0131 genellikle birbirine dikilir.\\u00a0\\nMelanom veya merkel h\\u00fccreli karsinom gibi daha tehlikeli bir\\u00a0cilt kanseri\\u00a0t\\u00fcr\\u00fcnden \\u015f\\u00fcpheleniliyorsa, genellikle tercih edilen biyopsi y\\u00f6ntemi budur, ancak bu t\\u00fcr biyopsiyi yapmak her zaman m\\u00fcmk\\u00fcn olmayabilir. Vakan\\u0131n \\u00f6zelliklerine g\\u00f6re tedavi bi\\u00e7imi de de\\u011fi\\u015fkenlik g\\u00f6sterebilir.\\u00a0\\n Lokal Eksizyonu Ameliyat\\u0131\\nAmeliyat\\u0131n hangi ama\\u00e7la yap\\u0131ld\\u0131\\u011f\\u0131na g\\u00f6re y\\u00f6ntemde ufak tefek farkl\\u0131l\\u0131klar olabilir. Ancak \\u00e7e\\u015fitli\\u00a0anestezi\\u00a0teknikleri de m\\u00fcmk\\u00fcnd\\u00fcr. Ameliyat \\u00e7o\\u011funlukla yakla\\u015f\\u0131k bir saat s\\u00fcrer. Cerrah\\u0131n\\u0131z g\\u00f6\\u011fs\\u00fcn\\u00fczde bir kesi olu\\u015fturur. Kanseri, kanserin etraf\\u0131nda bir meme dokusu kenar\\u0131yla birlikte \\u00e7\\u0131kar\\u0131r.\\u00a0\\nSa\\u011fl\\u0131k uzman\\u0131n\\u0131z genellikle koltuk alt\\u0131ndaki lenf d\\u00fc\\u011f\\u00fcmlerini ayn\\u0131 kesiden veya koltuk alt\\u0131n\\u0131za daha yak\\u0131n ba\\u015fka bir kesiden \\u00e7\\u0131kar\\u0131r. \\u00c7\\u0131kar\\u0131lan t\\u00fcm meme dokular\\u0131n\\u0131z, lenf d\\u00fc\\u011f\\u00fcmleriniz mikroskop alt\\u0131nda incelenmek \\u00fczere steril bir \\u015fekilde muhafaza edilir. \\u00c7\\u0131kar\\u0131lan dokunun kenar\\u0131na yak\\u0131n kanser h\\u00fccreleri varsa, cerrah\\u0131n\\u0131z ba\\u015fka bir geni\\u015f lokal eksizyon veya mastektomi \\u00f6nerebilir.\\nEstetik ama\\u00e7l\\u0131 yap\\u0131lan lokal eksizyonu ameliyat\\u0131,\\u00a0plastik cerrah\\u00a0taraf\\u0131ndan uyan\\u0131kken ger\\u00e7ekle\\u015ftirilen nispeten basit bir operasyondur. B\\u00f6lgeyi uyu\\u015fturmak i\\u00e7in ben veya lezyonun etraf\\u0131ndaki b\\u00f6lgeye lokal anestezik enjekte edilir. \\u00c7o\\u011funlukla ayn\\u0131 g\\u00fcn eve gidersiniz. Yaraya nas\\u0131l bakaca\\u011f\\u0131n\\u0131z konusunda sa\\u011fl\\u0131k uzmanlar\\u0131 sizi bilgilendirir ve y\\u00f6nlendirir.\\n Lokal Eksizyonu Tedavisi Sonras\\u0131 \\u0130yile\\u015fme S\\u00fcreci\\nBir\\u00a0patoloji\\u00a0uzman\\u0131 \\u00e7\\u0131kar\\u0131lan b\\u00f6lgeye veya dokuya mikroskop alt\\u0131nda bakar ve tan\\u0131 koyar. Biyopsinin analizi genellikle iki hafta s\\u00fcrer ve bu nedenle tan\\u0131 konulmadan \\u00f6nce biyopsiden sonra k\\u0131sa bir s\\u00fcre beklenir. Bu sizin ve aileniz i\\u00e7in endi\\u015fe verici bir zaman olabilir, ancak lokal eksizyonlar\\u0131n \\u00e7o\\u011fu melanomu tespit etmez. Ancak erken te\\u015fhis konulmas\\u0131 her zaman daha iyidir.\\u00a0\\n\\u00c7o\\u011funlukla yap\\u0131lan lokal eksizyonda ayn\\u0131 g\\u00fcn evinize gitmeniz beklenir. 2-3 hafta sonra normal aktivitelerinize d\\u00f6nebilmeniz gerekir. D\\u00fczenli egzersiz, m\\u00fcmk\\u00fcn olan en k\\u0131sa s\\u00fcrede normal aktivitelerinize d\\u00f6nmenize yard\\u0131mc\\u0131 olacakt\\u0131r. Bu konuda sa\\u011fl\\u0131k uzman\\u0131n\\u0131z\\u0131n size s\\u00f6ylediklerini dikkatlice dinleyip y\\u00f6nlendirmelerine uyum g\\u00f6stermeniz iyile\\u015fme s\\u00fcrecini h\\u0131zland\\u0131r\\u0131r ve sa\\u011fl\\u0131kl\\u0131 bir \\u015fekilde tamamlaman\\u0131za sebep olur.\\nCerrah\\u0131n\\u0131z\\u0131n \\u00e7\\u0131kard\\u0131\\u011f\\u0131 ben, kitle, meme dokusu ve lenf d\\u00fc\\u011f\\u00fcmleri vs. mikroskop alt\\u0131nda incelendikten sonra cerrah\\u0131n\\u0131z size sonu\\u00e7lar\\u0131 s\\u00f6yleyecek ve ihtiyac\\u0131n\\u0131z olan herhangi bir tedavi veya takibi sizinle g\\u00f6r\\u00fc\\u015fecektir. Ayr\\u0131ca yaran\\u0131z\\u0131 kontrol edecek ve i\\u015fe, okula, sosyal hayat\\u0131n\\u0131za ne zaman d\\u00f6nebilece\\u011finizi s\\u00f6yleyebilecektir.\\n S\\u0131k\\u00e7a Sorulan Sorular\\nLokal Eksizyon Tehlikeli midir?\\nBu k\\u00fc\\u00e7\\u00fck bir ameliyat olsa da, t\\u00fcm ameliyatlar k\\u00f6t\\u00fc yara izi/kozmetik g\\u00f6r\\u00fcn\\u00fcm, yara enfeksiyonu, yara a\\u00e7\\u0131lmas\\u0131, kanama ve uyu\\u015fma gibi riskler ta\\u015f\\u0131r. Lokal eksizyon genellikle k\\u00fc\\u00e7\\u00fck bir prosed\\u00fcr oldu\\u011fundan, bu riskler \\u00e7o\\u011funlukla \\u00e7ok azd\\u0131r ama risk fakt\\u00f6r\\u00fc olmaya devam ederler.\\u00a0Genel ameliyat komplikasyonlar\\u0131 ya da lokal eksizyona \\u00f6zel komplikasyon geli\\u015fme riski vard\\u0131r.\\u00a0\\nLokal Eksizyon Kanser midir?\\nLokal eksizyon,\\u00a0sadece kanserli kitlelere uygulanmaz, dolay\\u0131s\\u0131 ile direkt olarak kanserle ili\\u015fkilendirilmi\\u015f de\\u011filse de kanserli kitlelerin ameliyatla \\u00e7\\u0131kmas\\u0131 i\\u00e7in de kullan\\u0131ld\\u0131\\u011f\\u0131ndan kanser vakalar\\u0131nda da lokal eksizyona ba\\u015fvurulabilir. Vaka e\\u011fer lokal eksizyon gerektiriyorsa kanserli olan kitle ameliyat yoluyla v\\u00fccuttan kesilip kesilip patalojiye incelenmek \\u00fczere g\\u00f6nderilir.\\nFakat her kanserli kitleye bunu yapmak m\\u00fcmk\\u00fcn de\\u011fildir, kitlenin niteli\\u011fine ve hastan\\u0131n sa\\u011fl\\u0131k ge\\u00e7mi\\u015fi, durumu ve vb. de\\u011fi\\u015fkenler tedavi y\\u00f6ntemlerinde de\\u011fi\\u015fiklik yaratabilir. Bazen ise kesilen kitlenin kanserli olmamas\\u0131 ya da medikal bir sebepten kesilmedi\\u011fi de g\\u00f6r\\u00fcl\\u00fcr. Y\\u00fczdeki ya da v\\u00fccuttaki herhangi bir yerdeki benin varl\\u0131\\u011f\\u0131ndan rahats\\u0131z olan ve kurtulmak isteyen kozmetik sebepler, estetik g\\u00f6r\\u00fcn\\u00fcm sebebiyle de bu y\\u00f6ntemin ba\\u015fvurulmas\\u0131n\\u0131 sa\\u011flayan hastalar vard\\u0131r.\\nLokal Eksizyonu Nas\\u0131l Temizlenir?\\nMeme kanserinde, kanseri ameliyatla \\u00e7\\u0131karmak, erken meme kanserinden kurtulman\\u0131z i\\u00e7in en iyi \\u015fans\\u0131 sa\\u011flar. Lokal eksizyon temizli\\u011fi \\u00f6zetle v\\u00fccudun herhangi bir b\\u00f6l\\u00fcm\\u00fcndeki kitlenin uzman hekimler taraf\\u0131ndan kesilip al\\u0131nmas\\u0131 demektir. Fakat bu sadece k\\u0131smi bir i\\u015flemdir.\\nMisal, lokal eksizyonun alternatifi olarak meme kanseri s\\u00f6z konusu oldu\\u011funda mastektomi (t\\u00fcm memenin al\\u0131nmas\\u0131) bir di\\u011fer alternatiftir. E\\u011fer invaziv meme kanseriniz varsa, yani kanser kanallardan \\u00e7evredeki meme dokusuna yay\\u0131lm\\u0131\\u015fsa; hormon tedavisi, kemoterapi, radyoterapi ve biyolojik tedavi gibi di\\u011fer tedavi y\\u00f6ntemleri mevcuttur.\\nFakat bu alternatiflerde sizin karar\\u0131n\\u0131z \\u00e7ok \\u00f6nemli olsa da doktorunuzun y\\u00f6nergelerini izlemeniz, birlikte karar vermeniz ve onun s\\u00f6ylediklerine odaklanman\\u0131z tavsiye edilir. Bu karar da i\\u015flemin lokal eksizyon ile ger\\u00e7ekle\\u015ftirilip kitlenin kesilmesi, \\u00fczerinde inceleme yap\\u0131lmas\\u0131 ve yay\\u0131lmad\\u0131\\u011f\\u0131ndan emin olunmas\\u0131 gerekir.\\nHer hastal\\u0131k, hastan\\u0131n genel sa\\u011fl\\u0131k durumuna, genetik hastal\\u0131klara yatk\\u0131nl\\u0131k dolay\\u0131s\\u0131yla ile aile ge\\u00e7mi\\u015fine ve di\\u011fer de\\u011fi\\u015fkenlere ba\\u011fl\\u0131 olarak kendine \\u00f6zg\\u00fc bir vakad\\u0131r. Bu vakalar da genel anlamda de\\u011ferlendirilse dahi de\\u011fi\\u015fkenler dolay\\u0131s\\u0131yla tedavi bi\\u00e7imi farkl\\u0131l\\u0131k g\\u00f6sterebilir.Lokal eksizyon, bir ne\\u015fterin (keskin bir b\\u0131\\u00e7ak, makas vb. alet de olabilir) bir t\\u00fcm\\u00f6r\\u00fc veya di\\u011fer anormal lezyonu ve etraf\\u0131ndaki normal dokuyu kesmek i\\u00e7in kullan\\u0131ld\\u0131\\u011f\\u0131 cerrahi bir prosed\\u00fcre verilen isimdir. \\u00c7\\u0131kar\\u0131lan normal doku miktar\\u0131, \\u00e7\\u0131kar\\u0131lan t\\u00fcm\\u00f6r\\u00fcn ne kadar derin veya ne kadar b\\u00fcy\\u00fck oldu\\u011funa ba\\u011fl\\u0131d\\u0131r. Baz\\u0131 cilt veya meme kanseri t\\u00fcrlerini \\u00e7\\u0131karmak i\\u00e7in genellikle geni\\u015f bir lokal eksizyon yap\\u0131l\\u0131r.Lokal Eksizyonu Nedir?Lokal eksizyon, iyi huylu t\\u00fcm\\u00f6r \\u00f6zelliklerine sahip se\\u00e7ilmi\\u015f erken evre hastalar i\\u00e7in bir se\\u00e7enektir, ancak daha y\\u00fcksek oranda lokal n\\u00fcksler (tekrarlama) ile de ili\\u015fkilidir. Lokal eksizyon, radikal rezeksiyonu tolere edemeyen t\\u0131bbi olarak tehlike alt\\u0131ndaki hastalar i\\u00e7in a\\u00e7\\u0131k olan tek se\\u00e7enek olabilir. Her iki durumda da, cerrah ve hastalar bu teknikle ili\\u015fkili \\u00e7e\\u015fitli s\\u0131n\\u0131rlamalar, faydalar ve risklere tabiidir.Lokal Eksizyon \\u00c7e\\u015fitleri Nelerdir?Geni\\u015f lokal eksizyon (meme kanseri s\\u00f6z konusu oldu\\u011funda), kanserin etraf\\u0131nda meme dokusunun halkas\\u0131yla birlikte \\u00e7\\u0131kar\\u0131lmas\\u0131n\\u0131 i\\u00e7erir. Cerrah\\u0131n\\u0131z meme ucunuzun \\u00e7\\u0131kar\\u0131lmas\\u0131 gerekip gerekmedi\\u011fini size s\\u00f6yleyecektir.Sa\\u011fl\\u0131k uzman\\u0131 meme dokunuzu \\u00e7\\u0131karman\\u0131n yan\\u0131 s\\u0131ra, i\\u00e7lerinde\\u00a0kanser\\u00a0h\\u00fccresi olup olmad\\u0131\\u011f\\u0131n\\u0131 bulmak i\\u00e7in koltuk alt\\u0131n\\u0131zdaki lenf d\\u00fc\\u011f\\u00fcmlerini de \\u00e7\\u0131karabilir. Standart lokal eksizyon iyi huylu ya da k\\u00f6t\\u00fc huylu t\\u00fcm\\u00f6r\\u00fcn \\u00e7\\u0131kar\\u0131lmas\\u0131n\\u0131 i\\u00e7erir ve geni\\u015f lokal eksizyona g\\u00f6re daha az doku \\u00e7\\u0131kar\\u0131lmas\\u0131 gerekti\\u011finde kullan\\u0131l\\u0131r.Lokal Eksizyon Tan\\u0131s\\u0131 Nas\\u0131l Konulur?Lokal eksizyon tan\\u0131 konulmu\\u015f bir hastal\\u0131\\u011f\\u0131n tedavisinde ya da tan\\u0131 konulmam\\u0131\\u015f bir hastal\\u0131\\u011fa tan\\u0131 koyabilmek i\\u00e7in uygulanabilir. Kanser tedavisinde ve tan\\u0131 konulmas\\u0131nda kullan\\u0131ld\\u0131\\u011f\\u0131 gibi, sadece kanser tedavisinde de kullan\\u0131lmaz.Lokal eksizyon, anormal benler veya deri b\\u00f6lgesinin (deri biyopsisi veya eksizyon biyopsisi olarak da bilinir) ve b\\u00f6lgenin etraf\\u0131ndaki az miktarda normal derinin \\u00e7\\u0131kar\\u0131l\\u0131p (eksizyon) test i\\u00e7in bir\\u00a0laboratuvara\\u00a0g\\u00f6nderilmesi i\\u015flemidir. Baz\\u0131 ki\\u015filer sadece kozmetik ama\\u00e7l\\u0131 olarak da v\\u00fccutlar\\u0131ndaki ya da y\\u00fczlerindeki benlerden kurtulmak isteyebilir.\\u0130\\u015flem kanser \\u015f\\u00fcphesi bulunsun ya da bulunmas\\u0131n, sadece estetik ama\\u00e7l\\u0131 da yap\\u0131lsa al\\u0131nan doku \\u00f6rne\\u011fi uzmanlar taraf\\u0131ndan incelenir. Bunun yan\\u0131nda kanser tan\\u0131s\\u0131 konulmu\\u015f hastalarda da kanseri ameliyatla \\u00e7\\u0131karmak, erken meme kanserinden kurtulman\\u0131z i\\u00e7in bir \\u015fans sa\\u011flar. Cerrah\\u0131n\\u0131z\\u0131n \\u00e7\\u0131kard\\u0131\\u011f\\u0131 meme dokusu ve lenf d\\u00fc\\u011f\\u00fcmleri, herhangi bir sonraki tedaviye karar vermenize yard\\u0131mc\\u0131 olmak i\\u00e7in mikroskop alt\\u0131nda incelenmeye g\\u00f6nderilir.Lokal Eksizyon Nas\\u0131l Tedavi Edilir?Bu t\\u00fcr\\u00a0biyopsi\\u00a0i\\u00e7in, doktor \\u00f6nce b\\u00f6lgeyi uyu\\u015fturmak i\\u00e7in bir ila\\u00e7 enjekte eder. Daha sonra, t\\u00fcm t\\u00fcm\\u00f6r\\u00fc i\\u00e7eren bir kitle veya deri par\\u00e7as\\u0131 \\u00e7\\u0131kar\\u0131l\\u0131r ve yaran\\u0131n kenarlar\\u0131 genellikle birbirine dikilir.Melanom veya merkel h\\u00fccreli karsinom gibi daha tehlikeli bir\\u00a0cilt kanseri\\u00a0t\\u00fcr\\u00fcnden \\u015f\\u00fcpheleniliyorsa, genellikle tercih edilen biyopsi y\\u00f6ntemi budur, ancak bu t\\u00fcr biyopsiyi yapmak her zaman m\\u00fcmk\\u00fcn olmayabilir. Vakan\\u0131n \\u00f6zelliklerine g\\u00f6re tedavi bi\\u00e7imi de de\\u011fi\\u015fkenlik g\\u00f6sterebilir.Lokal Eksizyonu Ameliyat\\u0131Ameliyat\\u0131n hangi ama\\u00e7la yap\\u0131ld\\u0131\\u011f\\u0131na g\\u00f6re y\\u00f6ntemde ufak tefek farkl\\u0131l\\u0131klar olabilir. Ancak \\u00e7e\\u015fitli\\u00a0anestezi\\u00a0teknikleri de m\\u00fcmk\\u00fcnd\\u00fcr. Ameliyat \\u00e7o\\u011funlukla yakla\\u015f\\u0131k bir saat s\\u00fcrer. Cerrah\\u0131n\\u0131z g\\u00f6\\u011fs\\u00fcn\\u00fczde bir kesi olu\\u015fturur. Kanseri, kanserin etraf\\u0131nda bir meme dokusu kenar\\u0131yla birlikte \\u00e7\\u0131kar\\u0131r.Sa\\u011fl\\u0131k uzman\\u0131n\\u0131z genellikle koltuk alt\\u0131ndaki lenf d\\u00fc\\u011f\\u00fcmlerini ayn\\u0131 kesiden veya koltuk alt\\u0131n\\u0131za daha yak\\u0131n ba\\u015fka bir kesiden \\u00e7\\u0131kar\\u0131r. \\u00c7\\u0131kar\\u0131lan t\\u00fcm meme dokular\\u0131n\\u0131z, lenf d\\u00fc\\u011f\\u00fcmleriniz mikroskop alt\\u0131nda incelenmek \\u00fczere steril bir \\u015fekilde muhafaza edilir. \\u00c7\\u0131kar\\u0131lan dokunun kenar\\u0131na yak\\u0131n kanser h\\u00fccreleri varsa, cerrah\\u0131n\\u0131z ba\\u015fka bir geni\\u015f lokal eksizyon veya mastektomi \\u00f6nerebilir.Estetik ama\\u00e7l\\u0131 yap\\u0131lan lokal eksizyonu ameliyat\\u0131,\\u00a0plastik cerrah\\u00a0taraf\\u0131ndan uyan\\u0131kken ger\\u00e7ekle\\u015ftirilen nispeten basit bir operasyondur. B\\u00f6lgeyi uyu\\u015fturmak i\\u00e7in ben veya lezyonun etraf\\u0131ndaki b\\u00f6lgeye lokal anestezik enjekte edilir. \\u00c7o\\u011funlukla ayn\\u0131 g\\u00fcn eve gidersiniz. Yaraya nas\\u0131l bakaca\\u011f\\u0131n\\u0131z konusunda sa\\u011fl\\u0131k uzmanlar\\u0131 sizi bilgilendirir ve y\\u00f6nlendirir.Lokal Eksizyonu Tedavisi Sonras\\u0131 \\u0130yile\\u015fme S\\u00fcreciBir\\u00a0patoloji\\u00a0uzman\\u0131 \\u00e7\\u0131kar\\u0131lan b\\u00f6lgeye veya dokuya mikroskop alt\\u0131nda bakar ve tan\\u0131 koyar. Biyopsinin analizi genellikle iki hafta s\\u00fcrer ve bu nedenle tan\\u0131 konulmadan \\u00f6nce biyopsiden sonra k\\u0131sa bir s\\u00fcre beklenir. Bu sizin ve aileniz i\\u00e7in endi\\u015fe verici bir zaman olabilir, ancak lokal eksizyonlar\\u0131n \\u00e7o\\u011fu melanomu tespit etmez. Ancak erken te\\u015fhis konulmas\\u0131 her zaman daha iyidir.\\u00c7o\\u011funlukla yap\\u0131lan lokal eksizyonda ayn\\u0131 g\\u00fcn evinize gitmeniz beklenir. 2-3 hafta sonra normal aktivitelerinize d\\u00f6nebilmeniz gerekir. D\\u00fczenli egzersiz, m\\u00fcmk\\u00fcn olan en k\\u0131sa s\\u00fcrede normal aktivitelerinize d\\u00f6nmenize yard\\u0131mc\\u0131 olacakt\\u0131r. Bu konuda sa\\u011fl\\u0131k uzman\\u0131n\\u0131z\\u0131n size s\\u00f6ylediklerini dikkatlice dinleyip y\\u00f6nlendirmelerine uyum g\\u00f6stermeniz iyile\\u015fme s\\u00fcrecini h\\u0131zland\\u0131r\\u0131r ve sa\\u011fl\\u0131kl\\u0131 bir \\u015fekilde tamamlaman\\u0131za sebep olur.Cerrah\\u0131n\\u0131z\\u0131n \\u00e7\\u0131kard\\u0131\\u011f\\u0131 ben, kitle, meme dokusu ve lenf d\\u00fc\\u011f\\u00fcmleri vs. mikroskop alt\\u0131nda incelendikten sonra cerrah\\u0131n\\u0131z size sonu\\u00e7lar\\u0131 s\\u00f6yleyecek ve ihtiyac\\u0131n\\u0131z olan herhangi bir tedavi veya takibi sizinle g\\u00f6r\\u00fc\\u015fecektir. Ayr\\u0131ca yaran\\u0131z\\u0131 kontrol edecek ve i\\u015fe, okula, sosyal hayat\\u0131n\\u0131za ne zaman d\\u00f6nebilece\\u011finizi s\\u00f6yleyebilecektir.S\\u0131k\\u00e7a Sorulan SorularBu k\\u00fc\\u00e7\\u00fck bir ameliyat olsa da, t\\u00fcm ameliyatlar k\\u00f6t\\u00fc yara izi/kozmetik g\\u00f6r\\u00fcn\\u00fcm, yara enfeksiyonu, yara a\\u00e7\\u0131lmas\\u0131, kanama ve uyu\\u015fma gibi riskler ta\\u015f\\u0131r. Lokal eksizyon genellikle k\\u00fc\\u00e7\\u00fck bir prosed\\u00fcr oldu\\u011fundan, bu riskler \\u00e7o\\u011funlukla \\u00e7ok azd\\u0131r ama risk fakt\\u00f6r\\u00fc olmaya devam ederler.\\u00a0Genel ameliyat komplikasyonlar\\u0131 ya da lokal eksizyona \\u00f6zel komplikasyon geli\\u015fme riski vard\\u0131r.Lokal eksizyon,\\u00a0sadece kanserli kitlelere uygulanmaz, dolay\\u0131s\\u0131 ile direkt olarak kanserle ili\\u015fkilendirilmi\\u015f de\\u011filse de kanserli kitlelerin ameliyatla \\u00e7\\u0131kmas\\u0131 i\\u00e7in de kullan\\u0131ld\\u0131\\u011f\\u0131ndan kanser vakalar\\u0131nda da lokal eksizyona ba\\u015fvurulabilir. Vaka e\\u011fer lokal eksizyon gerektiriyorsa kanserli olan kitle ameliyat yoluyla v\\u00fccuttan kesilip kesilip patalojiye incelenmek \\u00fczere g\\u00f6nderilir.Fakat her kanserli kitleye bunu yapmak m\\u00fcmk\\u00fcn de\\u011fildir, kitlenin niteli\\u011fine ve hastan\\u0131n sa\\u011fl\\u0131k ge\\u00e7mi\\u015fi, durumu ve vb. de\\u011fi\\u015fkenler tedavi y\\u00f6ntemlerinde de\\u011fi\\u015fiklik yaratabilir. Bazen ise kesilen kitlenin kanserli olmamas\\u0131 ya da medikal bir sebepten kesilmedi\\u011fi de g\\u00f6r\\u00fcl\\u00fcr. Y\\u00fczdeki ya da v\\u00fccuttaki herhangi bir yerdeki benin varl\\u0131\\u011f\\u0131ndan rahats\\u0131z olan ve kurtulmak isteyen kozmetik sebepler, estetik g\\u00f6r\\u00fcn\\u00fcm sebebiyle de bu y\\u00f6ntemin ba\\u015fvurulmas\\u0131n\\u0131 sa\\u011flayan hastalar vard\\u0131r.Meme kanserinde, kanseri ameliyatla \\u00e7\\u0131karmak, erken meme kanserinden kurtulman\\u0131z i\\u00e7in en iyi \\u015fans\\u0131 sa\\u011flar. Lokal eksizyon temizli\\u011fi \\u00f6zetle v\\u00fccudun herhangi bir b\\u00f6l\\u00fcm\\u00fcndeki kitlenin uzman hekimler taraf\\u0131ndan kesilip al\\u0131nmas\\u0131 demektir. Fakat bu sadece k\\u0131smi bir i\\u015flemdir.Misal, lokal eksizyonun alternatifi olarak meme kanseri s\\u00f6z konusu oldu\\u011funda mastektomi (t\\u00fcm memenin al\\u0131nmas\\u0131) bir di\\u011fer alternatiftir. E\\u011fer invaziv meme kanseriniz varsa, yani kanser kanallardan \\u00e7evredeki meme dokusuna yay\\u0131lm\\u0131\\u015fsa; hormon tedavisi, kemoterapi, radyoterapi ve biyolojik tedavi gibi di\\u011fer tedavi y\\u00f6ntemleri mevcuttur.Fakat bu alternatiflerde sizin karar\\u0131n\\u0131z \\u00e7ok \\u00f6nemli olsa da doktorunuzun y\\u00f6nergelerini izlemeniz, birlikte karar vermeniz ve onun s\\u00f6ylediklerine odaklanman\\u0131z tavsiye edilir. Bu karar da i\\u015flemin lokal eksizyon ile ger\\u00e7ekle\\u015ftirilip kitlenin kesilmesi, \\u00fczerinde inceleme yap\\u0131lmas\\u0131 ve yay\\u0131lmad\\u0131\\u011f\\u0131ndan emin olunmas\\u0131 gerekir.Her hastal\\u0131k, hastan\\u0131n genel sa\\u011fl\\u0131k durumuna, genetik hastal\\u0131klara yatk\\u0131nl\\u0131k dolay\\u0131s\\u0131yla ile aile ge\\u00e7mi\\u015fine ve di\\u011fer de\\u011fi\\u015fkenlere ba\\u011fl\\u0131 olarak kendine \\u00f6zg\\u00fc bir vakad\\u0131r. Bu vakalar da genel anlamda de\\u011ferlendirilse dahi de\\u011fi\\u015fkenler dolay\\u0131s\\u0131yla tedavi bi\\u00e7imi farkl\\u0131l\\u0131k g\\u00f6sterebilir.\",\n          \" Rahim alma ameliyat\\u0131 (histerektomi ameliyat\\u0131), kad\\u0131nlarda en s\\u0131k kullan\\u0131lan\\u00a0jinekolojik\\u00a0tedavi y\\u00f6ntemlerinden biridir. Ayr\\u0131ca rahim organ\\u0131n\\u0131n sadece kad\\u0131nlarda bulunmas\\u0131 sebebiyle yaln\\u0131zca kad\\u0131nlar\\u0131n konusu olabilecek cerrahi bir i\\u015flemdir. Rahim alma ameliyat\\u0131 genellikle olarak rahimde geli\\u015fen\\u00a0miyomlar\\u0131n\\u00a0al\\u0131nmas\\u0131 ve rahim kanserinin tedavisi amac\\u0131yla tercih edilmektedir.\\nKad\\u0131nlar\\u0131n kafas\\u0131nda bir\\u00e7ok korku ve soru i\\u015fareti bar\\u0131ndan bu tedavi y\\u00f6ntemi, san\\u0131ld\\u0131\\u011f\\u0131n\\u0131n aksine kad\\u0131n cinsel ya\\u015fam\\u0131n\\u0131 olumsuz y\\u00f6nde etkilememektedir.\\nYine de rahim alma ameliyat\\u0131 olacak hastalar\\u0131n tedavi \\u00f6ncesinde; rahim alma ameliyat\\u0131 riskleri ve rahim alma ameliyat\\u0131 sonras\\u0131 s\\u00fcre\\u00e7 hakk\\u0131nda bilgilendirilmesi \\u00e7ok \\u00f6nemlidir.\\u0130\\u00e7indekilerRahim Alma Ameliyat\\u0131 (Histerektomi) Nedir?Kad\\u0131nlarda Rahim Alma Ameliyat\\u0131 (Histerektomi) Nas\\u0131l Olur?Ya\\u015fl\\u0131larda Rahim Alma Ameliyat\\u0131 (Histerektomi) Nas\\u0131l Olur?Rahim Alma Ameliyat\\u0131 (Histerektomi) Nas\\u0131l Yap\\u0131l\\u0131r?Rahim Alma Ameliyat\\u0131 (Histerektomi) Riskleri Nelerdir?Rahim Alma Ameliyat\\u0131 Sonras\\u0131 Ne Yapmal\\u0131y\\u0131m?Rahim Alma Ameliyat\\u0131 (Histerektomi) Ka\\u00e7 G\\u00fcnde \\u0130yile\\u015fir?\\u00a0S\\u0131k\\u00e7a Sorulan Sorular\\u00a0\\n Rahim Alma Ameliyat\\u0131 (Histerektomi) Nedir?\\n\\nT\\u0131bbi ad\\u0131 ile\\u00a0histerektomi\\u00a0olan ameliyat\\u0131n k\\u00f6keni Latinceden gelir. Histere (rahim) ve ektome (\\u00e7\\u0131karma) kelimelerinin birle\\u015ftirilmesiyle olu\\u015fturulmu\\u015ftur. Rahim alma ameliyat\\u0131 nedir sorusu k\\u0131saca farkl\\u0131 nedenlerle, cerrahi olarak kad\\u0131n rahminin v\\u00fccuttan al\\u0131nmas\\u0131d\\u0131r. Rahim alma ameliyat\\u0131n\\u0131 k\\u0131saca bu \\u015fekilde tan\\u0131mlamakla birlikte bu i\\u015flem birden \\u00e7ok \\u015fekilde ger\\u00e7ekle\\u015ftirilebilmektedir.\\nHisterektominin ne \\u015fekilde yap\\u0131laca\\u011f\\u0131 ve tedavide nas\\u0131l bir y\\u00f6ntem izlenece\\u011fi hastan\\u0131n ya\\u015f\\u0131na ve hastal\\u0131\\u011f\\u0131na g\\u00f6re \\u015fekillenir. \\u0130zlenecek tedavi y\\u00f6ntemine g\\u00f6re rahim alma ameliyat\\u0131 s\\u0131ras\\u0131nda rahmin tamam\\u0131 ya da bir k\\u0131sm\\u0131 cerrahi olarak \\u00e7\\u0131kar\\u0131l\\u0131r.\\u00a0\\n Kad\\u0131nlarda Rahim Alma Ameliyat\\u0131 (Histerektomi) Nas\\u0131l Olur?\\nRahim alma ameliyat\\u0131nda ilk olarak hastan\\u0131n bir uzman taraf\\u0131ndan muayenesi ger\\u00e7ekle\\u015ftirilir ve ki\\u015fide bulan hastal\\u0131\\u011f\\u0131n te\\u015fhisi netle\\u015ftirilir. Daha sonra uygulanacak olan rahim alma ameliyat\\u0131 t\\u00fcr\\u00fc ve rahim alma ameliyat\\u0131 sonras\\u0131 s\\u00fcre\\u00e7 planlan\\u0131r.\\nHastaya, rahim alma ameliyat\\u0131 (Histerektomi), rahim alma ameliyat\\u0131 riskleri ve rahim alma ameliyat\\u0131 sonras\\u0131 s\\u00fcre\\u00e7 hakk\\u0131nda gerekli t\\u00fcm bilgilendirmeler yap\\u0131l\\u0131r. Burada dikkat edilmesi gereken \\u00f6nemli bir nokta hastan\\u0131n gen\\u00e7 mi ya\\u015fl\\u0131 m\\u0131 oldu\\u011fudur.\\nRahim alma ameliyat\\u0131 uygulanacak olan hasta gen\\u00e7 ya\\u015fta ve \\u00e7ocuk isteyen bir birey ise rahim ameliyat\\u0131 sonras\\u0131 hastan\\u0131n \\u00e7ocuk do\\u011furamayacak olu\\u015fu psikolojik bunal\\u0131m sebebidir. Bu sebeple do\\u011furma \\u00e7a\\u011f\\u0131ndaki bireylerde uygulanan rahim alma ameliyat\\u0131nda rahmin t\\u00fcmden al\\u0131nmas\\u0131 \\u00f6ncesinde di\\u011fer tedavi y\\u00f6ntemleri hakk\\u0131nda hasta bilgilendirilir.\\n Ya\\u015fl\\u0131larda Rahim Alma Ameliyat\\u0131 (Histerektomi) Nas\\u0131l Olur?\\n\\n\\u00dclkemizde ve d\\u00fcnya genelinde ortalama 55-60 ya\\u015f\\u0131 a\\u015fm\\u0131\\u015f bireyler ya\\u015fl\\u0131 olarak kabul edilmektedir. Yine ayn\\u0131 \\u015fekilde \\u00fclkemizde ve d\\u00fcnya genelinde 40-50 ya\\u015flar\\u0131nda kad\\u0131nlar\\u0131n\\u00a0menopoza\\u00a0girerek do\\u011furganl\\u0131k d\\u00f6nemlerinin sona erdi\\u011fi kabul g\\u00f6rmektedir. Bu s\\u00fcre\\u00e7le birlikte ya\\u015fl\\u0131l\\u0131k evresinin de v\\u00fccuda getirdi\\u011fi rahats\\u0131zl\\u0131klar ile birlikte kad\\u0131nlarda g\\u00f6r\\u00fclen kad\\u0131nsal hastal\\u0131klar s\\u0131kla\\u015fmaktad\\u0131r.\\nRahim alma ameliyat\\u0131 sonras\\u0131nda gen\\u00e7 kad\\u0131nlarda g\\u00f6r\\u00fclmekte olan hemen hemen t\\u00fcm komplikasyonlar ya\\u015fl\\u0131larda da g\\u00f6r\\u00fclmekle birlikte ya\\u015fl\\u0131lar\\u0131n ekstra dikkat etmesi gereken noktalar bulunmaktad\\u0131r:\\n\\nRahim alma ameliyat\\u0131 sonras\\u0131 ilk iki hafta egzersiz yapmaktan ka\\u00e7\\u0131n\\u0131lmal\\u0131d\\u0131r.\\nTuvalet s\\u0131ras\\u0131nda kesinlikle \\u0131k\\u0131nmaktan ka\\u00e7\\u0131n\\u0131lmal\\u0131d\\u0131r.\\nAmeliyat sonras\\u0131 \\u00f6zel bir\\u00a0diyet\\u00a0program\\u0131 haz\\u0131rlanmal\\u0131 ve gaz yap\\u0131c\\u0131 besinlerden uzak durulmal\\u0131d\\u0131r.\\n\\nHer ne kadar ya\\u015fl\\u0131larda cerrahi m\\u00fcdahale daha zor ve sanc\\u0131l\\u0131 olsa da kronik ba\\u015fka bir hastal\\u0131\\u011f\\u0131 bulunmaya ya\\u015fl\\u0131 bireylerin ameliyat sonras\\u0131 toparlanmas\\u0131 h\\u0131zl\\u0131 olacakt\\u0131r. Halihaz\\u0131rda menopoza girmi\\u015f ya\\u015fl\\u0131 bireylerin rahim alma ameliyat\\u0131 sonras\\u0131 psikolojik \\u00e7\\u00f6k\\u00fc\\u015fleri ise gen\\u00e7, do\\u011furgan ya\\u015ftaki kad\\u0131nlara g\\u00f6re daha az olmaktad\\u0131r.\\n Rahim Alma Ameliyat\\u0131 (Histerektomi) Nas\\u0131l Yap\\u0131l\\u0131r?\\nRahim alma ameliyat\\u0131 (Histerektomi) olacak bireylerin bilgilendirilmesi gerekirken hasta bireyin kafas\\u0131nda soru i\\u015fareti b\\u0131rak\\u0131lmamal\\u0131d\\u0131r. Rahim alma ameliyat\\u0131 olarak tek bir ameliyattan bahsedilmi\\u015f gibi g\\u00f6r\\u00fcnse de rahmin v\\u00fccuttan al\\u0131nmas\\u0131 tek bir cerrahi y\\u00f6ntemle yap\\u0131lmamaktad\\u0131r. Rahim alma ameliyat\\u0131n\\u0131n birden \\u00e7ok y\\u00f6ntemi bulunmakta olup hastan\\u0131n \\u015fikayetine ba\\u011fl\\u0131 olarak bu y\\u00f6ntem belirlenmektedir.\\nRahim alma ameliyat\\u0131 a\\u015fa\\u011f\\u0131daki farkl\\u0131 y\\u00f6ntemlerle ger\\u00e7ekle\\u015febilir:\\u00a0\\n\\nSubtotal Histerektomi,\\u00a0hastan\\u0131n karn\\u0131na at\\u0131lan cerrahi bir kesi ile rahmin al\\u0131nmas\\u0131 i\\u015flemidir. bu ameliyat t\\u00fcr\\u00fcnden rahim a\\u011fz\\u0131(serviks) yerinde b\\u0131rak\\u0131l\\u0131r. Rahim alma ameliyat\\u0131n\\u0131n bu y\\u00f6ntemi 40 ya\\u015f \\u00f6ncesi kad\\u0131nlarda tercih edilmektedir. Kad\\u0131nlar bu y\\u00f6ntemde k\\u0131smi olarak da olsa adet g\\u00f6rmeye devam etmektedir. Ancak rahim a\\u011fz\\u0131 al\\u0131nmad\\u0131\\u011f\\u0131 i\\u00e7in kad\\u0131n a\\u00e7\\u0131s\\u0131ndan kanser riski devam etmektedir.\\nVajinal Histerektomi,\\u00a0y\\u00f6nteminde kad\\u0131n\\u0131n rahmine vajinal yoldan ula\\u015f\\u0131larak rahim alma ameliyat\\u0131 ger\\u00e7ekle\\u015ftirilmektedir. Daha s\\u0131k\\u00a0rahim sarkmas\\u0131\\u00a0durumlar\\u0131nda tercih edilen y\\u00f6ntemdir. 45 ya\\u015f ve \\u00fczeri kad\\u0131nlarda bu y\\u00f6ntem il birlikte yumurtal\\u0131klar da al\\u0131narak kad\\u0131n\\u0131n yumurtal\\u0131k kanserinden korunmas\\u0131 ama\\u00e7lan\\u0131r. Ancak rahim ve yumurtal\\u0131klar\\u0131 al\\u0131nan do\\u011furgan \\u00e7a\\u011fdaki kad\\u0131nlar ani olarak menopoza girmek durumunda kal\\u0131r. Buna t\\u0131pta cerrahi menopoz da denmektedir.\\nLaparoskopik\\u00a0Histerektomi\\u00a0y\\u00f6nteminde hastan\\u0131n g\\u00f6be\\u011fine yap\\u0131lan minik bir kesi ile hastan\\u0131n kar\\u0131n i\\u00e7ine girilmektedir. Laparoskop ad\\u0131 verilen cihaz ile ile hastan\\u0131n rahmi g\\u00f6r\\u00fcnt\\u00fclesin ve kas\\u0131ktan girdirilen iki cerrahi kesi aleti ile rahmi tutan ba\\u011flar kesilir. Ba\\u011flar\\u0131 kesilen rahim vajinal yoldan d\\u0131\\u015far\\u0131 \\u00e7\\u0131kar\\u0131l\\u0131r.\\n\\n Rahim Alma Ameliyat\\u0131 (Histerektomi) Riskleri Nelerdir?\\n\\nRahim alma ameliyat\\u0131\\u00a0(Histerektomi) zor mu, sorusu i\\u00e7in her ameliyat\\u0131n risklerini bar\\u0131nd\\u0131r\\u0131r, yan\\u0131t\\u0131 verilebilir. Rahim alma ameliyat\\u0131, anestezi alt\\u0131nda ger\\u00e7ekle\\u015ftirilen cerrahi bir i\\u015flemdir. Her cerrahi i\\u015flemde oldu\\u011fu gibi riskleri ve ameliyat sonras\\u0131 olu\\u015fabilecek komlikasyonlar\\u0131 bulunmaktad\\u0131r.\\nNadiren g\\u00f6r\\u00fclmekle birlikte rahim alma ameliyat\\u0131 s\\u0131ras\\u0131nda;\\n\\nMesanenin veya ba\\u011f\\u0131rsa\\u011f\\u0131n yaralanmas\\u0131\\nAmeliyat s\\u0131ras\\u0131nda beklenmeyen kanama\\nKar\\u0131n enfeksiyonu\\nP\\u0131ht\\u0131 olu\\u015fmas\\u0131\\nGenital b\\u00f6lgede kanama ve kan toplanmas\\u0131\\n\\u0130drar ve d\\u0131\\u015fk\\u0131lamada g\\u00fc\\u00e7l\\u00fck\\n\\nBu say\\u0131lanlar d\\u0131\\u015f\\u0131nda bilinmesi gereken \\u00f6nemli bir nokta rahim alma ameliyat\\u0131 sonras\\u0131 do\\u011furganl\\u0131k sona erer ve hastan\\u0131n ameliyattan sonra \\u00e7ocuk sahibi olamayaca\\u011f\\u0131 hakk\\u0131nda hasta mutlaka bilgilendirilmedir.\\u00a0\\n Rahim Alma Ameliyat\\u0131 Sonras\\u0131 Ne Yapmal\\u0131y\\u0131m?\\nRahim alma ameliyat\\u0131\\u00a0(Histerektomi) di\\u011fer bir \\u00e7ok ameliyat gibi anestezi alt\\u0131nda ger\\u00e7ekle\\u015fen cerrahi bir i\\u015flemdir. Ameliyat sonras\\u0131nda hasta yava\\u015f yava\\u015f kendine gelir ve narkozun v\\u00fccuttan at\\u0131lmas\\u0131 gerekir.\\nBu s\\u00fcre\\u00e7te yap\\u0131lmas\\u0131 gerekenler ise;\\n\\nAmeliyat g\\u00fcn\\u00fc ba\\u011f\\u0131rsak hareketleri ba\\u015flay\\u0131ncaya kadar kesinlikle a\\u011f\\u0131zdan beslenme yapmaman\\u0131z gerekmektedir.\\nRahim alma ameliyat\\u0131 sonras\\u0131 tuvalet ihtiyac\\u0131 ilk 24 saat boyunca sonda ile giderilmelidir.\\nDoktor e\\u015fli\\u011finde ameliyattan sonra erken ayaklanman\\u0131z hem ba\\u011f\\u0131rsak hareketlerinin ba\\u015flamas\\u0131 hem de p\\u0131ht\\u0131 olu\\u015fumunun \\u00f6nlenmesi bak\\u0131m\\u0131ndan \\u00f6nemli rol oynar.\\nHer ne kadar erken ayaklanman\\u0131z olumlu da olsa diki\\u015flerin olmas\\u0131 sebebiyle ameliyat sonras\\u0131 6 hafta boyunca egzersiz ve a\\u011f\\u0131r i\\u015flerden ka\\u00e7\\u0131n\\u0131lmal\\u0131s\\u0131n\\u0131z.\\nRahim alma ameliyat\\u0131 cinsel ili\\u015fkiye engel olmaz ise de ameliyat sonras\\u0131 6 hafta boyunca cinsel ili\\u015fkiden ka\\u00e7\\u0131n\\u0131lmal\\u0131d\\u0131r.\\nTaburcu olduktan sonra idrar ve d\\u0131\\u015fk\\u0131lama s\\u0131ras\\u0131nda \\u0131k\\u0131nma hareketinden ka\\u00e7\\u0131nmal\\u0131d\\u0131r.\\nYine genital kaslar\\u0131n kullan\\u0131lmas\\u0131 sebebiyle Rahim alma ameliyat\\u0131ndan sonra bir s\\u00fcre araba kullanmaktan uzak durulmal\\u0131d\\u0131r.\\nTaburcu edildikten sonra evdeki ya\\u015fant\\u0131n\\u0131za dikkat etmeli, du\\u015f al\\u0131rken su d\\u00f6kmek ile yetinmeli, keseleme ve ovalamadan ka\\u00e7\\u0131nmal\\u0131s\\u0131n\\u0131z.\\nEn \\u00f6nemli noktalardan biri ise ameliyat sonras\\u0131 s\\u00fcre\\u00e7te vajinal kanama ya da ate\\u015f ile kar\\u015f\\u0131la\\u015f\\u0131r iseniz zaman kaybetmeden doktorunuza ba\\u015fvurman\\u0131z gerekmektedir.\\n\\n Rahim Alma Ameliyat\\u0131 (Histerektomi) Ka\\u00e7 G\\u00fcnde \\u0130yile\\u015fir?\\u00a0\\nTek bir rahim alma ameliyat\\u0131\\u00a0(Histerektomi) yoktur. Farkl\\u0131 t\\u00fcrlerdeki bu ameliyatlar\\u0131n iyile\\u015fme s\\u00fcre\\u00e7leri de birbirinden farkl\\u0131 seyretmektedir. Rahim alma ameliyatlardan sonra iyile\\u015fme s\\u00fcreci hastan\\u0131n ve ameliyata konu hastal\\u0131\\u011f\\u0131n durumuna g\\u00f6re de\\u011fi\\u015fiklik g\\u00f6stermektedir.\\nFakat genelleme yapmak gerekir ise rahim alma ameliyat\\u0131ndan sonra hastan\\u0131n iyile\\u015fme s\\u00fcreci ortalama 4-6 haftad\\u0131r. Laparoskopik Histerektomi de hastan\\u0131n a\\u00e7\\u0131k bir cerrahi yaras\\u0131 bulunmamas\\u0131 sebebiyle iyile\\u015fme s\\u00fcreci 10-15 g\\u00fcnd\\u00fcr.\\n S\\u0131k\\u00e7a Sorulan Sorular\\u00a0\\nRahim alma ameliyat\\u0131\\u00a0(Histerektomi) ile rahmin al\\u0131nmas\\u0131 cinsel hayat\\u0131 etkiler mi?\\nRahim cinsellik i\\u00e7in kullan\\u0131lan bir organ de\\u011fildir. Cinsel birle\\u015fme s\\u0131ras\\u0131nda kad\\u0131nlar vajina ile birle\\u015fmeyi sa\\u011flar. Bu sebeple rahim alma ameliyat\\u0131 sonras\\u0131nda cinsel hayat\\u0131n\\u0131z normal bir \\u015fekilde devam eder.\\nRahim alma ameliyat\\u0131\\u00a0(Histerektomi) ka\\u00e7 saat s\\u00fcrer?\\nRahim alma ameliyat\\u0131 ka\\u00e7 saat s\\u00fcrer sorusu i\\u00e7in bu \\u00fc\\u00e7 y\\u00f6nteminde de ameliyat s\\u00fcresinin de\\u011fi\\u015fti\\u011fi belirtilebilir.Hastan\\u0131n ve hastal\\u0131\\u011f\\u0131n durumuna g\\u00f6re operasyon, 2-8 saate kadar uzayabilmektedir.\\u00a0\\nRahim alma ameliyat\\u0131\\u00a0(Histerektomi) zor mu?\\nRahmin al\\u0131nmas\\u0131 tehlikeli bir ameliyat de\\u011fildir, ancak t\\u00fcm ameliyatlar gibi birtak\\u0131m riskleri i\\u00e7erir. Akci\\u011fer ya da toplardamarda p\\u0131ht\\u0131 geli\\u015febilir bu do\\u011frultuda kanama olabilir. Ayr\\u0131ca operasyon sonras\\u0131nda\\u00a0vajinal kanama\\u00a0ya da kesi yerinde a\\u011fr\\u0131 olu\\u015fabilir.\\u00a0Ameliyat sonras\\u0131\\u00a0hastan\\u0131n sa\\u011fl\\u0131\\u011f\\u0131na dikkat edilmelidir.Rahim alma ameliyat\\u0131 (histerektomi ameliyat\\u0131), kad\\u0131nlarda en s\\u0131k kullan\\u0131lan\\u00a0jinekolojik\\u00a0tedavi y\\u00f6ntemlerinden biridir. Ayr\\u0131ca rahim organ\\u0131n\\u0131n sadece kad\\u0131nlarda bulunmas\\u0131 sebebiyle yaln\\u0131zca kad\\u0131nlar\\u0131n konusu olabilecek cerrahi bir i\\u015flemdir. Rahim alma ameliyat\\u0131 genellikle olarak rahimde geli\\u015fen\\u00a0miyomlar\\u0131n\\u00a0al\\u0131nmas\\u0131 ve rahim kanserinin tedavisi amac\\u0131yla tercih edilmektedir.Kad\\u0131nlar\\u0131n kafas\\u0131nda bir\\u00e7ok korku ve soru i\\u015fareti bar\\u0131ndan bu tedavi y\\u00f6ntemi, san\\u0131ld\\u0131\\u011f\\u0131n\\u0131n aksine kad\\u0131n cinsel ya\\u015fam\\u0131n\\u0131 olumsuz y\\u00f6nde etkilememektedir.Yine de rahim alma ameliyat\\u0131 olacak hastalar\\u0131n tedavi \\u00f6ncesinde; rahim alma ameliyat\\u0131 riskleri ve rahim alma ameliyat\\u0131 sonras\\u0131 s\\u00fcre\\u00e7 hakk\\u0131nda bilgilendirilmesi \\u00e7ok \\u00f6nemlidir.Rahim Alma Ameliyat\\u0131 (Histerektomi) Nedir?T\\u0131bbi ad\\u0131 ile\\u00a0histerektomi\\u00a0olan ameliyat\\u0131n k\\u00f6keni Latinceden gelir. Histere (rahim) ve ektome (\\u00e7\\u0131karma) kelimelerinin birle\\u015ftirilmesiyle olu\\u015fturulmu\\u015ftur. Rahim alma ameliyat\\u0131 nedir sorusu k\\u0131saca farkl\\u0131 nedenlerle, cerrahi olarak kad\\u0131n rahminin v\\u00fccuttan al\\u0131nmas\\u0131d\\u0131r. Rahim alma ameliyat\\u0131n\\u0131 k\\u0131saca bu \\u015fekilde tan\\u0131mlamakla birlikte bu i\\u015flem birden \\u00e7ok \\u015fekilde ger\\u00e7ekle\\u015ftirilebilmektedir.Histerektominin ne \\u015fekilde yap\\u0131laca\\u011f\\u0131 ve tedavide nas\\u0131l bir y\\u00f6ntem izlenece\\u011fi hastan\\u0131n ya\\u015f\\u0131na ve hastal\\u0131\\u011f\\u0131na g\\u00f6re \\u015fekillenir. \\u0130zlenecek tedavi y\\u00f6ntemine g\\u00f6re rahim alma ameliyat\\u0131 s\\u0131ras\\u0131nda rahmin tamam\\u0131 ya da bir k\\u0131sm\\u0131 cerrahi olarak \\u00e7\\u0131kar\\u0131l\\u0131r.Kad\\u0131nlarda Rahim Alma Ameliyat\\u0131 (Histerektomi) Nas\\u0131l Olur?Rahim alma ameliyat\\u0131nda ilk olarak hastan\\u0131n bir uzman taraf\\u0131ndan muayenesi ger\\u00e7ekle\\u015ftirilir ve ki\\u015fide bulan hastal\\u0131\\u011f\\u0131n te\\u015fhisi netle\\u015ftirilir. Daha sonra uygulanacak olan rahim alma ameliyat\\u0131 t\\u00fcr\\u00fc ve rahim alma ameliyat\\u0131 sonras\\u0131 s\\u00fcre\\u00e7 planlan\\u0131r.Hastaya, rahim alma ameliyat\\u0131 (Histerektomi), rahim alma ameliyat\\u0131 riskleri ve rahim alma ameliyat\\u0131 sonras\\u0131 s\\u00fcre\\u00e7 hakk\\u0131nda gerekli t\\u00fcm bilgilendirmeler yap\\u0131l\\u0131r. Burada dikkat edilmesi gereken \\u00f6nemli bir nokta hastan\\u0131n gen\\u00e7 mi ya\\u015fl\\u0131 m\\u0131 oldu\\u011fudur.Rahim alma ameliyat\\u0131 uygulanacak olan hasta gen\\u00e7 ya\\u015fta ve \\u00e7ocuk isteyen bir birey ise rahim ameliyat\\u0131 sonras\\u0131 hastan\\u0131n \\u00e7ocuk do\\u011furamayacak olu\\u015fu psikolojik bunal\\u0131m sebebidir. Bu sebeple do\\u011furma \\u00e7a\\u011f\\u0131ndaki bireylerde uygulanan rahim alma ameliyat\\u0131nda rahmin t\\u00fcmden al\\u0131nmas\\u0131 \\u00f6ncesinde di\\u011fer tedavi y\\u00f6ntemleri hakk\\u0131nda hasta bilgilendirilir.Ya\\u015fl\\u0131larda Rahim Alma Ameliyat\\u0131 (Histerektomi) Nas\\u0131l Olur?\\u00dclkemizde ve d\\u00fcnya genelinde ortalama 55-60 ya\\u015f\\u0131 a\\u015fm\\u0131\\u015f bireyler ya\\u015fl\\u0131 olarak kabul edilmektedir. Yine ayn\\u0131 \\u015fekilde \\u00fclkemizde ve d\\u00fcnya genelinde 40-50 ya\\u015flar\\u0131nda kad\\u0131nlar\\u0131n\\u00a0menopoza\\u00a0girerek do\\u011furganl\\u0131k d\\u00f6nemlerinin sona erdi\\u011fi kabul g\\u00f6rmektedir. Bu s\\u00fcre\\u00e7le birlikte ya\\u015fl\\u0131l\\u0131k evresinin de v\\u00fccuda getirdi\\u011fi rahats\\u0131zl\\u0131klar ile birlikte kad\\u0131nlarda g\\u00f6r\\u00fclen kad\\u0131nsal hastal\\u0131klar s\\u0131kla\\u015fmaktad\\u0131r.Rahim alma ameliyat\\u0131 sonras\\u0131nda gen\\u00e7 kad\\u0131nlarda g\\u00f6r\\u00fclmekte olan hemen hemen t\\u00fcm komplikasyonlar ya\\u015fl\\u0131larda da g\\u00f6r\\u00fclmekle birlikte ya\\u015fl\\u0131lar\\u0131n ekstra dikkat etmesi gereken noktalar bulunmaktad\\u0131r:Her ne kadar ya\\u015fl\\u0131larda cerrahi m\\u00fcdahale daha zor ve sanc\\u0131l\\u0131 olsa da kronik ba\\u015fka bir hastal\\u0131\\u011f\\u0131 bulunmaya ya\\u015fl\\u0131 bireylerin ameliyat sonras\\u0131 toparlanmas\\u0131 h\\u0131zl\\u0131 olacakt\\u0131r. Halihaz\\u0131rda menopoza girmi\\u015f ya\\u015fl\\u0131 bireylerin rahim alma ameliyat\\u0131 sonras\\u0131 psikolojik \\u00e7\\u00f6k\\u00fc\\u015fleri ise gen\\u00e7, do\\u011furgan ya\\u015ftaki kad\\u0131nlara g\\u00f6re daha az olmaktad\\u0131r.Rahim Alma Ameliyat\\u0131 (Histerektomi) Nas\\u0131l Yap\\u0131l\\u0131r?Rahim alma ameliyat\\u0131 (Histerektomi) olacak bireylerin bilgilendirilmesi gerekirken hasta bireyin kafas\\u0131nda soru i\\u015fareti b\\u0131rak\\u0131lmamal\\u0131d\\u0131r. Rahim alma ameliyat\\u0131 olarak tek bir ameliyattan bahsedilmi\\u015f gibi g\\u00f6r\\u00fcnse de rahmin v\\u00fccuttan al\\u0131nmas\\u0131 tek bir cerrahi y\\u00f6ntemle yap\\u0131lmamaktad\\u0131r. Rahim alma ameliyat\\u0131n\\u0131n birden \\u00e7ok y\\u00f6ntemi bulunmakta olup hastan\\u0131n \\u015fikayetine ba\\u011fl\\u0131 olarak bu y\\u00f6ntem belirlenmektedir.Rahim alma ameliyat\\u0131 a\\u015fa\\u011f\\u0131daki farkl\\u0131 y\\u00f6ntemlerle ger\\u00e7ekle\\u015febilir:Rahim Alma Ameliyat\\u0131 (Histerektomi) Riskleri Nelerdir?Rahim alma ameliyat\\u0131\\u00a0(Histerektomi) zor mu, sorusu i\\u00e7in her ameliyat\\u0131n risklerini bar\\u0131nd\\u0131r\\u0131r, yan\\u0131t\\u0131 verilebilir. Rahim alma ameliyat\\u0131, anestezi alt\\u0131nda ger\\u00e7ekle\\u015ftirilen cerrahi bir i\\u015flemdir. Her cerrahi i\\u015flemde oldu\\u011fu gibi riskleri ve ameliyat sonras\\u0131 olu\\u015fabilecek komlikasyonlar\\u0131 bulunmaktad\\u0131r.Nadiren g\\u00f6r\\u00fclmekle birlikte rahim alma ameliyat\\u0131 s\\u0131ras\\u0131nda;Bu say\\u0131lanlar d\\u0131\\u015f\\u0131nda bilinmesi gereken \\u00f6nemli bir nokta rahim alma ameliyat\\u0131 sonras\\u0131 do\\u011furganl\\u0131k sona erer ve hastan\\u0131n ameliyattan sonra \\u00e7ocuk sahibi olamayaca\\u011f\\u0131 hakk\\u0131nda hasta mutlaka bilgilendirilmedir.Rahim Alma Ameliyat\\u0131 Sonras\\u0131 Ne Yapmal\\u0131y\\u0131m?Rahim alma ameliyat\\u0131\\u00a0(Histerektomi) di\\u011fer bir \\u00e7ok ameliyat gibi anestezi alt\\u0131nda ger\\u00e7ekle\\u015fen cerrahi bir i\\u015flemdir. Ameliyat sonras\\u0131nda hasta yava\\u015f yava\\u015f kendine gelir ve narkozun v\\u00fccuttan at\\u0131lmas\\u0131 gerekir.Bu s\\u00fcre\\u00e7te yap\\u0131lmas\\u0131 gerekenler ise;Rahim Alma Ameliyat\\u0131 (Histerektomi) Ka\\u00e7 G\\u00fcnde \\u0130yile\\u015fir?Tek bir rahim alma ameliyat\\u0131\\u00a0(Histerektomi) yoktur. Farkl\\u0131 t\\u00fcrlerdeki bu ameliyatlar\\u0131n iyile\\u015fme s\\u00fcre\\u00e7leri de birbirinden farkl\\u0131 seyretmektedir. Rahim alma ameliyatlardan sonra iyile\\u015fme s\\u00fcreci hastan\\u0131n ve ameliyata konu hastal\\u0131\\u011f\\u0131n durumuna g\\u00f6re de\\u011fi\\u015fiklik g\\u00f6stermektedir.Fakat genelleme yapmak gerekir ise rahim alma ameliyat\\u0131ndan sonra hastan\\u0131n iyile\\u015fme s\\u00fcreci ortalama 4-6 haftad\\u0131r. Laparoskopik Histerektomi de hastan\\u0131n a\\u00e7\\u0131k bir cerrahi yaras\\u0131 bulunmamas\\u0131 sebebiyle iyile\\u015fme s\\u00fcreci 10-15 g\\u00fcnd\\u00fcr.S\\u0131k\\u00e7a Sorulan SorularRahim cinsellik i\\u00e7in kullan\\u0131lan bir organ de\\u011fildir. Cinsel birle\\u015fme s\\u0131ras\\u0131nda kad\\u0131nlar vajina ile birle\\u015fmeyi sa\\u011flar. Bu sebeple rahim alma ameliyat\\u0131 sonras\\u0131nda cinsel hayat\\u0131n\\u0131z normal bir \\u015fekilde devam eder.Rahim alma ameliyat\\u0131 ka\\u00e7 saat s\\u00fcrer sorusu i\\u00e7in bu \\u00fc\\u00e7 y\\u00f6nteminde de ameliyat s\\u00fcresinin de\\u011fi\\u015fti\\u011fi belirtilebilir.Hastan\\u0131n ve hastal\\u0131\\u011f\\u0131n durumuna g\\u00f6re operasyon, 2-8 saate kadar uzayabilmektedir.Rahmin al\\u0131nmas\\u0131 tehlikeli bir ameliyat de\\u011fildir, ancak t\\u00fcm ameliyatlar gibi birtak\\u0131m riskleri i\\u00e7erir. Akci\\u011fer ya da toplardamarda p\\u0131ht\\u0131 geli\\u015febilir bu do\\u011frultuda kanama olabilir. Ayr\\u0131ca operasyon sonras\\u0131nda\\u00a0vajinal kanama\\u00a0ya da kesi yerinde a\\u011fr\\u0131 olu\\u015fabilir.\\u00a0Ameliyat sonras\\u0131\\u00a0hastan\\u0131n sa\\u011fl\\u0131\\u011f\\u0131na dikkat edilmelidir.\",\n          \" Rahimden neden par\\u00e7a al\\u0131n\\u0131r sorusunun cevab\\u0131 kad\\u0131nlar taraf\\u0131ndan s\\u0131kl\\u0131kla merak edilir.\\nRahimden par\\u00e7a al\\u0131nmas\\u0131, t\\u0131bbi literat\\u00fcrde \\\"endometrial biyopsi\\\" olarak adland\\u0131r\\u0131lan bir i\\u015flemdir. Bu i\\u015flem, endometrium ad\\u0131 verilen rahim i\\u00e7 tabakas\\u0131ndan k\\u00fc\\u00e7\\u00fck bir doku \\u00f6rne\\u011fi al\\u0131narak yap\\u0131lan bir incelemeyi kapsar.\\nRahimden par\\u00e7a al\\u0131nmas\\u0131n\\u0131n temel amac\\u0131, \\u00e7e\\u015fitli sa\\u011fl\\u0131k sorunlar\\u0131n\\u0131n tan\\u0131s\\u0131n\\u0131 koymak ve rahimdeki anormal de\\u011fi\\u015fiklikleri de\\u011ferlendirmektir.\\u0130\\u00e7indekilerRahim Biyopsisi Nedir?Rahimden Par\\u00e7a Neden Al\\u0131n\\u0131r?Rahim Biyopsisi \\u00c7e\\u015fitleri Nelerdir?Rahim \\u0130\\u00e7i \\u0130nceleme Nas\\u0131l Olur?Rahim Y\\u0131rt\\u0131\\u011f\\u0131 Tedavisi Nedir?S\\u0131k\\u00e7a Sorulan Sorular\\n Rahim Biyopsisi Nedir?\\n\\nRahimden neden par\\u00e7a al\\u0131n\\u0131r konusuna rahim biyopsisinin ne oldu\\u011funu \\u00f6\\u011frenmek ile ba\\u015flayabilir.\\nRahim biyopsisi, endometriumdan k\\u00fc\\u00e7\\u00fck bir doku \\u00f6rne\\u011fi al\\u0131n\\u0131p laboratuvarda incelenmesi i\\u015flemidir.\\nBu i\\u015flem, rahim i\\u00e7i dokularda meydana gelen anormal h\\u00fccre de\\u011fi\\u015fikliklerini, kanser \\u00f6nc\\u00fcs\\u00fc lezyonlar\\u0131 veya hormon d\\u00fczensizliklerini tespit etmeye yard\\u0131mc\\u0131 olur.\\u00a0\\nRahim biyopsisi s\\u0131ras\\u0131nda kullan\\u0131lan ince bir t\\u00fcp, rahim i\\u00e7ine yerle\\u015ftirilir ve k\\u00fc\\u00e7\\u00fck bir par\\u00e7a al\\u0131n\\u0131r. Bu \\u00f6rnek, laboratuvarda patoloji olarak incelenir.\\nRahim biyopsisi yap\\u0131lmas\\u0131n\\u0131n en \\u00f6nemli nedenleri \\u015funlard\\u0131r:\\n\\nAnormal Vajinal Kanama: \\u00d6zellikle menopoz sonras\\u0131nda veya adet d\\u00f6ng\\u00fcs\\u00fc d\\u0131\\u015f\\u0131nda g\\u00f6r\\u00fclen kanamalar, rahim kanseri gibi ciddi bir duruma i\\u015faret edebilir. Bu durumda rahim biyopsisi yap\\u0131larak durum de\\u011ferlendirilir.\\nEndometrial Hiperplazi \\u015e\\u00fcphesi: Rahim i\\u00e7 tabakas\\u0131n\\u0131n a\\u015f\\u0131r\\u0131 kal\\u0131nla\\u015fmas\\u0131 olan endometrial hiperplazi, rahim kanserine d\\u00f6n\\u00fc\\u015febilecek bir durumdur. Bu nedenle erken tan\\u0131 b\\u00fcy\\u00fck \\u00f6nem ta\\u015f\\u0131r.\\nHormonal D\\u00fczensizlikler: \\u00d6zellikle gen\\u00e7 kad\\u0131nlarda g\\u00f6r\\u00fclen d\\u00fczensiz adet d\\u00f6nemlerinde hormonlar\\u0131n rahim \\u00fczerindeki etkisini de\\u011ferlendirmek amac\\u0131yla biyopsi yap\\u0131labilir.\\n\\nRahim biyopsisi, k\\u0131sa s\\u00fcreli bir i\\u015flem olmas\\u0131na ra\\u011fmen sonras\\u0131nda hafif kanama veya kramp ya\\u015fanabilir, ge\\u00e7icidir.\\nBiyopsi sonu\\u00e7lar\\u0131 doktor taraf\\u0131ndan de\\u011ferlendirildikten sonra, gerekirse tedavi s\\u00fcreci ba\\u015flat\\u0131l\\u0131r.\\n Rahimden Par\\u00e7a Neden Al\\u0131n\\u0131r?\\nRahimden neden par\\u00e7a al\\u0131n\\u0131r sorusunun bir\\u00e7ok cevab\\u0131 olabilir. Bunlar genellikle rahimde meydana gelen anormal de\\u011fi\\u015fikliklerin nedenini belirlemek amac\\u0131yla yap\\u0131l\\u0131r.\\nRahimden par\\u00e7a al\\u0131nmas\\u0131n\\u0131n ba\\u015fl\\u0131ca nedenleri a\\u015fa\\u011f\\u0131da verilmi\\u015ftir:\\n\\n\\u00d6zellikle menopoz sonras\\u0131 kanama ya\\u015fayan kad\\u0131nlarda rahim kanseri riski g\\u00f6z \\u00f6n\\u00fcnde bulundurularak biyopsi yap\\u0131l\\u0131r.\\nAnormal kanamalar ve d\\u00fczensiz adet d\\u00f6ng\\u00fcleri hormonal dengesizliklerden kaynaklanabilir. Bu dengesizliklerin rahim i\\u00e7 yap\\u0131s\\u0131ndaki etkilerini de\\u011ferlendirmek i\\u00e7in biyopsi yap\\u0131l\\u0131r.\\nGebelik elde edememe ya da s\\u0131k d\\u00fc\\u015f\\u00fck yapma durumlar\\u0131nda rahim i\\u00e7 yap\\u0131s\\u0131 incelenir.\\nPolipler, rahim a\\u011fz\\u0131 kanseri ve myomlar gibi yap\\u0131sal anormalliklerin tespit edilmesi i\\u00e7in biyopsi gerekebilir.\\n\\nRahimden \\u00f6rnek alma i\\u015flemlerinin do\\u011fru bir \\u015fekilde te\\u015fhis edilmesi, ileriye d\\u00f6n\\u00fck tedavi se\\u00e7eneklerinin belirlenmesinde olduk\\u00e7a \\u00f6nemlidir.\\n Rahim Biyopsisi \\u00c7e\\u015fitleri Nelerdir?\\n\\nRahimden neden par\\u00e7a al\\u0131n\\u0131r sorusu yan\\u0131tland\\u0131ktan sonra hastalar bu i\\u015flemin \\u00e7e\\u015fitlerini \\u00f6\\u011frenmek isteyebilir. Rahim par\\u00e7as\\u0131 incelemesi i\\u015flemin y\\u00f6ntemine g\\u00f6re farkl\\u0131 \\u00e7e\\u015fitlere ayr\\u0131labilir.\\nRahim i\\u00e7i dokunun durumuna ve doktorun tercihine g\\u00f6re a\\u015fa\\u011f\\u0131daki biyopsi t\\u00fcrleri uygulanabilir.\\nEndometrial biyopsi en s\\u0131k kullan\\u0131lan biyopsi y\\u00f6ntemidir. \\u0130nce bir kateter rahim i\\u00e7ine yerle\\u015ftirilerek dokunun emilmesi sa\\u011flan\\u0131r.\\nBu y\\u00f6ntem h\\u0131zl\\u0131 ve genellikle a\\u011fr\\u0131s\\u0131z bir prosed\\u00fcrd\\u00fcr. Anestezi \\u00e7o\\u011fu zaman gerekmez.\\nPipelle biyopsisi bir di\\u011fer s\\u0131k kullan\\u0131lan y\\u00f6ntemdir. \\u0130nce bir t\\u00fcp (pipelle) rahim i\\u00e7ine sokulur ve hafif bir vakum yard\\u0131m\\u0131yla doku \\u00f6rne\\u011fi al\\u0131n\\u0131r.\\nK\\u0131sa s\\u00fcrede tamamlan\\u0131r ve genellikle anestezi uygulanmaz.\\nHisteroskopi ile biyopside histeroskop ad\\u0131 verilen ince bir cihaz yard\\u0131m\\u0131yla rahim i\\u00e7ine kamera ile girilerek doku \\u00f6rne\\u011fi al\\u0131n\\u0131r.\\nBu y\\u00f6ntem, rahim i\\u00e7 tabakas\\u0131n\\u0131n do\\u011frudan g\\u00f6zlemlenmesine olanak sa\\u011flar. Genellikle anestezi gerektirir.\\nDilatasyon ve k\\u00fcrtaj isimli bu y\\u00f6ntem, rahim a\\u011fz\\u0131n\\u0131n geni\\u015fletilip rahim i\\u00e7inin kaz\\u0131nmas\\u0131 \\u015feklinde ger\\u00e7ekle\\u015ftirilir. Bu i\\u015flemde daha kapsaml\\u0131 \\u00f6rnekler al\\u0131n\\u0131r.\\nBu biyopsi \\u00e7e\\u015fitlerinden hangisinin uygulanaca\\u011f\\u0131, hastan\\u0131n durumuna, belirtilerine ve doktorun karar\\u0131na ba\\u011fl\\u0131d\\u0131r.\\nHer biyopsi y\\u00f6ntemi rahim dokusunu incelemeye y\\u00f6nelik olup sonu\\u00e7lara g\\u00f6re tedavi veya ileri tetkiklere karar verilir.\\n Rahim \\u0130\\u00e7i \\u0130nceleme Nas\\u0131l Olur?\\nRahimden neden par\\u00e7a al\\u0131n\\u0131r konusu par\\u00e7an\\u0131n incelenmesini de i\\u00e7erir. Rahim i\\u00e7i inceleme, jinekolojik muayenelerin bir par\\u00e7as\\u0131 olarak, kad\\u0131n\\u0131n \\u00fcreme organlar\\u0131n\\u0131 detayl\\u0131 \\u015fekilde de\\u011ferlendirmek amac\\u0131yla yap\\u0131lan bir i\\u015flemdir.\\nBu i\\u015flem genellikle, kad\\u0131n\\u0131n rahmiyle ilgili belirli semptomlar, a\\u011fr\\u0131lar, anormal kanamalar veya di\\u011fer rahats\\u0131zl\\u0131klar g\\u00f6zlendi\\u011finde yap\\u0131l\\u0131r.\\nRahim i\\u00e7i inceleme farkl\\u0131 y\\u00f6ntemlerle ger\\u00e7ekle\\u015ftirilebilir ve hepsinin amac\\u0131, rahimdeki olas\\u0131 sorunlar\\u0131 tespit etmektir.\\nPelvik muayene, rahmin, yumurtal\\u0131klar\\u0131n ve vajinan\\u0131n el ile kontrol edilmesini i\\u00e7erir.\\nDoktor, bu b\\u00f6lgede kitle ya da anormallik olup olmad\\u0131\\u011f\\u0131n\\u0131 belirlemek i\\u00e7in ellerini kullanarak bir inceleme yapar. Ayr\\u0131ca rahim pozisyonunu ve b\\u00fcy\\u00fckl\\u00fc\\u011f\\u00fcn\\u00fc de de\\u011ferlendirebilir.\\nTransvajinal ultrason en s\\u0131k kullan\\u0131lan g\\u00f6r\\u00fcnt\\u00fcleme y\\u00f6ntemidir.\\nBu i\\u015flemde, vajina i\\u00e7ine yerle\\u015ftirilen k\\u00fc\\u00e7\\u00fck bir cihaz (prob) yard\\u0131m\\u0131yla rahmin ve di\\u011fer \\u00fcreme organlar\\u0131n\\u0131n g\\u00f6r\\u00fcnt\\u00fcleri elde edilir. Ultrason, rahim i\\u00e7indeki polipler, miyomlar veya di\\u011fer yap\\u0131sal sorunlar\\u0131 tespit etmek i\\u00e7in kullan\\u0131l\\u0131r.\\nAyr\\u0131ca rahim kal\\u0131nl\\u0131\\u011f\\u0131 ve yumurtal\\u0131klar da incelenir.\\nHisteroskopi, ince bir teleskop (histeroskop) yard\\u0131m\\u0131yla rahim i\\u00e7inin direkt olarak g\\u00f6zlemlenmesi i\\u015flemidir.\\nBu inceleme, rahim i\\u00e7indeki polipler, miyomlar, yap\\u0131\\u015f\\u0131kl\\u0131klar ya da do\\u011fu\\u015ftan gelen yap\\u0131sal bozukluklar\\u0131 tespit etmek i\\u00e7in yap\\u0131l\\u0131r.\\nHisteroskop, vajina ve rahim a\\u011fz\\u0131 \\u00fczerinden rahme yerle\\u015ftirilir. Bu sayede doktor, rahmin i\\u00e7 y\\u00fczeyini ve endometriumu ayr\\u0131nt\\u0131l\\u0131 \\u015fekilde inceleyebilir\\n. Ayn\\u0131 zamanda tedavi edici i\\u015flemler de histeroskopi s\\u0131ras\\u0131nda yap\\u0131labilir.\\nRahim i\\u00e7i biyopsi, rahim i\\u00e7inden k\\u00fc\\u00e7\\u00fck bir doku \\u00f6rne\\u011fi al\\u0131narak laboratuvar ortam\\u0131nda incelenmesini i\\u00e7erir.\\nBu i\\u015flem genellikle anormal kanamalar, adet d\\u00fczensizli\\u011fi veya kanser riskini de\\u011ferlendirmek i\\u00e7in yap\\u0131l\\u0131r. Biyopsi sonucu, rahim i\\u00e7 zar\\u0131nda h\\u00fccresel de\\u011fi\\u015fikliklerin olup olmad\\u0131\\u011f\\u0131n\\u0131 g\\u00f6sterir.\\n Rahim Y\\u0131rt\\u0131\\u011f\\u0131 Tedavisi Nedir?\\n\\nRahimden neden par\\u00e7a al\\u0131n\\u0131r sorusunun bir di\\u011fer cevab\\u0131 rahim y\\u0131rt\\u0131\\u011f\\u0131 olabilir.\\nRahim y\\u0131rt\\u0131\\u011f\\u0131, nadir fakat ciddi bir sa\\u011fl\\u0131k sorunudur. Genellikle do\\u011fum s\\u0131ras\\u0131nda ortaya \\u00e7\\u0131kar. Rahmin a\\u015f\\u0131r\\u0131 gerilmesi veya zorlanmas\\u0131yla olu\\u015fur.\\nRahim y\\u0131rt\\u0131lmas\\u0131 genellikle sezaryen do\\u011fumlarda veya daha \\u00f6nce rahim ameliyat\\u0131 ge\\u00e7iren kad\\u0131nlarda g\\u00f6r\\u00fclme riski y\\u00fcksektir.\\nDo\\u011fumun zor ge\\u00e7ti\\u011fi durumlarda veya bebe\\u011fin do\\u011fum kanal\\u0131ndan ge\\u00e7erken zorland\\u0131\\u011f\\u0131 anlarda rahim y\\u0131rt\\u0131lmas\\u0131 olu\\u015fabilir.\\nRahim y\\u0131rt\\u0131\\u011f\\u0131n\\u0131n belirtileri \\u015funlard\\u0131r:\\n\\nAni ve \\u015fiddetli kar\\u0131n a\\u011fr\\u0131s\\u0131.\\nVajinal kanama.\\nBebek kalp at\\u0131\\u015flar\\u0131nda yava\\u015flama.\\nAni tansiyon d\\u00fc\\u015fmesi veya \\u015fok.\\nAnne aday\\u0131n\\u0131n bay\\u0131lma veya bilin\\u00e7 kayb\\u0131 ya\\u015famas\\u0131.\\n\\nBu belirtiler acil bir durumun i\\u015fareti olabilir ve hemen t\\u0131bbi m\\u00fcdahale gerektirir. Rahim y\\u0131rt\\u0131lmas\\u0131, hem anne hem de bebek i\\u00e7in hayati risk ta\\u015f\\u0131yan bir durumdur.\\nRahim y\\u0131rt\\u0131lmas\\u0131 tespit edildi\\u011finde acil sezaryen ameliyat\\u0131 ile bebe\\u011fin do\\u011fumu ger\\u00e7ekle\\u015ftirilir.\\nCerrahi m\\u00fcdahale, hem anne hem de bebe\\u011fin hayat\\u0131n\\u0131 kurtarmak i\\u00e7in gereklidir. Rahim y\\u0131rt\\u0131lmas\\u0131 durumunda annenin kanamas\\u0131 h\\u0131zla artabilir ve bu nedenle h\\u0131zl\\u0131 m\\u00fcdahale \\u015fartt\\u0131r.\\nRahmin y\\u0131rt\\u0131lan k\\u0131sm\\u0131, cerrahi m\\u00fcdahale s\\u0131ras\\u0131nda dikilerek onar\\u0131l\\u0131r.\\nE\\u011fer y\\u0131rt\\u0131k \\u00e7ok geni\\u015fse ve onar\\u0131lmas\\u0131 m\\u00fcmk\\u00fcn de\\u011filse, baz\\u0131 durumlarda rahmin al\\u0131nmas\\u0131 histerektomi gerekebilir. Bu durum, annenin hayat\\u0131n\\u0131 kurtarmak amac\\u0131yla yap\\u0131l\\u0131r.\\n S\\u0131k\\u00e7a Sorulan Sorular\\nRahimden Par\\u00e7a Al\\u0131nmas\\u0131 Hangi Durumlarda Yap\\u0131l\\u0131r?\\nRahimden par\\u00e7a al\\u0131nmas\\u0131, genellikle rahimdeki anormal durumlar\\u0131 te\\u015fhis etmek i\\u00e7in yap\\u0131l\\u0131r. \\u00d6zellikle menopoz sonras\\u0131 anormal vajinal kanama, adet d\\u00fczensizlikleri, endometrial kanser \\u015f\\u00fcphesi, rahim i\\u00e7i polip veya myom gibi yap\\u0131sal bozukluklar ve hormon dengesizlikleri bu i\\u015flemin ba\\u015fl\\u0131ca nedenleridir. Ayr\\u0131ca k\\u0131s\\u0131rl\\u0131k veya tekrarlayan d\\u00fc\\u015f\\u00fckler ya\\u015fayan kad\\u0131nlarda rahim i\\u00e7 tabakas\\u0131n\\u0131n incelenmesi i\\u00e7in de biyopsi yap\\u0131labilir. Bu i\\u015flemin amac\\u0131, rahim dokusunda var olabilecek kanser h\\u00fccreleri veya di\\u011fer anormal durumlar\\u0131 erken a\\u015famada tespit etmektir.\\nRahimden Par\\u00e7a Al\\u0131nd\\u0131ktan Sonra Ka\\u00e7 G\\u00fcnde \\u0130yile\\u015fir?\\nRahim biyopsisi, genellikle minimal invaziv bir i\\u015flem oldu\\u011fu i\\u00e7in iyile\\u015fme s\\u00fcreci h\\u0131zl\\u0131d\\u0131r. \\u00c7o\\u011fu kad\\u0131n i\\u015flemden sonraki birka\\u00e7 g\\u00fcn i\\u00e7inde normale d\\u00f6ner. Hafif kramplar ve vajinal lekelenme g\\u00f6r\\u00fclebilir, ancak bu semptomlar genellikle k\\u0131sa s\\u00fcrelidir. \\u00c7o\\u011fu ki\\u015fi biyopsiden sonra 1-2 g\\u00fcn i\\u00e7inde g\\u00fcnl\\u00fck aktivitelerine geri d\\u00f6nebilir. Ancak i\\u015flem sonras\\u0131 tam iyile\\u015fme ve rahats\\u0131zl\\u0131klar\\u0131n ge\\u00e7mesi, ki\\u015fiden ki\\u015fiye de\\u011fi\\u015fmekle birlikte yakla\\u015f\\u0131k bir hafta s\\u00fcrebilir.\\nRahim Biyopsi Sonras\\u0131 Hasta Nelere Dikkat Etmeli?\\nRahim biyopsisi sonras\\u0131nda hastalar\\u0131n baz\\u0131 konulara dikkat etmesi \\u00f6nemlidir. \\u0130lk birka\\u00e7 g\\u00fcn boyunca a\\u011f\\u0131r egzersizlerden ka\\u00e7\\u0131n\\u0131lmal\\u0131 ve cinsel ili\\u015fki, tampon kullan\\u0131m\\u0131 gibi vajinal m\\u00fcdahalelerden uzak durulmal\\u0131d\\u0131r. Vajinal kanama olmas\\u0131 normaldir, ancak a\\u015f\\u0131r\\u0131 kanama, ate\\u015f veya \\u015fiddetli a\\u011fr\\u0131 gibi durumlar ya\\u015fan\\u0131rsa bir doktora ba\\u015fvurulmal\\u0131d\\u0131r. Ayr\\u0131ca, i\\u015flem sonras\\u0131 doktorun \\u00f6nerdi\\u011fi ila\\u00e7lar d\\u00fczenli kullan\\u0131lmal\\u0131 ve hijyen kurallar\\u0131na dikkat edilmelidir.\\nRahim Biyopsi Sonucu Ka\\u00e7 G\\u00fcnde \\u00c7\\u0131kar?\\nRahim biyopsisi sonucunun \\u00e7\\u0131kma s\\u00fcresi, laboratuvar\\u0131n yo\\u011funlu\\u011funa ve kullan\\u0131lan test y\\u00f6ntemlerine ba\\u011fl\\u0131 olarak de\\u011fi\\u015febilir. Genellikle biyopsi sonu\\u00e7lar\\u0131 7-10 g\\u00fcn i\\u00e7inde elde edilir. Bu s\\u00fcre\\u00e7te doku \\u00f6rne\\u011fi, patoloji laboratuvar\\u0131nda incelenir ve sonu\\u00e7lar doktor taraf\\u0131ndan de\\u011ferlendirildikten sonra hastaya bildirilir. Sonu\\u00e7lar\\u0131n netle\\u015fmesi ve tedavi plan\\u0131n\\u0131n olu\\u015fturulmas\\u0131 i\\u00e7in bu s\\u00fcre boyunca doktorla d\\u00fczenli ileti\\u015fimde kalmak \\u00f6nemlidir.Rahimden neden par\\u00e7a al\\u0131n\\u0131r sorusunun cevab\\u0131 kad\\u0131nlar taraf\\u0131ndan s\\u0131kl\\u0131kla merak edilir.Rahimden par\\u00e7a al\\u0131nmas\\u0131, t\\u0131bbi literat\\u00fcrde \\\"endometrial biyopsi\\\" olarak adland\\u0131r\\u0131lan bir i\\u015flemdir. Bu i\\u015flem, endometrium ad\\u0131 verilen rahim i\\u00e7 tabakas\\u0131ndan k\\u00fc\\u00e7\\u00fck bir doku \\u00f6rne\\u011fi al\\u0131narak yap\\u0131lan bir incelemeyi kapsar.Rahimden par\\u00e7a al\\u0131nmas\\u0131n\\u0131n temel amac\\u0131, \\u00e7e\\u015fitli sa\\u011fl\\u0131k sorunlar\\u0131n\\u0131n tan\\u0131s\\u0131n\\u0131 koymak ve rahimdeki anormal de\\u011fi\\u015fiklikleri de\\u011ferlendirmektir.Rahim Biyopsisi Nedir?Rahimden neden par\\u00e7a al\\u0131n\\u0131r konusuna rahim biyopsisinin ne oldu\\u011funu \\u00f6\\u011frenmek ile ba\\u015flayabilir.Rahim biyopsisi, endometriumdan k\\u00fc\\u00e7\\u00fck bir doku \\u00f6rne\\u011fi al\\u0131n\\u0131p laboratuvarda incelenmesi i\\u015flemidir.Bu i\\u015flem, rahim i\\u00e7i dokularda meydana gelen anormal h\\u00fccre de\\u011fi\\u015fikliklerini, kanser \\u00f6nc\\u00fcs\\u00fc lezyonlar\\u0131 veya hormon d\\u00fczensizliklerini tespit etmeye yard\\u0131mc\\u0131 olur.Rahim biyopsisi s\\u0131ras\\u0131nda kullan\\u0131lan ince bir t\\u00fcp, rahim i\\u00e7ine yerle\\u015ftirilir ve k\\u00fc\\u00e7\\u00fck bir par\\u00e7a al\\u0131n\\u0131r. Bu \\u00f6rnek, laboratuvarda patoloji olarak incelenir.Rahim biyopsisi yap\\u0131lmas\\u0131n\\u0131n en \\u00f6nemli nedenleri \\u015funlard\\u0131r:Rahim biyopsisi, k\\u0131sa s\\u00fcreli bir i\\u015flem olmas\\u0131na ra\\u011fmen sonras\\u0131nda hafif kanama veya kramp ya\\u015fanabilir, ge\\u00e7icidir.Biyopsi sonu\\u00e7lar\\u0131 doktor taraf\\u0131ndan de\\u011ferlendirildikten sonra, gerekirse tedavi s\\u00fcreci ba\\u015flat\\u0131l\\u0131r.Rahimden Par\\u00e7a Neden Al\\u0131n\\u0131r?Rahimden neden par\\u00e7a al\\u0131n\\u0131r sorusunun bir\\u00e7ok cevab\\u0131 olabilir. Bunlar genellikle rahimde meydana gelen anormal de\\u011fi\\u015fikliklerin nedenini belirlemek amac\\u0131yla yap\\u0131l\\u0131r.Rahimden par\\u00e7a al\\u0131nmas\\u0131n\\u0131n ba\\u015fl\\u0131ca nedenleri a\\u015fa\\u011f\\u0131da verilmi\\u015ftir:Rahimden \\u00f6rnek alma i\\u015flemlerinin do\\u011fru bir \\u015fekilde te\\u015fhis edilmesi, ileriye d\\u00f6n\\u00fck tedavi se\\u00e7eneklerinin belirlenmesinde olduk\\u00e7a \\u00f6nemlidir.Rahim Biyopsisi \\u00c7e\\u015fitleri Nelerdir?Rahimden neden par\\u00e7a al\\u0131n\\u0131r sorusu yan\\u0131tland\\u0131ktan sonra hastalar bu i\\u015flemin \\u00e7e\\u015fitlerini \\u00f6\\u011frenmek isteyebilir. Rahim par\\u00e7as\\u0131 incelemesi i\\u015flemin y\\u00f6ntemine g\\u00f6re farkl\\u0131 \\u00e7e\\u015fitlere ayr\\u0131labilir.Rahim i\\u00e7i dokunun durumuna ve doktorun tercihine g\\u00f6re a\\u015fa\\u011f\\u0131daki biyopsi t\\u00fcrleri uygulanabilir.Endometrial biyopsi en s\\u0131k kullan\\u0131lan biyopsi y\\u00f6ntemidir. \\u0130nce bir kateter rahim i\\u00e7ine yerle\\u015ftirilerek dokunun emilmesi sa\\u011flan\\u0131r.Bu y\\u00f6ntem h\\u0131zl\\u0131 ve genellikle a\\u011fr\\u0131s\\u0131z bir prosed\\u00fcrd\\u00fcr. Anestezi \\u00e7o\\u011fu zaman gerekmez.Pipelle biyopsisi bir di\\u011fer s\\u0131k kullan\\u0131lan y\\u00f6ntemdir. \\u0130nce bir t\\u00fcp (pipelle) rahim i\\u00e7ine sokulur ve hafif bir vakum yard\\u0131m\\u0131yla doku \\u00f6rne\\u011fi al\\u0131n\\u0131r.K\\u0131sa s\\u00fcrede tamamlan\\u0131r ve genellikle anestezi uygulanmaz.Histeroskopi ile biyopside histeroskop ad\\u0131 verilen ince bir cihaz yard\\u0131m\\u0131yla rahim i\\u00e7ine kamera ile girilerek doku \\u00f6rne\\u011fi al\\u0131n\\u0131r.Bu y\\u00f6ntem, rahim i\\u00e7 tabakas\\u0131n\\u0131n do\\u011frudan g\\u00f6zlemlenmesine olanak sa\\u011flar. Genellikle anestezi gerektirir.Dilatasyon ve k\\u00fcrtaj isimli bu y\\u00f6ntem, rahim a\\u011fz\\u0131n\\u0131n geni\\u015fletilip rahim i\\u00e7inin kaz\\u0131nmas\\u0131 \\u015feklinde ger\\u00e7ekle\\u015ftirilir. Bu i\\u015flemde daha kapsaml\\u0131 \\u00f6rnekler al\\u0131n\\u0131r.Bu biyopsi \\u00e7e\\u015fitlerinden hangisinin uygulanaca\\u011f\\u0131, hastan\\u0131n durumuna, belirtilerine ve doktorun karar\\u0131na ba\\u011fl\\u0131d\\u0131r.Her biyopsi y\\u00f6ntemi rahim dokusunu incelemeye y\\u00f6nelik olup sonu\\u00e7lara g\\u00f6re tedavi veya ileri tetkiklere karar verilir.Rahim \\u0130\\u00e7i \\u0130nceleme Nas\\u0131l Olur?Rahimden neden par\\u00e7a al\\u0131n\\u0131r konusu par\\u00e7an\\u0131n incelenmesini de i\\u00e7erir. Rahim i\\u00e7i inceleme, jinekolojik muayenelerin bir par\\u00e7as\\u0131 olarak, kad\\u0131n\\u0131n \\u00fcreme organlar\\u0131n\\u0131 detayl\\u0131 \\u015fekilde de\\u011ferlendirmek amac\\u0131yla yap\\u0131lan bir i\\u015flemdir.Bu i\\u015flem genellikle, kad\\u0131n\\u0131n rahmiyle ilgili belirli semptomlar, a\\u011fr\\u0131lar, anormal kanamalar veya di\\u011fer rahats\\u0131zl\\u0131klar g\\u00f6zlendi\\u011finde yap\\u0131l\\u0131r.Rahim i\\u00e7i inceleme farkl\\u0131 y\\u00f6ntemlerle ger\\u00e7ekle\\u015ftirilebilir ve hepsinin amac\\u0131, rahimdeki olas\\u0131 sorunlar\\u0131 tespit etmektir.Pelvik muayene, rahmin, yumurtal\\u0131klar\\u0131n ve vajinan\\u0131n el ile kontrol edilmesini i\\u00e7erir.Doktor, bu b\\u00f6lgede kitle ya da anormallik olup olmad\\u0131\\u011f\\u0131n\\u0131 belirlemek i\\u00e7in ellerini kullanarak bir inceleme yapar. Ayr\\u0131ca rahim pozisyonunu ve b\\u00fcy\\u00fckl\\u00fc\\u011f\\u00fcn\\u00fc de de\\u011ferlendirebilir.Transvajinal ultrason en s\\u0131k kullan\\u0131lan g\\u00f6r\\u00fcnt\\u00fcleme y\\u00f6ntemidir.Bu i\\u015flemde, vajina i\\u00e7ine yerle\\u015ftirilen k\\u00fc\\u00e7\\u00fck bir cihaz (prob) yard\\u0131m\\u0131yla rahmin ve di\\u011fer \\u00fcreme organlar\\u0131n\\u0131n g\\u00f6r\\u00fcnt\\u00fcleri elde edilir. Ultrason, rahim i\\u00e7indeki polipler, miyomlar veya di\\u011fer yap\\u0131sal sorunlar\\u0131 tespit etmek i\\u00e7in kullan\\u0131l\\u0131r.Ayr\\u0131ca rahim kal\\u0131nl\\u0131\\u011f\\u0131 ve yumurtal\\u0131klar da incelenir.Histeroskopi, ince bir teleskop (histeroskop) yard\\u0131m\\u0131yla rahim i\\u00e7inin direkt olarak g\\u00f6zlemlenmesi i\\u015flemidir.Bu inceleme, rahim i\\u00e7indeki polipler, miyomlar, yap\\u0131\\u015f\\u0131kl\\u0131klar ya da do\\u011fu\\u015ftan gelen yap\\u0131sal bozukluklar\\u0131 tespit etmek i\\u00e7in yap\\u0131l\\u0131r.Histeroskop, vajina ve rahim a\\u011fz\\u0131 \\u00fczerinden rahme yerle\\u015ftirilir. Bu sayede doktor, rahmin i\\u00e7 y\\u00fczeyini ve endometriumu ayr\\u0131nt\\u0131l\\u0131 \\u015fekilde inceleyebilir. Ayn\\u0131 zamanda tedavi edici i\\u015flemler de histeroskopi s\\u0131ras\\u0131nda yap\\u0131labilir.Rahim i\\u00e7i biyopsi, rahim i\\u00e7inden k\\u00fc\\u00e7\\u00fck bir doku \\u00f6rne\\u011fi al\\u0131narak laboratuvar ortam\\u0131nda incelenmesini i\\u00e7erir.Bu i\\u015flem genellikle anormal kanamalar, adet d\\u00fczensizli\\u011fi veya kanser riskini de\\u011ferlendirmek i\\u00e7in yap\\u0131l\\u0131r. Biyopsi sonucu, rahim i\\u00e7 zar\\u0131nda h\\u00fccresel de\\u011fi\\u015fikliklerin olup olmad\\u0131\\u011f\\u0131n\\u0131 g\\u00f6sterir.Rahim Y\\u0131rt\\u0131\\u011f\\u0131 Tedavisi Nedir?Rahimden neden par\\u00e7a al\\u0131n\\u0131r sorusunun bir di\\u011fer cevab\\u0131 rahim y\\u0131rt\\u0131\\u011f\\u0131 olabilir.Rahim y\\u0131rt\\u0131\\u011f\\u0131, nadir fakat ciddi bir sa\\u011fl\\u0131k sorunudur. Genellikle do\\u011fum s\\u0131ras\\u0131nda ortaya \\u00e7\\u0131kar. Rahmin a\\u015f\\u0131r\\u0131 gerilmesi veya zorlanmas\\u0131yla olu\\u015fur.Rahim y\\u0131rt\\u0131lmas\\u0131 genellikle sezaryen do\\u011fumlarda veya daha \\u00f6nce rahim ameliyat\\u0131 ge\\u00e7iren kad\\u0131nlarda g\\u00f6r\\u00fclme riski y\\u00fcksektir.Do\\u011fumun zor ge\\u00e7ti\\u011fi durumlarda veya bebe\\u011fin do\\u011fum kanal\\u0131ndan ge\\u00e7erken zorland\\u0131\\u011f\\u0131 anlarda rahim y\\u0131rt\\u0131lmas\\u0131 olu\\u015fabilir.Rahim y\\u0131rt\\u0131\\u011f\\u0131n\\u0131n belirtileri \\u015funlard\\u0131r:Bu belirtiler acil bir durumun i\\u015fareti olabilir ve hemen t\\u0131bbi m\\u00fcdahale gerektirir. Rahim y\\u0131rt\\u0131lmas\\u0131, hem anne hem de bebek i\\u00e7in hayati risk ta\\u015f\\u0131yan bir durumdur.Rahim y\\u0131rt\\u0131lmas\\u0131 tespit edildi\\u011finde acil sezaryen ameliyat\\u0131 ile bebe\\u011fin do\\u011fumu ger\\u00e7ekle\\u015ftirilir.Cerrahi m\\u00fcdahale, hem anne hem de bebe\\u011fin hayat\\u0131n\\u0131 kurtarmak i\\u00e7in gereklidir. Rahim y\\u0131rt\\u0131lmas\\u0131 durumunda annenin kanamas\\u0131 h\\u0131zla artabilir ve bu nedenle h\\u0131zl\\u0131 m\\u00fcdahale \\u015fartt\\u0131r.Rahmin y\\u0131rt\\u0131lan k\\u0131sm\\u0131, cerrahi m\\u00fcdahale s\\u0131ras\\u0131nda dikilerek onar\\u0131l\\u0131r.E\\u011fer y\\u0131rt\\u0131k \\u00e7ok geni\\u015fse ve onar\\u0131lmas\\u0131 m\\u00fcmk\\u00fcn de\\u011filse, baz\\u0131 durumlarda rahmin al\\u0131nmas\\u0131 histerektomi gerekebilir. Bu durum, annenin hayat\\u0131n\\u0131 kurtarmak amac\\u0131yla yap\\u0131l\\u0131r.S\\u0131k\\u00e7a Sorulan SorularRahimden par\\u00e7a al\\u0131nmas\\u0131, genellikle rahimdeki anormal durumlar\\u0131 te\\u015fhis etmek i\\u00e7in yap\\u0131l\\u0131r. \\u00d6zellikle menopoz sonras\\u0131 anormal vajinal kanama, adet d\\u00fczensizlikleri, endometrial kanser \\u015f\\u00fcphesi, rahim i\\u00e7i polip veya myom gibi yap\\u0131sal bozukluklar ve hormon dengesizlikleri bu i\\u015flemin ba\\u015fl\\u0131ca nedenleridir. Ayr\\u0131ca k\\u0131s\\u0131rl\\u0131k veya tekrarlayan d\\u00fc\\u015f\\u00fckler ya\\u015fayan kad\\u0131nlarda rahim i\\u00e7 tabakas\\u0131n\\u0131n incelenmesi i\\u00e7in de biyopsi yap\\u0131labilir. Bu i\\u015flemin amac\\u0131, rahim dokusunda var olabilecek kanser h\\u00fccreleri veya di\\u011fer anormal durumlar\\u0131 erken a\\u015famada tespit etmektir.Rahim biyopsisi, genellikle minimal invaziv bir i\\u015flem oldu\\u011fu i\\u00e7in iyile\\u015fme s\\u00fcreci h\\u0131zl\\u0131d\\u0131r. \\u00c7o\\u011fu kad\\u0131n i\\u015flemden sonraki birka\\u00e7 g\\u00fcn i\\u00e7inde normale d\\u00f6ner. Hafif kramplar ve vajinal lekelenme g\\u00f6r\\u00fclebilir, ancak bu semptomlar genellikle k\\u0131sa s\\u00fcrelidir. \\u00c7o\\u011fu ki\\u015fi biyopsiden sonra 1-2 g\\u00fcn i\\u00e7inde g\\u00fcnl\\u00fck aktivitelerine geri d\\u00f6nebilir. Ancak i\\u015flem sonras\\u0131 tam iyile\\u015fme ve rahats\\u0131zl\\u0131klar\\u0131n ge\\u00e7mesi, ki\\u015fiden ki\\u015fiye de\\u011fi\\u015fmekle birlikte yakla\\u015f\\u0131k bir hafta s\\u00fcrebilir.Rahim biyopsisi sonras\\u0131nda hastalar\\u0131n baz\\u0131 konulara dikkat etmesi \\u00f6nemlidir. \\u0130lk birka\\u00e7 g\\u00fcn boyunca a\\u011f\\u0131r egzersizlerden ka\\u00e7\\u0131n\\u0131lmal\\u0131 ve cinsel ili\\u015fki, tampon kullan\\u0131m\\u0131 gibi vajinal m\\u00fcdahalelerden uzak durulmal\\u0131d\\u0131r. Vajinal kanama olmas\\u0131 normaldir, ancak a\\u015f\\u0131r\\u0131 kanama, ate\\u015f veya \\u015fiddetli a\\u011fr\\u0131 gibi durumlar ya\\u015fan\\u0131rsa bir doktora ba\\u015fvurulmal\\u0131d\\u0131r. Ayr\\u0131ca, i\\u015flem sonras\\u0131 doktorun \\u00f6nerdi\\u011fi ila\\u00e7lar d\\u00fczenli kullan\\u0131lmal\\u0131 ve hijyen kurallar\\u0131na dikkat edilmelidir.Rahim biyopsisi sonucunun \\u00e7\\u0131kma s\\u00fcresi, laboratuvar\\u0131n yo\\u011funlu\\u011funa ve kullan\\u0131lan test y\\u00f6ntemlerine ba\\u011fl\\u0131 olarak de\\u011fi\\u015febilir. Genellikle biyopsi sonu\\u00e7lar\\u0131 7-10 g\\u00fcn i\\u00e7inde elde edilir. Bu s\\u00fcre\\u00e7te doku \\u00f6rne\\u011fi, patoloji laboratuvar\\u0131nda incelenir ve sonu\\u00e7lar doktor taraf\\u0131ndan de\\u011ferlendirildikten sonra hastaya bildirilir. Sonu\\u00e7lar\\u0131n netle\\u015fmesi ve tedavi plan\\u0131n\\u0131n olu\\u015fturulmas\\u0131 i\\u00e7in bu s\\u00fcre boyunca doktorla d\\u00fczenli ileti\\u015fimde kalmak \\u00f6nemlidir.\"\n        ],\n        \"semantic_type\": \"\",\n        \"description\": \"\"\n      }\n    },\n    {\n      \"column\": \"num_tokens\",\n      \"properties\": {\n        \"dtype\": \"number\",\n        \"std\": 1477,\n        \"min\": 123,\n        \"max\": 26615,\n        \"num_unique_values\": 2267,\n        \"samples\": [\n          3949,\n          3865,\n          3474\n        ],\n        \"semantic_type\": \"\",\n        \"description\": \"\"\n      }\n    }\n  ]\n}"
            }
          },
          "metadata": {},
          "execution_count": 70
        }
      ]
    },
    {
      "cell_type": "code",
      "source": [
        "df[\"num_tokens\"].sum()    # total number of tokens"
      ],
      "metadata": {
        "colab": {
          "base_uri": "https://localhost:8080/"
        },
        "id": "11lktr1eMTJV",
        "outputId": "02d08617-ab25-4605-8f4a-cd11a9df0a80"
      },
      "execution_count": null,
      "outputs": [
        {
          "output_type": "execute_result",
          "data": {
            "text/plain": [
              "19031323"
            ]
          },
          "metadata": {},
          "execution_count": 71
        }
      ]
    },
    {
      "cell_type": "code",
      "source": [
        "df[\"department\"].value_counts()"
      ],
      "metadata": {
        "colab": {
          "base_uri": "https://localhost:8080/",
          "height": 489
        },
        "id": "jKinKoafMZEA",
        "outputId": "5ec053c4-7645-4fd8-96aa-56deeab7b4d3"
      },
      "execution_count": null,
      "outputs": [
        {
          "output_type": "execute_result",
          "data": {
            "text/plain": [
              "department\n",
              "Beslenme ve Diyet              948\n",
              "Kadın Hastalıkları ve Doğum    339\n",
              "İç Hastalıkları (Dahiliye)     318\n",
              "Dermatoloji (Cildiye)          311\n",
              "Ortopedi ve Travmatoloji       234\n",
              "                              ... \n",
              "Çocuk Kardiyolojisi              1\n",
              "Mikrobiyoloji                    1\n",
              "Çocuk Ürolojisi                  1\n",
              "Çocuk Onkolojisi                 1\n",
              "Neonatoloji                      1\n",
              "Name: count, Length: 74, dtype: int64"
            ],
            "text/html": [
              "<div>\n",
              "<style scoped>\n",
              "    .dataframe tbody tr th:only-of-type {\n",
              "        vertical-align: middle;\n",
              "    }\n",
              "\n",
              "    .dataframe tbody tr th {\n",
              "        vertical-align: top;\n",
              "    }\n",
              "\n",
              "    .dataframe thead th {\n",
              "        text-align: right;\n",
              "    }\n",
              "</style>\n",
              "<table border=\"1\" class=\"dataframe\">\n",
              "  <thead>\n",
              "    <tr style=\"text-align: right;\">\n",
              "      <th></th>\n",
              "      <th>count</th>\n",
              "    </tr>\n",
              "    <tr>\n",
              "      <th>department</th>\n",
              "      <th></th>\n",
              "    </tr>\n",
              "  </thead>\n",
              "  <tbody>\n",
              "    <tr>\n",
              "      <th>Beslenme ve Diyet</th>\n",
              "      <td>948</td>\n",
              "    </tr>\n",
              "    <tr>\n",
              "      <th>Kadın Hastalıkları ve Doğum</th>\n",
              "      <td>339</td>\n",
              "    </tr>\n",
              "    <tr>\n",
              "      <th>İç Hastalıkları (Dahiliye)</th>\n",
              "      <td>318</td>\n",
              "    </tr>\n",
              "    <tr>\n",
              "      <th>Dermatoloji (Cildiye)</th>\n",
              "      <td>311</td>\n",
              "    </tr>\n",
              "    <tr>\n",
              "      <th>Ortopedi ve Travmatoloji</th>\n",
              "      <td>234</td>\n",
              "    </tr>\n",
              "    <tr>\n",
              "      <th>...</th>\n",
              "      <td>...</td>\n",
              "    </tr>\n",
              "    <tr>\n",
              "      <th>Çocuk Kardiyolojisi</th>\n",
              "      <td>1</td>\n",
              "    </tr>\n",
              "    <tr>\n",
              "      <th>Mikrobiyoloji</th>\n",
              "      <td>1</td>\n",
              "    </tr>\n",
              "    <tr>\n",
              "      <th>Çocuk Ürolojisi</th>\n",
              "      <td>1</td>\n",
              "    </tr>\n",
              "    <tr>\n",
              "      <th>Çocuk Onkolojisi</th>\n",
              "      <td>1</td>\n",
              "    </tr>\n",
              "    <tr>\n",
              "      <th>Neonatoloji</th>\n",
              "      <td>1</td>\n",
              "    </tr>\n",
              "  </tbody>\n",
              "</table>\n",
              "<p>74 rows × 1 columns</p>\n",
              "</div><br><label><b>dtype:</b> int64</label>"
            ]
          },
          "metadata": {},
          "execution_count": 72
        }
      ]
    },
    {
      "cell_type": "code",
      "source": [
        "# df.to_json(\"MedData_P2.json\")\n",
        "df.to_csv(\"MedData_P2.csv\")\n",
        "\n",
        "# .csv file takes less storage"
      ],
      "metadata": {
        "id": "IvCsfI3oM9C5"
      },
      "execution_count": null,
      "outputs": []
    },
    {
      "cell_type": "code",
      "source": [],
      "metadata": {
        "id": "b84fijfkUDsF"
      },
      "execution_count": null,
      "outputs": []
    }
  ]
}